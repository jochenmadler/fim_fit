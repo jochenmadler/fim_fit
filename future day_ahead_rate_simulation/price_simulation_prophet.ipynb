{
 "cells": [
  {
   "cell_type": "code",
   "execution_count": 2,
   "outputs": [],
   "source": [
    "# imports\n",
    "import matplotlib.pyplot as plt\n",
    "import pandas as pd\n",
    "import numpy as np\n",
    "from datetime import datetime, timedelta\n",
    "import os\n",
    "import fbprophet"
   ],
   "metadata": {
    "collapsed": false,
    "pycharm": {
     "name": "#%%\n"
    }
   }
  },
  {
   "cell_type": "code",
   "execution_count": 3,
   "outputs": [],
   "source": [
    "# online resources\n",
    "# 1. OpenMeta: FbProphet Documentation: https://facebook.github.io/prophet/\n",
    "# 2. TS forecasting with fbprophet: https://machinelearningmastery.com/time-series-forecasting-with-prophet-in-python/\n",
    "# 3. Parameter tuning for fbprophet: https://towardsdatascience.com/implementing-facebook-prophet-efficiently-c241305405a3"
   ],
   "metadata": {
    "collapsed": false,
    "pycharm": {
     "name": "#%%\n"
    }
   }
  },
  {
   "cell_type": "code",
   "execution_count": 42,
   "outputs": [],
   "source": [
    "def generate_time_series(start_date_str, end_date_str, interval_min):\n",
    "    start_date = datetime.strptime(start_date_str, \"%Y-%m-%d %H:%M\")\n",
    "    end_date = datetime.strptime(end_date_str, \"%Y-%m-%d %H:%M\")\n",
    "    interval = timedelta(hours=interval_min/60)\n",
    "    output = []\n",
    "    while start_date <= end_date:\n",
    "        output.append(start_date.strftime(\"%Y-%m-%d %H:%M:%S\"))\n",
    "        start_date += interval\n",
    "    return output"
   ],
   "metadata": {
    "collapsed": false,
    "pycharm": {
     "name": "#%%\n"
    }
   }
  },
  {
   "cell_type": "code",
   "execution_count": 43,
   "outputs": [],
   "source": [
    "# navigate to price files\n",
    "os.chdir(\"C:\\\\Users\\\\joche\\\\FIM Kernkompetenzzentrum\\\\Projekt VIdES - Dokumente\\\\General\\\\07_Arbeitsordner\\\\02_Daten_und_Simulationsvorbereitung\\\\Strompreise\\\\historische strompreise\")"
   ],
   "metadata": {
    "collapsed": false,
    "pycharm": {
     "name": "#%%\n"
    }
   }
  },
  {
   "cell_type": "code",
   "execution_count": 44,
   "outputs": [],
   "source": [
    "# read in and display historic price data\n",
    "\n",
    "# create dummy series and df to append to\n",
    "series = pd.Series(dtype=\"float64\")\n",
    "df = pd.read_csv(os.listdir()[0])\n",
    "for i in os.listdir():\n",
    "    # extract column name from file name\n",
    "    s = \"price_\"\n",
    "    s += i.split(\".\",2)[0][-4:]\n",
    "    # read in file\n",
    "    tmp = pd.read_csv(i, header=None)\n",
    "    # assign to series\n",
    "    series = pd.concat([series, tmp.iloc[:,0]])\n",
    "    # assign to df\n",
    "    tmp.set_axis([s], axis=1, inplace=True)\n",
    "    df[s] = tmp\n",
    "\n",
    "# reset series index, transform to df, and rename column\n",
    "price_series = pd.DataFrame(series.reset_index()[0])\n",
    "price_series.columns = [\"price\"]\n",
    "#df_price_series = df_price_series.columns = [\"price\"]\n",
    "# insert two empty rows and interpolate missing values\n",
    "price_series.loc[price_series.shape[0]] = [np.nan]\n",
    "price_series.loc[price_series.shape[0]] = [np.nan]\n",
    "price_series.interpolate(inplace=True)\n",
    "# generate hourly time series from 2016 to 2020\n",
    "time_series = generate_time_series(start_date_str=\"2016-01-01 00:00\", end_date_str=\"2020-12-31 23:00\", interval_min=60)\n",
    "# transform time series to df\n",
    "df_time_series = pd.DataFrame(time_series, index=time_series)\n",
    "# assign index of df_time_series to price_series\n",
    "price_series.index = df_time_series.index"
   ],
   "metadata": {
    "collapsed": false,
    "pycharm": {
     "name": "#%%\n"
    }
   }
  },
  {
   "cell_type": "code",
   "execution_count": 45,
   "outputs": [],
   "source": [
    "# navigate to pv and wind load profile file\n",
    "os.chdir('C:\\\\Users\\\\joche\\\\FIM Kernkompetenzzentrum\\\\Projekt VIdES - Dokumente\\\\General\\\\07_Arbeitsordner\\\\02_Daten_und_Simulationsvorbereitung\\\\Strompreise')\n",
    "# read in file\n",
    "file2 = \"pvLoad_windLoad_electricity_timeseries.xlsx\"\n",
    "pv_series = pd.read_excel(file2, sheet_name=\"pv\")\n",
    "wind_series = pd.read_excel(file2, sheet_name=\"wind\")\n",
    "pv_2030 = pd.read_excel(file2, sheet_name=\"pv_2030\")\n",
    "wind_2030 = pd.read_excel(file2, sheet_name=\"wind_2030\")\n",
    "# pv_series and wind_series: Convert date to datetime, set as index and remove cap_factor\n",
    "pv_series['datetime'] = pd.to_datetime(pv_series['datetime'])\n",
    "wind_series['datetime'] = pd.to_datetime(wind_series['datetime'])\n",
    "pv_series.set_index('datetime', inplace=True)\n",
    "wind_series.set_index('datetime', inplace=True)\n",
    "pv_series.drop('pv_cap_factor', axis=1, inplace=True)\n",
    "wind_series.drop('wind_cap_factor', axis=1, inplace=True)\n",
    "price_series.index = wind_series.index\n",
    "# pv_2030 and wind_2030: Convert date to datetime and set as index\n",
    "pv_2030['datetime'] = pd.to_datetime(pv_2030['datetime'])\n",
    "wind_2030['datetime'] = pd.to_datetime(wind_2030['datetime'])\n",
    "pv_2030.set_index('datetime', inplace=True)\n",
    "wind_2030.set_index('datetime', inplace=True)"
   ],
   "metadata": {
    "collapsed": false,
    "pycharm": {
     "name": "#%%\n"
    }
   }
  },
  {
   "cell_type": "code",
   "execution_count": 46,
   "outputs": [
    {
     "name": "stdout",
     "output_type": "stream",
     "text": [
      "df:\n",
      "                        ds      y  pv_mwh   wind_mwh\n",
      "0     2016-01-01 00:00:00  22.39     0.0  3898.8663\n",
      "1     2016-01-01 01:00:00  20.59     0.0  3690.5645\n",
      "2     2016-01-01 02:00:00  16.81     0.0  3364.5269\n",
      "3     2016-01-01 03:00:00  17.41     0.0  3183.3949\n",
      "4     2016-01-01 04:00:00  17.02     0.0  3056.6025\n",
      "...                   ...    ...     ...        ...\n",
      "43843 2020-12-31 19:00:00  52.44     0.0  8179.3260\n",
      "43844 2020-12-31 20:00:00  51.86     0.0  6835.1520\n",
      "43845 2020-12-31 21:00:00  52.26     0.0  5910.0120\n",
      "43846 2020-12-31 22:00:00  52.26     0.0  5159.0160\n",
      "43847 2020-12-31 23:00:00  52.26     0.0  4544.0700\n",
      "\n",
      "[43848 rows x 4 columns]\n",
      "df_pred:\n",
      "                       ds  pv_mwh  wind_mwh\n",
      "0    2030-01-01 00:00:00     0.0   77400.0\n",
      "1    2030-01-01 01:00:00     0.0   86500.0\n",
      "2    2030-01-01 02:00:00     0.0   96160.0\n",
      "3    2030-01-01 03:00:00     0.0  101460.0\n",
      "4    2030-01-01 04:00:00     0.0  111560.0\n",
      "...                  ...     ...       ...\n",
      "8755 2030-12-31 19:00:00     0.0   30060.0\n",
      "8756 2030-12-31 20:00:00     0.0   25120.0\n",
      "8757 2030-12-31 21:00:00     0.0   21720.0\n",
      "8758 2030-12-31 22:00:00     0.0   18960.0\n",
      "8759 2030-12-31 23:00:00     0.0   16700.0\n",
      "\n",
      "[8760 rows x 3 columns]\n"
     ]
    }
   ],
   "source": [
    "# prepare dataframe df for model\n",
    "df = price_series\n",
    "df['ds'] = price_series.index\n",
    "df['y'] = df['price']\n",
    "df['pv_mwh'], df['wind_mwh'] = pv_series, wind_series\n",
    "df.reset_index(inplace=True)\n",
    "df.drop('datetime', axis=1, inplace=True)\n",
    "df.drop('price', axis=1, inplace=True)\n",
    "print('df:\\n', df)\n",
    "# prepare dataframe df_pred for predictions\n",
    "df_pred = pv_2030\n",
    "df_pred['ds'] = pv_2030.index\n",
    "df_pred['pv_mwh'], df_pred['wind_mwh'] = pv_2030.pv_load_mwh, wind_2030.wind_load_mwh\n",
    "df_pred.reset_index(inplace=True)\n",
    "df_pred.drop('datetime', axis=1, inplace=True)\n",
    "df_pred.drop('pv_load_mwh', axis=1, inplace=True)\n",
    "print('df_pred:\\n', df_pred)"
   ],
   "metadata": {
    "collapsed": false,
    "pycharm": {
     "name": "#%%\n"
    }
   }
  },
  {
   "cell_type": "code",
   "execution_count": 47,
   "outputs": [],
   "source": [
    "# function to evaluate model\n",
    "from fbprophet import Prophet\n",
    "from sklearn.metrics import mean_squared_error, mean_absolute_percentage_error\n",
    "def prediction_diagnostics(model, df, start_day, end_day):\n",
    "    # model overview: seasonality components\n",
    "    df_tmp = df[(df['ds'] >= start_day) & (df['ds'] < end_day)]\n",
    "    forecast_tmp = model.predict(df_tmp[['ds', 'pv_mwh', 'wind_mwh']])\n",
    "    model.plot_components(forecast_tmp)\n",
    "    # prediction overview: line plot\n",
    "    eval_tmp = forecast_tmp[['ds', 'yhat']]\n",
    "    # consider 'y' only for in-sample predictions\n",
    "    if 'y' in df_tmp.columns:\n",
    "        eval_tmp['y'] = df_tmp.y.values\n",
    "    eval_tmp.index = eval_tmp.ds\n",
    "    eval_tmp.drop('ds', axis=1, inplace=True)\n",
    "    eval_tmp.plot(figsize=(10,8))\n",
    "    # details: error metrics for in-sample predictions\n",
    "    if 'y' in df_tmp.columns:\n",
    "        print('MSE:\\t', mean_squared_error(eval_tmp.y, eval_tmp.yhat))\n",
    "        print('MAPE:\\t', mean_absolute_percentage_error(eval_tmp.y, eval_tmp.yhat))"
   ],
   "metadata": {
    "collapsed": false,
    "pycharm": {
     "name": "#%%\n"
    }
   }
  },
  {
   "cell_type": "code",
   "execution_count": 48,
   "outputs": [
    {
     "name": "stderr",
     "output_type": "stream",
     "text": [
      "C:\\Users\\joche\\anaconda3\\envs\\fim_ml\\lib\\site-packages\\fbprophet\\forecaster.py:891: FutureWarning: The frame.append method is deprecated and will be removed from pandas in a future version. Use pandas.concat instead.\n",
      "  components = components.append(new_comp)\n"
     ]
    },
    {
     "data": {
      "text/plain": "<fbprophet.forecaster.Prophet at 0x25556b87520>"
     },
     "execution_count": 48,
     "metadata": {},
     "output_type": "execute_result"
    }
   ],
   "source": [
    "# model 1: Baseline\n",
    "m1 = Prophet()\n",
    "m1.add_regressor('pv_mwh')\n",
    "m1.add_regressor('wind_mwh')\n",
    "m1.fit(df)"
   ],
   "metadata": {
    "collapsed": false,
    "pycharm": {
     "name": "#%%\n"
    }
   }
  },
  {
   "cell_type": "code",
   "execution_count": 31,
   "outputs": [
    {
     "name": "stderr",
     "output_type": "stream",
     "text": [
      "C:\\Users\\joche\\anaconda3\\envs\\fim_ml\\lib\\site-packages\\fbprophet\\forecaster.py:891: FutureWarning: The frame.append method is deprecated and will be removed from pandas in a future version. Use pandas.concat instead.\n",
      "  components = components.append(new_comp)\n"
     ]
    },
    {
     "data": {
      "text/plain": "<fbprophet.forecaster.Prophet at 0x1e6858b65b0>"
     },
     "execution_count": 31,
     "metadata": {},
     "output_type": "execute_result"
    }
   ],
   "source": [
    "# model 2: Increasing seasonality\n",
    "m2 = Prophet(seasonality_mode='multiplicative')\n",
    "m2.add_regressor('pv_mwh')\n",
    "m2.add_regressor('wind_mwh')\n",
    "m2.fit(df)"
   ],
   "metadata": {
    "collapsed": false,
    "pycharm": {
     "name": "#%%\n"
    }
   }
  },
  {
   "cell_type": "code",
   "execution_count": 32,
   "outputs": [
    {
     "name": "stderr",
     "output_type": "stream",
     "text": [
      "C:\\Users\\joche\\anaconda3\\envs\\fim_ml\\lib\\site-packages\\fbprophet\\forecaster.py:891: FutureWarning: The frame.append method is deprecated and will be removed from pandas in a future version. Use pandas.concat instead.\n",
      "  components = components.append(new_comp)\n"
     ]
    },
    {
     "data": {
      "text/plain": "<fbprophet.forecaster.Prophet at 0x1e6858b0670>"
     },
     "execution_count": 32,
     "metadata": {},
     "output_type": "execute_result"
    }
   ],
   "source": [
    "# model 3: Increasing seasonality and increasing mean\n",
    "m3 = Prophet(seasonality_mode='multiplicative', growth='linear')\n",
    "m3.add_regressor('pv_mwh')\n",
    "m3.add_regressor('wind_mwh')\n",
    "m3.fit(df)"
   ],
   "metadata": {
    "collapsed": false,
    "pycharm": {
     "name": "#%%\n"
    }
   }
  },
  {
   "cell_type": "code",
   "execution_count": 49,
   "outputs": [],
   "source": [
    "# suppress fbprophet's warnings\n",
    "import warnings\n",
    "warnings.simplefilter(action='ignore', category=FutureWarning)\n",
    "warnings.simplefilter(action='ignore', category=UserWarning)\n",
    "from pandas.core.common import SettingWithCopyWarning\n",
    "warnings.simplefilter(action='ignore', category=SettingWithCopyWarning)"
   ],
   "metadata": {
    "collapsed": false,
    "pycharm": {
     "name": "#%%\n"
    }
   }
  },
  {
   "cell_type": "code",
   "execution_count": 10,
   "outputs": [
    {
     "name": "stdout",
     "output_type": "stream",
     "text": [
      "MSE:\t 119.87816440941265\n",
      "MAPE:\t 25048387293950.12\n"
     ]
    }
   ],
   "source": [
    "# in-sample evaluation: m1\n",
    "%matplotlib qt\n",
    "prediction_diagnostics(m1, df, start_day='2017-01-01', end_day='2018-01-01')"
   ],
   "metadata": {
    "collapsed": false,
    "pycharm": {
     "name": "#%%\n"
    }
   }
  },
  {
   "cell_type": "code",
   "execution_count": 47,
   "outputs": [
    {
     "name": "stdout",
     "output_type": "stream",
     "text": [
      "MSE:\t 93.6670100983144\n",
      "MAPE:\t 11870425823498.248\n"
     ]
    }
   ],
   "source": [
    "# in-sample evaluation: m2\n",
    "%matplotlib qt\n",
    "prediction_diagnostics(m2, df, start_day='2019-01-01', end_day='2020-01-01')"
   ],
   "metadata": {
    "collapsed": false,
    "pycharm": {
     "name": "#%%\n"
    }
   }
  },
  {
   "cell_type": "code",
   "execution_count": 46,
   "outputs": [
    {
     "name": "stdout",
     "output_type": "stream",
     "text": [
      "MSE:\t 93.6670100983144\n",
      "MAPE:\t 11870425823498.248\n"
     ]
    }
   ],
   "source": [
    "# in-sample evaluation: m3\n",
    "%matplotlib qt\n",
    "prediction_diagnostics(m3, df, start_day='2019-01-01', end_day='2020-01-01')"
   ],
   "metadata": {
    "collapsed": false,
    "pycharm": {
     "name": "#%%\n"
    }
   }
  },
  {
   "cell_type": "code",
   "execution_count": 50,
   "outputs": [],
   "source": [
    "# out-of-sample evaluation: m1\n",
    "%matplotlib qt\n",
    "prediction_diagnostics(m1, df_pred, start_day='2030-01-01', end_day='2030-12-31')"
   ],
   "metadata": {
    "collapsed": false,
    "pycharm": {
     "name": "#%%\n"
    }
   }
  },
  {
   "cell_type": "code",
   "execution_count": 51,
   "outputs": [
    {
     "data": {
      "text/plain": "                      ds  pv_mwh  wind_mwh\n0    2030-01-01 00:00:00     0.0   77400.0\n1    2030-01-01 01:00:00     0.0   86500.0\n2    2030-01-01 02:00:00     0.0   96160.0\n3    2030-01-01 03:00:00     0.0  101460.0\n4    2030-01-01 04:00:00     0.0  111560.0\n...                  ...     ...       ...\n8755 2030-12-31 19:00:00     0.0   30060.0\n8756 2030-12-31 20:00:00     0.0   25120.0\n8757 2030-12-31 21:00:00     0.0   21720.0\n8758 2030-12-31 22:00:00     0.0   18960.0\n8759 2030-12-31 23:00:00     0.0   16700.0\n\n[8760 rows x 3 columns]",
      "text/html": "<div>\n<style scoped>\n    .dataframe tbody tr th:only-of-type {\n        vertical-align: middle;\n    }\n\n    .dataframe tbody tr th {\n        vertical-align: top;\n    }\n\n    .dataframe thead th {\n        text-align: right;\n    }\n</style>\n<table border=\"1\" class=\"dataframe\">\n  <thead>\n    <tr style=\"text-align: right;\">\n      <th></th>\n      <th>ds</th>\n      <th>pv_mwh</th>\n      <th>wind_mwh</th>\n    </tr>\n  </thead>\n  <tbody>\n    <tr>\n      <th>0</th>\n      <td>2030-01-01 00:00:00</td>\n      <td>0.0</td>\n      <td>77400.0</td>\n    </tr>\n    <tr>\n      <th>1</th>\n      <td>2030-01-01 01:00:00</td>\n      <td>0.0</td>\n      <td>86500.0</td>\n    </tr>\n    <tr>\n      <th>2</th>\n      <td>2030-01-01 02:00:00</td>\n      <td>0.0</td>\n      <td>96160.0</td>\n    </tr>\n    <tr>\n      <th>3</th>\n      <td>2030-01-01 03:00:00</td>\n      <td>0.0</td>\n      <td>101460.0</td>\n    </tr>\n    <tr>\n      <th>4</th>\n      <td>2030-01-01 04:00:00</td>\n      <td>0.0</td>\n      <td>111560.0</td>\n    </tr>\n    <tr>\n      <th>...</th>\n      <td>...</td>\n      <td>...</td>\n      <td>...</td>\n    </tr>\n    <tr>\n      <th>8755</th>\n      <td>2030-12-31 19:00:00</td>\n      <td>0.0</td>\n      <td>30060.0</td>\n    </tr>\n    <tr>\n      <th>8756</th>\n      <td>2030-12-31 20:00:00</td>\n      <td>0.0</td>\n      <td>25120.0</td>\n    </tr>\n    <tr>\n      <th>8757</th>\n      <td>2030-12-31 21:00:00</td>\n      <td>0.0</td>\n      <td>21720.0</td>\n    </tr>\n    <tr>\n      <th>8758</th>\n      <td>2030-12-31 22:00:00</td>\n      <td>0.0</td>\n      <td>18960.0</td>\n    </tr>\n    <tr>\n      <th>8759</th>\n      <td>2030-12-31 23:00:00</td>\n      <td>0.0</td>\n      <td>16700.0</td>\n    </tr>\n  </tbody>\n</table>\n<p>8760 rows × 3 columns</p>\n</div>"
     },
     "execution_count": 51,
     "metadata": {},
     "output_type": "execute_result"
    }
   ],
   "source": [
    "df_tmp = df_pred[(df_pred['ds'] >= '2030-01-01')]\n",
    "df_tmp"
   ],
   "metadata": {
    "collapsed": false,
    "pycharm": {
     "name": "#%%\n"
    }
   }
  },
  {
   "cell_type": "code",
   "execution_count": 53,
   "outputs": [
    {
     "data": {
      "text/plain": "      price_2016  price_2017  price_2018  price_2019  price_2020  price_2030\n0          22.39       20.96       -5.27       28.32      36.550   44.214693\n1          20.59       20.90      -29.99       10.07      32.320   35.680180\n2          16.81       18.13      -56.65       -4.08      30.850   27.554146\n3          17.41       16.03      -63.14       -9.91      30.140   24.436901\n4          17.02       16.43      -64.62       -7.41      30.170   19.739621\n...          ...         ...         ...         ...         ...         ...\n8755       43.32        7.92       58.28       46.00      46.880  101.499830\n8756       41.03        4.06       50.01       42.20      43.220  101.249814\n8757       40.55        5.30       45.06       39.74      37.430   99.561101\n8758       33.06        1.86       48.93       38.88      38.540   98.245486\n8759       36.10       -0.92       30.31       37.39      35.335   97.523121\n\n[8760 rows x 6 columns]",
      "text/html": "<div>\n<style scoped>\n    .dataframe tbody tr th:only-of-type {\n        vertical-align: middle;\n    }\n\n    .dataframe tbody tr th {\n        vertical-align: top;\n    }\n\n    .dataframe thead th {\n        text-align: right;\n    }\n</style>\n<table border=\"1\" class=\"dataframe\">\n  <thead>\n    <tr style=\"text-align: right;\">\n      <th></th>\n      <th>price_2016</th>\n      <th>price_2017</th>\n      <th>price_2018</th>\n      <th>price_2019</th>\n      <th>price_2020</th>\n      <th>price_2030</th>\n    </tr>\n  </thead>\n  <tbody>\n    <tr>\n      <th>0</th>\n      <td>22.39</td>\n      <td>20.96</td>\n      <td>-5.27</td>\n      <td>28.32</td>\n      <td>36.550</td>\n      <td>44.214693</td>\n    </tr>\n    <tr>\n      <th>1</th>\n      <td>20.59</td>\n      <td>20.90</td>\n      <td>-29.99</td>\n      <td>10.07</td>\n      <td>32.320</td>\n      <td>35.680180</td>\n    </tr>\n    <tr>\n      <th>2</th>\n      <td>16.81</td>\n      <td>18.13</td>\n      <td>-56.65</td>\n      <td>-4.08</td>\n      <td>30.850</td>\n      <td>27.554146</td>\n    </tr>\n    <tr>\n      <th>3</th>\n      <td>17.41</td>\n      <td>16.03</td>\n      <td>-63.14</td>\n      <td>-9.91</td>\n      <td>30.140</td>\n      <td>24.436901</td>\n    </tr>\n    <tr>\n      <th>4</th>\n      <td>17.02</td>\n      <td>16.43</td>\n      <td>-64.62</td>\n      <td>-7.41</td>\n      <td>30.170</td>\n      <td>19.739621</td>\n    </tr>\n    <tr>\n      <th>...</th>\n      <td>...</td>\n      <td>...</td>\n      <td>...</td>\n      <td>...</td>\n      <td>...</td>\n      <td>...</td>\n    </tr>\n    <tr>\n      <th>8755</th>\n      <td>43.32</td>\n      <td>7.92</td>\n      <td>58.28</td>\n      <td>46.00</td>\n      <td>46.880</td>\n      <td>101.499830</td>\n    </tr>\n    <tr>\n      <th>8756</th>\n      <td>41.03</td>\n      <td>4.06</td>\n      <td>50.01</td>\n      <td>42.20</td>\n      <td>43.220</td>\n      <td>101.249814</td>\n    </tr>\n    <tr>\n      <th>8757</th>\n      <td>40.55</td>\n      <td>5.30</td>\n      <td>45.06</td>\n      <td>39.74</td>\n      <td>37.430</td>\n      <td>99.561101</td>\n    </tr>\n    <tr>\n      <th>8758</th>\n      <td>33.06</td>\n      <td>1.86</td>\n      <td>48.93</td>\n      <td>38.88</td>\n      <td>38.540</td>\n      <td>98.245486</td>\n    </tr>\n    <tr>\n      <th>8759</th>\n      <td>36.10</td>\n      <td>-0.92</td>\n      <td>30.31</td>\n      <td>37.39</td>\n      <td>35.335</td>\n      <td>97.523121</td>\n    </tr>\n  </tbody>\n</table>\n<p>8760 rows × 6 columns</p>\n</div>"
     },
     "execution_count": 53,
     "metadata": {},
     "output_type": "execute_result"
    }
   ],
   "source": [
    "# read in price data 2016-2020: df_prices\n",
    "# navigate to price files\n",
    "os.chdir(\"C:\\\\Users\\\\joche\\\\FIM Kernkompetenzzentrum\\\\Projekt VIdES - Dokumente\\\\General\\\\07_Arbeitsordner\\\\02_Daten_und_Simulationsvorbereitung\\\\Strompreise\\\\historische strompreise\")\n",
    "# create dummy series and df to append to\n",
    "series = pd.Series(dtype=\"float64\")\n",
    "df = pd.read_csv(os.listdir()[0])\n",
    "for i in os.listdir():\n",
    "    # extract column name from file name\n",
    "    s = \"price_\"\n",
    "    s += i.split(\".\",2)[0][-4:]\n",
    "    # read in file\n",
    "    tmp = pd.read_csv(i, header=None)\n",
    "    # assign to series\n",
    "    series = pd.concat([series, tmp.iloc[:,0]])\n",
    "    # assign to df\n",
    "    tmp.set_axis([s], axis=1, inplace=True)\n",
    "    df[s] = tmp\n",
    "# disregard first column of df since it's a duplicate\n",
    "df_prices = df.iloc[:,1:]\n",
    "# truncate at index 8760\n",
    "df_prices = df_prices.truncate(after=len(df_pred))\n",
    "# interpolate missing values (at the end)\n",
    "df_prices.interpolate()\n",
    "df_prices\n",
    "\n",
    "# extract df_price2030\n",
    "# df_tmp = df_pred[(df_pred['ds'] >= '2030-01-01') & (df_pred['ds'] < '2030-12-31')]\n",
    "df_tmp = df_pred[(df_pred['ds'] >= '2030-01-01')]\n",
    "forecast_tmp = m1.predict(df_tmp[['ds', 'pv_mwh', 'wind_mwh']])\n",
    "df_price2030 = forecast_tmp[['ds', 'yhat']]\n",
    "# append price_2030\n",
    "df_prices['price_2030'] = df_price2030[['yhat']]\n",
    "df_prices = df_prices.truncate(after=8759)\n",
    "df_prices"
   ],
   "metadata": {
    "collapsed": false,
    "pycharm": {
     "name": "#%%\n"
    }
   }
  },
  {
   "cell_type": "code",
   "execution_count": 20,
   "outputs": [
    {
     "name": "stderr",
     "output_type": "stream",
     "text": [
      "INFO:visions.backends:Pandas backend loaded 1.4.2\n",
      "INFO:visions.backends:Numpy backend loaded 1.22.3\n",
      "INFO:visions.backends:Pyspark backend NOT loaded\n",
      "INFO:visions.backends:Python backend loaded\n"
     ]
    },
    {
     "data": {
      "text/plain": "Summarize dataset:   0%|          | 0/5 [00:00<?, ?it/s]",
      "application/vnd.jupyter.widget-view+json": {
       "version_major": 2,
       "version_minor": 0,
       "model_id": "6bd8292facbb4ea4a6ba19f72defae9a"
      }
     },
     "metadata": {},
     "output_type": "display_data"
    },
    {
     "data": {
      "text/plain": "Generate report structure:   0%|          | 0/1 [00:00<?, ?it/s]",
      "application/vnd.jupyter.widget-view+json": {
       "version_major": 2,
       "version_minor": 0,
       "model_id": "1243c1561a624cca9f8228dacc865345"
      }
     },
     "metadata": {},
     "output_type": "display_data"
    },
    {
     "data": {
      "text/plain": "Render HTML:   0%|          | 0/1 [00:00<?, ?it/s]",
      "application/vnd.jupyter.widget-view+json": {
       "version_major": 2,
       "version_minor": 0,
       "model_id": "d07aa45bbc814586961ee7db3419a87c"
      }
     },
     "metadata": {},
     "output_type": "display_data"
    },
    {
     "data": {
      "text/plain": "Export report to file:   0%|          | 0/1 [00:00<?, ?it/s]",
      "application/vnd.jupyter.widget-view+json": {
       "version_major": 2,
       "version_minor": 0,
       "model_id": "ba7b47a3e1314893888decd78a5cf7f1"
      }
     },
     "metadata": {},
     "output_type": "display_data"
    },
    {
     "data": {
      "text/plain": "             count       mean        std         min        25%        50%  \\\nprice_2016  8761.0  28.964373  12.484463 -130.090000  22.310000  28.230000   \nprice_2017  8760.0  34.188527  17.659501  -83.060000  27.780000  33.825000   \nprice_2018  8760.0  44.468920  17.771203  -76.010000  34.455000  45.090000   \nprice_2019  8760.0  37.666600  15.517500  -90.010000  31.060000  38.060000   \nprice_2020  8761.0  30.432294  17.489462  -83.940000  21.710000  30.960000   \nprice_2030  8736.0  73.138729  29.077654  -37.943509  60.137033  78.272708   \n\n                  75%         max  \nprice_2016  34.950000  104.960000  \nprice_2017  40.570000  163.520000  \nprice_2018  54.870000  128.260000  \nprice_2019  46.270000  121.460000  \nprice_2020  40.200000  200.040000  \nprice_2030  93.499606  127.017825  ",
      "text/html": "<div>\n<style scoped>\n    .dataframe tbody tr th:only-of-type {\n        vertical-align: middle;\n    }\n\n    .dataframe tbody tr th {\n        vertical-align: top;\n    }\n\n    .dataframe thead th {\n        text-align: right;\n    }\n</style>\n<table border=\"1\" class=\"dataframe\">\n  <thead>\n    <tr style=\"text-align: right;\">\n      <th></th>\n      <th>count</th>\n      <th>mean</th>\n      <th>std</th>\n      <th>min</th>\n      <th>25%</th>\n      <th>50%</th>\n      <th>75%</th>\n      <th>max</th>\n    </tr>\n  </thead>\n  <tbody>\n    <tr>\n      <th>price_2016</th>\n      <td>8761.0</td>\n      <td>28.964373</td>\n      <td>12.484463</td>\n      <td>-130.090000</td>\n      <td>22.310000</td>\n      <td>28.230000</td>\n      <td>34.950000</td>\n      <td>104.960000</td>\n    </tr>\n    <tr>\n      <th>price_2017</th>\n      <td>8760.0</td>\n      <td>34.188527</td>\n      <td>17.659501</td>\n      <td>-83.060000</td>\n      <td>27.780000</td>\n      <td>33.825000</td>\n      <td>40.570000</td>\n      <td>163.520000</td>\n    </tr>\n    <tr>\n      <th>price_2018</th>\n      <td>8760.0</td>\n      <td>44.468920</td>\n      <td>17.771203</td>\n      <td>-76.010000</td>\n      <td>34.455000</td>\n      <td>45.090000</td>\n      <td>54.870000</td>\n      <td>128.260000</td>\n    </tr>\n    <tr>\n      <th>price_2019</th>\n      <td>8760.0</td>\n      <td>37.666600</td>\n      <td>15.517500</td>\n      <td>-90.010000</td>\n      <td>31.060000</td>\n      <td>38.060000</td>\n      <td>46.270000</td>\n      <td>121.460000</td>\n    </tr>\n    <tr>\n      <th>price_2020</th>\n      <td>8761.0</td>\n      <td>30.432294</td>\n      <td>17.489462</td>\n      <td>-83.940000</td>\n      <td>21.710000</td>\n      <td>30.960000</td>\n      <td>40.200000</td>\n      <td>200.040000</td>\n    </tr>\n    <tr>\n      <th>price_2030</th>\n      <td>8736.0</td>\n      <td>73.138729</td>\n      <td>29.077654</td>\n      <td>-37.943509</td>\n      <td>60.137033</td>\n      <td>78.272708</td>\n      <td>93.499606</td>\n      <td>127.017825</td>\n    </tr>\n  </tbody>\n</table>\n</div>"
     },
     "metadata": {},
     "output_type": "display_data"
    }
   ],
   "source": [
    "import pandas_profiling\n",
    "os.chdir('..')\n",
    "# summary statistics of df_price2030\n",
    "df_prices_report = pandas_profiling.ProfileReport(df_prices)\n",
    "df_prices_report.to_file(\"df_prices_report.html\")\n",
    "display(df_prices.describe().transpose())"
   ],
   "metadata": {
    "collapsed": false,
    "pycharm": {
     "name": "#%%\n"
    }
   }
  },
  {
   "cell_type": "code",
   "execution_count": 54,
   "outputs": [
    {
     "data": {
      "text/plain": "                     price_2030\nds                             \n2030-01-01 00:00:00   44.214693\n2030-01-01 01:00:00   35.680180\n2030-01-01 02:00:00   27.554146\n2030-01-01 03:00:00   24.436901\n2030-01-01 04:00:00   19.739621\n...                         ...\n2030-12-31 19:00:00  101.499830\n2030-12-31 20:00:00  101.249814\n2030-12-31 21:00:00   99.561101\n2030-12-31 22:00:00   98.245486\n2030-12-31 23:00:00   97.523121\n\n[8760 rows x 1 columns]",
      "text/html": "<div>\n<style scoped>\n    .dataframe tbody tr th:only-of-type {\n        vertical-align: middle;\n    }\n\n    .dataframe tbody tr th {\n        vertical-align: top;\n    }\n\n    .dataframe thead th {\n        text-align: right;\n    }\n</style>\n<table border=\"1\" class=\"dataframe\">\n  <thead>\n    <tr style=\"text-align: right;\">\n      <th></th>\n      <th>price_2030</th>\n    </tr>\n    <tr>\n      <th>ds</th>\n      <th></th>\n    </tr>\n  </thead>\n  <tbody>\n    <tr>\n      <th>2030-01-01 00:00:00</th>\n      <td>44.214693</td>\n    </tr>\n    <tr>\n      <th>2030-01-01 01:00:00</th>\n      <td>35.680180</td>\n    </tr>\n    <tr>\n      <th>2030-01-01 02:00:00</th>\n      <td>27.554146</td>\n    </tr>\n    <tr>\n      <th>2030-01-01 03:00:00</th>\n      <td>24.436901</td>\n    </tr>\n    <tr>\n      <th>2030-01-01 04:00:00</th>\n      <td>19.739621</td>\n    </tr>\n    <tr>\n      <th>...</th>\n      <td>...</td>\n    </tr>\n    <tr>\n      <th>2030-12-31 19:00:00</th>\n      <td>101.499830</td>\n    </tr>\n    <tr>\n      <th>2030-12-31 20:00:00</th>\n      <td>101.249814</td>\n    </tr>\n    <tr>\n      <th>2030-12-31 21:00:00</th>\n      <td>99.561101</td>\n    </tr>\n    <tr>\n      <th>2030-12-31 22:00:00</th>\n      <td>98.245486</td>\n    </tr>\n    <tr>\n      <th>2030-12-31 23:00:00</th>\n      <td>97.523121</td>\n    </tr>\n  </tbody>\n</table>\n<p>8760 rows × 1 columns</p>\n</div>"
     },
     "execution_count": 54,
     "metadata": {},
     "output_type": "execute_result"
    }
   ],
   "source": [
    "# rename an reshape df_price2030\n",
    "df_price2030.index = df_price2030.ds\n",
    "df_price2030.drop('ds', axis=1, inplace=True)\n",
    "df_price2030.rename(columns = {'yhat' : 'price_2030'}, inplace=True)\n",
    "df_price2030"
   ],
   "metadata": {
    "collapsed": false,
    "pycharm": {
     "name": "#%%\n"
    }
   }
  },
  {
   "cell_type": "code",
   "execution_count": 55,
   "outputs": [],
   "source": [
    "# define function to transform hourly to quarter hourly data\n",
    "def hourly_to_quarter_hourly_df(df_h):\n",
    "    # for each row, add three empty ones\n",
    "    empty_rows = 4\n",
    "    df_h.index = range(0, empty_rows*len(df_h), empty_rows)\n",
    "    df_h = df_h.reindex(index=range(empty_rows*len(df_h)))\n",
    "\n",
    "    # generate quarter_hourly interval series from df_h's start date on\n",
    "    r = str(df_h.ds[0]).split(\" \", 1)[0]\n",
    "    day, month, year = int(r.split(\"-\")[2]), int(r.split(\"-\")[1]), int(r.split(\"-\")[0])\n",
    "    start_date = datetime(year,month,day)\n",
    "    quarter_hourly = [start_date + timedelta(minutes=15*x) for x in range(0,len(df_h))]\n",
    "    quarter_hourly_list = [x.strftime('%Y-%m-%d %H:%M') for x in quarter_hourly]\n",
    "    # generate dataframe\n",
    "    quarter_hourly_list = pd.DataFrame(quarter_hourly_list, columns=['ds'])\n",
    "\n",
    "    # insert quarter-hourly list into df_h -> df_qh\n",
    "    df_h['ds'] = quarter_hourly_list['ds']\n",
    "    df_qh = df_h[['ds', 'yhat']]\n",
    "\n",
    "    # interpolate hourly to quarter-hourly values: linear interpolation\n",
    "    df_qh_output = df_qh.interpolate(method='linear')\n",
    "    df_qh_output = df_qh_output.assign(price_qh = lambda x: (x['yhat'] / 1)) # -> division by four only with capacity factors, not with prices\n",
    "\n",
    "    return df_qh_output"
   ],
   "metadata": {
    "collapsed": false,
    "pycharm": {
     "name": "#%%\n"
    }
   }
  },
  {
   "cell_type": "code",
   "execution_count": 56,
   "outputs": [
    {
     "data": {
      "text/plain": "                  price_EUR_MWh  price_ct_kWh\nds                                           \n2030-01-01 00:00      44.214693      4.421469\n2030-01-01 00:15      42.081065      4.208107\n2030-01-01 00:30      39.947437      3.994744\n2030-01-01 00:45      37.813808      3.781381\n2030-01-01 01:00      35.680180      3.568018\n...                         ...           ...\n2030-12-31 22:45      97.703712      9.770371\n2030-12-31 23:00      97.523121      9.752312\n2030-12-31 23:15      97.523121      9.752312\n2030-12-31 23:30      97.523121      9.752312\n2030-12-31 23:45      97.523121      9.752312\n\n[35040 rows x 2 columns]",
      "text/html": "<div>\n<style scoped>\n    .dataframe tbody tr th:only-of-type {\n        vertical-align: middle;\n    }\n\n    .dataframe tbody tr th {\n        vertical-align: top;\n    }\n\n    .dataframe thead th {\n        text-align: right;\n    }\n</style>\n<table border=\"1\" class=\"dataframe\">\n  <thead>\n    <tr style=\"text-align: right;\">\n      <th></th>\n      <th>price_EUR_MWh</th>\n      <th>price_ct_kWh</th>\n    </tr>\n    <tr>\n      <th>ds</th>\n      <th></th>\n      <th></th>\n    </tr>\n  </thead>\n  <tbody>\n    <tr>\n      <th>2030-01-01 00:00</th>\n      <td>44.214693</td>\n      <td>4.421469</td>\n    </tr>\n    <tr>\n      <th>2030-01-01 00:15</th>\n      <td>42.081065</td>\n      <td>4.208107</td>\n    </tr>\n    <tr>\n      <th>2030-01-01 00:30</th>\n      <td>39.947437</td>\n      <td>3.994744</td>\n    </tr>\n    <tr>\n      <th>2030-01-01 00:45</th>\n      <td>37.813808</td>\n      <td>3.781381</td>\n    </tr>\n    <tr>\n      <th>2030-01-01 01:00</th>\n      <td>35.680180</td>\n      <td>3.568018</td>\n    </tr>\n    <tr>\n      <th>...</th>\n      <td>...</td>\n      <td>...</td>\n    </tr>\n    <tr>\n      <th>2030-12-31 22:45</th>\n      <td>97.703712</td>\n      <td>9.770371</td>\n    </tr>\n    <tr>\n      <th>2030-12-31 23:00</th>\n      <td>97.523121</td>\n      <td>9.752312</td>\n    </tr>\n    <tr>\n      <th>2030-12-31 23:15</th>\n      <td>97.523121</td>\n      <td>9.752312</td>\n    </tr>\n    <tr>\n      <th>2030-12-31 23:30</th>\n      <td>97.523121</td>\n      <td>9.752312</td>\n    </tr>\n    <tr>\n      <th>2030-12-31 23:45</th>\n      <td>97.523121</td>\n      <td>9.752312</td>\n    </tr>\n  </tbody>\n</table>\n<p>35040 rows × 2 columns</p>\n</div>"
     },
     "execution_count": 56,
     "metadata": {},
     "output_type": "execute_result"
    }
   ],
   "source": [
    "# prepare df_price2030_qh for export\n",
    "df_price2030_qh = hourly_to_quarter_hourly_df(forecast_tmp[['ds', 'yhat']])\n",
    "df_price2030_qh.drop('yhat', axis=1, inplace=True)\n",
    "df_price2030_qh.set_index('ds', inplace=True)\n",
    "df_price2030_qh.rename(columns={'price_qh' : 'price_EUR_MWh'}, inplace=True)\n",
    "# from EUR/MWh to ct/kWh\n",
    "df_price2030_qh = df_price2030_qh.assign(price_ct_kWh = lambda x: (x['price_EUR_MWh'] / 10))\n",
    "df_price2030_qh"
   ],
   "metadata": {
    "collapsed": false,
    "pycharm": {
     "name": "#%%\n"
    }
   }
  },
  {
   "cell_type": "code",
   "execution_count": 57,
   "outputs": [],
   "source": [
    "# write df_price2030 to .xlsx\n",
    "os.chdir(\"C:\\Users\\joche\\FIM Kernkompetenzzentrum\\Projekt VIdES - Dokumente\\General\\07_Arbeitsordner\\02_Daten_und_Simulationsvorbereitung\\Strompreise\")\n",
    "df_price2030_qh.to_excel('prices_2030_v3.xlsx')"
   ],
   "metadata": {
    "collapsed": false,
    "pycharm": {
     "name": "#%%\n"
    }
   }
  },
  {
   "cell_type": "code",
   "execution_count": 58,
   "outputs": [],
   "source": [],
   "metadata": {
    "collapsed": false,
    "pycharm": {
     "name": "#%%\n"
    }
   }
  }
 ],
 "metadata": {
  "kernelspec": {
   "name": "fim_ml",
   "language": "python",
   "display_name": "fim_ml"
  },
  "language_info": {
   "codemirror_mode": {
    "name": "ipython",
    "version": 2
   },
   "file_extension": ".py",
   "mimetype": "text/x-python",
   "name": "python",
   "nbconvert_exporter": "python",
   "pygments_lexer": "ipython2",
   "version": "2.7.6"
  }
 },
 "nbformat": 4,
 "nbformat_minor": 0
}