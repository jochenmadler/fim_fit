{
 "cells": [
  {
   "cell_type": "code",
   "execution_count": 63,
   "outputs": [],
   "source": [
    "# imports\n",
    "import matplotlib.pyplot as plt\n",
    "import pandas as pd\n",
    "import numpy as np\n",
    "from datetime import datetime, timedelta\n",
    "import os\n",
    "from sklearn.linear_model import LinearRegression\n",
    "import statsmodels.api as sm\n",
    "import pandas_profiling"
   ],
   "metadata": {
    "collapsed": false,
    "pycharm": {
     "name": "#%%\n"
    }
   }
  },
  {
   "cell_type": "code",
   "execution_count": 84,
   "outputs": [],
   "source": [
    "def generate_time_series(start_date_str, end_date_str, interval_min):\n",
    "    start_date = datetime.strptime(start_date_str, \"%Y-%m-%d %H:%M\")\n",
    "    end_date = datetime.strptime(end_date_str, \"%Y-%m-%d %H:%M\")\n",
    "    interval = timedelta(hours=interval_min/60)\n",
    "    output = []\n",
    "    while start_date <= end_date:\n",
    "        output.append(start_date.strftime(\"%Y-%m-%d %H:%M:%S\"))\n",
    "        start_date += interval\n",
    "    return output"
   ],
   "metadata": {
    "collapsed": false,
    "pycharm": {
     "name": "#%%\n"
    }
   }
  },
  {
   "cell_type": "code",
   "execution_count": 3,
   "outputs": [],
   "source": [
    "# navigate to price files\n",
    "os.chdir(\"C:\\\\Users\\\\joche\\\\FIM Kernkompetenzzentrum\\\\Projekt VIdES - Dokumente\\\\General\\\\07_Arbeitsordner\\\\02_Daten_und_Simulationsvorbereitung\\\\Strompreise\\\\historische strompreise\")"
   ],
   "metadata": {
    "collapsed": false,
    "pycharm": {
     "name": "#%%\n"
    }
   }
  },
  {
   "cell_type": "code",
   "execution_count": 5,
   "outputs": [],
   "source": [
    "# read in and display historic price data\n",
    "\n",
    "# create dummy series and df to append to\n",
    "series = pd.Series(dtype=\"float64\")\n",
    "df = pd.read_csv(os.listdir()[0])\n",
    "for i in os.listdir():\n",
    "    # extract column name from file name\n",
    "    s = \"price_\"\n",
    "    s += i.split(\".\",2)[0][-4:]\n",
    "    # read in file\n",
    "    tmp = pd.read_csv(i, header=None)\n",
    "    # assign to series\n",
    "    series = pd.concat([series, tmp.iloc[:,0]])\n",
    "    # assign to df\n",
    "    tmp.set_axis([s], axis=1, inplace=True)\n",
    "    df[s] = tmp\n",
    "# disregard first column of df since it's a duplicate\n",
    "df_price = df.iloc[:,1:]\n",
    "# truncate at index 8760\n",
    "df_price = df_price.truncate(after=8760)\n",
    "# add mean column\n",
    "df_price['price_2016-2020_mean'] = df_price.iloc[:,:5].mean(axis=1)\n",
    "# interpolate missing values (at the end)\n",
    "df_price.interpolate()\n",
    "\n",
    "# reset series index, transform to df, and rename column\n",
    "df_price_series = pd.DataFrame(series.reset_index()[0])\n",
    "df_price_series.columns = [\"price\"]\n",
    "#df_price_series = df_price_series.columns = [\"price\"]\n",
    "# insert two empty rows and interpolate missing values\n",
    "df_price_series.loc[df_price_series.shape[0]] = [np.nan]\n",
    "df_price_series.loc[df_price_series.shape[0]] = [np.nan]\n",
    "df_price_series.interpolate(inplace=True)\n",
    "# generate hourly time series from 2016 to 2020\n",
    "time_series = generate_time_series(start_date_str=\"2016-01-01 00:00\", end_date_str=\"2020-12-31 23:00\", interval_min=60)\n",
    "# transform time series to df\n",
    "df_time_series = pd.DataFrame(time_series, index=time_series)\n",
    "# assign index of df_time_series to price_series\n",
    "df_price_series.index = df_time_series.index"
   ],
   "metadata": {
    "collapsed": false,
    "pycharm": {
     "name": "#%%\n"
    }
   }
  },
  {
   "cell_type": "code",
   "execution_count": null,
   "outputs": [],
   "source": [
    "# summary statistics of df_price\n",
    "price_report = pandas_profiling.ProfileReport(df_price.iloc[:,:-1])\n",
    "price_report.to_file(\"price_report.html\")"
   ],
   "metadata": {
    "collapsed": false,
    "pycharm": {
     "name": "#%%\n",
     "is_executing": true
    }
   }
  },
  {
   "cell_type": "code",
   "execution_count": 31,
   "outputs": [],
   "source": [
    "# navigate to pv and wind load profile file\n",
    "os.chdir('C:\\\\Users\\\\joche\\\\FIM Kernkompetenzzentrum\\\\Projekt VIdES - Dokumente\\\\General\\\\07_Arbeitsordner\\\\02_Daten_und_Simulationsvorbereitung\\\\Strompreise')\n",
    "file1 = \"2022 06 07 Strompreise.xlsx\"\n",
    "file2 = \"pvLoad_windLoad_electricity_timeseries.xlsx\"\n",
    "df_pv = pd.read_excel(file1, sheet_name=\"pv_load_profiles\")\n",
    "df_wind = pd.read_excel(file1, sheet_name=\"wind_load_profiles\")\n",
    "df_pv_series = pd.read_excel(file2, sheet_name=\"pv\")\n",
    "df_wind_series = pd.read_excel(file2, sheet_name=\"wind\")\n",
    "\n",
    "# df_pv and df_wind: Convert date to datetime and set as index\n",
    "df_pv['datetime'] = pd.to_datetime(df_pv['datetime'])\n",
    "df_wind['datetime'] = pd.to_datetime(df_wind['datetime'])\n",
    "df_pv.set_index('datetime', inplace=True)\n",
    "df_wind.set_index('datetime', inplace=True)\n",
    "# df_pv_series and df_wind_series: Convert date to datetime, set as index and remove cap_factor\n",
    "df_pv_series['datetime'] = pd.to_datetime(df_pv_series['datetime'])\n",
    "df_wind_series['datetime'] = pd.to_datetime(df_wind_series['datetime'])\n",
    "df_pv_series.set_index('datetime', inplace=True)\n",
    "df_wind_series.set_index('datetime', inplace=True)\n",
    "df_pv_series.drop('pv_cap_factor', axis=1, inplace=True)\n",
    "df_wind_series.drop('wind_cap_factor', axis=1, inplace=True)"
   ],
   "metadata": {
    "collapsed": false,
    "pycharm": {
     "name": "#%%\n"
    }
   }
  },
  {
   "cell_type": "code",
   "execution_count": null,
   "outputs": [],
   "source": [
    "# summary statistics of df_pv and df_wind\n",
    "df_pv_report = pandas_profiling.ProfileReport(df_pv.iloc[:,1:])\n",
    "df_pv_report.to_file(\"pv_report.html\")\n",
    "df_wind_report = pandas_profiling.ProfileReport(df_wind.iloc[:,1:])\n",
    "df_wind_report.to_file(\"wind_report.html\")"
   ],
   "metadata": {
    "collapsed": false,
    "pycharm": {
     "name": "#%%\n",
     "is_executing": true
    }
   }
  },
  {
   "cell_type": "code",
   "execution_count": 72,
   "outputs": [
    {
     "data": {
      "text/plain": "             count          mean           std  min  25%      50%        75%  \\\npv_2016_mw  8760.0   5735.128135   8378.983631  0.0  0.0   90.566  10007.543   \npv_2017_mw  8760.0   6354.577193   9283.994539  0.0  0.0  100.348  11088.454   \npv_2018_mw  8760.0   6627.383015   9682.562009  0.0  0.0  104.656  11564.488   \npv_2019_mw  8760.0   6736.935956   9842.618119  0.0  0.0  106.386  11755.653   \npv_2020_mw  8760.0   6892.336486  10069.657249  0.0  0.0  108.840  12026.820   \npv_2030_mw  8760.0  16010.434116  23391.136558  0.0  0.0  252.828  27937.494   \n\n                  max  \npv_2016_mw  32920.741  \npv_2017_mw  36476.498  \npv_2018_mw  38042.456  \npv_2019_mw  38671.311  \npv_2020_mw  39563.340  \npv_2030_mw  91902.978  ",
      "text/html": "<div>\n<style scoped>\n    .dataframe tbody tr th:only-of-type {\n        vertical-align: middle;\n    }\n\n    .dataframe tbody tr th {\n        vertical-align: top;\n    }\n\n    .dataframe thead th {\n        text-align: right;\n    }\n</style>\n<table border=\"1\" class=\"dataframe\">\n  <thead>\n    <tr style=\"text-align: right;\">\n      <th></th>\n      <th>count</th>\n      <th>mean</th>\n      <th>std</th>\n      <th>min</th>\n      <th>25%</th>\n      <th>50%</th>\n      <th>75%</th>\n      <th>max</th>\n    </tr>\n  </thead>\n  <tbody>\n    <tr>\n      <th>pv_2016_mw</th>\n      <td>8760.0</td>\n      <td>5735.128135</td>\n      <td>8378.983631</td>\n      <td>0.0</td>\n      <td>0.0</td>\n      <td>90.566</td>\n      <td>10007.543</td>\n      <td>32920.741</td>\n    </tr>\n    <tr>\n      <th>pv_2017_mw</th>\n      <td>8760.0</td>\n      <td>6354.577193</td>\n      <td>9283.994539</td>\n      <td>0.0</td>\n      <td>0.0</td>\n      <td>100.348</td>\n      <td>11088.454</td>\n      <td>36476.498</td>\n    </tr>\n    <tr>\n      <th>pv_2018_mw</th>\n      <td>8760.0</td>\n      <td>6627.383015</td>\n      <td>9682.562009</td>\n      <td>0.0</td>\n      <td>0.0</td>\n      <td>104.656</td>\n      <td>11564.488</td>\n      <td>38042.456</td>\n    </tr>\n    <tr>\n      <th>pv_2019_mw</th>\n      <td>8760.0</td>\n      <td>6736.935956</td>\n      <td>9842.618119</td>\n      <td>0.0</td>\n      <td>0.0</td>\n      <td>106.386</td>\n      <td>11755.653</td>\n      <td>38671.311</td>\n    </tr>\n    <tr>\n      <th>pv_2020_mw</th>\n      <td>8760.0</td>\n      <td>6892.336486</td>\n      <td>10069.657249</td>\n      <td>0.0</td>\n      <td>0.0</td>\n      <td>108.840</td>\n      <td>12026.820</td>\n      <td>39563.340</td>\n    </tr>\n    <tr>\n      <th>pv_2030_mw</th>\n      <td>8760.0</td>\n      <td>16010.434116</td>\n      <td>23391.136558</td>\n      <td>0.0</td>\n      <td>0.0</td>\n      <td>252.828</td>\n      <td>27937.494</td>\n      <td>91902.978</td>\n    </tr>\n  </tbody>\n</table>\n</div>"
     },
     "metadata": {},
     "output_type": "display_data"
    },
    {
     "data": {
      "text/plain": "               count          mean           std      min         25%  \\\nwind_2016_mw  8760.0   9067.160101   7518.767627  12.2037   3652.9742   \nwind_2017_mw  8760.0   9426.913202   7817.085947  12.6879   3797.9114   \nwind_2018_mw  8760.0  10065.508391   8346.628690  13.5474   4055.1884   \nwind_2019_mw  8760.0  10932.348422   9065.439067  14.7141   4404.4206   \nwind_2020_mw  8760.0  12002.469016   9952.815929  16.1544   4835.5504   \nwind_2030_mw  8760.0  44579.070776  36966.334605  60.0000  17960.0000   \n\n                      50%         75%          max  \nwind_2016_mw   6771.01955  12118.2741   38734.5438  \nwind_2017_mw   7039.66985  12599.0847   40271.3946  \nwind_2018_mw   7516.54910  13452.5682   42999.4476  \nwind_2019_mw   8163.87315  14611.1013   46702.5534  \nwind_2020_mw   8962.99960  16041.3192   51274.0656  \nwind_2030_mw  33290.00000  59580.0000  190440.0000  ",
      "text/html": "<div>\n<style scoped>\n    .dataframe tbody tr th:only-of-type {\n        vertical-align: middle;\n    }\n\n    .dataframe tbody tr th {\n        vertical-align: top;\n    }\n\n    .dataframe thead th {\n        text-align: right;\n    }\n</style>\n<table border=\"1\" class=\"dataframe\">\n  <thead>\n    <tr style=\"text-align: right;\">\n      <th></th>\n      <th>count</th>\n      <th>mean</th>\n      <th>std</th>\n      <th>min</th>\n      <th>25%</th>\n      <th>50%</th>\n      <th>75%</th>\n      <th>max</th>\n    </tr>\n  </thead>\n  <tbody>\n    <tr>\n      <th>wind_2016_mw</th>\n      <td>8760.0</td>\n      <td>9067.160101</td>\n      <td>7518.767627</td>\n      <td>12.2037</td>\n      <td>3652.9742</td>\n      <td>6771.01955</td>\n      <td>12118.2741</td>\n      <td>38734.5438</td>\n    </tr>\n    <tr>\n      <th>wind_2017_mw</th>\n      <td>8760.0</td>\n      <td>9426.913202</td>\n      <td>7817.085947</td>\n      <td>12.6879</td>\n      <td>3797.9114</td>\n      <td>7039.66985</td>\n      <td>12599.0847</td>\n      <td>40271.3946</td>\n    </tr>\n    <tr>\n      <th>wind_2018_mw</th>\n      <td>8760.0</td>\n      <td>10065.508391</td>\n      <td>8346.628690</td>\n      <td>13.5474</td>\n      <td>4055.1884</td>\n      <td>7516.54910</td>\n      <td>13452.5682</td>\n      <td>42999.4476</td>\n    </tr>\n    <tr>\n      <th>wind_2019_mw</th>\n      <td>8760.0</td>\n      <td>10932.348422</td>\n      <td>9065.439067</td>\n      <td>14.7141</td>\n      <td>4404.4206</td>\n      <td>8163.87315</td>\n      <td>14611.1013</td>\n      <td>46702.5534</td>\n    </tr>\n    <tr>\n      <th>wind_2020_mw</th>\n      <td>8760.0</td>\n      <td>12002.469016</td>\n      <td>9952.815929</td>\n      <td>16.1544</td>\n      <td>4835.5504</td>\n      <td>8962.99960</td>\n      <td>16041.3192</td>\n      <td>51274.0656</td>\n    </tr>\n    <tr>\n      <th>wind_2030_mw</th>\n      <td>8760.0</td>\n      <td>44579.070776</td>\n      <td>36966.334605</td>\n      <td>60.0000</td>\n      <td>17960.0000</td>\n      <td>33290.00000</td>\n      <td>59580.0000</td>\n      <td>190440.0000</td>\n    </tr>\n  </tbody>\n</table>\n</div>"
     },
     "metadata": {},
     "output_type": "display_data"
    }
   ],
   "source": [
    "# more summary statistics of df_pv and df_wind\n",
    "display(df_pv.iloc[:,1:].describe().transpose())\n",
    "display(df_wind.iloc[:,1:].describe().transpose())"
   ],
   "metadata": {
    "collapsed": false,
    "pycharm": {
     "name": "#%%\n"
    }
   }
  },
  {
   "cell_type": "code",
   "execution_count": null,
   "outputs": [],
   "source": [
    "# plot pv and wind load per year and month\n",
    "pv_overview = df_pv_series.groupby([df_pv_series.index.year,df_pv_series.index.month]).sum()\n",
    "ax = pv_overview.unstack(level=0).plot(kind='bar', subplots=True, figsize=(10,8))\n",
    "plt.savefig('pv_overview.png')\n",
    "wind_overview = df_wind_series.groupby([df_wind_series.index.year,df_wind_series.index.month]).sum()\n",
    "ax = wind_overview.unstack(level=0).plot(kind='bar', subplots=True, figsize=(10,8))\n",
    "plt.savefig('wind_overview.png')"
   ],
   "metadata": {
    "collapsed": false,
    "pycharm": {
     "name": "#%%\n",
     "is_executing": true
    }
   }
  },
  {
   "cell_type": "code",
   "execution_count": 73,
   "outputs": [
    {
     "data": {
      "text/plain": "      price_2016  price_2017  price_2018  price_2019  price_2020  \\\n0          22.39       20.96       -5.27       28.32      36.550   \n1          20.59       20.90      -29.99       10.07      32.320   \n2          16.81       18.13      -56.65       -4.08      30.850   \n3          17.41       16.03      -63.14       -9.91      30.140   \n4          17.02       16.43      -64.62       -7.41      30.170   \n...          ...         ...         ...         ...         ...   \n8756       41.03        4.06       50.01       42.20      43.220   \n8757       40.55        5.30       45.06       39.74      37.430   \n8758       33.06        1.86       48.93       38.88      38.540   \n8759       36.10       -0.92       30.31       37.39      35.335   \n8760       33.04         NaN         NaN         NaN      32.130   \n\n      price_2016-2020_mean  \n0                   20.590  \n1                   10.778  \n2                    1.012  \n3                   -1.894  \n4                   -1.682  \n...                    ...  \n8756                36.104  \n8757                33.616  \n8758                32.254  \n8759                27.643  \n8760                32.585  \n\n[8761 rows x 6 columns]",
      "text/html": "<div>\n<style scoped>\n    .dataframe tbody tr th:only-of-type {\n        vertical-align: middle;\n    }\n\n    .dataframe tbody tr th {\n        vertical-align: top;\n    }\n\n    .dataframe thead th {\n        text-align: right;\n    }\n</style>\n<table border=\"1\" class=\"dataframe\">\n  <thead>\n    <tr style=\"text-align: right;\">\n      <th></th>\n      <th>price_2016</th>\n      <th>price_2017</th>\n      <th>price_2018</th>\n      <th>price_2019</th>\n      <th>price_2020</th>\n      <th>price_2016-2020_mean</th>\n    </tr>\n  </thead>\n  <tbody>\n    <tr>\n      <th>0</th>\n      <td>22.39</td>\n      <td>20.96</td>\n      <td>-5.27</td>\n      <td>28.32</td>\n      <td>36.550</td>\n      <td>20.590</td>\n    </tr>\n    <tr>\n      <th>1</th>\n      <td>20.59</td>\n      <td>20.90</td>\n      <td>-29.99</td>\n      <td>10.07</td>\n      <td>32.320</td>\n      <td>10.778</td>\n    </tr>\n    <tr>\n      <th>2</th>\n      <td>16.81</td>\n      <td>18.13</td>\n      <td>-56.65</td>\n      <td>-4.08</td>\n      <td>30.850</td>\n      <td>1.012</td>\n    </tr>\n    <tr>\n      <th>3</th>\n      <td>17.41</td>\n      <td>16.03</td>\n      <td>-63.14</td>\n      <td>-9.91</td>\n      <td>30.140</td>\n      <td>-1.894</td>\n    </tr>\n    <tr>\n      <th>4</th>\n      <td>17.02</td>\n      <td>16.43</td>\n      <td>-64.62</td>\n      <td>-7.41</td>\n      <td>30.170</td>\n      <td>-1.682</td>\n    </tr>\n    <tr>\n      <th>...</th>\n      <td>...</td>\n      <td>...</td>\n      <td>...</td>\n      <td>...</td>\n      <td>...</td>\n      <td>...</td>\n    </tr>\n    <tr>\n      <th>8756</th>\n      <td>41.03</td>\n      <td>4.06</td>\n      <td>50.01</td>\n      <td>42.20</td>\n      <td>43.220</td>\n      <td>36.104</td>\n    </tr>\n    <tr>\n      <th>8757</th>\n      <td>40.55</td>\n      <td>5.30</td>\n      <td>45.06</td>\n      <td>39.74</td>\n      <td>37.430</td>\n      <td>33.616</td>\n    </tr>\n    <tr>\n      <th>8758</th>\n      <td>33.06</td>\n      <td>1.86</td>\n      <td>48.93</td>\n      <td>38.88</td>\n      <td>38.540</td>\n      <td>32.254</td>\n    </tr>\n    <tr>\n      <th>8759</th>\n      <td>36.10</td>\n      <td>-0.92</td>\n      <td>30.31</td>\n      <td>37.39</td>\n      <td>35.335</td>\n      <td>27.643</td>\n    </tr>\n    <tr>\n      <th>8760</th>\n      <td>33.04</td>\n      <td>NaN</td>\n      <td>NaN</td>\n      <td>NaN</td>\n      <td>32.130</td>\n      <td>32.585</td>\n    </tr>\n  </tbody>\n</table>\n<p>8761 rows × 6 columns</p>\n</div>"
     },
     "execution_count": 73,
     "metadata": {},
     "output_type": "execute_result"
    }
   ],
   "source": [
    "df_price"
   ],
   "metadata": {
    "collapsed": false,
    "pycharm": {
     "name": "#%%\n"
    }
   }
  },
  {
   "cell_type": "code",
   "execution_count": 85,
   "outputs": [],
   "source": [],
   "metadata": {
    "collapsed": false,
    "pycharm": {
     "name": "#%%\n"
    }
   }
  },
  {
   "cell_type": "code",
   "execution_count": 81,
   "outputs": [
    {
     "data": {
      "text/plain": "'C:\\\\Users\\\\joche\\\\FIM Kernkompetenzzentrum\\\\Projekt VIdES - Dokumente\\\\General\\\\07_Arbeitsordner\\\\02_Daten_und_Simulationsvorbereitung\\\\Strompreise'"
     },
     "execution_count": 81,
     "metadata": {},
     "output_type": "execute_result"
    }
   ],
   "source": [
    "os.getcwd()"
   ],
   "metadata": {
    "collapsed": false,
    "pycharm": {
     "name": "#%%\n"
    }
   }
  }
 ],
 "metadata": {
  "kernelspec": {
   "name": "fim_ml",
   "language": "python",
   "display_name": "fim_ml"
  },
  "language_info": {
   "codemirror_mode": {
    "name": "ipython",
    "version": 2
   },
   "file_extension": ".py",
   "mimetype": "text/x-python",
   "name": "python",
   "nbconvert_exporter": "python",
   "pygments_lexer": "ipython2",
   "version": "2.7.6"
  }
 },
 "nbformat": 4,
 "nbformat_minor": 0
}