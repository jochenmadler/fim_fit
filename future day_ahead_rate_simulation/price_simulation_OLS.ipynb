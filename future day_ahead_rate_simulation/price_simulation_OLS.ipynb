{
 "cells": [
  {
   "cell_type": "code",
   "execution_count": 1,
   "outputs": [],
   "source": [
    "# imports\n",
    "import pandas as pd\n",
    "import numpy as np\n",
    "from datetime import datetime, timedelta\n",
    "import os\n",
    "from sklearn.linear_model import LinearRegression\n",
    "import statsmodels.api as sm"
   ],
   "metadata": {
    "collapsed": false,
    "pycharm": {
     "name": "#%%\n"
    }
   }
  },
  {
   "cell_type": "code",
   "execution_count": 2,
   "outputs": [],
   "source": [
    "# for each row, add n empty ones\n",
    "def df_add_rows(df, n):\n",
    "    empty_rows = n\n",
    "    df.index = range(0, empty_rows*len(df), empty_rows)\n",
    "    df_out = df.reindex(index=range(empty_rows*len(df)))\n",
    "    return df_out"
   ],
   "metadata": {
    "collapsed": false,
    "pycharm": {
     "name": "#%%\n"
    }
   }
  },
  {
   "cell_type": "code",
   "execution_count": 3,
   "outputs": [],
   "source": [
    "def generate_time_series(start_date_str, end_date_str, interval_min):\n",
    "    start_date = datetime.strptime(start_date_str, \"%Y-%m-%d %H:%M\")\n",
    "    end_date = datetime.strptime(end_date_str, \"%Y-%m-%d %H:%M\")\n",
    "    interval = timedelta(hours=interval_min/60)\n",
    "    output = []\n",
    "    while start_date <= end_date:\n",
    "        output.append(start_date.strftime(\"%Y-%m-%d %H:%M\"))\n",
    "        start_date += interval\n",
    "    return output"
   ],
   "metadata": {
    "collapsed": false,
    "pycharm": {
     "name": "#%%\n"
    }
   }
  },
  {
   "cell_type": "markdown",
   "source": [
    "Price data"
   ],
   "metadata": {
    "collapsed": false,
    "pycharm": {
     "name": "#%% md\n"
    }
   }
  },
  {
   "cell_type": "code",
   "execution_count": 4,
   "outputs": [],
   "source": [
    "# navigate to price files\n",
    "os.chdir(\"C:\\\\Users\\\\joche\\\\FIM Kernkompetenzzentrum\\\\Projekt VIdES - Dokumente\\\\General\\\\07_Arbeitsordner\\\\02_Daten_und_Simulationsvorbereitung\\\\Strompreise\\\\historische strompreise\")"
   ],
   "metadata": {
    "collapsed": false,
    "pycharm": {
     "name": "#%%\n"
    }
   }
  },
  {
   "cell_type": "code",
   "execution_count": 5,
   "outputs": [
    {
     "data": {
      "text/plain": "             count       mean        std     min     25%     50%    75%  \\\nprice_2016  8761.0  28.964373  12.484463 -130.09  22.310  28.230  34.95   \nprice_2017  8760.0  34.188527  17.659501  -83.06  27.780  33.825  40.57   \nprice_2018  8760.0  44.468920  17.771203  -76.01  34.455  45.090  54.87   \nprice_2019  8760.0  37.666600  15.517500  -90.01  31.060  38.060  46.27   \nprice_2020  8761.0  30.432294  17.489462  -83.94  21.710  30.960  40.20   \n\n               max  \nprice_2016  104.96  \nprice_2017  163.52  \nprice_2018  128.26  \nprice_2019  121.46  \nprice_2020  200.04  ",
      "text/html": "<div>\n<style scoped>\n    .dataframe tbody tr th:only-of-type {\n        vertical-align: middle;\n    }\n\n    .dataframe tbody tr th {\n        vertical-align: top;\n    }\n\n    .dataframe thead th {\n        text-align: right;\n    }\n</style>\n<table border=\"1\" class=\"dataframe\">\n  <thead>\n    <tr style=\"text-align: right;\">\n      <th></th>\n      <th>count</th>\n      <th>mean</th>\n      <th>std</th>\n      <th>min</th>\n      <th>25%</th>\n      <th>50%</th>\n      <th>75%</th>\n      <th>max</th>\n    </tr>\n  </thead>\n  <tbody>\n    <tr>\n      <th>price_2016</th>\n      <td>8761.0</td>\n      <td>28.964373</td>\n      <td>12.484463</td>\n      <td>-130.09</td>\n      <td>22.310</td>\n      <td>28.230</td>\n      <td>34.95</td>\n      <td>104.96</td>\n    </tr>\n    <tr>\n      <th>price_2017</th>\n      <td>8760.0</td>\n      <td>34.188527</td>\n      <td>17.659501</td>\n      <td>-83.06</td>\n      <td>27.780</td>\n      <td>33.825</td>\n      <td>40.57</td>\n      <td>163.52</td>\n    </tr>\n    <tr>\n      <th>price_2018</th>\n      <td>8760.0</td>\n      <td>44.468920</td>\n      <td>17.771203</td>\n      <td>-76.01</td>\n      <td>34.455</td>\n      <td>45.090</td>\n      <td>54.87</td>\n      <td>128.26</td>\n    </tr>\n    <tr>\n      <th>price_2019</th>\n      <td>8760.0</td>\n      <td>37.666600</td>\n      <td>15.517500</td>\n      <td>-90.01</td>\n      <td>31.060</td>\n      <td>38.060</td>\n      <td>46.27</td>\n      <td>121.46</td>\n    </tr>\n    <tr>\n      <th>price_2020</th>\n      <td>8761.0</td>\n      <td>30.432294</td>\n      <td>17.489462</td>\n      <td>-83.94</td>\n      <td>21.710</td>\n      <td>30.960</td>\n      <td>40.20</td>\n      <td>200.04</td>\n    </tr>\n  </tbody>\n</table>\n</div>"
     },
     "metadata": {},
     "output_type": "display_data"
    },
    {
     "data": {
      "text/plain": "<AxesSubplot:>"
     },
     "metadata": {},
     "output_type": "display_data"
    },
    {
     "data": {
      "text/plain": "<Figure size 432x288 with 1 Axes>",
      "image/png": "[encoded data removed]"
     },
     "metadata": {
      "needs_background": "light"
     },
     "output_type": "display_data"
    }
   ],
   "source": [
    "# read in and display historic price data\n",
    "\n",
    "# create dummy series and df to append to\n",
    "series = pd.Series(dtype=\"float64\")\n",
    "df = pd.read_csv(os.listdir()[0])\n",
    "for i in os.listdir():\n",
    "    # extract column name from file name\n",
    "    s = \"price_\"\n",
    "    s += i.split(\".\",2)[0][-4:]\n",
    "    # read in file\n",
    "    tmp = pd.read_csv(i, header=None)\n",
    "    # assign to series\n",
    "    series = pd.concat([series, tmp.iloc[:,0]])\n",
    "    # assign to df\n",
    "    tmp.set_axis([s], axis=1, inplace=True)\n",
    "    df[s] = tmp\n",
    "# disregard first column of df since it's a duplicate\n",
    "df_price = df.iloc[:,1:]\n",
    "# truncate at index 8760\n",
    "df_price = df_price.truncate(after=8760)\n",
    "# add mean column\n",
    "df_price['price_2016-2020_mean'] = df_price.iloc[:,:5].mean(axis=1)\n",
    "# interpolate missing values (at the end)\n",
    "df_price.interpolate()\n",
    "# summary statistics of df_price\n",
    "display(df_price.iloc[:,:-1].describe().transpose())\n",
    "\n",
    "# reset series index, transform to df, and rename column\n",
    "df_price_series = pd.DataFrame(series.reset_index()[0])\n",
    "df_price_series.columns = [\"price\"]\n",
    "#df_price_series = df_price_series.columns = [\"price\"]\n",
    "# insert two empty rows and interpolate missing values\n",
    "df_price_series.loc[df_price_series.shape[0]] = [np.nan]\n",
    "df_price_series.loc[df_price_series.shape[0]] = [np.nan]\n",
    "df_price_series.interpolate(inplace=True)\n",
    "# generate hourly time series from 2016 to 2020\n",
    "time_series = generate_time_series(start_date_str=\"2016-01-01 00:00\", end_date_str=\"2020-12-31 23:00\", interval_min=60)\n",
    "# transform time series to df\n",
    "df_time_series = pd.DataFrame(time_series, index=time_series)\n",
    "# assign index of df_time_series to price_series\n",
    "df_price_series.index = df_time_series.index\n",
    "# plot\n",
    "display(df_price_series.plot())\n"
   ],
   "metadata": {
    "collapsed": false,
    "pycharm": {
     "name": "#%%\n"
    }
   }
  },
  {
   "cell_type": "markdown",
   "source": [
    "PV load data"
   ],
   "metadata": {
    "collapsed": false,
    "pycharm": {
     "name": "#%% md\n"
    }
   }
  },
  {
   "cell_type": "code",
   "execution_count": 11,
   "outputs": [],
   "source": [
    "# navigate to pv and wind load profile file\n",
    "os.chdir('C:\\\\Users\\\\joche\\\\FIM Kernkompetenzzentrum\\\\Projekt VIdES - Dokumente\\\\General\\\\07_Arbeitsordner\\\\02_Daten_und_Simulationsvorbereitung\\\\Strompreise')\n",
    "file1 = \"2022 06 07 Strompreise.xlsx\"\n",
    "file2 = \"pv_wind_load_timeseries.xlsx\"\n",
    "df_pv = pd.read_excel(file1, sheet_name=\"pv_load_profiles\")\n",
    "df_wind = pd.read_excel(file1, sheet_name=\"wind_load_profiles\")\n",
    "df_pv_series = pd.read_excel(file2, sheet_name=\"pv\")\n",
    "df_wind_series = pd.read_excel(file2, sheet_name=\"wind\")"
   ],
   "metadata": {
    "collapsed": false,
    "pycharm": {
     "name": "#%%\n"
    }
   }
  },
  {
   "cell_type": "code",
   "execution_count": 12,
   "outputs": [
    {
     "data": {
      "text/plain": "                  datetime  pv_cap_factor  pv_load_mwh\n0      2016-01-01 00:00:00            0.0          0.0\n1      2016-01-01 01:00:00            0.0          0.0\n2      2016-01-01 02:00:00            0.0          0.0\n3      2016-01-01 03:00:00            0.0          0.0\n4      2016-01-01 04:00:00            0.0          0.0\n...                    ...            ...          ...\n43843  2020-12-31 19:00:00            0.0          0.0\n43844  2020-12-31 20:00:00            0.0          0.0\n43845  2020-12-31 21:00:00            0.0          0.0\n43846  2020-12-31 22:00:00            0.0          0.0\n43847  2020-12-31 23:00:00            0.0          0.0\n\n[43848 rows x 3 columns]",
      "text/html": "<div>\n<style scoped>\n    .dataframe tbody tr th:only-of-type {\n        vertical-align: middle;\n    }\n\n    .dataframe tbody tr th {\n        vertical-align: top;\n    }\n\n    .dataframe thead th {\n        text-align: right;\n    }\n</style>\n<table border=\"1\" class=\"dataframe\">\n  <thead>\n    <tr style=\"text-align: right;\">\n      <th></th>\n      <th>datetime</th>\n      <th>pv_cap_factor</th>\n      <th>pv_load_mwh</th>\n    </tr>\n  </thead>\n  <tbody>\n    <tr>\n      <th>0</th>\n      <td>2016-01-01 00:00:00</td>\n      <td>0.0</td>\n      <td>0.0</td>\n    </tr>\n    <tr>\n      <th>1</th>\n      <td>2016-01-01 01:00:00</td>\n      <td>0.0</td>\n      <td>0.0</td>\n    </tr>\n    <tr>\n      <th>2</th>\n      <td>2016-01-01 02:00:00</td>\n      <td>0.0</td>\n      <td>0.0</td>\n    </tr>\n    <tr>\n      <th>3</th>\n      <td>2016-01-01 03:00:00</td>\n      <td>0.0</td>\n      <td>0.0</td>\n    </tr>\n    <tr>\n      <th>4</th>\n      <td>2016-01-01 04:00:00</td>\n      <td>0.0</td>\n      <td>0.0</td>\n    </tr>\n    <tr>\n      <th>...</th>\n      <td>...</td>\n      <td>...</td>\n      <td>...</td>\n    </tr>\n    <tr>\n      <th>43843</th>\n      <td>2020-12-31 19:00:00</td>\n      <td>0.0</td>\n      <td>0.0</td>\n    </tr>\n    <tr>\n      <th>43844</th>\n      <td>2020-12-31 20:00:00</td>\n      <td>0.0</td>\n      <td>0.0</td>\n    </tr>\n    <tr>\n      <th>43845</th>\n      <td>2020-12-31 21:00:00</td>\n      <td>0.0</td>\n      <td>0.0</td>\n    </tr>\n    <tr>\n      <th>43846</th>\n      <td>2020-12-31 22:00:00</td>\n      <td>0.0</td>\n      <td>0.0</td>\n    </tr>\n    <tr>\n      <th>43847</th>\n      <td>2020-12-31 23:00:00</td>\n      <td>0.0</td>\n      <td>0.0</td>\n    </tr>\n  </tbody>\n</table>\n<p>43848 rows × 3 columns</p>\n</div>"
     },
     "execution_count": 12,
     "metadata": {},
     "output_type": "execute_result"
    }
   ],
   "source": [
    "# set datetime as index, cut out cap_factors\n",
    "df_pv_series"
   ],
   "metadata": {
    "collapsed": false,
    "pycharm": {
     "name": "#%%\n"
    }
   }
  },
  {
   "cell_type": "code",
   "execution_count": 7,
   "outputs": [
    {
     "data": {
      "text/plain": "      index             datetime  pv_2016_mw  pv_2017_mw  pv_2018_mw  \\\n0         1  2019-01-01 00:00:00         0.0         0.0         0.0   \n1         2  2019-01-01 01:00:00         0.0         0.0         0.0   \n2         3  2019-01-01 02:00:00         0.0         0.0         0.0   \n3         4  2019-01-01 03:00:00         0.0         0.0         0.0   \n4         5  2019-01-01 04:00:00         0.0         0.0         0.0   \n...     ...                  ...         ...         ...         ...   \n8755   8756  2019-12-31 19:00:00         0.0         0.0         0.0   \n8756   8757  2019-12-31 20:00:00         0.0         0.0         0.0   \n8757   8758  2019-12-31 21:00:00         0.0         0.0         0.0   \n8758   8759  2019-12-31 22:00:00         0.0         0.0         0.0   \n8759   8760  2019-12-31 23:00:00         0.0         0.0         0.0   \n\n      pv_2019_mw  pv_2020_mw  pv_2030_mw  \n0            0.0         0.0         0.0  \n1            0.0         0.0         0.0  \n2            0.0         0.0         0.0  \n3            0.0         0.0         0.0  \n4            0.0         0.0         0.0  \n...          ...         ...         ...  \n8755         0.0         0.0         0.0  \n8756         0.0         0.0         0.0  \n8757         0.0         0.0         0.0  \n8758         0.0         0.0         0.0  \n8759         0.0         0.0         0.0  \n\n[8760 rows x 8 columns]",
      "text/html": "<div>\n<style scoped>\n    .dataframe tbody tr th:only-of-type {\n        vertical-align: middle;\n    }\n\n    .dataframe tbody tr th {\n        vertical-align: top;\n    }\n\n    .dataframe thead th {\n        text-align: right;\n    }\n</style>\n<table border=\"1\" class=\"dataframe\">\n  <thead>\n    <tr style=\"text-align: right;\">\n      <th></th>\n      <th>index</th>\n      <th>datetime</th>\n      <th>pv_2016_mw</th>\n      <th>pv_2017_mw</th>\n      <th>pv_2018_mw</th>\n      <th>pv_2019_mw</th>\n      <th>pv_2020_mw</th>\n      <th>pv_2030_mw</th>\n    </tr>\n  </thead>\n  <tbody>\n    <tr>\n      <th>0</th>\n      <td>1</td>\n      <td>2019-01-01 00:00:00</td>\n      <td>0.0</td>\n      <td>0.0</td>\n      <td>0.0</td>\n      <td>0.0</td>\n      <td>0.0</td>\n      <td>0.0</td>\n    </tr>\n    <tr>\n      <th>1</th>\n      <td>2</td>\n      <td>2019-01-01 01:00:00</td>\n      <td>0.0</td>\n      <td>0.0</td>\n      <td>0.0</td>\n      <td>0.0</td>\n      <td>0.0</td>\n      <td>0.0</td>\n    </tr>\n    <tr>\n      <th>2</th>\n      <td>3</td>\n      <td>2019-01-01 02:00:00</td>\n      <td>0.0</td>\n      <td>0.0</td>\n      <td>0.0</td>\n      <td>0.0</td>\n      <td>0.0</td>\n      <td>0.0</td>\n    </tr>\n    <tr>\n      <th>3</th>\n      <td>4</td>\n      <td>2019-01-01 03:00:00</td>\n      <td>0.0</td>\n      <td>0.0</td>\n      <td>0.0</td>\n      <td>0.0</td>\n      <td>0.0</td>\n      <td>0.0</td>\n    </tr>\n    <tr>\n      <th>4</th>\n      <td>5</td>\n      <td>2019-01-01 04:00:00</td>\n      <td>0.0</td>\n      <td>0.0</td>\n      <td>0.0</td>\n      <td>0.0</td>\n      <td>0.0</td>\n      <td>0.0</td>\n    </tr>\n    <tr>\n      <th>...</th>\n      <td>...</td>\n      <td>...</td>\n      <td>...</td>\n      <td>...</td>\n      <td>...</td>\n      <td>...</td>\n      <td>...</td>\n      <td>...</td>\n    </tr>\n    <tr>\n      <th>8755</th>\n      <td>8756</td>\n      <td>2019-12-31 19:00:00</td>\n      <td>0.0</td>\n      <td>0.0</td>\n      <td>0.0</td>\n      <td>0.0</td>\n      <td>0.0</td>\n      <td>0.0</td>\n    </tr>\n    <tr>\n      <th>8756</th>\n      <td>8757</td>\n      <td>2019-12-31 20:00:00</td>\n      <td>0.0</td>\n      <td>0.0</td>\n      <td>0.0</td>\n      <td>0.0</td>\n      <td>0.0</td>\n      <td>0.0</td>\n    </tr>\n    <tr>\n      <th>8757</th>\n      <td>8758</td>\n      <td>2019-12-31 21:00:00</td>\n      <td>0.0</td>\n      <td>0.0</td>\n      <td>0.0</td>\n      <td>0.0</td>\n      <td>0.0</td>\n      <td>0.0</td>\n    </tr>\n    <tr>\n      <th>8758</th>\n      <td>8759</td>\n      <td>2019-12-31 22:00:00</td>\n      <td>0.0</td>\n      <td>0.0</td>\n      <td>0.0</td>\n      <td>0.0</td>\n      <td>0.0</td>\n      <td>0.0</td>\n    </tr>\n    <tr>\n      <th>8759</th>\n      <td>8760</td>\n      <td>2019-12-31 23:00:00</td>\n      <td>0.0</td>\n      <td>0.0</td>\n      <td>0.0</td>\n      <td>0.0</td>\n      <td>0.0</td>\n      <td>0.0</td>\n    </tr>\n  </tbody>\n</table>\n<p>8760 rows × 8 columns</p>\n</div>"
     },
     "execution_count": 7,
     "metadata": {},
     "output_type": "execute_result"
    }
   ],
   "source": [
    "#\n",
    "df_pv"
   ],
   "metadata": {
    "collapsed": false,
    "pycharm": {
     "name": "#%%\n"
    }
   }
  },
  {
   "cell_type": "code",
   "execution_count": null,
   "outputs": [],
   "source": [],
   "metadata": {
    "collapsed": false,
    "pycharm": {
     "name": "#%%\n"
    }
   }
  },
  {
   "cell_type": "code",
   "execution_count": 30,
   "outputs": [
    {
     "data": {
      "text/plain": "      index             datetime  pv_2016_mw  pv_2017_mw  pv_2018_mw  \\\n0         1  2019-01-01 00:00:00         0.0         0.0         0.0   \n1         2  2019-01-01 01:00:00         0.0         0.0         0.0   \n2         3  2019-01-01 02:00:00         0.0         0.0         0.0   \n3         4  2019-01-01 03:00:00         0.0         0.0         0.0   \n4         5  2019-01-01 04:00:00         0.0         0.0         0.0   \n...     ...                  ...         ...         ...         ...   \n8755   8756  2019-12-31 19:00:00         0.0         0.0         0.0   \n8756   8757  2019-12-31 20:00:00         0.0         0.0         0.0   \n8757   8758  2019-12-31 21:00:00         0.0         0.0         0.0   \n8758   8759  2019-12-31 22:00:00         0.0         0.0         0.0   \n8759   8760  2019-12-31 23:00:00         0.0         0.0         0.0   \n\n      pv_2019_mw  pv_2020_mw  pv_2030_mw  pv_2016-2020_mean  \n0            0.0         0.0         0.0                0.0  \n1            0.0         0.0         0.0                0.0  \n2            0.0         0.0         0.0                0.0  \n3            0.0         0.0         0.0                0.0  \n4            0.0         0.0         0.0                0.0  \n...          ...         ...         ...                ...  \n8755         0.0         0.0         0.0                0.0  \n8756         0.0         0.0         0.0                0.0  \n8757         0.0         0.0         0.0                0.0  \n8758         0.0         0.0         0.0                0.0  \n8759         0.0         0.0         0.0                0.0  \n\n[8760 rows x 9 columns]",
      "text/html": "<div>\n<style scoped>\n    .dataframe tbody tr th:only-of-type {\n        vertical-align: middle;\n    }\n\n    .dataframe tbody tr th {\n        vertical-align: top;\n    }\n\n    .dataframe thead th {\n        text-align: right;\n    }\n</style>\n<table border=\"1\" class=\"dataframe\">\n  <thead>\n    <tr style=\"text-align: right;\">\n      <th></th>\n      <th>index</th>\n      <th>datetime</th>\n      <th>pv_2016_mw</th>\n      <th>pv_2017_mw</th>\n      <th>pv_2018_mw</th>\n      <th>pv_2019_mw</th>\n      <th>pv_2020_mw</th>\n      <th>pv_2030_mw</th>\n      <th>pv_2016-2020_mean</th>\n    </tr>\n  </thead>\n  <tbody>\n    <tr>\n      <th>0</th>\n      <td>1</td>\n      <td>2019-01-01 00:00:00</td>\n      <td>0.0</td>\n      <td>0.0</td>\n      <td>0.0</td>\n      <td>0.0</td>\n      <td>0.0</td>\n      <td>0.0</td>\n      <td>0.0</td>\n    </tr>\n    <tr>\n      <th>1</th>\n      <td>2</td>\n      <td>2019-01-01 01:00:00</td>\n      <td>0.0</td>\n      <td>0.0</td>\n      <td>0.0</td>\n      <td>0.0</td>\n      <td>0.0</td>\n      <td>0.0</td>\n      <td>0.0</td>\n    </tr>\n    <tr>\n      <th>2</th>\n      <td>3</td>\n      <td>2019-01-01 02:00:00</td>\n      <td>0.0</td>\n      <td>0.0</td>\n      <td>0.0</td>\n      <td>0.0</td>\n      <td>0.0</td>\n      <td>0.0</td>\n      <td>0.0</td>\n    </tr>\n    <tr>\n      <th>3</th>\n      <td>4</td>\n      <td>2019-01-01 03:00:00</td>\n      <td>0.0</td>\n      <td>0.0</td>\n      <td>0.0</td>\n      <td>0.0</td>\n      <td>0.0</td>\n      <td>0.0</td>\n      <td>0.0</td>\n    </tr>\n    <tr>\n      <th>4</th>\n      <td>5</td>\n      <td>2019-01-01 04:00:00</td>\n      <td>0.0</td>\n      <td>0.0</td>\n      <td>0.0</td>\n      <td>0.0</td>\n      <td>0.0</td>\n      <td>0.0</td>\n      <td>0.0</td>\n    </tr>\n    <tr>\n      <th>...</th>\n      <td>...</td>\n      <td>...</td>\n      <td>...</td>\n      <td>...</td>\n      <td>...</td>\n      <td>...</td>\n      <td>...</td>\n      <td>...</td>\n      <td>...</td>\n    </tr>\n    <tr>\n      <th>8755</th>\n      <td>8756</td>\n      <td>2019-12-31 19:00:00</td>\n      <td>0.0</td>\n      <td>0.0</td>\n      <td>0.0</td>\n      <td>0.0</td>\n      <td>0.0</td>\n      <td>0.0</td>\n      <td>0.0</td>\n    </tr>\n    <tr>\n      <th>8756</th>\n      <td>8757</td>\n      <td>2019-12-31 20:00:00</td>\n      <td>0.0</td>\n      <td>0.0</td>\n      <td>0.0</td>\n      <td>0.0</td>\n      <td>0.0</td>\n      <td>0.0</td>\n      <td>0.0</td>\n    </tr>\n    <tr>\n      <th>8757</th>\n      <td>8758</td>\n      <td>2019-12-31 21:00:00</td>\n      <td>0.0</td>\n      <td>0.0</td>\n      <td>0.0</td>\n      <td>0.0</td>\n      <td>0.0</td>\n      <td>0.0</td>\n      <td>0.0</td>\n    </tr>\n    <tr>\n      <th>8758</th>\n      <td>8759</td>\n      <td>2019-12-31 22:00:00</td>\n      <td>0.0</td>\n      <td>0.0</td>\n      <td>0.0</td>\n      <td>0.0</td>\n      <td>0.0</td>\n      <td>0.0</td>\n      <td>0.0</td>\n    </tr>\n    <tr>\n      <th>8759</th>\n      <td>8760</td>\n      <td>2019-12-31 23:00:00</td>\n      <td>0.0</td>\n      <td>0.0</td>\n      <td>0.0</td>\n      <td>0.0</td>\n      <td>0.0</td>\n      <td>0.0</td>\n      <td>0.0</td>\n    </tr>\n  </tbody>\n</table>\n<p>8760 rows × 9 columns</p>\n</div>"
     },
     "execution_count": 30,
     "metadata": {},
     "output_type": "execute_result"
    }
   ],
   "source": [
    "# add mean column\n",
    "df_pv['pv_2016-2020_mean'] = df_pv.iloc[:,2:7].mean(axis=1)\n",
    "df_pv"
   ],
   "metadata": {
    "collapsed": false,
    "pycharm": {
     "name": "#%%\n"
    }
   }
  },
  {
   "cell_type": "code",
   "execution_count": 31,
   "outputs": [
    {
     "data": {
      "text/plain": "      index             datetime  wind_2016_mw  wind_2017_mw  wind_2018_mw  \\\n0         1  2019-01-01 00:00:00    15742.7730    16367.3910    17476.1460   \n1         2  2019-01-01 01:00:00    17593.6675    18291.7225    19530.8350   \n2         3  2019-01-01 02:00:00    19558.4632    20334.4744    21711.9664   \n3         4  2019-01-01 03:00:00    20636.4567    21455.2389    22908.6534   \n4         5  2019-01-01 04:00:00    22690.7462    23591.0354    25189.1324   \n...     ...                  ...           ...           ...           ...   \n8755   8756  2019-12-31 19:00:00     6114.0537     6356.6379     6787.2474   \n8756   8757  2019-12-31 20:00:00     5109.2824     5312.0008     5671.8448   \n8757   8758  2019-12-31 21:00:00     4417.7394     4593.0198     4904.1588   \n8758   8759  2019-12-31 22:00:00     3856.3692     4009.3764     4280.9784   \n8759   8760  2019-12-31 23:00:00     3396.6965     3531.4655     3770.6930   \n\n      wind_2019_mw  wind_2020_mw  wind_2030_mw  wind_2016-2020_mean  \n0       18981.1890    20839.1760       77400.0           17881.3350  \n1       21212.8275    23289.2600       86500.0           19983.6625  \n2       23581.7976    25890.1184       96160.0           22215.3640  \n3       24881.5431    27317.0904      101460.0           23439.7965  \n4       27358.4166    30036.4144      111560.0           25773.1490  \n...            ...           ...           ...                  ...  \n8755     7371.7641     8093.3544       30060.0            6944.6115  \n8756     6160.3032     6763.3088       25120.0            5803.3480  \n8757     5326.5042     5847.8928       21720.0            5017.8630  \n8758     4649.6556     5104.7904       18960.0            4380.2340  \n8759     4095.4245     4496.3080       16700.0            3858.1175  \n\n[8760 rows x 9 columns]",
      "text/html": "<div>\n<style scoped>\n    .dataframe tbody tr th:only-of-type {\n        vertical-align: middle;\n    }\n\n    .dataframe tbody tr th {\n        vertical-align: top;\n    }\n\n    .dataframe thead th {\n        text-align: right;\n    }\n</style>\n<table border=\"1\" class=\"dataframe\">\n  <thead>\n    <tr style=\"text-align: right;\">\n      <th></th>\n      <th>index</th>\n      <th>datetime</th>\n      <th>wind_2016_mw</th>\n      <th>wind_2017_mw</th>\n      <th>wind_2018_mw</th>\n      <th>wind_2019_mw</th>\n      <th>wind_2020_mw</th>\n      <th>wind_2030_mw</th>\n      <th>wind_2016-2020_mean</th>\n    </tr>\n  </thead>\n  <tbody>\n    <tr>\n      <th>0</th>\n      <td>1</td>\n      <td>2019-01-01 00:00:00</td>\n      <td>15742.7730</td>\n      <td>16367.3910</td>\n      <td>17476.1460</td>\n      <td>18981.1890</td>\n      <td>20839.1760</td>\n      <td>77400.0</td>\n      <td>17881.3350</td>\n    </tr>\n    <tr>\n      <th>1</th>\n      <td>2</td>\n      <td>2019-01-01 01:00:00</td>\n      <td>17593.6675</td>\n      <td>18291.7225</td>\n      <td>19530.8350</td>\n      <td>21212.8275</td>\n      <td>23289.2600</td>\n      <td>86500.0</td>\n      <td>19983.6625</td>\n    </tr>\n    <tr>\n      <th>2</th>\n      <td>3</td>\n      <td>2019-01-01 02:00:00</td>\n      <td>19558.4632</td>\n      <td>20334.4744</td>\n      <td>21711.9664</td>\n      <td>23581.7976</td>\n      <td>25890.1184</td>\n      <td>96160.0</td>\n      <td>22215.3640</td>\n    </tr>\n    <tr>\n      <th>3</th>\n      <td>4</td>\n      <td>2019-01-01 03:00:00</td>\n      <td>20636.4567</td>\n      <td>21455.2389</td>\n      <td>22908.6534</td>\n      <td>24881.5431</td>\n      <td>27317.0904</td>\n      <td>101460.0</td>\n      <td>23439.7965</td>\n    </tr>\n    <tr>\n      <th>4</th>\n      <td>5</td>\n      <td>2019-01-01 04:00:00</td>\n      <td>22690.7462</td>\n      <td>23591.0354</td>\n      <td>25189.1324</td>\n      <td>27358.4166</td>\n      <td>30036.4144</td>\n      <td>111560.0</td>\n      <td>25773.1490</td>\n    </tr>\n    <tr>\n      <th>...</th>\n      <td>...</td>\n      <td>...</td>\n      <td>...</td>\n      <td>...</td>\n      <td>...</td>\n      <td>...</td>\n      <td>...</td>\n      <td>...</td>\n      <td>...</td>\n    </tr>\n    <tr>\n      <th>8755</th>\n      <td>8756</td>\n      <td>2019-12-31 19:00:00</td>\n      <td>6114.0537</td>\n      <td>6356.6379</td>\n      <td>6787.2474</td>\n      <td>7371.7641</td>\n      <td>8093.3544</td>\n      <td>30060.0</td>\n      <td>6944.6115</td>\n    </tr>\n    <tr>\n      <th>8756</th>\n      <td>8757</td>\n      <td>2019-12-31 20:00:00</td>\n      <td>5109.2824</td>\n      <td>5312.0008</td>\n      <td>5671.8448</td>\n      <td>6160.3032</td>\n      <td>6763.3088</td>\n      <td>25120.0</td>\n      <td>5803.3480</td>\n    </tr>\n    <tr>\n      <th>8757</th>\n      <td>8758</td>\n      <td>2019-12-31 21:00:00</td>\n      <td>4417.7394</td>\n      <td>4593.0198</td>\n      <td>4904.1588</td>\n      <td>5326.5042</td>\n      <td>5847.8928</td>\n      <td>21720.0</td>\n      <td>5017.8630</td>\n    </tr>\n    <tr>\n      <th>8758</th>\n      <td>8759</td>\n      <td>2019-12-31 22:00:00</td>\n      <td>3856.3692</td>\n      <td>4009.3764</td>\n      <td>4280.9784</td>\n      <td>4649.6556</td>\n      <td>5104.7904</td>\n      <td>18960.0</td>\n      <td>4380.2340</td>\n    </tr>\n    <tr>\n      <th>8759</th>\n      <td>8760</td>\n      <td>2019-12-31 23:00:00</td>\n      <td>3396.6965</td>\n      <td>3531.4655</td>\n      <td>3770.6930</td>\n      <td>4095.4245</td>\n      <td>4496.3080</td>\n      <td>16700.0</td>\n      <td>3858.1175</td>\n    </tr>\n  </tbody>\n</table>\n<p>8760 rows × 9 columns</p>\n</div>"
     },
     "execution_count": 31,
     "metadata": {},
     "output_type": "execute_result"
    }
   ],
   "source": [
    "# add mean column\n",
    "df_wind['wind_2016-2020_mean'] = df_wind.iloc[:,2:7].mean(axis=1)\n",
    "df_wind"
   ],
   "metadata": {
    "collapsed": false,
    "pycharm": {
     "name": "#%%\n"
    }
   }
  },
  {
   "cell_type": "code",
   "execution_count": 137,
   "outputs": [],
   "source": [
    "# x: pv_mean and wind_mean\n",
    "x = pd.concat([df_pv[['pv_2016-2020_mean']],df_wind[['wind_2016-2020_mean']]],axis=1)\n",
    "# y: price_mean\n",
    "y = df_price[[\"price_2016-2020_mean\"]].iloc[:-1,:]\n",
    "tt = pd.concat([y,x], axis=1)"
   ],
   "metadata": {
    "collapsed": false,
    "pycharm": {
     "name": "#%%\n"
    }
   }
  },
  {
   "cell_type": "code",
   "execution_count": 142,
   "outputs": [
    {
     "data": {
      "text/plain": "(1, 1)"
     },
     "execution_count": 142,
     "metadata": {},
     "output_type": "execute_result"
    }
   ],
   "source": [
    "a = x.iloc[1:2,1:]\n",
    "a.shape\n",
    "b = y[1:2]\n",
    "b.shape"
   ],
   "metadata": {
    "collapsed": false,
    "pycharm": {
     "name": "#%%\n"
    }
   }
  },
  {
   "cell_type": "code",
   "execution_count": 145,
   "outputs": [
    {
     "data": {
      "text/plain": "   price_2016-2020_mean\n1                 1.012",
      "text/html": "<div>\n<style scoped>\n    .dataframe tbody tr th:only-of-type {\n        vertical-align: middle;\n    }\n\n    .dataframe tbody tr th {\n        vertical-align: top;\n    }\n\n    .dataframe thead th {\n        text-align: right;\n    }\n</style>\n<table border=\"1\" class=\"dataframe\">\n  <thead>\n    <tr style=\"text-align: right;\">\n      <th></th>\n      <th>price_2016-2020_mean</th>\n    </tr>\n  </thead>\n  <tbody>\n    <tr>\n      <th>1</th>\n      <td>1.012</td>\n    </tr>\n  </tbody>\n</table>\n</div>"
     },
     "execution_count": 145,
     "metadata": {},
     "output_type": "execute_result"
    }
   ],
   "source": [],
   "metadata": {
    "collapsed": false,
    "pycharm": {
     "name": "#%%\n"
    }
   }
  },
  {
   "cell_type": "code",
   "execution_count": 143,
   "outputs": [
    {
     "ename": "ValueError",
     "evalue": "resids must contain at least 2 elements",
     "output_type": "error",
     "traceback": [
      "\u001B[1;31m---------------------------------------------------------------------------\u001B[0m",
      "\u001B[1;31mValueError\u001B[0m                                Traceback (most recent call last)",
      "Input \u001B[1;32mIn [143]\u001B[0m, in \u001B[0;36m<cell line: 3>\u001B[1;34m()\u001B[0m\n\u001B[0;32m      1\u001B[0m lm \u001B[38;5;241m=\u001B[39m sm\u001B[38;5;241m.\u001B[39mOLS(b,a)\n\u001B[0;32m      2\u001B[0m res \u001B[38;5;241m=\u001B[39m lm\u001B[38;5;241m.\u001B[39mfit()\n\u001B[1;32m----> 3\u001B[0m \u001B[38;5;28mprint\u001B[39m(\u001B[43mres\u001B[49m\u001B[38;5;241;43m.\u001B[39;49m\u001B[43msummary\u001B[49m\u001B[43m(\u001B[49m\u001B[43m)\u001B[49m)\n",
      "File \u001B[1;32m~\\anaconda3\\envs\\fim_ml\\lib\\site-packages\\statsmodels\\regression\\linear_model.py:2689\u001B[0m, in \u001B[0;36mRegressionResults.summary\u001B[1;34m(self, yname, xname, title, alpha, slim)\u001B[0m\n\u001B[0;32m   2686\u001B[0m alpha \u001B[38;5;241m=\u001B[39m float_like(alpha, \u001B[38;5;124m\"\u001B[39m\u001B[38;5;124malpha\u001B[39m\u001B[38;5;124m\"\u001B[39m, optional\u001B[38;5;241m=\u001B[39m\u001B[38;5;28;01mFalse\u001B[39;00m)\n\u001B[0;32m   2687\u001B[0m slim \u001B[38;5;241m=\u001B[39m bool_like(slim, \u001B[38;5;124m\"\u001B[39m\u001B[38;5;124mslim\u001B[39m\u001B[38;5;124m\"\u001B[39m, optional\u001B[38;5;241m=\u001B[39m\u001B[38;5;28;01mFalse\u001B[39;00m, strict\u001B[38;5;241m=\u001B[39m\u001B[38;5;28;01mTrue\u001B[39;00m)\n\u001B[1;32m-> 2689\u001B[0m jb, jbpv, skew, kurtosis \u001B[38;5;241m=\u001B[39m \u001B[43mjarque_bera\u001B[49m\u001B[43m(\u001B[49m\u001B[38;5;28;43mself\u001B[39;49m\u001B[38;5;241;43m.\u001B[39;49m\u001B[43mwresid\u001B[49m\u001B[43m)\u001B[49m\n\u001B[0;32m   2690\u001B[0m omni, omnipv \u001B[38;5;241m=\u001B[39m omni_normtest(\u001B[38;5;28mself\u001B[39m\u001B[38;5;241m.\u001B[39mwresid)\n\u001B[0;32m   2692\u001B[0m eigvals \u001B[38;5;241m=\u001B[39m \u001B[38;5;28mself\u001B[39m\u001B[38;5;241m.\u001B[39meigenvals\n",
      "File \u001B[1;32m~\\anaconda3\\envs\\fim_ml\\lib\\site-packages\\statsmodels\\stats\\stattools.py:123\u001B[0m, in \u001B[0;36mjarque_bera\u001B[1;34m(resids, axis)\u001B[0m\n\u001B[0;32m    121\u001B[0m resids \u001B[38;5;241m=\u001B[39m np\u001B[38;5;241m.\u001B[39matleast_1d(np\u001B[38;5;241m.\u001B[39masarray(resids, dtype\u001B[38;5;241m=\u001B[39m\u001B[38;5;28mfloat\u001B[39m))\n\u001B[0;32m    122\u001B[0m \u001B[38;5;28;01mif\u001B[39;00m resids\u001B[38;5;241m.\u001B[39msize \u001B[38;5;241m<\u001B[39m \u001B[38;5;241m2\u001B[39m:\n\u001B[1;32m--> 123\u001B[0m     \u001B[38;5;28;01mraise\u001B[39;00m \u001B[38;5;167;01mValueError\u001B[39;00m(\u001B[38;5;124m\"\u001B[39m\u001B[38;5;124mresids must contain at least 2 elements\u001B[39m\u001B[38;5;124m\"\u001B[39m)\n\u001B[0;32m    124\u001B[0m \u001B[38;5;66;03m# Calculate residual skewness and kurtosis\u001B[39;00m\n\u001B[0;32m    125\u001B[0m skew \u001B[38;5;241m=\u001B[39m stats\u001B[38;5;241m.\u001B[39mskew(resids, axis\u001B[38;5;241m=\u001B[39maxis)\n",
      "\u001B[1;31mValueError\u001B[0m: resids must contain at least 2 elements"
     ]
    }
   ],
   "source": [
    "lm = sm.OLS(b,a)\n",
    "res = lm.fit()\n",
    "print(res.summary())"
   ],
   "metadata": {
    "collapsed": false,
    "pycharm": {
     "name": "#%%\n"
    }
   }
  },
  {
   "cell_type": "markdown",
   "source": [],
   "metadata": {
    "collapsed": false,
    "pycharm": {
     "name": "#%% md\n"
    }
   }
  },
  {
   "cell_type": "code",
   "execution_count": 141,
   "outputs": [
    {
     "name": "stdout",
     "output_type": "stream",
     "text": [
      "a:\n",
      "    pv_2016-2020_mean  wind_2016-2020_mean\n",
      "1                0.0           19983.6625\n",
      "2                0.0           22215.3640\n",
      "pred:\n",
      " 1   -0.489088\n",
      "2   -0.543708\n",
      "dtype: float64\n",
      "true:\n",
      "    price_2016-2020_mean\n",
      "1                 1.012\n",
      "2                -1.894\n"
     ]
    }
   ],
   "source": [
    "print('a:\\n', a)\n",
    "print(\"pred:\\n\", res.predict(a))\n",
    "print(\"true:\\n\", b)"
   ],
   "metadata": {
    "collapsed": false,
    "pycharm": {
     "name": "#%%\n"
    }
   }
  }
 ],
 "metadata": {
  "kernelspec": {
   "name": "fim_ml",
   "language": "python",
   "display_name": "fim_ml"
  },
  "language_info": {
   "codemirror_mode": {
    "name": "ipython",
    "version": 2
   },
   "file_extension": ".py",
   "mimetype": "text/x-python",
   "name": "python",
   "nbconvert_exporter": "python",
   "pygments_lexer": "ipython2",
   "version": "2.7.6"
  }
 },
 "nbformat": 4,
 "nbformat_minor": 0
}