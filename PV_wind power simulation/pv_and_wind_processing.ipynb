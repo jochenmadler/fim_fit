{
 "cells": [
  {
   "cell_type": "code",
   "execution_count": 1,
   "outputs": [],
   "source": [
    "# imports\n",
    "import pandas as pd\n",
    "import numpy as np\n",
    "from datetime import datetime, timedelta\n",
    "import os"
   ],
   "metadata": {
    "collapsed": false,
    "pycharm": {
     "name": "#%%\n"
    }
   }
  },
  {
   "cell_type": "code",
   "execution_count": 2,
   "outputs": [],
   "source": [
    "# define function to transform hourly to quarter hourly data\n",
    "def hourly_to_quarter_hourly_df(df_h):\n",
    "    # for each row, add three empty ones\n",
    "    empty_rows = 4\n",
    "    df_h.index = range(0, empty_rows*len(df_h), empty_rows)\n",
    "    df_h = df_h.reindex(index=range(empty_rows*len(df_h)))\n",
    "\n",
    "    # generate quarter_hourly interval series from df_h's start date on\n",
    "    r = df_h.time[0].split(\" \", 1)[0]\n",
    "    day, month, year = int(r.split(\"-\")[2]), int(r.split(\"-\")[1]), int(r.split(\"-\")[0])\n",
    "    start_date = datetime(year,month,day)\n",
    "    quarter_hourly = [start_date + timedelta(minutes=15*x) for x in range(0,len(df_h))]\n",
    "    quarter_hourly_list = [x.strftime('%Y-%m-%d %H:%M') for x in quarter_hourly]\n",
    "    # generate dataframe\n",
    "    quarter_hourly_list = pd.DataFrame(quarter_hourly_list, columns=['time'])\n",
    "\n",
    "    # insert quarter-hourly list into df_h -> df_qh\n",
    "    df_h['time'] = quarter_hourly_list['time']\n",
    "    df_qh = df_h[['time', 'electricity']]\n",
    "\n",
    "    # interpolate hourly to quarter-hourly values: linear interpolation, then divide values by 4\n",
    "    df_qh_output = df_qh.interpolate(method='linear')\n",
    "    df_qh_output = df_qh_output.assign(electricity = lambda x: (x['electricity'] / 4))\n",
    "\n",
    "    return df_qh_output"
   ],
   "metadata": {
    "collapsed": false,
    "pycharm": {
     "name": "#%%\n"
    }
   }
  },
  {
   "cell_type": "code",
   "execution_count": 3,
   "outputs": [],
   "source": [
    "#\n",
    "def generate_output_df(file_dir):\n",
    "    # directory navigation\n",
    "    os.chdir(file_dir)\n",
    "    print(\"Current directory: {}\".format(os.getcwd()))\n",
    "    print(\"Generating df from {} files\\n...\".format(len(os.listdir())))\n",
    "\n",
    "    # generate empty df\n",
    "    file0 = os.listdir()[0]\n",
    "    t0 = pd.read_csv(file0, sep=\",\", skiprows=3)\n",
    "    t0 = t0[[\"time\", \"electricity\"]]\n",
    "    df = hourly_to_quarter_hourly_df(t0)[[\"time\"]]\n",
    "\n",
    "    # iterate over files and append data to df\n",
    "    for file in os.listdir():\n",
    "        # obtain string from file name\n",
    "        s = file.split(\".\", 1)[0]\n",
    "        # read in .csv\n",
    "        t = pd.read_csv(file, sep=\",\", skiprows=3)\n",
    "        t = t[[\"time\", \"electricity\"]]\n",
    "        # transform t from hourly to quarter_hourly and extract electricity data\n",
    "        t_new = hourly_to_quarter_hourly_df(t)[[\"electricity\"]]\n",
    "        # append it to df\n",
    "        df[s] = t_new\n",
    "\n",
    "    # navigate back to parent dir\n",
    "    os.chdir(\"..\")\n",
    "    print('Navigating back to parent folder:\\n{}\\n...'.format(os.getcwd()))\n",
    "\n",
    "    return df"
   ],
   "metadata": {
    "collapsed": false,
    "pycharm": {
     "name": "#%%\n"
    }
   }
  },
  {
   "cell_type": "code",
   "execution_count": 8,
   "outputs": [],
   "source": [
    "# write df to excel file\n",
    "def print_df_to_excel(df, filename):\n",
    "    print(\"Writing df to excel file {}.xlsx\\n...\".format(filename))\n",
    "    df.to_excel(\"{}.xlsx\".format(filename), index=False, header=True)\n",
    "    print(\"Done.\")\n",
    "    return"
   ],
   "metadata": {
    "collapsed": false,
    "pycharm": {
     "name": "#%%\n"
    }
   }
  },
  {
   "cell_type": "code",
   "execution_count": 5,
   "outputs": [
    {
     "data": {
      "text/plain": "'C:\\\\Users\\\\joche\\\\ProgrammingProjects\\\\04 FIM-RC\\\\PV_wind power simulation'"
     },
     "execution_count": 5,
     "metadata": {},
     "output_type": "execute_result"
    }
   ],
   "source": [
    "# ----------------------------------------- ACTION SPACE -------------------------------------------------#\n",
    "# specify path and navigate to files\n",
    "root_dir = \"C:\\\\Users\\\\joche\\\\ProgrammingProjects\\\\04 FIM-RC\\\\PV_wind power simulation\"\n",
    "# navigate to root dir\n",
    "os.chdir(root_dir)\n",
    "os.getcwd()"
   ],
   "metadata": {
    "collapsed": false,
    "pycharm": {
     "name": "#%%\n"
    }
   }
  },
  {
   "cell_type": "code",
   "execution_count": 10,
   "outputs": [
    {
     "name": "stdout",
     "output_type": "stream",
     "text": [
      "Current directory: C:\\Users\\joche\\ProgrammingProjects\\04 FIM-RC\\PV_wind power simulation\\pv_data\n",
      "Generating df from 16 files\n",
      "...\n",
      "Navigating back to parent folder:\n",
      "C:\\Users\\joche\\ProgrammingProjects\\04 FIM-RC\\PV_wind power simulation\n",
      "...\n",
      "Writing df to excel file pv_output.xlsx\n",
      "...\n",
      "Done.\n"
     ]
    }
   ],
   "source": [
    "# PV\n",
    "df_pv = generate_output_df(file_dir=\"pv_data\")\n",
    "#df_pv\n",
    "print_df_to_excel(df=df_pv, filename=\"pv_output\")"
   ],
   "metadata": {
    "collapsed": false,
    "pycharm": {
     "name": "#%%\n"
    }
   }
  },
  {
   "cell_type": "code",
   "execution_count": 9,
   "outputs": [
    {
     "name": "stdout",
     "output_type": "stream",
     "text": [
      "Current directory: C:\\Users\\joche\\ProgrammingProjects\\04 FIM-RC\\PV_wind power simulation\\wind_data\n",
      "Generating df from 16 files\n",
      "...\n",
      "Navigating back to parent folder:\n",
      "C:\\Users\\joche\\ProgrammingProjects\\04 FIM-RC\\PV_wind power simulation\n",
      "...\n",
      "Writing df to excel file wind_output.xlsx\n",
      "...\n",
      "Done.\n"
     ]
    }
   ],
   "source": [
    "# Wind\n",
    "df_wind = generate_output_df(file_dir=\"wind_data\")\n",
    "#df_wind\n",
    "print_df_to_excel(df=df_wind, filename=\"wind_output\")"
   ],
   "metadata": {
    "collapsed": false,
    "pycharm": {
     "name": "#%%\n"
    }
   }
  },
  {
   "cell_type": "code",
   "execution_count": null,
   "outputs": [],
   "source": [],
   "metadata": {
    "collapsed": false,
    "pycharm": {
     "name": "#%%\n"
    }
   }
  }
 ],
 "metadata": {
  "kernelspec": {
   "display_name": "Python 3",
   "language": "python",
   "name": "python3"
  },
  "language_info": {
   "codemirror_mode": {
    "name": "ipython",
    "version": 2
   },
   "file_extension": ".py",
   "mimetype": "text/x-python",
   "name": "python",
   "nbconvert_exporter": "python",
   "pygments_lexer": "ipython2",
   "version": "2.7.6"
  }
 },
 "nbformat": 4,
 "nbformat_minor": 0
}