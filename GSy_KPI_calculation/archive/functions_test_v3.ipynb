{
 "cells": [
  {
   "cell_type": "code",
   "execution_count": 29,
   "metadata": {
    "pycharm": {
     "name": "#%%\n"
    }
   },
   "outputs": [
    {
     "name": "stdout",
     "output_type": "stream",
     "text": [
      "The autoreload extension is already loaded. To reload it, use:\n",
      "  %reload_ext autoreload\n"
     ]
    }
   ],
   "source": [
    "# set up\n",
    "import os\n",
    "import time\n",
    "import numpy as np\n",
    "import pandas as pd\n",
    "import functools as func\n",
    "import functions_v3 as f\n",
    "import functions_v3_v2 as f_v2\n",
    "import matplotlib.pyplot as plt\n",
    "import seaborn as sns\n",
    "sns.set_style('white')\n",
    "home_path = \"C:\\\\Users\\joche\\FIM Kernkompetenzzentrum\\Projekt VIdES - Dokumente\\General\\\\07_Arbeitsordner\\\\04_Ergebnisse\\\\20220920_Ergebnisse_4_Wochen\"\n",
    "os.chdir(home_path)\n",
    "%load_ext autoreload\n",
    "%autoreload 2"
   ]
  },
  {
   "cell_type": "markdown",
   "source": [
    "#### KPI 4: CO2 emissions\n",
    "---\n",
    "Combined data frame for every entity in use case with:\n",
    "- grey_energy [kWh] -> to be multiplied by co2 emission factor\n",
    "- grey_energy [%] -> share grey energy consumed (1 - share renewable)"
   ],
   "metadata": {
    "collapsed": false,
    "pycharm": {
     "name": "#%% md\n"
    }
   }
  },
  {
   "cell_type": "code",
   "execution_count": 30,
   "outputs": [],
   "source": [
    "# define function for execution convenience: use case 2 and 6\n",
    "def calculate_kpi_3_4(use_case_string):\n",
    "    os.chdir(home_path)\n",
    "    os.chdir(use_case_string)\n",
    "    use_case_home_path = os.getcwd()\n",
    "    print(f'-- use case {f.get_use_case_nr(use_case_home_path)} --')\n",
    "    start = time.time()\n",
    "    df = f.co2_emissions(use_case_home_path)\n",
    "    print(f'time: {round(time.time() - start, 2)} seconds')\n",
    "    return df\n",
    "\n",
    "# define function for execution convenience: use case 1\n",
    "def calculate_kpi_3_4_old(use_case_string):\n",
    "    os.chdir(home_path)\n",
    "    os.chdir(use_case_string)\n",
    "    use_case_home_path = os.getcwd()\n",
    "    print(f'-- use case {f_v2.get_use_case_nr(use_case_home_path)} --')\n",
    "    start = time.time()\n",
    "    df = f_v2.co2_emissions(use_case_home_path)\n",
    "    print(f'time: {round(time.time() - start, 2)} seconds')\n",
    "    return df"
   ],
   "metadata": {
    "collapsed": false,
    "pycharm": {
     "name": "#%%\n"
    }
   }
  },
  {
   "cell_type": "code",
   "execution_count": null,
   "outputs": [],
   "source": [
    "df0 = calculate_kpi_3_4('Base_Case')\n",
    "df0"
   ],
   "metadata": {
    "collapsed": false,
    "pycharm": {
     "name": "#%%\n",
     "is_executing": true
    }
   }
  },
  {
   "cell_type": "code",
   "execution_count": null,
   "outputs": [],
   "source": [
    "df0.to_excel('kpi_3_4_use_case_0.xlsx')"
   ],
   "metadata": {
    "collapsed": false,
    "pycharm": {
     "name": "#%%\n"
    }
   }
  },
  {
   "cell_type": "code",
   "execution_count": null,
   "outputs": [],
   "source": [
    "df1 = calculate_kpi_3_4('use_case_1/')\n",
    "df1"
   ],
   "metadata": {
    "collapsed": false,
    "pycharm": {
     "name": "#%%\n",
     "is_executing": true
    }
   }
  },
  {
   "cell_type": "code",
   "execution_count": 31,
   "outputs": [
    {
     "name": "stdout",
     "output_type": "stream",
     "text": [
      "-- use case 1 --\n",
      "time: 112.84 seconds\n"
     ]
    },
    {
     "data": {
      "text/plain": "                  region-1-ec0-house-wind_grey_energy [kWh]  \\\n2030-01-01T00:00                                -126.140086   \n2030-01-01T01:00                                -121.633744   \n2030-01-01T02:00                                -119.323853   \n2030-01-01T03:00                                -119.464280   \n2030-01-01T04:00                                -122.984529   \n...                                                     ...   \n2030-10-07T19:00                                -230.799438   \n2030-10-07T20:00                                -224.197998   \n2030-10-07T21:00                                -214.679024   \n2030-10-07T22:00                                -213.491169   \n2030-10-07T23:00                                -205.954777   \n\n                  region-1-ec0-house-wind_grey_energy [%]  \\\n2030-01-01T00:00                                      0.0   \n2030-01-01T01:00                                      0.0   \n2030-01-01T02:00                                      0.0   \n2030-01-01T03:00                                      0.0   \n2030-01-01T04:00                                      0.0   \n...                                                   ...   \n2030-10-07T19:00                                      0.0   \n2030-10-07T20:00                                      0.0   \n2030-10-07T21:00                                      0.0   \n2030-10-07T22:00                                      0.0   \n2030-10-07T23:00                                      0.0   \n\n                  region-1-ec0-house-wind_region-1-id-1-wind-feedin_grey_energy [kWh]  \\\n2030-01-01T00:00                                               -0.0                     \n2030-01-01T01:00                                               -0.0                     \n2030-01-01T02:00                                               -0.0                     \n2030-01-01T03:00                                               -0.0                     \n2030-01-01T04:00                                               -0.0                     \n...                                                             ...                     \n2030-10-07T19:00                                               -0.0                     \n2030-10-07T20:00                                               -0.0                     \n2030-10-07T21:00                                               -0.0                     \n2030-10-07T22:00                                               -0.0                     \n2030-10-07T23:00                                               -0.0                     \n\n                  region-1-ec0-house-wind_region-1-id-1-wind-feedin_grey_energy [%]  \\\n2030-01-01T00:00                                                0.0                   \n2030-01-01T01:00                                                0.0                   \n2030-01-01T02:00                                                0.0                   \n2030-01-01T03:00                                                0.0                   \n2030-01-01T04:00                                                0.0                   \n...                                                             ...                   \n2030-10-07T19:00                                                0.0                   \n2030-10-07T20:00                                                0.0                   \n2030-10-07T21:00                                                0.0                   \n2030-10-07T22:00                                                0.0                   \n2030-10-07T23:00                                                0.0                   \n\n                  region-1-ec1-house-0_grey_energy [kWh]  \\\n2030-01-01T00:00                                0.607733   \n2030-01-01T01:00                                0.608267   \n2030-01-01T02:00                                0.655733   \n2030-01-01T03:00                                0.675467   \n2030-01-01T04:00                                0.583467   \n...                                                  ...   \n2030-10-07T19:00                                1.206133   \n2030-10-07T20:00                                1.107467   \n2030-10-07T21:00                                0.901067   \n2030-10-07T22:00                                1.056800   \n2030-10-07T23:00                                1.263467   \n\n                  region-1-ec1-house-0_grey_energy [%]  \\\n2030-01-01T00:00                              0.622659   \n2030-01-01T01:00                              0.638371   \n2030-01-01T02:00                              0.631698   \n2030-01-01T03:00                              0.648326   \n2030-01-01T04:00                              0.678785   \n...                                                ...   \n2030-10-07T19:00                              0.138386   \n2030-10-07T20:00                              0.120366   \n2030-10-07T21:00                              0.174200   \n2030-10-07T22:00                              0.153921   \n2030-10-07T23:00                              0.135021   \n\n                  region-1-ec1-house-1_grey_energy [kWh]  \\\n2030-01-01T00:00                                0.611739   \n2030-01-01T01:00                                0.625584   \n2030-01-01T02:00                                0.667720   \n2030-01-01T03:00                                0.680963   \n2030-01-01T04:00                                0.587924   \n...                                                  ...   \n2030-10-07T19:00                                1.305892   \n2030-10-07T20:00                                1.190875   \n2030-10-07T21:00                                0.970607   \n2030-10-07T22:00                                1.119091   \n2030-10-07T23:00                                1.325593   \n\n                  region-1-ec1-house-1_grey_energy [%]  \\\n2030-01-01T00:00                              0.622659   \n2030-01-01T01:00                              0.638371   \n2030-01-01T02:00                              0.631698   \n2030-01-01T03:00                              0.648326   \n2030-01-01T04:00                              0.678785   \n...                                                ...   \n2030-10-07T19:00                              0.138386   \n2030-10-07T20:00                              0.120366   \n2030-10-07T21:00                              0.174200   \n2030-10-07T22:00                              0.153921   \n2030-10-07T23:00                              0.135021   \n\n                  region-1-ec1-house-10_grey_energy [kWh]  \\\n2030-01-01T00:00                                 0.706933   \n2030-01-01T01:00                                 0.666133   \n2030-01-01T02:00                                 0.712000   \n2030-01-01T03:00                                 0.660000   \n2030-01-01T04:00                                 1.209867   \n...                                                   ...   \n2030-10-07T19:00                                 2.069333   \n2030-10-07T20:00                                 1.376533   \n2030-10-07T21:00                                 1.458933   \n2030-10-07T22:00                                 1.548800   \n2030-10-07T23:00                                 0.849067   \n\n                  region-1-ec1-house-10_grey_energy [%]  ...  \\\n2030-01-01T00:00                               0.622659  ...   \n2030-01-01T01:00                               0.638371  ...   \n2030-01-01T02:00                               0.631698  ...   \n2030-01-01T03:00                               0.648326  ...   \n2030-01-01T04:00                               0.678785  ...   \n...                                                 ...  ...   \n2030-10-07T19:00                               0.138386  ...   \n2030-10-07T20:00                               0.120366  ...   \n2030-10-07T21:00                               0.174200  ...   \n2030-10-07T22:00                               0.153921  ...   \n2030-10-07T23:00                               0.135021  ...   \n\n                  region-3_grey_energy [kWh]  region-3_grey_energy [%]  \\\n2030-01-01T00:00                   54.315284                  0.397341   \n2030-01-01T01:00                   56.953928                  0.410524   \n2030-01-01T02:00                   52.434191                  0.402946   \n2030-01-01T03:00                   54.225162                  0.416763   \n2030-01-01T04:00                   65.640515                  0.450741   \n...                                      ...                       ...   \n2030-10-07T19:00                  -61.245996                  0.055867   \n2030-10-07T20:00                  -68.157047                  0.046891   \n2030-10-07T21:00                  -61.660294                  0.069142   \n2030-10-07T22:00                  -56.485650                  0.062790   \n2030-10-07T23:00                  -52.947253                  0.055454   \n\n                  region-4_grey_energy [kWh]  region-4_grey_energy [%]  \\\n2030-01-01T00:00                   81.420262                  0.412125   \n2030-01-01T01:00                   92.040916                  0.437648   \n2030-01-01T02:00                   90.228321                  0.434499   \n2030-01-01T03:00                   92.627993                  0.449118   \n2030-01-01T04:00                  105.736089                  0.479289   \n...                                      ...                       ...   \n2030-10-07T19:00                  -65.251708                  0.058227   \n2030-10-07T20:00                  -63.099834                  0.050323   \n2030-10-07T21:00                  -39.307615                  0.077760   \n2030-10-07T22:00                  -49.340074                  0.067129   \n2030-10-07T23:00                  -60.865704                  0.056540   \n\n                  region-5_grey_energy [kWh]  region-5_grey_energy [%]  \\\n2030-01-01T00:00                  121.670530                  0.473123   \n2030-01-01T01:00                  128.731636                  0.492176   \n2030-01-01T02:00                  122.173945                  0.485521   \n2030-01-01T03:00                  131.028267                  0.507536   \n2030-01-01T04:00                  147.227683                  0.543971   \n...                                      ...                       ...   \n2030-10-07T19:00                   55.105452                  0.081383   \n2030-10-07T20:00                   51.434493                  0.070709   \n2030-10-07T21:00                   57.465041                  0.104132   \n2030-10-07T22:00                   52.308619                  0.090157   \n2030-10-07T23:00                   48.348338                  0.078695   \n\n                  region-6_grey_energy [kWh]  region-6_grey_energy [%]  \\\n2030-01-01T00:00                  223.060523                  0.593280   \n2030-01-01T01:00                  226.360310                  0.597113   \n2030-01-01T02:00                  208.066239                  0.583620   \n2030-01-01T03:00                  209.629840                  0.595109   \n2030-01-01T04:00                  236.115269                  0.619793   \n...                                      ...                       ...   \n2030-10-07T19:00                  173.833062                  0.110491   \n2030-10-07T20:00                  169.151213                  0.098520   \n2030-10-07T21:00                  174.015493                  0.144117   \n2030-10-07T22:00                  160.119820                  0.121075   \n2030-10-07T23:00                  140.462787                  0.101429   \n\n                  germany_grey_energy [kWh]  germany_grey_energy [%]  \n2030-01-01T00:00                 770.863572                 0.486775  \n2030-01-01T01:00                 808.200861                 0.497900  \n2030-01-01T02:00                 767.327944                 0.488968  \n2030-01-01T03:00                 806.917892                 0.506469  \n2030-01-01T04:00                 920.101311                 0.538824  \n...                                     ...                      ...  \n2030-10-07T19:00                 177.525640                 0.083985  \n2030-10-07T20:00                 144.357638                 0.072815  \n2030-10-07T21:00                 210.575423                 0.110378  \n2030-10-07T22:00                 187.562394                 0.094041  \n2030-10-07T23:00                 159.599534                 0.079727  \n\n[672 rows x 3084 columns]",
      "text/html": "<div>\n<style scoped>\n    .dataframe tbody tr th:only-of-type {\n        vertical-align: middle;\n    }\n\n    .dataframe tbody tr th {\n        vertical-align: top;\n    }\n\n    .dataframe thead th {\n        text-align: right;\n    }\n</style>\n<table border=\"1\" class=\"dataframe\">\n  <thead>\n    <tr style=\"text-align: right;\">\n      <th></th>\n      <th>region-1-ec0-house-wind_grey_energy [kWh]</th>\n      <th>region-1-ec0-house-wind_grey_energy [%]</th>\n      <th>region-1-ec0-house-wind_region-1-id-1-wind-feedin_grey_energy [kWh]</th>\n      <th>region-1-ec0-house-wind_region-1-id-1-wind-feedin_grey_energy [%]</th>\n      <th>region-1-ec1-house-0_grey_energy [kWh]</th>\n      <th>region-1-ec1-house-0_grey_energy [%]</th>\n      <th>region-1-ec1-house-1_grey_energy [kWh]</th>\n      <th>region-1-ec1-house-1_grey_energy [%]</th>\n      <th>region-1-ec1-house-10_grey_energy [kWh]</th>\n      <th>region-1-ec1-house-10_grey_energy [%]</th>\n      <th>...</th>\n      <th>region-3_grey_energy [kWh]</th>\n      <th>region-3_grey_energy [%]</th>\n      <th>region-4_grey_energy [kWh]</th>\n      <th>region-4_grey_energy [%]</th>\n      <th>region-5_grey_energy [kWh]</th>\n      <th>region-5_grey_energy [%]</th>\n      <th>region-6_grey_energy [kWh]</th>\n      <th>region-6_grey_energy [%]</th>\n      <th>germany_grey_energy [kWh]</th>\n      <th>germany_grey_energy [%]</th>\n    </tr>\n  </thead>\n  <tbody>\n    <tr>\n      <th>2030-01-01T00:00</th>\n      <td>-126.140086</td>\n      <td>0.0</td>\n      <td>-0.0</td>\n      <td>0.0</td>\n      <td>0.607733</td>\n      <td>0.622659</td>\n      <td>0.611739</td>\n      <td>0.622659</td>\n      <td>0.706933</td>\n      <td>0.622659</td>\n      <td>...</td>\n      <td>54.315284</td>\n      <td>0.397341</td>\n      <td>81.420262</td>\n      <td>0.412125</td>\n      <td>121.670530</td>\n      <td>0.473123</td>\n      <td>223.060523</td>\n      <td>0.593280</td>\n      <td>770.863572</td>\n      <td>0.486775</td>\n    </tr>\n    <tr>\n      <th>2030-01-01T01:00</th>\n      <td>-121.633744</td>\n      <td>0.0</td>\n      <td>-0.0</td>\n      <td>0.0</td>\n      <td>0.608267</td>\n      <td>0.638371</td>\n      <td>0.625584</td>\n      <td>0.638371</td>\n      <td>0.666133</td>\n      <td>0.638371</td>\n      <td>...</td>\n      <td>56.953928</td>\n      <td>0.410524</td>\n      <td>92.040916</td>\n      <td>0.437648</td>\n      <td>128.731636</td>\n      <td>0.492176</td>\n      <td>226.360310</td>\n      <td>0.597113</td>\n      <td>808.200861</td>\n      <td>0.497900</td>\n    </tr>\n    <tr>\n      <th>2030-01-01T02:00</th>\n      <td>-119.323853</td>\n      <td>0.0</td>\n      <td>-0.0</td>\n      <td>0.0</td>\n      <td>0.655733</td>\n      <td>0.631698</td>\n      <td>0.667720</td>\n      <td>0.631698</td>\n      <td>0.712000</td>\n      <td>0.631698</td>\n      <td>...</td>\n      <td>52.434191</td>\n      <td>0.402946</td>\n      <td>90.228321</td>\n      <td>0.434499</td>\n      <td>122.173945</td>\n      <td>0.485521</td>\n      <td>208.066239</td>\n      <td>0.583620</td>\n      <td>767.327944</td>\n      <td>0.488968</td>\n    </tr>\n    <tr>\n      <th>2030-01-01T03:00</th>\n      <td>-119.464280</td>\n      <td>0.0</td>\n      <td>-0.0</td>\n      <td>0.0</td>\n      <td>0.675467</td>\n      <td>0.648326</td>\n      <td>0.680963</td>\n      <td>0.648326</td>\n      <td>0.660000</td>\n      <td>0.648326</td>\n      <td>...</td>\n      <td>54.225162</td>\n      <td>0.416763</td>\n      <td>92.627993</td>\n      <td>0.449118</td>\n      <td>131.028267</td>\n      <td>0.507536</td>\n      <td>209.629840</td>\n      <td>0.595109</td>\n      <td>806.917892</td>\n      <td>0.506469</td>\n    </tr>\n    <tr>\n      <th>2030-01-01T04:00</th>\n      <td>-122.984529</td>\n      <td>0.0</td>\n      <td>-0.0</td>\n      <td>0.0</td>\n      <td>0.583467</td>\n      <td>0.678785</td>\n      <td>0.587924</td>\n      <td>0.678785</td>\n      <td>1.209867</td>\n      <td>0.678785</td>\n      <td>...</td>\n      <td>65.640515</td>\n      <td>0.450741</td>\n      <td>105.736089</td>\n      <td>0.479289</td>\n      <td>147.227683</td>\n      <td>0.543971</td>\n      <td>236.115269</td>\n      <td>0.619793</td>\n      <td>920.101311</td>\n      <td>0.538824</td>\n    </tr>\n    <tr>\n      <th>...</th>\n      <td>...</td>\n      <td>...</td>\n      <td>...</td>\n      <td>...</td>\n      <td>...</td>\n      <td>...</td>\n      <td>...</td>\n      <td>...</td>\n      <td>...</td>\n      <td>...</td>\n      <td>...</td>\n      <td>...</td>\n      <td>...</td>\n      <td>...</td>\n      <td>...</td>\n      <td>...</td>\n      <td>...</td>\n      <td>...</td>\n      <td>...</td>\n      <td>...</td>\n      <td>...</td>\n    </tr>\n    <tr>\n      <th>2030-10-07T19:00</th>\n      <td>-230.799438</td>\n      <td>0.0</td>\n      <td>-0.0</td>\n      <td>0.0</td>\n      <td>1.206133</td>\n      <td>0.138386</td>\n      <td>1.305892</td>\n      <td>0.138386</td>\n      <td>2.069333</td>\n      <td>0.138386</td>\n      <td>...</td>\n      <td>-61.245996</td>\n      <td>0.055867</td>\n      <td>-65.251708</td>\n      <td>0.058227</td>\n      <td>55.105452</td>\n      <td>0.081383</td>\n      <td>173.833062</td>\n      <td>0.110491</td>\n      <td>177.525640</td>\n      <td>0.083985</td>\n    </tr>\n    <tr>\n      <th>2030-10-07T20:00</th>\n      <td>-224.197998</td>\n      <td>0.0</td>\n      <td>-0.0</td>\n      <td>0.0</td>\n      <td>1.107467</td>\n      <td>0.120366</td>\n      <td>1.190875</td>\n      <td>0.120366</td>\n      <td>1.376533</td>\n      <td>0.120366</td>\n      <td>...</td>\n      <td>-68.157047</td>\n      <td>0.046891</td>\n      <td>-63.099834</td>\n      <td>0.050323</td>\n      <td>51.434493</td>\n      <td>0.070709</td>\n      <td>169.151213</td>\n      <td>0.098520</td>\n      <td>144.357638</td>\n      <td>0.072815</td>\n    </tr>\n    <tr>\n      <th>2030-10-07T21:00</th>\n      <td>-214.679024</td>\n      <td>0.0</td>\n      <td>-0.0</td>\n      <td>0.0</td>\n      <td>0.901067</td>\n      <td>0.174200</td>\n      <td>0.970607</td>\n      <td>0.174200</td>\n      <td>1.458933</td>\n      <td>0.174200</td>\n      <td>...</td>\n      <td>-61.660294</td>\n      <td>0.069142</td>\n      <td>-39.307615</td>\n      <td>0.077760</td>\n      <td>57.465041</td>\n      <td>0.104132</td>\n      <td>174.015493</td>\n      <td>0.144117</td>\n      <td>210.575423</td>\n      <td>0.110378</td>\n    </tr>\n    <tr>\n      <th>2030-10-07T22:00</th>\n      <td>-213.491169</td>\n      <td>0.0</td>\n      <td>-0.0</td>\n      <td>0.0</td>\n      <td>1.056800</td>\n      <td>0.153921</td>\n      <td>1.119091</td>\n      <td>0.153921</td>\n      <td>1.548800</td>\n      <td>0.153921</td>\n      <td>...</td>\n      <td>-56.485650</td>\n      <td>0.062790</td>\n      <td>-49.340074</td>\n      <td>0.067129</td>\n      <td>52.308619</td>\n      <td>0.090157</td>\n      <td>160.119820</td>\n      <td>0.121075</td>\n      <td>187.562394</td>\n      <td>0.094041</td>\n    </tr>\n    <tr>\n      <th>2030-10-07T23:00</th>\n      <td>-205.954777</td>\n      <td>0.0</td>\n      <td>-0.0</td>\n      <td>0.0</td>\n      <td>1.263467</td>\n      <td>0.135021</td>\n      <td>1.325593</td>\n      <td>0.135021</td>\n      <td>0.849067</td>\n      <td>0.135021</td>\n      <td>...</td>\n      <td>-52.947253</td>\n      <td>0.055454</td>\n      <td>-60.865704</td>\n      <td>0.056540</td>\n      <td>48.348338</td>\n      <td>0.078695</td>\n      <td>140.462787</td>\n      <td>0.101429</td>\n      <td>159.599534</td>\n      <td>0.079727</td>\n    </tr>\n  </tbody>\n</table>\n<p>672 rows × 3084 columns</p>\n</div>"
     },
     "execution_count": 31,
     "metadata": {},
     "output_type": "execute_result"
    }
   ],
   "source": [
    "df1_old = calculate_kpi_3_4_old('use_case_1/')\n",
    "df1_old"
   ],
   "metadata": {
    "collapsed": false,
    "pycharm": {
     "name": "#%%\n"
    }
   }
  },
  {
   "cell_type": "code",
   "execution_count": 32,
   "outputs": [],
   "source": [
    "df1_old.to_excel('kpi_3_4_use_case_1_v3.xlsx')"
   ],
   "metadata": {
    "collapsed": false,
    "pycharm": {
     "name": "#%%\n"
    }
   }
  },
  {
   "cell_type": "code",
   "execution_count": null,
   "outputs": [],
   "source": [
    "df2 = calculate_kpi_3_4('Use_Case_2/')\n",
    "df2"
   ],
   "metadata": {
    "collapsed": false,
    "pycharm": {
     "name": "#%%\n"
    }
   }
  },
  {
   "cell_type": "code",
   "execution_count": null,
   "outputs": [],
   "source": [
    "df2.to_excel('kpi_3_4_use_case_2.xlsx')"
   ],
   "metadata": {
    "collapsed": false,
    "pycharm": {
     "name": "#%%\n"
    }
   }
  },
  {
   "cell_type": "code",
   "execution_count": null,
   "outputs": [],
   "source": [
    "df3 = calculate_kpi_3_4('use_case_3/')\n",
    "df3"
   ],
   "metadata": {
    "collapsed": false,
    "pycharm": {
     "name": "#%%\n"
    }
   }
  },
  {
   "cell_type": "code",
   "execution_count": null,
   "outputs": [],
   "source": [
    "df3.to_excel('kpi_3_4_use_case_3.xlsx')"
   ],
   "metadata": {
    "collapsed": false,
    "pycharm": {
     "name": "#%%\n"
    }
   }
  },
  {
   "cell_type": "code",
   "execution_count": null,
   "outputs": [],
   "source": [
    "df4 = calculate_kpi_3_4('use_case_4/')\n",
    "df4"
   ],
   "metadata": {
    "collapsed": false,
    "pycharm": {
     "name": "#%%\n"
    }
   }
  },
  {
   "cell_type": "code",
   "execution_count": null,
   "outputs": [],
   "source": [
    "df4.to_excel('kpi_3_4_use_case_4.xlsx')"
   ],
   "metadata": {
    "collapsed": false,
    "pycharm": {
     "name": "#%%\n"
    }
   }
  },
  {
   "cell_type": "code",
   "execution_count": null,
   "outputs": [],
   "source": [
    "# use case 5\n",
    "df5 = calculate_kpi_3_4('use_case_5')\n",
    "df5"
   ],
   "metadata": {
    "collapsed": false,
    "pycharm": {
     "name": "#%%\n"
    }
   }
  },
  {
   "cell_type": "code",
   "execution_count": null,
   "outputs": [],
   "source": [
    "df5.to_excel('kpi_3_4_use_case_5.xlsx')"
   ],
   "metadata": {
    "collapsed": false,
    "pycharm": {
     "name": "#%%\n"
    }
   }
  },
  {
   "cell_type": "code",
   "execution_count": null,
   "outputs": [],
   "source": [
    "# use case 6\n",
    "df6 = calculate_kpi_3_4('use_case_6')\n",
    "df6"
   ],
   "metadata": {
    "collapsed": false,
    "pycharm": {
     "name": "#%%\n"
    }
   }
  },
  {
   "cell_type": "code",
   "execution_count": null,
   "outputs": [],
   "source": [
    "df6.to_excel('kpi_3_4_use_case_6.xlsx')"
   ],
   "metadata": {
    "collapsed": false,
    "pycharm": {
     "name": "#%%\n"
    }
   }
  },
  {
   "cell_type": "code",
   "execution_count": null,
   "outputs": [],
   "source": [
    "df6_out = f.share_renewables_aggregate_empty_entities_UC_2_6(df6)\n",
    "df6_out"
   ],
   "metadata": {
    "collapsed": false,
    "pycharm": {
     "name": "#%%\n"
    }
   }
  },
  {
   "cell_type": "code",
   "execution_count": null,
   "outputs": [],
   "source": [
    "df6_out = f.share_renewables_aggregate_empty_entities_UC_2_6(df6)\n",
    "df6_out"
   ],
   "metadata": {
    "collapsed": false,
    "pycharm": {
     "name": "#%%\n"
    }
   }
  }
 ],
 "metadata": {
  "kernelspec": {
   "display_name": "fim_ml",
   "language": "python",
   "name": "fim_ml"
  },
  "language_info": {
   "codemirror_mode": {
    "name": "ipython",
    "version": 3
   },
   "file_extension": ".py",
   "mimetype": "text/x-python",
   "name": "python",
   "nbconvert_exporter": "python",
   "pygments_lexer": "ipython3",
   "version": "3.8.13"
  }
 },
 "nbformat": 4,
 "nbformat_minor": 1
}