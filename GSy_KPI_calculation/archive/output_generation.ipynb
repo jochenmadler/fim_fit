{
 "cells": [
  {
   "cell_type": "code",
   "execution_count": 1,
   "metadata": {
    "collapsed": false,
    "pycharm": {
     "name": "#%%\n"
    }
   },
   "outputs": [],
   "source": [
    "import os\n",
    "import pandas as pd\n",
    "import numpy as np\n",
    "import matplotlib as mpl\n",
    "import matplotlib.pyplot as plt\n",
    "#plt.rc('figure', facecolor='w')\n",
    "from IPython.core.pylabtools import figsize\n",
    "from icecream import ic\n",
    "import seaborn as sns\n",
    "sns.set_style('white')\n",
    "%load_ext autoreload\n",
    "%autoreload 2\n",
    "%matplotlib inline\n",
    "home_path = 'C:\\\\Users\\joche\\FIM Kernkompetenzzentrum\\Projekt VIdES - Dokumente\\General\\\\07_Arbeitsordner\\\\04_Ergebnisse\\\\20220920_Ergebnisse_4_Wochen'\n",
    "os.chdir(home_path)"
   ]
  },
  {
   "cell_type": "code",
   "execution_count": 2,
   "metadata": {
    "collapsed": false,
    "pycharm": {
     "name": "#%%\n"
    }
   },
   "outputs": [],
   "source": [
    "def read_in_files(paths):\n",
    "    uc_dict = {}\n",
    "    paths = [paths] if type(paths) != list else paths\n",
    "    for i in paths:\n",
    "        uc = int(i.split('\\\\')[-1].split('use_case_')[-1][0])\n",
    "        df = pd.read_excel(i, index_col=0)\n",
    "        df.index = pd.to_datetime(df.index, format='%Y-%m-%dT%H:%M')\n",
    "        if len(df) > 672:\n",
    "            df = df.iloc[:672 - len(df),:]\n",
    "        uc_dict[uc] = df\n",
    "    return uc_dict\n",
    "\n",
    "def filter_cols(df, entity):\n",
    "    entity = 'grid' if 'germany' in entity and any('grid' in col for col in df.columns.tolist()) else entity\n",
    "    df_out = df[[f'{entity}_grey_energy [kWh]', f'{entity}_grey_energy [%]']]\n",
    "    return df_out\n",
    "\n",
    "def insert_co2_col(df):\n",
    "    # emission factors based on calculation in: https://fimrc.sharepoint.com/:x:/t/paper-VIdES/EZnJhlevmuVMi3knXpjlRuIBcDw-HWPnGKyYyXgRi7xe6g?e=7Q4Xhm\n",
    "    gCO2e_kWh_green, gCO2e_kWh_grey = 27.8180, 181.79\n",
    "    entity = df.columns.to_list()[0].split('_')[0]\n",
    "    df[f'{entity}_CO2e [t]'] = np.where(df[f'{entity}_grey_energy [kWh]'] >= 0,\n",
    "                                             df[f'{entity}_grey_energy [kWh]'] * gCO2e_kWh_grey / 1e+6,\n",
    "                                             df[f'{entity}_grey_energy [kWh]'] * (-1) * gCO2e_kWh_green / 1e+6)\n",
    "    if 'grid' in entity:\n",
    "        df.columns = [s.replace('grid', 'germany') for s in df.columns.tolist() if 'grid' in s]\n",
    "    return df"
   ]
  },
  {
   "cell_type": "code",
   "execution_count": 3,
   "metadata": {
    "collapsed": false,
    "pycharm": {
     "name": "#%%\n"
    }
   },
   "outputs": [
    {
     "data": {
      "text/plain": [
       "['kpi_3_4_use_case_0.xlsx',\n",
       " 'kpi_3_4_use_case_1_v3.xlsx',\n",
       " 'kpi_3_4_use_case_2_v2.xlsx',\n",
       " 'kpi_3_4_use_case_3.xlsx',\n",
       " 'kpi_3_4_use_case_4.xlsx',\n",
       " 'kpi_3_4_use_case_5.xlsx',\n",
       " 'kpi_3_4_use_case_6_v2.xlsx']"
      ]
     },
     "execution_count": 3,
     "metadata": {},
     "output_type": "execute_result"
    }
   ],
   "source": [
    "# read in all result data frames\n",
    "paths = []\n",
    "for root, dir, file in os.walk(top=home_path+'/results', topdown=True):\n",
    "    paths += [os.path.join(root, f) for f in file if 'kpi_3_4' in f]\n",
    "# TODO: change to manually select relevant files\n",
    "paths = [i for i in paths if not any(x in i for x in ['use_case_1.xlsx', 'use_case_1_v2.xlsx','use_case_2.xlsx', 'use_case_6.xlsx'])]\n",
    "#paths = [i for i in paths if not 'use_case_2.xlsx' in i if not 'use_case_6.xlsx' in i if not 'use_case_1.xlsx' in i]\n",
    "[i.split('\\\\')[-1] for i in paths]"
   ]
  },
  {
   "cell_type": "code",
   "execution_count": 4,
   "metadata": {
    "collapsed": false,
    "pycharm": {
     "name": "#%%\n"
    }
   },
   "outputs": [],
   "source": [
    "# read in all .xslx files\n",
    "uc_dict = read_in_files(paths[:2])"
   ]
  },
  {
   "cell_type": "code",
   "execution_count": 5,
   "metadata": {
    "collapsed": false,
    "pycharm": {
     "is_executing": true,
     "name": "#%%\n"
    }
   },
   "outputs": [
    {
     "data": {
      "image/png": "[encoded data removed]",
      "text/plain": [
       "<Figure size 2160x432 with 2 Axes>"
      ]
     },
     "metadata": {
      "needs_background": "light"
     },
     "output_type": "display_data"
    }
   ],
   "source": [
    "fig, ax = plt.subplots(figsize = (30,6), ncols=len(uc_dict.keys()), sharex=True)\n",
    "for uc in range(len(uc_dict.keys())):\n",
    "    uc_dict[uc][[i for i in uc_dict[uc].columns.tolist() if any(f'region-{x}_grey_energy [k' in i for x in range(1,7))]].sum(axis = 0).plot.bar(ax = ax[uc], title= f'use case {uc}: total grey energy [kWh] per region')\n",
    "    ax[uc].set_xticklabels([f'region-{i}' for i in range(1,7)])\n",
    "plt.tight_layout()\n",
    "plt.show()"
   ]
  },
  {
   "cell_type": "code",
   "execution_count": 6,
   "metadata": {
    "collapsed": false,
    "pycharm": {
     "name": "#%%\n"
    }
   },
   "outputs": [
    {
     "name": "stderr",
     "output_type": "stream",
     "text": [
      "C:\\Users\\joche\\AppData\\Local\\Temp\\ipykernel_25596\\1542408546.py:22: SettingWithCopyWarning: \n",
      "A value is trying to be set on a copy of a slice from a DataFrame.\n",
      "Try using .loc[row_indexer,col_indexer] = value instead\n",
      "\n",
      "See the caveats in the documentation: https://pandas.pydata.org/pandas-docs/stable/user_guide/indexing.html#returning-a-view-versus-a-copy\n",
      "  df[f'{entity}_CO2e [t]'] = np.where(df[f'{entity}_grey_energy [kWh]'] >= 0,\n",
      "C:\\Users\\joche\\AppData\\Local\\Temp\\ipykernel_25596\\1542408546.py:22: SettingWithCopyWarning: \n",
      "A value is trying to be set on a copy of a slice from a DataFrame.\n",
      "Try using .loc[row_indexer,col_indexer] = value instead\n",
      "\n",
      "See the caveats in the documentation: https://pandas.pydata.org/pandas-docs/stable/user_guide/indexing.html#returning-a-view-versus-a-copy\n",
      "  df[f'{entity}_CO2e [t]'] = np.where(df[f'{entity}_grey_energy [kWh]'] >= 0,\n",
      "C:\\Users\\joche\\AppData\\Local\\Temp\\ipykernel_25596\\1542408546.py:22: SettingWithCopyWarning: \n",
      "A value is trying to be set on a copy of a slice from a DataFrame.\n",
      "Try using .loc[row_indexer,col_indexer] = value instead\n",
      "\n",
      "See the caveats in the documentation: https://pandas.pydata.org/pandas-docs/stable/user_guide/indexing.html#returning-a-view-versus-a-copy\n",
      "  df[f'{entity}_CO2e [t]'] = np.where(df[f'{entity}_grey_energy [kWh]'] >= 0,\n",
      "C:\\Users\\joche\\AppData\\Local\\Temp\\ipykernel_25596\\1542408546.py:22: SettingWithCopyWarning: \n",
      "A value is trying to be set on a copy of a slice from a DataFrame.\n",
      "Try using .loc[row_indexer,col_indexer] = value instead\n",
      "\n",
      "See the caveats in the documentation: https://pandas.pydata.org/pandas-docs/stable/user_guide/indexing.html#returning-a-view-versus-a-copy\n",
      "  df[f'{entity}_CO2e [t]'] = np.where(df[f'{entity}_grey_energy [kWh]'] >= 0,\n",
      "C:\\Users\\joche\\AppData\\Local\\Temp\\ipykernel_25596\\1542408546.py:22: SettingWithCopyWarning: \n",
      "A value is trying to be set on a copy of a slice from a DataFrame.\n",
      "Try using .loc[row_indexer,col_indexer] = value instead\n",
      "\n",
      "See the caveats in the documentation: https://pandas.pydata.org/pandas-docs/stable/user_guide/indexing.html#returning-a-view-versus-a-copy\n",
      "  df[f'{entity}_CO2e [t]'] = np.where(df[f'{entity}_grey_energy [kWh]'] >= 0,\n",
      "C:\\Users\\joche\\AppData\\Local\\Temp\\ipykernel_25596\\1542408546.py:22: SettingWithCopyWarning: \n",
      "A value is trying to be set on a copy of a slice from a DataFrame.\n",
      "Try using .loc[row_indexer,col_indexer] = value instead\n",
      "\n",
      "See the caveats in the documentation: https://pandas.pydata.org/pandas-docs/stable/user_guide/indexing.html#returning-a-view-versus-a-copy\n",
      "  df[f'{entity}_CO2e [t]'] = np.where(df[f'{entity}_grey_energy [kWh]'] >= 0,\n",
      "C:\\Users\\joche\\AppData\\Local\\Temp\\ipykernel_25596\\1542408546.py:22: SettingWithCopyWarning: \n",
      "A value is trying to be set on a copy of a slice from a DataFrame.\n",
      "Try using .loc[row_indexer,col_indexer] = value instead\n",
      "\n",
      "See the caveats in the documentation: https://pandas.pydata.org/pandas-docs/stable/user_guide/indexing.html#returning-a-view-versus-a-copy\n",
      "  df[f'{entity}_CO2e [t]'] = np.where(df[f'{entity}_grey_energy [kWh]'] >= 0,\n",
      "C:\\Users\\joche\\AppData\\Local\\Temp\\ipykernel_25596\\1542408546.py:22: SettingWithCopyWarning: \n",
      "A value is trying to be set on a copy of a slice from a DataFrame.\n",
      "Try using .loc[row_indexer,col_indexer] = value instead\n",
      "\n",
      "See the caveats in the documentation: https://pandas.pydata.org/pandas-docs/stable/user_guide/indexing.html#returning-a-view-versus-a-copy\n",
      "  df[f'{entity}_CO2e [t]'] = np.where(df[f'{entity}_grey_energy [kWh]'] >= 0,\n",
      "C:\\Users\\joche\\AppData\\Local\\Temp\\ipykernel_25596\\1542408546.py:22: SettingWithCopyWarning: \n",
      "A value is trying to be set on a copy of a slice from a DataFrame.\n",
      "Try using .loc[row_indexer,col_indexer] = value instead\n",
      "\n",
      "See the caveats in the documentation: https://pandas.pydata.org/pandas-docs/stable/user_guide/indexing.html#returning-a-view-versus-a-copy\n",
      "  df[f'{entity}_CO2e [t]'] = np.where(df[f'{entity}_grey_energy [kWh]'] >= 0,\n",
      "C:\\Users\\joche\\AppData\\Local\\Temp\\ipykernel_25596\\1542408546.py:22: SettingWithCopyWarning: \n",
      "A value is trying to be set on a copy of a slice from a DataFrame.\n",
      "Try using .loc[row_indexer,col_indexer] = value instead\n",
      "\n",
      "See the caveats in the documentation: https://pandas.pydata.org/pandas-docs/stable/user_guide/indexing.html#returning-a-view-versus-a-copy\n",
      "  df[f'{entity}_CO2e [t]'] = np.where(df[f'{entity}_grey_energy [kWh]'] >= 0,\n",
      "C:\\Users\\joche\\AppData\\Local\\Temp\\ipykernel_25596\\1542408546.py:22: SettingWithCopyWarning: \n",
      "A value is trying to be set on a copy of a slice from a DataFrame.\n",
      "Try using .loc[row_indexer,col_indexer] = value instead\n",
      "\n",
      "See the caveats in the documentation: https://pandas.pydata.org/pandas-docs/stable/user_guide/indexing.html#returning-a-view-versus-a-copy\n",
      "  df[f'{entity}_CO2e [t]'] = np.where(df[f'{entity}_grey_energy [kWh]'] >= 0,\n",
      "C:\\Users\\joche\\AppData\\Local\\Temp\\ipykernel_25596\\1542408546.py:22: SettingWithCopyWarning: \n",
      "A value is trying to be set on a copy of a slice from a DataFrame.\n",
      "Try using .loc[row_indexer,col_indexer] = value instead\n",
      "\n",
      "See the caveats in the documentation: https://pandas.pydata.org/pandas-docs/stable/user_guide/indexing.html#returning-a-view-versus-a-copy\n",
      "  df[f'{entity}_CO2e [t]'] = np.where(df[f'{entity}_grey_energy [kWh]'] >= 0,\n",
      "C:\\Users\\joche\\AppData\\Local\\Temp\\ipykernel_25596\\1542408546.py:22: SettingWithCopyWarning: \n",
      "A value is trying to be set on a copy of a slice from a DataFrame.\n",
      "Try using .loc[row_indexer,col_indexer] = value instead\n",
      "\n",
      "See the caveats in the documentation: https://pandas.pydata.org/pandas-docs/stable/user_guide/indexing.html#returning-a-view-versus-a-copy\n",
      "  df[f'{entity}_CO2e [t]'] = np.where(df[f'{entity}_grey_energy [kWh]'] >= 0,\n",
      "C:\\Users\\joche\\AppData\\Local\\Temp\\ipykernel_25596\\1542408546.py:22: SettingWithCopyWarning: \n",
      "A value is trying to be set on a copy of a slice from a DataFrame.\n",
      "Try using .loc[row_indexer,col_indexer] = value instead\n",
      "\n",
      "See the caveats in the documentation: https://pandas.pydata.org/pandas-docs/stable/user_guide/indexing.html#returning-a-view-versus-a-copy\n",
      "  df[f'{entity}_CO2e [t]'] = np.where(df[f'{entity}_grey_energy [kWh]'] >= 0,\n"
     ]
    }
   ],
   "source": [
    "# for each use case: filter out relevant cols and insert co2 value\n",
    "dict_out = {}\n",
    "for uc in uc_dict:\n",
    "    dict_out[uc] = {}\n",
    "    df_ger = filter_cols(uc_dict[uc], 'germany')\n",
    "    dict_out[uc]['germany'] = insert_co2_col(df_ger)\n",
    "    for i in range(1,7):\n",
    "        df_reg_i = filter_cols(uc_dict[uc], f'region-{i}')\n",
    "        dict_out[uc][f'region-{i}'] = insert_co2_col(df_reg_i)"
   ]
  },
  {
   "cell_type": "code",
   "execution_count": 7,
   "metadata": {
    "collapsed": false,
    "pycharm": {
     "name": "#%%\n"
    }
   },
   "outputs": [],
   "source": [
    "# get uc0 ger values\n",
    "def plot_germany_vs_uc0(dict_out, uc):\n",
    "    uc0_label = f'use case 0'\n",
    "    uci_label = f'use case {uc}'\n",
    "    uc0_co2_ger = np.round(dict_out[0][f'germany'][f'germany_CO2e [t]'].sum(),2)\n",
    "    uci_co2_ger = np.round(dict_out[uc][f'germany'][f'germany_CO2e [t]'].sum(),2)\n",
    "\n",
    "    fig, ax = plt.subplots(figsize = (10,5), facecolor = 'w')\n",
    "    uc0 = ax.bar(uc0_label, uc0_co2_ger, color = (206/235,150/235,191/235))\n",
    "    uci = ax.bar(uci_label, uci_co2_ger, color = (184/235,50/235,138/235))\n",
    "    ax.set_title('Total CO2e emissions for germany over simulation period by use case')\n",
    "    ax.set_ylabel('kgCO2e')\n",
    "    ax.bar_label(uc0, padding=3)\n",
    "    ax.bar_label(uci, padding=3)\n",
    "    ax.set_ylim(0, max(uc0_co2_ger, uci_co2_ger) + 6)\n",
    "    sns.despine()\n",
    "\n",
    "    return fig"
   ]
  },
  {
   "cell_type": "code",
   "execution_count": 8,
   "metadata": {
    "collapsed": false,
    "pycharm": {
     "name": "#%%\n"
    }
   },
   "outputs": [
    {
     "data": {
      "image/png": "[encoded data removed]",
      "text/plain": [
       "<Figure size 720x360 with 1 Axes>"
      ]
     },
     "metadata": {},
     "output_type": "display_data"
    }
   ],
   "source": [
    "fig = plot_germany_vs_uc0(dict_out, uc=1)"
   ]
  },
  {
   "cell_type": "code",
   "execution_count": 13,
   "metadata": {
    "collapsed": false,
    "pycharm": {
     "name": "#%%\n"
    }
   },
   "outputs": [],
   "source": [
    "def plot_regions_vs_uc0(dict_out, uc):\n",
    "    labels, uc0_co2_regions, uci_co2_regions = [], [], []\n",
    "    for i in range(1,7):\n",
    "        labels.append(f'region-{i}')\n",
    "        uc0_co2_regions.append(np.round(dict_out[0][f'region-{i}'][f'region-{i}_CO2e [t]'].sum(),2))\n",
    "        uci_co2_regions.append(np.round(dict_out[uc][f'region-{i}'][f'region-{i}_CO2e [t]'].sum(),2))\n",
    "    # plot\n",
    "    width = 0.4\n",
    "    x = np.arange(len(labels))\n",
    "    print(x)\n",
    "    print(type(uc0_co2_regions), uc0_co2_regions)\n",
    "    print(type(uci_co2_regions), uci_co2_regions)\n",
    "    fig, ax = plt.subplots(figsize = (8,4), facecolor = 'w')\n",
    "    uc0 = ax.bar(x - width/2, uc0_co2_regions, width, label = f'use case 0', color = (206/235,150/235,191/235))\n",
    "    uci = ax.bar(x + width/2, uci_co2_regions, width, label = f'use case {uc}', color = (184/235,50/235,138/235))\n",
    "    ax.set_title('Total CO2e emissions over simulation period by region and use case')\n",
    "    ax.set_ylabel('tCO2e')\n",
    "    ax.set_xticks(x, labels)\n",
    "    ax.legend()\n",
    "    ax.bar_label(uc0, padding=3)\n",
    "    ax.bar_label(uci, padding=3)\n",
    "    ax.set_ylim(0, max(max(uc0_co2_regions), max(uci_co2_regions)) + 6)\n",
    "    sns.despine()\n",
    "\n",
    "    return fig"
   ]
  },
  {
   "cell_type": "code",
   "execution_count": 14,
   "metadata": {
    "collapsed": false,
    "pycharm": {
     "name": "#%%\n"
    }
   },
   "outputs": [
    {
     "name": "stdout",
     "output_type": "stream",
     "text": [
      "[0 1 2 3 4 5]\n",
      "<class 'list'> [3.86, 18.56, 3.32, 6.11, 11.27, 17.87]\n",
      "<class 'list'> [3.86, 18.56, 3.32, 6.1, 11.27, 17.87]\n"
     ]
    },
    {
     "data": {
      "image/png": "[encoded data removed]",
      "text/plain": [
       "<Figure size 576x288 with 1 Axes>"
      ]
     },
     "metadata": {},
     "output_type": "display_data"
    }
   ],
   "source": [
    "fig = plot_regions_vs_uc0(dict_out, uc=1)"
   ]
  },
  {
   "cell_type": "code",
   "execution_count": 142,
   "metadata": {
    "collapsed": false,
    "pycharm": {
     "name": "#%%\n"
    }
   },
   "outputs": [],
   "source": []
  },
  {
   "cell_type": "code",
   "execution_count": 142,
   "metadata": {
    "collapsed": false,
    "pycharm": {
     "name": "#%%\n"
    }
   },
   "outputs": [],
   "source": []
  }
 ],
 "metadata": {
  "kernelspec": {
   "display_name": "fim_ml",
   "language": "python",
   "name": "fim_ml"
  },
  "language_info": {
   "codemirror_mode": {
    "name": "ipython",
    "version": 3
   },
   "file_extension": ".py",
   "mimetype": "text/x-python",
   "name": "python",
   "nbconvert_exporter": "python",
   "pygments_lexer": "ipython3",
   "version": "3.8.13"
  }
 },
 "nbformat": 4,
 "nbformat_minor": 0
}
