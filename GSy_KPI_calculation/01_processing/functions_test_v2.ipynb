{
 "cells": [
  {
   "cell_type": "code",
   "execution_count": 5,
   "metadata": {
    "collapsed": true,
    "pycharm": {
     "name": "#%%\n"
    }
   },
   "outputs": [],
   "source": [
    "# set up\n",
    "import os\n",
    "import warnings\n",
    "import numpy as np\n",
    "import pandas as pd\n",
    "import functools as func\n",
    "import functions_v2 as f\n",
    "import matplotlib.pyplot as plt\n",
    "import seaborn as sns\n",
    "import time\n",
    "\n",
    "sns.set_style('white')\n",
    "home_path = \"C:\\\\Users\\joche\\FIM Kernkompetenzzentrum\\Projekt VIdES - Dokumente\\General\\\\07_Arbeitsordner\\\\04_Ergebnisse\\\\20220920_Ergebnisse_4_Wochen\"\n",
    "os.chdir(home_path)"
   ]
  },
  {
   "cell_type": "markdown",
   "metadata": {
    "pycharm": {
     "name": "#%% md\n"
    }
   },
   "source": [
    "before changing to a use case folder, always make you switch to ``home_path`` first (and then go down one level by selecting the desired use case). This way, you can switch to any use case from **any** directory."
   ]
  },
  {
   "cell_type": "markdown",
   "metadata": {
    "pycharm": {
     "name": "#%% md\n"
    }
   },
   "source": [
    "#### KPI 1: Average price\n",
    "---\n",
    "To calculate the average price at each time step, there are four functions for the respective levels. At each level, for each month (here: 4) all relevant csv.-files are read in.\n",
    "- f.avg_p_germany() -> 1 * 4 files\n",
    "- f.avg_p_regions() -> 6 * 4 files\n",
    "- f.avg_p_ecs() -> 36 * 4 files\n",
    "- f.avg_p_houses() -> 1481 * 4 files\n",
    "- f.avg_p_members() -> nr. depends on use case * 4 files"
   ]
  },
  {
   "cell_type": "code",
   "execution_count": null,
   "outputs": [],
   "source": [
    "f.avg_p_members(os.getcwd())"
   ],
   "metadata": {
    "collapsed": false,
    "pycharm": {
     "name": "#%%\n"
    }
   }
  },
  {
   "cell_type": "markdown",
   "metadata": {
    "pycharm": {
     "name": "#%% md\n"
    }
   },
   "source": [
    "#### KPI 2: Total costs\n",
    "---\n",
    "To calculate the total costs for all months (here: 4), there is one function ``f.tot_cost()`` which returns a dictionary ``d`` with the levels as keys:\n",
    "- d['germany']\n",
    "- d['mm']\n",
    "- d['region']\n",
    "- d['ec']\n",
    "- d['house']\n",
    "- d['asset']"
   ]
  },
  {
   "cell_type": "code",
   "execution_count": 9,
   "metadata": {
    "pycharm": {
     "name": "#%%\n"
    }
   },
   "outputs": [
    {
     "data": {
      "text/plain": [
       "dict_keys(['germany', 'mm', 'region', 'ec', 'house', 'asset'])"
      ]
     },
     "execution_count": 9,
     "metadata": {},
     "output_type": "execute_result"
    }
   ],
   "source": [
    "d = f.tot_cost(os.getcwd())\n",
    "d.keys()"
   ]
  },
  {
   "cell_type": "code",
   "execution_count": 5,
   "metadata": {
    "pycharm": {
     "name": "#%%\n"
    }
   },
   "outputs": [
    {
     "data": {
      "text/html": [
       "<div>\n",
       "<style scoped>\n",
       "    .dataframe tbody tr th:only-of-type {\n",
       "        vertical-align: middle;\n",
       "    }\n",
       "\n",
       "    .dataframe tbody tr th {\n",
       "        vertical-align: top;\n",
       "    }\n",
       "\n",
       "    .dataframe thead th {\n",
       "        text-align: right;\n",
       "    }\n",
       "</style>\n",
       "<table border=\"1\" class=\"dataframe\">\n",
       "  <thead>\n",
       "    <tr style=\"text-align: right;\">\n",
       "      <th></th>\n",
       "      <th>name</th>\n",
       "      <th>total</th>\n",
       "    </tr>\n",
       "  </thead>\n",
       "  <tbody>\n",
       "    <tr>\n",
       "      <th>1150</th>\n",
       "      <td>Region_1</td>\n",
       "      <td>21814.745</td>\n",
       "    </tr>\n",
       "    <tr>\n",
       "      <th>1351</th>\n",
       "      <td>Region_2</td>\n",
       "      <td>27233.231</td>\n",
       "    </tr>\n",
       "    <tr>\n",
       "      <th>1748</th>\n",
       "      <td>Region_3</td>\n",
       "      <td>17058.481</td>\n",
       "    </tr>\n",
       "    <tr>\n",
       "      <th>1889</th>\n",
       "      <td>Region_4</td>\n",
       "      <td>15803.935</td>\n",
       "    </tr>\n",
       "    <tr>\n",
       "      <th>2067</th>\n",
       "      <td>Region_5</td>\n",
       "      <td>13117.304</td>\n",
       "    </tr>\n",
       "    <tr>\n",
       "      <th>2254</th>\n",
       "      <td>Region_6</td>\n",
       "      <td>14968.703</td>\n",
       "    </tr>\n",
       "  </tbody>\n",
       "</table>\n",
       "</div>"
      ],
      "text/plain": [
       "          name      total\n",
       "1150  Region_1  21814.745\n",
       "1351  Region_2  27233.231\n",
       "1748  Region_3  17058.481\n",
       "1889  Region_4  15803.935\n",
       "2067  Region_5  13117.304\n",
       "2254  Region_6  14968.703"
      ]
     },
     "execution_count": 5,
     "metadata": {},
     "output_type": "execute_result"
    }
   ],
   "source": [
    "d['region']"
   ]
  },
  {
   "cell_type": "markdown",
   "metadata": {
    "pycharm": {
     "name": "#%% md\n"
    }
   },
   "source": [
    "#### KPI 3: Share Renewables\n",
    "---\n",
    "Calculates the share of grey energy, i.e. energy procured from the market. For the grey energy (the current German electricity mix), we need to define a share renewables.\n",
    "\n",
    "Currently, a value of zero means that no grey energy is used, i.e. the entity consumes 100% renewable. A value of one means that the entity consumes 100% grey energy (electricity mix)."
   ]
  },
  {
   "cell_type": "code",
   "execution_count": 2,
   "metadata": {
    "pycharm": {
     "name": "#%%\n"
    }
   },
   "outputs": [],
   "source": [
    "os.chdir(home_path)\n",
    "os.chdir('Base_Case/')\n",
    "use_case = 0\n",
    "use_case_home_path = os.getcwd()"
   ]
  },
  {
   "cell_type": "code",
   "execution_count": 3,
   "outputs": [
    {
     "data": {
      "text/plain": "                  region-1-ec0-house-wind  \\\n2030-01-01T00:00                      0.0   \n2030-01-01T01:00                      0.0   \n2030-01-01T02:00                      0.0   \n2030-01-01T03:00                      0.0   \n2030-01-01T04:00                      0.0   \n...                                   ...   \n2030-10-07T19:00                      0.0   \n2030-10-07T20:00                      0.0   \n2030-10-07T21:00                      0.0   \n2030-10-07T22:00                      0.0   \n2030-10-07T23:00                      0.0   \n\n                  region-1-ec0-house-wind_region-1-id-1-wind-feedin  \\\n2030-01-01T00:00                                                0.0   \n2030-01-01T01:00                                                0.0   \n2030-01-01T02:00                                                0.0   \n2030-01-01T03:00                                                0.0   \n2030-01-01T04:00                                                0.0   \n...                                                             ...   \n2030-10-07T19:00                                                0.0   \n2030-10-07T20:00                                                0.0   \n2030-10-07T21:00                                                0.0   \n2030-10-07T22:00                                                0.0   \n2030-10-07T23:00                                                0.0   \n\n                  region-1-ec1-house-0  region-1-ec1-house-1  \\\n2030-01-01T00:00                   1.0                   1.0   \n2030-01-01T01:00                   1.0                   1.0   \n2030-01-01T02:00                   1.0                   1.0   \n2030-01-01T03:00                   1.0                   1.0   \n2030-01-01T04:00                   1.0                   1.0   \n...                                ...                   ...   \n2030-10-07T19:00                   1.0                   1.0   \n2030-10-07T20:00                   1.0                   1.0   \n2030-10-07T21:00                   1.0                   1.0   \n2030-10-07T22:00                   1.0                   1.0   \n2030-10-07T23:00                   1.0                   1.0   \n\n                  region-1-ec1-house-10  region-1-ec1-house-11  \\\n2030-01-01T00:00                    1.0                    1.0   \n2030-01-01T01:00                    1.0                    1.0   \n2030-01-01T02:00                    1.0                    1.0   \n2030-01-01T03:00                    1.0                    1.0   \n2030-01-01T04:00                    1.0                    1.0   \n...                                 ...                    ...   \n2030-10-07T19:00                    1.0                    1.0   \n2030-10-07T20:00                    1.0                    1.0   \n2030-10-07T21:00                    1.0                    1.0   \n2030-10-07T22:00                    1.0                    1.0   \n2030-10-07T23:00                    1.0                    1.0   \n\n                  region-1-ec1-house-12  region-1-ec1-house-13  \\\n2030-01-01T00:00                    1.0                    1.0   \n2030-01-01T01:00                    1.0                    1.0   \n2030-01-01T02:00                    1.0                    1.0   \n2030-01-01T03:00                    1.0                    1.0   \n2030-01-01T04:00                    1.0                    1.0   \n...                                 ...                    ...   \n2030-10-07T19:00                    1.0                    1.0   \n2030-10-07T20:00                    1.0                    1.0   \n2030-10-07T21:00                    1.0                    1.0   \n2030-10-07T22:00                    1.0                    1.0   \n2030-10-07T23:00                    1.0                    1.0   \n\n                  region-1-ec1-house-14  region-1-ec1-house-15  ...  \\\n2030-01-01T00:00                    1.0                    1.0  ...   \n2030-01-01T01:00                    1.0                    1.0  ...   \n2030-01-01T02:00                    1.0                    1.0  ...   \n2030-01-01T03:00                    1.0                    1.0  ...   \n2030-01-01T04:00                    1.0                    1.0  ...   \n...                                 ...                    ...  ...   \n2030-10-07T19:00                    1.0                    1.0  ...   \n2030-10-07T20:00                    1.0                    1.0  ...   \n2030-10-07T21:00                    1.0                    1.0  ...   \n2030-10-07T22:00                    1.0                    1.0  ...   \n2030-10-07T23:00                    1.0                    1.0  ...   \n\n                  region-6-ec4-house-5_region-6-id-487-hh-1-household-electric-load  \\\n2030-01-01T00:00                                                1.0                   \n2030-01-01T01:00                                                1.0                   \n2030-01-01T02:00                                                1.0                   \n2030-01-01T03:00                                                1.0                   \n2030-01-01T04:00                                                1.0                   \n...                                                             ...                   \n2030-10-07T19:00                                                1.0                   \n2030-10-07T20:00                                                1.0                   \n2030-10-07T21:00                                                1.0                   \n2030-10-07T22:00                                                1.0                   \n2030-10-07T23:00                                                1.0                   \n\n                  region-6-ec4-house-6_region-6-id-79-heatpump-loadprofile  \\\n2030-01-01T00:00                                                1.0          \n2030-01-01T01:00                                                1.0          \n2030-01-01T02:00                                                1.0          \n2030-01-01T03:00                                                1.0          \n2030-01-01T04:00                                                1.0          \n...                                                             ...          \n2030-10-07T19:00                                                1.0          \n2030-10-07T20:00                                                1.0          \n2030-10-07T21:00                                                1.0          \n2030-10-07T22:00                                                1.0          \n2030-10-07T23:00                                                1.0          \n\n                  region-6-ec4-house-6_region-6-id-488-hh-1-household-electric-load  \\\n2030-01-01T00:00                                                1.0                   \n2030-01-01T01:00                                                1.0                   \n2030-01-01T02:00                                                1.0                   \n2030-01-01T03:00                                                1.0                   \n2030-01-01T04:00                                                1.0                   \n...                                                             ...                   \n2030-10-07T19:00                                                1.0                   \n2030-10-07T20:00                                                1.0                   \n2030-10-07T21:00                                                1.0                   \n2030-10-07T22:00                                                1.0                   \n2030-10-07T23:00                                                1.0                   \n\n                  region-6-ec4-house-7_region-6-id-489-hh-1-household-electric-load  \\\n2030-01-01T00:00                                                1.0                   \n2030-01-01T01:00                                                1.0                   \n2030-01-01T02:00                                                1.0                   \n2030-01-01T03:00                                                1.0                   \n2030-01-01T04:00                                                1.0                   \n...                                                             ...                   \n2030-10-07T19:00                                                1.0                   \n2030-10-07T20:00                                                1.0                   \n2030-10-07T21:00                                                1.0                   \n2030-10-07T22:00                                                1.0                   \n2030-10-07T23:00                                                1.0                   \n\n                  region-6-ec4-house-7_id-7-ev-non-commuter  \\\n2030-01-01T00:00                                        1.0   \n2030-01-01T01:00                                        1.0   \n2030-01-01T02:00                                        1.0   \n2030-01-01T03:00                                        1.0   \n2030-01-01T04:00                                        1.0   \n...                                                     ...   \n2030-10-07T19:00                                        1.0   \n2030-10-07T20:00                                        1.0   \n2030-10-07T21:00                                        1.0   \n2030-10-07T22:00                                        1.0   \n2030-10-07T23:00                                        1.0   \n\n                  region-6-ec4-house-8_region-6-id-511-hh-2-household-electric-load  \\\n2030-01-01T00:00                                                1.0                   \n2030-01-01T01:00                                                1.0                   \n2030-01-01T02:00                                                1.0                   \n2030-01-01T03:00                                                1.0                   \n2030-01-01T04:00                                                1.0                   \n...                                                             ...                   \n2030-10-07T19:00                                                1.0                   \n2030-10-07T20:00                                                1.0                   \n2030-10-07T21:00                                                1.0                   \n2030-10-07T22:00                                                1.0                   \n2030-10-07T23:00                                                1.0                   \n\n                  region-6-ec4-house-8_region-6-id-78-heatpump-loadprofile  \\\n2030-01-01T00:00                                                1.0          \n2030-01-01T01:00                                                1.0          \n2030-01-01T02:00                                                1.0          \n2030-01-01T03:00                                                1.0          \n2030-01-01T04:00                                                1.0          \n...                                                             ...          \n2030-10-07T19:00                                                1.0          \n2030-10-07T20:00                                                1.0          \n2030-10-07T21:00                                                1.0          \n2030-10-07T22:00                                                1.0          \n2030-10-07T23:00                                                1.0          \n\n                  region-6-ec4-house-9_region-6-id-512-hh-2-household-electric-load  \\\n2030-01-01T00:00                                                1.0                   \n2030-01-01T01:00                                                1.0                   \n2030-01-01T02:00                                                1.0                   \n2030-01-01T03:00                                                1.0                   \n2030-01-01T04:00                                                1.0                   \n...                                                             ...                   \n2030-10-07T19:00                                                1.0                   \n2030-10-07T20:00                                                1.0                   \n2030-10-07T21:00                                                1.0                   \n2030-10-07T22:00                                                1.0                   \n2030-10-07T23:00                                                1.0                   \n\n                  region-6-ec5-house-industry  region-6-industry-electric-load  \n2030-01-01T00:00                          1.0                              1.0  \n2030-01-01T01:00                          1.0                              1.0  \n2030-01-01T02:00                          1.0                              1.0  \n2030-01-01T03:00                          1.0                              1.0  \n2030-01-01T04:00                          1.0                              1.0  \n...                                       ...                              ...  \n2030-10-07T19:00                          1.0                              1.0  \n2030-10-07T20:00                          1.0                              1.0  \n2030-10-07T21:00                          1.0                              1.0  \n2030-10-07T22:00                          1.0                              1.0  \n2030-10-07T23:00                          1.0                              1.0  \n\n[672 rows x 1499 columns]",
      "text/html": "<div>\n<style scoped>\n    .dataframe tbody tr th:only-of-type {\n        vertical-align: middle;\n    }\n\n    .dataframe tbody tr th {\n        vertical-align: top;\n    }\n\n    .dataframe thead th {\n        text-align: right;\n    }\n</style>\n<table border=\"1\" class=\"dataframe\">\n  <thead>\n    <tr style=\"text-align: right;\">\n      <th></th>\n      <th>region-1-ec0-house-wind</th>\n      <th>region-1-ec0-house-wind_region-1-id-1-wind-feedin</th>\n      <th>region-1-ec1-house-0</th>\n      <th>region-1-ec1-house-1</th>\n      <th>region-1-ec1-house-10</th>\n      <th>region-1-ec1-house-11</th>\n      <th>region-1-ec1-house-12</th>\n      <th>region-1-ec1-house-13</th>\n      <th>region-1-ec1-house-14</th>\n      <th>region-1-ec1-house-15</th>\n      <th>...</th>\n      <th>region-6-ec4-house-5_region-6-id-487-hh-1-household-electric-load</th>\n      <th>region-6-ec4-house-6_region-6-id-79-heatpump-loadprofile</th>\n      <th>region-6-ec4-house-6_region-6-id-488-hh-1-household-electric-load</th>\n      <th>region-6-ec4-house-7_region-6-id-489-hh-1-household-electric-load</th>\n      <th>region-6-ec4-house-7_id-7-ev-non-commuter</th>\n      <th>region-6-ec4-house-8_region-6-id-511-hh-2-household-electric-load</th>\n      <th>region-6-ec4-house-8_region-6-id-78-heatpump-loadprofile</th>\n      <th>region-6-ec4-house-9_region-6-id-512-hh-2-household-electric-load</th>\n      <th>region-6-ec5-house-industry</th>\n      <th>region-6-industry-electric-load</th>\n    </tr>\n  </thead>\n  <tbody>\n    <tr>\n      <th>2030-01-01T00:00</th>\n      <td>0.0</td>\n      <td>0.0</td>\n      <td>1.0</td>\n      <td>1.0</td>\n      <td>1.0</td>\n      <td>1.0</td>\n      <td>1.0</td>\n      <td>1.0</td>\n      <td>1.0</td>\n      <td>1.0</td>\n      <td>...</td>\n      <td>1.0</td>\n      <td>1.0</td>\n      <td>1.0</td>\n      <td>1.0</td>\n      <td>1.0</td>\n      <td>1.0</td>\n      <td>1.0</td>\n      <td>1.0</td>\n      <td>1.0</td>\n      <td>1.0</td>\n    </tr>\n    <tr>\n      <th>2030-01-01T01:00</th>\n      <td>0.0</td>\n      <td>0.0</td>\n      <td>1.0</td>\n      <td>1.0</td>\n      <td>1.0</td>\n      <td>1.0</td>\n      <td>1.0</td>\n      <td>1.0</td>\n      <td>1.0</td>\n      <td>1.0</td>\n      <td>...</td>\n      <td>1.0</td>\n      <td>1.0</td>\n      <td>1.0</td>\n      <td>1.0</td>\n      <td>1.0</td>\n      <td>1.0</td>\n      <td>1.0</td>\n      <td>1.0</td>\n      <td>1.0</td>\n      <td>1.0</td>\n    </tr>\n    <tr>\n      <th>2030-01-01T02:00</th>\n      <td>0.0</td>\n      <td>0.0</td>\n      <td>1.0</td>\n      <td>1.0</td>\n      <td>1.0</td>\n      <td>1.0</td>\n      <td>1.0</td>\n      <td>1.0</td>\n      <td>1.0</td>\n      <td>1.0</td>\n      <td>...</td>\n      <td>1.0</td>\n      <td>1.0</td>\n      <td>1.0</td>\n      <td>1.0</td>\n      <td>1.0</td>\n      <td>1.0</td>\n      <td>1.0</td>\n      <td>1.0</td>\n      <td>1.0</td>\n      <td>1.0</td>\n    </tr>\n    <tr>\n      <th>2030-01-01T03:00</th>\n      <td>0.0</td>\n      <td>0.0</td>\n      <td>1.0</td>\n      <td>1.0</td>\n      <td>1.0</td>\n      <td>1.0</td>\n      <td>1.0</td>\n      <td>1.0</td>\n      <td>1.0</td>\n      <td>1.0</td>\n      <td>...</td>\n      <td>1.0</td>\n      <td>1.0</td>\n      <td>1.0</td>\n      <td>1.0</td>\n      <td>1.0</td>\n      <td>1.0</td>\n      <td>1.0</td>\n      <td>1.0</td>\n      <td>1.0</td>\n      <td>1.0</td>\n    </tr>\n    <tr>\n      <th>2030-01-01T04:00</th>\n      <td>0.0</td>\n      <td>0.0</td>\n      <td>1.0</td>\n      <td>1.0</td>\n      <td>1.0</td>\n      <td>1.0</td>\n      <td>1.0</td>\n      <td>1.0</td>\n      <td>1.0</td>\n      <td>1.0</td>\n      <td>...</td>\n      <td>1.0</td>\n      <td>1.0</td>\n      <td>1.0</td>\n      <td>1.0</td>\n      <td>1.0</td>\n      <td>1.0</td>\n      <td>1.0</td>\n      <td>1.0</td>\n      <td>1.0</td>\n      <td>1.0</td>\n    </tr>\n    <tr>\n      <th>...</th>\n      <td>...</td>\n      <td>...</td>\n      <td>...</td>\n      <td>...</td>\n      <td>...</td>\n      <td>...</td>\n      <td>...</td>\n      <td>...</td>\n      <td>...</td>\n      <td>...</td>\n      <td>...</td>\n      <td>...</td>\n      <td>...</td>\n      <td>...</td>\n      <td>...</td>\n      <td>...</td>\n      <td>...</td>\n      <td>...</td>\n      <td>...</td>\n      <td>...</td>\n      <td>...</td>\n    </tr>\n    <tr>\n      <th>2030-10-07T19:00</th>\n      <td>0.0</td>\n      <td>0.0</td>\n      <td>1.0</td>\n      <td>1.0</td>\n      <td>1.0</td>\n      <td>1.0</td>\n      <td>1.0</td>\n      <td>1.0</td>\n      <td>1.0</td>\n      <td>1.0</td>\n      <td>...</td>\n      <td>1.0</td>\n      <td>1.0</td>\n      <td>1.0</td>\n      <td>1.0</td>\n      <td>1.0</td>\n      <td>1.0</td>\n      <td>1.0</td>\n      <td>1.0</td>\n      <td>1.0</td>\n      <td>1.0</td>\n    </tr>\n    <tr>\n      <th>2030-10-07T20:00</th>\n      <td>0.0</td>\n      <td>0.0</td>\n      <td>1.0</td>\n      <td>1.0</td>\n      <td>1.0</td>\n      <td>1.0</td>\n      <td>1.0</td>\n      <td>1.0</td>\n      <td>1.0</td>\n      <td>1.0</td>\n      <td>...</td>\n      <td>1.0</td>\n      <td>1.0</td>\n      <td>1.0</td>\n      <td>1.0</td>\n      <td>1.0</td>\n      <td>1.0</td>\n      <td>1.0</td>\n      <td>1.0</td>\n      <td>1.0</td>\n      <td>1.0</td>\n    </tr>\n    <tr>\n      <th>2030-10-07T21:00</th>\n      <td>0.0</td>\n      <td>0.0</td>\n      <td>1.0</td>\n      <td>1.0</td>\n      <td>1.0</td>\n      <td>1.0</td>\n      <td>1.0</td>\n      <td>1.0</td>\n      <td>1.0</td>\n      <td>1.0</td>\n      <td>...</td>\n      <td>1.0</td>\n      <td>1.0</td>\n      <td>1.0</td>\n      <td>1.0</td>\n      <td>1.0</td>\n      <td>1.0</td>\n      <td>1.0</td>\n      <td>1.0</td>\n      <td>1.0</td>\n      <td>1.0</td>\n    </tr>\n    <tr>\n      <th>2030-10-07T22:00</th>\n      <td>0.0</td>\n      <td>0.0</td>\n      <td>1.0</td>\n      <td>1.0</td>\n      <td>1.0</td>\n      <td>1.0</td>\n      <td>1.0</td>\n      <td>1.0</td>\n      <td>1.0</td>\n      <td>1.0</td>\n      <td>...</td>\n      <td>1.0</td>\n      <td>1.0</td>\n      <td>1.0</td>\n      <td>1.0</td>\n      <td>1.0</td>\n      <td>1.0</td>\n      <td>1.0</td>\n      <td>1.0</td>\n      <td>1.0</td>\n      <td>1.0</td>\n    </tr>\n    <tr>\n      <th>2030-10-07T23:00</th>\n      <td>0.0</td>\n      <td>0.0</td>\n      <td>1.0</td>\n      <td>1.0</td>\n      <td>1.0</td>\n      <td>1.0</td>\n      <td>1.0</td>\n      <td>1.0</td>\n      <td>1.0</td>\n      <td>1.0</td>\n      <td>...</td>\n      <td>1.0</td>\n      <td>1.0</td>\n      <td>1.0</td>\n      <td>1.0</td>\n      <td>1.0</td>\n      <td>1.0</td>\n      <td>1.0</td>\n      <td>1.0</td>\n      <td>1.0</td>\n      <td>1.0</td>\n    </tr>\n  </tbody>\n</table>\n<p>672 rows × 1499 columns</p>\n</div>"
     },
     "execution_count": 3,
     "metadata": {},
     "output_type": "execute_result"
    }
   ],
   "source": [
    "f.share_renewables(use_case_home_path, use_case)"
   ],
   "metadata": {
    "collapsed": false,
    "pycharm": {
     "name": "#%%\n"
    }
   }
  },
  {
   "cell_type": "code",
   "execution_count": 6,
   "outputs": [],
   "source": [
    "os.chdir(home_path)\n",
    "os.chdir('Use_Case_2')\n",
    "use_case = 2\n",
    "use_case_home_path = os.getcwd()"
   ],
   "metadata": {
    "collapsed": false,
    "pycharm": {
     "name": "#%%\n"
    }
   }
  },
  {
   "cell_type": "code",
   "execution_count": 7,
   "outputs": [
    {
     "name": "stdout",
     "output_type": "stream",
     "text": [
      "Execution time: 823.3519122600555 seconds\n"
     ]
    },
    {
     "data": {
      "text/plain": "                   germany  region-5  region-4  region-2  region-1  region-3  \\\n2030-01-01T00:00  0.859376  1.000000       1.0  1.000000       0.0  1.000000   \n2030-01-01T01:00  0.936940  0.716575       1.0  1.000000       1.0  1.000000   \n2030-01-01T02:00  0.935816  0.776882       1.0  1.000000       1.0  1.000000   \n2030-01-01T03:00  0.922489  1.000000       1.0  1.000000       1.0  0.589453   \n2030-01-01T04:00  0.905101  0.979593       1.0  0.803916       1.0  1.000000   \n...                    ...       ...       ...       ...       ...       ...   \n2030-10-07T19:00  0.431956  1.000000       0.0  1.000000       1.0  1.000000   \n2030-10-07T20:00  0.570598  0.000000       1.0  0.901131       0.0  1.000000   \n2030-10-07T21:00  0.438750  1.000000       1.0  0.000000       1.0  1.000000   \n2030-10-07T22:00  0.482912  1.000000       0.0  1.000000       1.0  1.000000   \n2030-10-07T23:00  0.383567  1.000000       1.0  0.000000       1.0  1.000000   \n\n                  region-6  region-1-ec0  region-1-ec1  region-1-ec2  ...  \\\n2030-01-01T00:00  0.610757           0.0      0.000000      0.000000  ...   \n2030-01-01T01:00  0.499438           0.0      0.761748      0.578626  ...   \n2030-01-01T02:00  0.427295           0.0      0.775150      0.587328  ...   \n2030-01-01T03:00  0.787747           0.0      0.690289      0.590919  ...   \n2030-01-01T04:00  0.892070           0.0      0.741376      0.532629  ...   \n...                    ...           ...           ...           ...  ...   \n2030-10-07T19:00  0.255806           0.0      0.354101      0.063151  ...   \n2030-10-07T20:00  0.116387           0.0      0.000000      0.000000  ...   \n2030-10-07T21:00  0.156624           0.0      0.697742      0.516148  ...   \n2030-10-07T22:00  0.097180           0.0      0.557965      0.334563  ...   \n2030-10-07T23:00  0.187270           0.0      0.707231      0.575209  ...   \n\n                  region-6-ec4-house-4_id-3-ev-hhchild  \\\n2030-01-01T00:00                              0.610757   \n2030-01-01T01:00                              0.499438   \n2030-01-01T02:00                              0.395608   \n2030-01-01T03:00                              0.787747   \n2030-01-01T04:00                              0.892070   \n...                                                ...   \n2030-10-07T19:00                              0.232028   \n2030-10-07T20:00                              0.108669   \n2030-10-07T21:00                              0.155455   \n2030-10-07T22:00                              0.078146   \n2030-10-07T23:00                              0.185676   \n\n                  region-6-ec4-house-5_region-6-id-487-hh-1-household-electric-load  \\\n2030-01-01T00:00                                           0.610757                   \n2030-01-01T01:00                                           0.499438                   \n2030-01-01T02:00                                           0.395608                   \n2030-01-01T03:00                                           0.787747                   \n2030-01-01T04:00                                           0.892070                   \n...                                                             ...                   \n2030-10-07T19:00                                           0.232028                   \n2030-10-07T20:00                                           0.108669                   \n2030-10-07T21:00                                           0.155455                   \n2030-10-07T22:00                                           0.078146                   \n2030-10-07T23:00                                           0.185676                   \n\n                  region-6-ec4-house-6_region-6-id-79-heatpump-loadprofile  \\\n2030-01-01T00:00                                           0.610757          \n2030-01-01T01:00                                           0.499438          \n2030-01-01T02:00                                           0.395608          \n2030-01-01T03:00                                           0.787747          \n2030-01-01T04:00                                           0.892070          \n...                                                             ...          \n2030-10-07T19:00                                           0.232028          \n2030-10-07T20:00                                           0.108669          \n2030-10-07T21:00                                           0.155455          \n2030-10-07T22:00                                           0.078146          \n2030-10-07T23:00                                           0.170469          \n\n                  region-6-ec4-house-6_region-6-id-488-hh-1-household-electric-load  \\\n2030-01-01T00:00                                           0.610757                   \n2030-01-01T01:00                                           0.499438                   \n2030-01-01T02:00                                           0.395608                   \n2030-01-01T03:00                                           0.787747                   \n2030-01-01T04:00                                           0.892070                   \n...                                                             ...                   \n2030-10-07T19:00                                           0.232028                   \n2030-10-07T20:00                                           0.108669                   \n2030-10-07T21:00                                           0.155455                   \n2030-10-07T22:00                                           0.078146                   \n2030-10-07T23:00                                           0.170469                   \n\n                  region-6-ec4-house-7_region-6-id-489-hh-1-household-electric-load  \\\n2030-01-01T00:00                                           0.610757                   \n2030-01-01T01:00                                           0.499438                   \n2030-01-01T02:00                                           0.395608                   \n2030-01-01T03:00                                           0.787747                   \n2030-01-01T04:00                                           0.892070                   \n...                                                             ...                   \n2030-10-07T19:00                                           0.232028                   \n2030-10-07T20:00                                           0.108669                   \n2030-10-07T21:00                                           0.155455                   \n2030-10-07T22:00                                           0.078146                   \n2030-10-07T23:00                                           0.185676                   \n\n                  region-6-ec4-house-7_id-7-ev-non-commuter  \\\n2030-01-01T00:00                                   0.610757   \n2030-01-01T01:00                                   0.499438   \n2030-01-01T02:00                                   0.395608   \n2030-01-01T03:00                                   0.787747   \n2030-01-01T04:00                                   0.892070   \n...                                                     ...   \n2030-10-07T19:00                                   0.232028   \n2030-10-07T20:00                                   0.108669   \n2030-10-07T21:00                                   0.155455   \n2030-10-07T22:00                                   0.078146   \n2030-10-07T23:00                                   0.185676   \n\n                  region-6-ec4-house-8_region-6-id-78-heatpump-loadprofile  \\\n2030-01-01T00:00                                           0.610757          \n2030-01-01T01:00                                           0.499438          \n2030-01-01T02:00                                           0.395608          \n2030-01-01T03:00                                           0.787747          \n2030-01-01T04:00                                           0.892070          \n...                                                             ...          \n2030-10-07T19:00                                           0.232028          \n2030-10-07T20:00                                           0.108669          \n2030-10-07T21:00                                           0.155455          \n2030-10-07T22:00                                           0.078146          \n2030-10-07T23:00                                           0.185676          \n\n                  region-6-ec4-house-8_region-6-id-511-hh-2-household-electric-load  \\\n2030-01-01T00:00                                           0.610757                   \n2030-01-01T01:00                                           0.499438                   \n2030-01-01T02:00                                           0.395608                   \n2030-01-01T03:00                                           0.787747                   \n2030-01-01T04:00                                           0.892070                   \n...                                                             ...                   \n2030-10-07T19:00                                           0.232028                   \n2030-10-07T20:00                                           0.108669                   \n2030-10-07T21:00                                           0.155455                   \n2030-10-07T22:00                                           0.078146                   \n2030-10-07T23:00                                           0.185676                   \n\n                  region-6-ec4-house-9_region-6-id-512-hh-2-household-electric-load  \\\n2030-01-01T00:00                                           0.610757                   \n2030-01-01T01:00                                           0.499438                   \n2030-01-01T02:00                                           0.395608                   \n2030-01-01T03:00                                           0.787747                   \n2030-01-01T04:00                                           0.892070                   \n...                                                             ...                   \n2030-10-07T19:00                                           0.232028                   \n2030-10-07T20:00                                           0.108669                   \n2030-10-07T21:00                                           0.155455                   \n2030-10-07T22:00                                           0.078146                   \n2030-10-07T23:00                                           0.185676                   \n\n                  region-6-industry-electric-load  \n2030-01-01T00:00                         0.610757  \n2030-01-01T01:00                         0.499438  \n2030-01-01T02:00                         0.427295  \n2030-01-01T03:00                         0.787747  \n2030-01-01T04:00                         0.892070  \n...                                           ...  \n2030-10-07T19:00                         0.255806  \n2030-10-07T20:00                         0.116387  \n2030-10-07T21:00                         0.156624  \n2030-10-07T22:00                         0.097180  \n2030-10-07T23:00                         0.187270  \n\n[672 rows x 1562 columns]",
      "text/html": "<div>\n<style scoped>\n    .dataframe tbody tr th:only-of-type {\n        vertical-align: middle;\n    }\n\n    .dataframe tbody tr th {\n        vertical-align: top;\n    }\n\n    .dataframe thead th {\n        text-align: right;\n    }\n</style>\n<table border=\"1\" class=\"dataframe\">\n  <thead>\n    <tr style=\"text-align: right;\">\n      <th></th>\n      <th>germany</th>\n      <th>region-5</th>\n      <th>region-4</th>\n      <th>region-2</th>\n      <th>region-1</th>\n      <th>region-3</th>\n      <th>region-6</th>\n      <th>region-1-ec0</th>\n      <th>region-1-ec1</th>\n      <th>region-1-ec2</th>\n      <th>...</th>\n      <th>region-6-ec4-house-4_id-3-ev-hhchild</th>\n      <th>region-6-ec4-house-5_region-6-id-487-hh-1-household-electric-load</th>\n      <th>region-6-ec4-house-6_region-6-id-79-heatpump-loadprofile</th>\n      <th>region-6-ec4-house-6_region-6-id-488-hh-1-household-electric-load</th>\n      <th>region-6-ec4-house-7_region-6-id-489-hh-1-household-electric-load</th>\n      <th>region-6-ec4-house-7_id-7-ev-non-commuter</th>\n      <th>region-6-ec4-house-8_region-6-id-78-heatpump-loadprofile</th>\n      <th>region-6-ec4-house-8_region-6-id-511-hh-2-household-electric-load</th>\n      <th>region-6-ec4-house-9_region-6-id-512-hh-2-household-electric-load</th>\n      <th>region-6-industry-electric-load</th>\n    </tr>\n  </thead>\n  <tbody>\n    <tr>\n      <th>2030-01-01T00:00</th>\n      <td>0.859376</td>\n      <td>1.000000</td>\n      <td>1.0</td>\n      <td>1.000000</td>\n      <td>0.0</td>\n      <td>1.000000</td>\n      <td>0.610757</td>\n      <td>0.0</td>\n      <td>0.000000</td>\n      <td>0.000000</td>\n      <td>...</td>\n      <td>0.610757</td>\n      <td>0.610757</td>\n      <td>0.610757</td>\n      <td>0.610757</td>\n      <td>0.610757</td>\n      <td>0.610757</td>\n      <td>0.610757</td>\n      <td>0.610757</td>\n      <td>0.610757</td>\n      <td>0.610757</td>\n    </tr>\n    <tr>\n      <th>2030-01-01T01:00</th>\n      <td>0.936940</td>\n      <td>0.716575</td>\n      <td>1.0</td>\n      <td>1.000000</td>\n      <td>1.0</td>\n      <td>1.000000</td>\n      <td>0.499438</td>\n      <td>0.0</td>\n      <td>0.761748</td>\n      <td>0.578626</td>\n      <td>...</td>\n      <td>0.499438</td>\n      <td>0.499438</td>\n      <td>0.499438</td>\n      <td>0.499438</td>\n      <td>0.499438</td>\n      <td>0.499438</td>\n      <td>0.499438</td>\n      <td>0.499438</td>\n      <td>0.499438</td>\n      <td>0.499438</td>\n    </tr>\n    <tr>\n      <th>2030-01-01T02:00</th>\n      <td>0.935816</td>\n      <td>0.776882</td>\n      <td>1.0</td>\n      <td>1.000000</td>\n      <td>1.0</td>\n      <td>1.000000</td>\n      <td>0.427295</td>\n      <td>0.0</td>\n      <td>0.775150</td>\n      <td>0.587328</td>\n      <td>...</td>\n      <td>0.395608</td>\n      <td>0.395608</td>\n      <td>0.395608</td>\n      <td>0.395608</td>\n      <td>0.395608</td>\n      <td>0.395608</td>\n      <td>0.395608</td>\n      <td>0.395608</td>\n      <td>0.395608</td>\n      <td>0.427295</td>\n    </tr>\n    <tr>\n      <th>2030-01-01T03:00</th>\n      <td>0.922489</td>\n      <td>1.000000</td>\n      <td>1.0</td>\n      <td>1.000000</td>\n      <td>1.0</td>\n      <td>0.589453</td>\n      <td>0.787747</td>\n      <td>0.0</td>\n      <td>0.690289</td>\n      <td>0.590919</td>\n      <td>...</td>\n      <td>0.787747</td>\n      <td>0.787747</td>\n      <td>0.787747</td>\n      <td>0.787747</td>\n      <td>0.787747</td>\n      <td>0.787747</td>\n      <td>0.787747</td>\n      <td>0.787747</td>\n      <td>0.787747</td>\n      <td>0.787747</td>\n    </tr>\n    <tr>\n      <th>2030-01-01T04:00</th>\n      <td>0.905101</td>\n      <td>0.979593</td>\n      <td>1.0</td>\n      <td>0.803916</td>\n      <td>1.0</td>\n      <td>1.000000</td>\n      <td>0.892070</td>\n      <td>0.0</td>\n      <td>0.741376</td>\n      <td>0.532629</td>\n      <td>...</td>\n      <td>0.892070</td>\n      <td>0.892070</td>\n      <td>0.892070</td>\n      <td>0.892070</td>\n      <td>0.892070</td>\n      <td>0.892070</td>\n      <td>0.892070</td>\n      <td>0.892070</td>\n      <td>0.892070</td>\n      <td>0.892070</td>\n    </tr>\n    <tr>\n      <th>...</th>\n      <td>...</td>\n      <td>...</td>\n      <td>...</td>\n      <td>...</td>\n      <td>...</td>\n      <td>...</td>\n      <td>...</td>\n      <td>...</td>\n      <td>...</td>\n      <td>...</td>\n      <td>...</td>\n      <td>...</td>\n      <td>...</td>\n      <td>...</td>\n      <td>...</td>\n      <td>...</td>\n      <td>...</td>\n      <td>...</td>\n      <td>...</td>\n      <td>...</td>\n      <td>...</td>\n    </tr>\n    <tr>\n      <th>2030-10-07T19:00</th>\n      <td>0.431956</td>\n      <td>1.000000</td>\n      <td>0.0</td>\n      <td>1.000000</td>\n      <td>1.0</td>\n      <td>1.000000</td>\n      <td>0.255806</td>\n      <td>0.0</td>\n      <td>0.354101</td>\n      <td>0.063151</td>\n      <td>...</td>\n      <td>0.232028</td>\n      <td>0.232028</td>\n      <td>0.232028</td>\n      <td>0.232028</td>\n      <td>0.232028</td>\n      <td>0.232028</td>\n      <td>0.232028</td>\n      <td>0.232028</td>\n      <td>0.232028</td>\n      <td>0.255806</td>\n    </tr>\n    <tr>\n      <th>2030-10-07T20:00</th>\n      <td>0.570598</td>\n      <td>0.000000</td>\n      <td>1.0</td>\n      <td>0.901131</td>\n      <td>0.0</td>\n      <td>1.000000</td>\n      <td>0.116387</td>\n      <td>0.0</td>\n      <td>0.000000</td>\n      <td>0.000000</td>\n      <td>...</td>\n      <td>0.108669</td>\n      <td>0.108669</td>\n      <td>0.108669</td>\n      <td>0.108669</td>\n      <td>0.108669</td>\n      <td>0.108669</td>\n      <td>0.108669</td>\n      <td>0.108669</td>\n      <td>0.108669</td>\n      <td>0.116387</td>\n    </tr>\n    <tr>\n      <th>2030-10-07T21:00</th>\n      <td>0.438750</td>\n      <td>1.000000</td>\n      <td>1.0</td>\n      <td>0.000000</td>\n      <td>1.0</td>\n      <td>1.000000</td>\n      <td>0.156624</td>\n      <td>0.0</td>\n      <td>0.697742</td>\n      <td>0.516148</td>\n      <td>...</td>\n      <td>0.155455</td>\n      <td>0.155455</td>\n      <td>0.155455</td>\n      <td>0.155455</td>\n      <td>0.155455</td>\n      <td>0.155455</td>\n      <td>0.155455</td>\n      <td>0.155455</td>\n      <td>0.155455</td>\n      <td>0.156624</td>\n    </tr>\n    <tr>\n      <th>2030-10-07T22:00</th>\n      <td>0.482912</td>\n      <td>1.000000</td>\n      <td>0.0</td>\n      <td>1.000000</td>\n      <td>1.0</td>\n      <td>1.000000</td>\n      <td>0.097180</td>\n      <td>0.0</td>\n      <td>0.557965</td>\n      <td>0.334563</td>\n      <td>...</td>\n      <td>0.078146</td>\n      <td>0.078146</td>\n      <td>0.078146</td>\n      <td>0.078146</td>\n      <td>0.078146</td>\n      <td>0.078146</td>\n      <td>0.078146</td>\n      <td>0.078146</td>\n      <td>0.078146</td>\n      <td>0.097180</td>\n    </tr>\n    <tr>\n      <th>2030-10-07T23:00</th>\n      <td>0.383567</td>\n      <td>1.000000</td>\n      <td>1.0</td>\n      <td>0.000000</td>\n      <td>1.0</td>\n      <td>1.000000</td>\n      <td>0.187270</td>\n      <td>0.0</td>\n      <td>0.707231</td>\n      <td>0.575209</td>\n      <td>...</td>\n      <td>0.185676</td>\n      <td>0.185676</td>\n      <td>0.170469</td>\n      <td>0.170469</td>\n      <td>0.185676</td>\n      <td>0.185676</td>\n      <td>0.185676</td>\n      <td>0.185676</td>\n      <td>0.185676</td>\n      <td>0.187270</td>\n    </tr>\n  </tbody>\n</table>\n<p>672 rows × 1562 columns</p>\n</div>"
     },
     "execution_count": 7,
     "metadata": {},
     "output_type": "execute_result"
    }
   ],
   "source": [
    "start_time = time.time()\n",
    "df = f.share_renewables(use_case_home_path, use_case)\n",
    "print(f'Execution time: {time.time() - start_time} seconds')\n",
    "df"
   ],
   "metadata": {
    "collapsed": false,
    "pycharm": {
     "name": "#%%\n"
    }
   }
  }
 ],
 "metadata": {
  "kernelspec": {
   "display_name": "fim_ml",
   "language": "python",
   "name": "fim_ml"
  },
  "language_info": {
   "codemirror_mode": {
    "name": "ipython",
    "version": 3
   },
   "file_extension": ".py",
   "mimetype": "text/x-python",
   "name": "python",
   "nbconvert_exporter": "python",
   "pygments_lexer": "ipython3",
   "version": "3.8.13"
  }
 },
 "nbformat": 4,
 "nbformat_minor": 1
}