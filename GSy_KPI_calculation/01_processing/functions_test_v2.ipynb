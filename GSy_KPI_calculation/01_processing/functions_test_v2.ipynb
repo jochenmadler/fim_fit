{
 "cells": [
  {
   "cell_type": "code",
   "execution_count": 1,
   "metadata": {
    "collapsed": true,
    "pycharm": {
     "name": "#%%\n"
    }
   },
   "outputs": [],
   "source": [
    "# set up\n",
    "import os\n",
    "import warnings\n",
    "import numpy as np\n",
    "import pandas as pd\n",
    "import functools as func\n",
    "import functions as f\n",
    "import matplotlib.pyplot as plt\n",
    "import seaborn as sns\n",
    "\n",
    "sns.set_style('white')\n",
    "home_path = \"C:\\\\Users\\joche\\FIM Kernkompetenzzentrum\\Projekt VIdES - Dokumente\\General\\\\07_Arbeitsordner\\\\04_Ergebnisse\\\\20220920_Ergebnisse_4_Wochen\"\n",
    "os.chdir(home_path)"
   ]
  },
  {
   "cell_type": "markdown",
   "source": [
    "before changing to a use case folder, always make you switch to ``home_path`` first (and then go down one level by selecting the desired use case). This way, you can switch to any use case from **any** directory."
   ],
   "metadata": {
    "collapsed": false,
    "pycharm": {
     "name": "#%% md\n"
    }
   }
  },
  {
   "cell_type": "code",
   "execution_count": 2,
   "outputs": [],
   "source": [
    "os.chdir(home_path)\n",
    "os.chdir('Base_Case')"
   ],
   "metadata": {
    "collapsed": false,
    "pycharm": {
     "name": "#%%\n"
    }
   }
  },
  {
   "cell_type": "markdown",
   "source": [
    "now we are in **Base_Case**. We hand over the current directory path with ``os.getcwd()`` to the functions. They only operate in and give results for the selected use case.\n",
    "\n",
    "#### Notice:\n",
    "To properly calculate results for a use case, all month-folders need to be unzipped."
   ],
   "metadata": {
    "collapsed": false,
    "pycharm": {
     "name": "#%% md\n"
    }
   }
  },
  {
   "cell_type": "markdown",
   "source": [
    "#### KPI 1: Average price\n",
    "To calculate the average price at each time step, there are four functions for the respective levels. At each level, for each month (here: 4) all relevant csv.-files are read in.\n",
    "- f.avg_p_germany() -> 1 * 4 files\n",
    "- f.avg_p_regions() -> 6 * 4 files\n",
    "- f.avg_p_ecs() -> 36 * 4 files\n",
    "- f.avg_p_members() -> 1481 * 4 files"
   ],
   "metadata": {
    "collapsed": false,
    "pycharm": {
     "name": "#%% md\n"
    }
   }
  },
  {
   "cell_type": "code",
   "execution_count": 4,
   "outputs": [
    {
     "data": {
      "text/plain": "                          slot  region1_avg trade rate [ct./kWh]  \\\n0    2030-01-01T00:00:00+00:00                                 0   \n1    2030-01-01T01:00:00+00:00                                 0   \n2    2030-01-01T02:00:00+00:00                                 0   \n3    2030-01-01T03:00:00+00:00                                 0   \n4    2030-01-01T04:00:00+00:00                                 0   \n..                         ...                               ...   \n163  2030-10-07T19:00:00+00:00                                 0   \n164  2030-10-07T20:00:00+00:00                                 0   \n165  2030-10-07T21:00:00+00:00                                 0   \n166  2030-10-07T22:00:00+00:00                                 0   \n167  2030-10-07T23:00:00+00:00                                 0   \n\n     region1_total trade volume [EURO ct.]  region2_avg trade rate [ct./kWh]  \\\n0                                        0                                 0   \n1                                        0                                 0   \n2                                        0                                 0   \n3                                        0                                 0   \n4                                        0                                 0   \n..                                     ...                               ...   \n163                                      0                                 0   \n164                                      0                                 0   \n165                                      0                                 0   \n166                                      0                                 0   \n167                                      0                                 0   \n\n     region2_total trade volume [EURO ct.]  region3_avg trade rate [ct./kWh]  \\\n0                                        0                                 0   \n1                                        0                                 0   \n2                                        0                                 0   \n3                                        0                                 0   \n4                                        0                                 0   \n..                                     ...                               ...   \n163                                      0                                 0   \n164                                      0                                 0   \n165                                      0                                 0   \n166                                      0                                 0   \n167                                      0                                 0   \n\n     region3_total trade volume [EURO ct.]  region4_avg trade rate [ct./kWh]  \\\n0                                        0                                 0   \n1                                        0                                 0   \n2                                        0                                 0   \n3                                        0                                 0   \n4                                        0                                 0   \n..                                     ...                               ...   \n163                                      0                                 0   \n164                                      0                                 0   \n165                                      0                                 0   \n166                                      0                                 0   \n167                                      0                                 0   \n\n     region4_total trade volume [EURO ct.]  region5_avg trade rate [ct./kWh]  \\\n0                                        0                                 0   \n1                                        0                                 0   \n2                                        0                                 0   \n3                                        0                                 0   \n4                                        0                                 0   \n..                                     ...                               ...   \n163                                      0                                 0   \n164                                      0                                 0   \n165                                      0                                 0   \n166                                      0                                 0   \n167                                      0                                 0   \n\n     region5_total trade volume [EURO ct.]  region6_avg trade rate [ct./kWh]  \\\n0                                        0                                 0   \n1                                        0                                 0   \n2                                        0                                 0   \n3                                        0                                 0   \n4                                        0                                 0   \n..                                     ...                               ...   \n163                                      0                                 0   \n164                                      0                                 0   \n165                                      0                                 0   \n166                                      0                                 0   \n167                                      0                                 0   \n\n     region6_total trade volume [EURO ct.]  \n0                                        0  \n1                                        0  \n2                                        0  \n3                                        0  \n4                                        0  \n..                                     ...  \n163                                      0  \n164                                      0  \n165                                      0  \n166                                      0  \n167                                      0  \n\n[672 rows x 13 columns]",
      "text/html": "<div>\n<style scoped>\n    .dataframe tbody tr th:only-of-type {\n        vertical-align: middle;\n    }\n\n    .dataframe tbody tr th {\n        vertical-align: top;\n    }\n\n    .dataframe thead th {\n        text-align: right;\n    }\n</style>\n<table border=\"1\" class=\"dataframe\">\n  <thead>\n    <tr style=\"text-align: right;\">\n      <th></th>\n      <th>slot</th>\n      <th>region1_avg trade rate [ct./kWh]</th>\n      <th>region1_total trade volume [EURO ct.]</th>\n      <th>region2_avg trade rate [ct./kWh]</th>\n      <th>region2_total trade volume [EURO ct.]</th>\n      <th>region3_avg trade rate [ct./kWh]</th>\n      <th>region3_total trade volume [EURO ct.]</th>\n      <th>region4_avg trade rate [ct./kWh]</th>\n      <th>region4_total trade volume [EURO ct.]</th>\n      <th>region5_avg trade rate [ct./kWh]</th>\n      <th>region5_total trade volume [EURO ct.]</th>\n      <th>region6_avg trade rate [ct./kWh]</th>\n      <th>region6_total trade volume [EURO ct.]</th>\n    </tr>\n  </thead>\n  <tbody>\n    <tr>\n      <th>0</th>\n      <td>2030-01-01T00:00:00+00:00</td>\n      <td>0</td>\n      <td>0</td>\n      <td>0</td>\n      <td>0</td>\n      <td>0</td>\n      <td>0</td>\n      <td>0</td>\n      <td>0</td>\n      <td>0</td>\n      <td>0</td>\n      <td>0</td>\n      <td>0</td>\n    </tr>\n    <tr>\n      <th>1</th>\n      <td>2030-01-01T01:00:00+00:00</td>\n      <td>0</td>\n      <td>0</td>\n      <td>0</td>\n      <td>0</td>\n      <td>0</td>\n      <td>0</td>\n      <td>0</td>\n      <td>0</td>\n      <td>0</td>\n      <td>0</td>\n      <td>0</td>\n      <td>0</td>\n    </tr>\n    <tr>\n      <th>2</th>\n      <td>2030-01-01T02:00:00+00:00</td>\n      <td>0</td>\n      <td>0</td>\n      <td>0</td>\n      <td>0</td>\n      <td>0</td>\n      <td>0</td>\n      <td>0</td>\n      <td>0</td>\n      <td>0</td>\n      <td>0</td>\n      <td>0</td>\n      <td>0</td>\n    </tr>\n    <tr>\n      <th>3</th>\n      <td>2030-01-01T03:00:00+00:00</td>\n      <td>0</td>\n      <td>0</td>\n      <td>0</td>\n      <td>0</td>\n      <td>0</td>\n      <td>0</td>\n      <td>0</td>\n      <td>0</td>\n      <td>0</td>\n      <td>0</td>\n      <td>0</td>\n      <td>0</td>\n    </tr>\n    <tr>\n      <th>4</th>\n      <td>2030-01-01T04:00:00+00:00</td>\n      <td>0</td>\n      <td>0</td>\n      <td>0</td>\n      <td>0</td>\n      <td>0</td>\n      <td>0</td>\n      <td>0</td>\n      <td>0</td>\n      <td>0</td>\n      <td>0</td>\n      <td>0</td>\n      <td>0</td>\n    </tr>\n    <tr>\n      <th>...</th>\n      <td>...</td>\n      <td>...</td>\n      <td>...</td>\n      <td>...</td>\n      <td>...</td>\n      <td>...</td>\n      <td>...</td>\n      <td>...</td>\n      <td>...</td>\n      <td>...</td>\n      <td>...</td>\n      <td>...</td>\n      <td>...</td>\n    </tr>\n    <tr>\n      <th>163</th>\n      <td>2030-10-07T19:00:00+00:00</td>\n      <td>0</td>\n      <td>0</td>\n      <td>0</td>\n      <td>0</td>\n      <td>0</td>\n      <td>0</td>\n      <td>0</td>\n      <td>0</td>\n      <td>0</td>\n      <td>0</td>\n      <td>0</td>\n      <td>0</td>\n    </tr>\n    <tr>\n      <th>164</th>\n      <td>2030-10-07T20:00:00+00:00</td>\n      <td>0</td>\n      <td>0</td>\n      <td>0</td>\n      <td>0</td>\n      <td>0</td>\n      <td>0</td>\n      <td>0</td>\n      <td>0</td>\n      <td>0</td>\n      <td>0</td>\n      <td>0</td>\n      <td>0</td>\n    </tr>\n    <tr>\n      <th>165</th>\n      <td>2030-10-07T21:00:00+00:00</td>\n      <td>0</td>\n      <td>0</td>\n      <td>0</td>\n      <td>0</td>\n      <td>0</td>\n      <td>0</td>\n      <td>0</td>\n      <td>0</td>\n      <td>0</td>\n      <td>0</td>\n      <td>0</td>\n      <td>0</td>\n    </tr>\n    <tr>\n      <th>166</th>\n      <td>2030-10-07T22:00:00+00:00</td>\n      <td>0</td>\n      <td>0</td>\n      <td>0</td>\n      <td>0</td>\n      <td>0</td>\n      <td>0</td>\n      <td>0</td>\n      <td>0</td>\n      <td>0</td>\n      <td>0</td>\n      <td>0</td>\n      <td>0</td>\n    </tr>\n    <tr>\n      <th>167</th>\n      <td>2030-10-07T23:00:00+00:00</td>\n      <td>0</td>\n      <td>0</td>\n      <td>0</td>\n      <td>0</td>\n      <td>0</td>\n      <td>0</td>\n      <td>0</td>\n      <td>0</td>\n      <td>0</td>\n      <td>0</td>\n      <td>0</td>\n      <td>0</td>\n    </tr>\n  </tbody>\n</table>\n<p>672 rows × 13 columns</p>\n</div>"
     },
     "execution_count": 4,
     "metadata": {},
     "output_type": "execute_result"
    }
   ],
   "source": [
    "f.avg_p_regions(os.getcwd())"
   ],
   "metadata": {
    "collapsed": false,
    "pycharm": {
     "name": "#%%\n"
    }
   }
  },
  {
   "cell_type": "code",
   "execution_count": 5,
   "outputs": [
    {
     "data": {
      "text/plain": "                          slot  region_1_ec0_avg trade rate [ct./kWh]  \\\n0    2030-01-01T00:00:00+00:00                                      0   \n1    2030-01-01T01:00:00+00:00                                      0   \n2    2030-01-01T02:00:00+00:00                                      0   \n3    2030-01-01T03:00:00+00:00                                      0   \n4    2030-01-01T04:00:00+00:00                                      0   \n..                         ...                                    ...   \n163  2030-10-07T19:00:00+00:00                                      0   \n164  2030-10-07T20:00:00+00:00                                      0   \n165  2030-10-07T21:00:00+00:00                                      0   \n166  2030-10-07T22:00:00+00:00                                      0   \n167  2030-10-07T23:00:00+00:00                                      0   \n\n     region_1_ec0_total trade volume [EURO ct.]  \\\n0                                             0   \n1                                             0   \n2                                             0   \n3                                             0   \n4                                             0   \n..                                          ...   \n163                                           0   \n164                                           0   \n165                                           0   \n166                                           0   \n167                                           0   \n\n     region_1_ec1_avg trade rate [ct./kWh]  \\\n0                                        0   \n1                                        0   \n2                                        0   \n3                                        0   \n4                                        0   \n..                                     ...   \n163                                      0   \n164                                      0   \n165                                      0   \n166                                      0   \n167                                      0   \n\n     region_1_ec1_total trade volume [EURO ct.]  \\\n0                                             0   \n1                                             0   \n2                                             0   \n3                                             0   \n4                                             0   \n..                                          ...   \n163                                           0   \n164                                           0   \n165                                           0   \n166                                           0   \n167                                           0   \n\n     region_1_ec2_avg trade rate [ct./kWh]  \\\n0                                        0   \n1                                        0   \n2                                        0   \n3                                        0   \n4                                        0   \n..                                     ...   \n163                                      0   \n164                                      0   \n165                                      0   \n166                                      0   \n167                                      0   \n\n     region_1_ec2_total trade volume [EURO ct.]  \\\n0                                             0   \n1                                             0   \n2                                             0   \n3                                             0   \n4                                             0   \n..                                          ...   \n163                                           0   \n164                                           0   \n165                                           0   \n166                                           0   \n167                                           0   \n\n     region_1_ec3_avg trade rate [ct./kWh]  \\\n0                                        0   \n1                                        0   \n2                                        0   \n3                                        0   \n4                                        0   \n..                                     ...   \n163                                      0   \n164                                      0   \n165                                      0   \n166                                      0   \n167                                      0   \n\n     region_1_ec3_total trade volume [EURO ct.]  \\\n0                                             0   \n1                                             0   \n2                                             0   \n3                                             0   \n4                                             0   \n..                                          ...   \n163                                           0   \n164                                           0   \n165                                           0   \n166                                           0   \n167                                           0   \n\n     region_1_ec4_avg trade rate [ct./kWh]  ...  \\\n0                                        0  ...   \n1                                        0  ...   \n2                                        0  ...   \n3                                        0  ...   \n4                                        0  ...   \n..                                     ...  ...   \n163                                      0  ...   \n164                                      0  ...   \n165                                      0  ...   \n166                                      0  ...   \n167                                      0  ...   \n\n     region_6_ec1_avg trade rate [ct./kWh]  \\\n0                                        0   \n1                                        0   \n2                                        0   \n3                                        0   \n4                                        0   \n..                                     ...   \n163                                      0   \n164                                      0   \n165                                      0   \n166                                      0   \n167                                      0   \n\n     region_6_ec1_total trade volume [EURO ct.]  \\\n0                                             0   \n1                                             0   \n2                                             0   \n3                                             0   \n4                                             0   \n..                                          ...   \n163                                           0   \n164                                           0   \n165                                           0   \n166                                           0   \n167                                           0   \n\n     region_6_ec2_avg trade rate [ct./kWh]  \\\n0                                        0   \n1                                        0   \n2                                        0   \n3                                        0   \n4                                        0   \n..                                     ...   \n163                                      0   \n164                                      0   \n165                                      0   \n166                                      0   \n167                                      0   \n\n     region_6_ec2_total trade volume [EURO ct.]  \\\n0                                             0   \n1                                             0   \n2                                             0   \n3                                             0   \n4                                             0   \n..                                          ...   \n163                                           0   \n164                                           0   \n165                                           0   \n166                                           0   \n167                                           0   \n\n     region_6_ec3_avg trade rate [ct./kWh]  \\\n0                                        0   \n1                                        0   \n2                                        0   \n3                                        0   \n4                                        0   \n..                                     ...   \n163                                      0   \n164                                      0   \n165                                      0   \n166                                      0   \n167                                      0   \n\n     region_6_ec3_total trade volume [EURO ct.]  \\\n0                                             0   \n1                                             0   \n2                                             0   \n3                                             0   \n4                                             0   \n..                                          ...   \n163                                           0   \n164                                           0   \n165                                           0   \n166                                           0   \n167                                           0   \n\n     region_6_ec4_avg trade rate [ct./kWh]  \\\n0                                        0   \n1                                        0   \n2                                        0   \n3                                        0   \n4                                        0   \n..                                     ...   \n163                                      0   \n164                                      0   \n165                                      0   \n166                                      0   \n167                                      0   \n\n     region_6_ec4_total trade volume [EURO ct.]  \\\n0                                             0   \n1                                             0   \n2                                             0   \n3                                             0   \n4                                             0   \n..                                          ...   \n163                                           0   \n164                                           0   \n165                                           0   \n166                                           0   \n167                                           0   \n\n     region_6_ec5_avg trade rate [ct./kWh]  \\\n0                                        0   \n1                                        0   \n2                                        0   \n3                                        0   \n4                                        0   \n..                                     ...   \n163                                      0   \n164                                      0   \n165                                      0   \n166                                      0   \n167                                      0   \n\n     region_6_ec5_total trade volume [EURO ct.]  \n0                                             0  \n1                                             0  \n2                                             0  \n3                                             0  \n4                                             0  \n..                                          ...  \n163                                           0  \n164                                           0  \n165                                           0  \n166                                           0  \n167                                           0  \n\n[672 rows x 73 columns]",
      "text/html": "<div>\n<style scoped>\n    .dataframe tbody tr th:only-of-type {\n        vertical-align: middle;\n    }\n\n    .dataframe tbody tr th {\n        vertical-align: top;\n    }\n\n    .dataframe thead th {\n        text-align: right;\n    }\n</style>\n<table border=\"1\" class=\"dataframe\">\n  <thead>\n    <tr style=\"text-align: right;\">\n      <th></th>\n      <th>slot</th>\n      <th>region_1_ec0_avg trade rate [ct./kWh]</th>\n      <th>region_1_ec0_total trade volume [EURO ct.]</th>\n      <th>region_1_ec1_avg trade rate [ct./kWh]</th>\n      <th>region_1_ec1_total trade volume [EURO ct.]</th>\n      <th>region_1_ec2_avg trade rate [ct./kWh]</th>\n      <th>region_1_ec2_total trade volume [EURO ct.]</th>\n      <th>region_1_ec3_avg trade rate [ct./kWh]</th>\n      <th>region_1_ec3_total trade volume [EURO ct.]</th>\n      <th>region_1_ec4_avg trade rate [ct./kWh]</th>\n      <th>...</th>\n      <th>region_6_ec1_avg trade rate [ct./kWh]</th>\n      <th>region_6_ec1_total trade volume [EURO ct.]</th>\n      <th>region_6_ec2_avg trade rate [ct./kWh]</th>\n      <th>region_6_ec2_total trade volume [EURO ct.]</th>\n      <th>region_6_ec3_avg trade rate [ct./kWh]</th>\n      <th>region_6_ec3_total trade volume [EURO ct.]</th>\n      <th>region_6_ec4_avg trade rate [ct./kWh]</th>\n      <th>region_6_ec4_total trade volume [EURO ct.]</th>\n      <th>region_6_ec5_avg trade rate [ct./kWh]</th>\n      <th>region_6_ec5_total trade volume [EURO ct.]</th>\n    </tr>\n  </thead>\n  <tbody>\n    <tr>\n      <th>0</th>\n      <td>2030-01-01T00:00:00+00:00</td>\n      <td>0</td>\n      <td>0</td>\n      <td>0</td>\n      <td>0</td>\n      <td>0</td>\n      <td>0</td>\n      <td>0</td>\n      <td>0</td>\n      <td>0</td>\n      <td>...</td>\n      <td>0</td>\n      <td>0</td>\n      <td>0</td>\n      <td>0</td>\n      <td>0</td>\n      <td>0</td>\n      <td>0</td>\n      <td>0</td>\n      <td>0</td>\n      <td>0</td>\n    </tr>\n    <tr>\n      <th>1</th>\n      <td>2030-01-01T01:00:00+00:00</td>\n      <td>0</td>\n      <td>0</td>\n      <td>0</td>\n      <td>0</td>\n      <td>0</td>\n      <td>0</td>\n      <td>0</td>\n      <td>0</td>\n      <td>0</td>\n      <td>...</td>\n      <td>0</td>\n      <td>0</td>\n      <td>0</td>\n      <td>0</td>\n      <td>0</td>\n      <td>0</td>\n      <td>0</td>\n      <td>0</td>\n      <td>0</td>\n      <td>0</td>\n    </tr>\n    <tr>\n      <th>2</th>\n      <td>2030-01-01T02:00:00+00:00</td>\n      <td>0</td>\n      <td>0</td>\n      <td>0</td>\n      <td>0</td>\n      <td>0</td>\n      <td>0</td>\n      <td>0</td>\n      <td>0</td>\n      <td>0</td>\n      <td>...</td>\n      <td>0</td>\n      <td>0</td>\n      <td>0</td>\n      <td>0</td>\n      <td>0</td>\n      <td>0</td>\n      <td>0</td>\n      <td>0</td>\n      <td>0</td>\n      <td>0</td>\n    </tr>\n    <tr>\n      <th>3</th>\n      <td>2030-01-01T03:00:00+00:00</td>\n      <td>0</td>\n      <td>0</td>\n      <td>0</td>\n      <td>0</td>\n      <td>0</td>\n      <td>0</td>\n      <td>0</td>\n      <td>0</td>\n      <td>0</td>\n      <td>...</td>\n      <td>0</td>\n      <td>0</td>\n      <td>0</td>\n      <td>0</td>\n      <td>0</td>\n      <td>0</td>\n      <td>0</td>\n      <td>0</td>\n      <td>0</td>\n      <td>0</td>\n    </tr>\n    <tr>\n      <th>4</th>\n      <td>2030-01-01T04:00:00+00:00</td>\n      <td>0</td>\n      <td>0</td>\n      <td>0</td>\n      <td>0</td>\n      <td>0</td>\n      <td>0</td>\n      <td>0</td>\n      <td>0</td>\n      <td>0</td>\n      <td>...</td>\n      <td>0</td>\n      <td>0</td>\n      <td>0</td>\n      <td>0</td>\n      <td>0</td>\n      <td>0</td>\n      <td>0</td>\n      <td>0</td>\n      <td>0</td>\n      <td>0</td>\n    </tr>\n    <tr>\n      <th>...</th>\n      <td>...</td>\n      <td>...</td>\n      <td>...</td>\n      <td>...</td>\n      <td>...</td>\n      <td>...</td>\n      <td>...</td>\n      <td>...</td>\n      <td>...</td>\n      <td>...</td>\n      <td>...</td>\n      <td>...</td>\n      <td>...</td>\n      <td>...</td>\n      <td>...</td>\n      <td>...</td>\n      <td>...</td>\n      <td>...</td>\n      <td>...</td>\n      <td>...</td>\n      <td>...</td>\n    </tr>\n    <tr>\n      <th>163</th>\n      <td>2030-10-07T19:00:00+00:00</td>\n      <td>0</td>\n      <td>0</td>\n      <td>0</td>\n      <td>0</td>\n      <td>0</td>\n      <td>0</td>\n      <td>0</td>\n      <td>0</td>\n      <td>0</td>\n      <td>...</td>\n      <td>0</td>\n      <td>0</td>\n      <td>0</td>\n      <td>0</td>\n      <td>0</td>\n      <td>0</td>\n      <td>0</td>\n      <td>0</td>\n      <td>0</td>\n      <td>0</td>\n    </tr>\n    <tr>\n      <th>164</th>\n      <td>2030-10-07T20:00:00+00:00</td>\n      <td>0</td>\n      <td>0</td>\n      <td>0</td>\n      <td>0</td>\n      <td>0</td>\n      <td>0</td>\n      <td>0</td>\n      <td>0</td>\n      <td>0</td>\n      <td>...</td>\n      <td>0</td>\n      <td>0</td>\n      <td>0</td>\n      <td>0</td>\n      <td>0</td>\n      <td>0</td>\n      <td>0</td>\n      <td>0</td>\n      <td>0</td>\n      <td>0</td>\n    </tr>\n    <tr>\n      <th>165</th>\n      <td>2030-10-07T21:00:00+00:00</td>\n      <td>0</td>\n      <td>0</td>\n      <td>0</td>\n      <td>0</td>\n      <td>0</td>\n      <td>0</td>\n      <td>0</td>\n      <td>0</td>\n      <td>0</td>\n      <td>...</td>\n      <td>0</td>\n      <td>0</td>\n      <td>0</td>\n      <td>0</td>\n      <td>0</td>\n      <td>0</td>\n      <td>0</td>\n      <td>0</td>\n      <td>0</td>\n      <td>0</td>\n    </tr>\n    <tr>\n      <th>166</th>\n      <td>2030-10-07T22:00:00+00:00</td>\n      <td>0</td>\n      <td>0</td>\n      <td>0</td>\n      <td>0</td>\n      <td>0</td>\n      <td>0</td>\n      <td>0</td>\n      <td>0</td>\n      <td>0</td>\n      <td>...</td>\n      <td>0</td>\n      <td>0</td>\n      <td>0</td>\n      <td>0</td>\n      <td>0</td>\n      <td>0</td>\n      <td>0</td>\n      <td>0</td>\n      <td>0</td>\n      <td>0</td>\n    </tr>\n    <tr>\n      <th>167</th>\n      <td>2030-10-07T23:00:00+00:00</td>\n      <td>0</td>\n      <td>0</td>\n      <td>0</td>\n      <td>0</td>\n      <td>0</td>\n      <td>0</td>\n      <td>0</td>\n      <td>0</td>\n      <td>0</td>\n      <td>...</td>\n      <td>0</td>\n      <td>0</td>\n      <td>0</td>\n      <td>0</td>\n      <td>0</td>\n      <td>0</td>\n      <td>0</td>\n      <td>0</td>\n      <td>0</td>\n      <td>0</td>\n    </tr>\n  </tbody>\n</table>\n<p>672 rows × 73 columns</p>\n</div>"
     },
     "execution_count": 5,
     "metadata": {},
     "output_type": "execute_result"
    }
   ],
   "source": [
    "f.avg_p_ecs(os.getcwd())"
   ],
   "metadata": {
    "collapsed": false,
    "pycharm": {
     "name": "#%%\n"
    }
   }
  },
  {
   "cell_type": "markdown",
   "source": [
    "#### KPI 2: Total costs\n",
    "To calculate the total costs for all months (here: 4), there is one function ``f.tot_cost()`` which returns a dictionary ``d`` with the levels as keys:\n",
    "- d['germany']\n",
    "- d['mm']\n",
    "- d['region']\n",
    "- d['ec']\n",
    "- d['member']\n",
    "- d['asset']"
   ],
   "metadata": {
    "collapsed": false,
    "pycharm": {
     "name": "#%% md\n"
    }
   }
  },
  {
   "cell_type": "code",
   "execution_count": 7,
   "outputs": [
    {
     "data": {
      "text/plain": "dict_keys(['germany', 'mm', 'region', 'ec', 'member', 'asset'])"
     },
     "execution_count": 7,
     "metadata": {},
     "output_type": "execute_result"
    }
   ],
   "source": [
    "d = f.tot_cost(os.getcwd())\n",
    "d.keys()"
   ],
   "metadata": {
    "collapsed": false,
    "pycharm": {
     "name": "#%%\n"
    }
   }
  },
  {
   "cell_type": "code",
   "execution_count": 8,
   "outputs": [
    {
     "data": {
      "text/plain": "          name      total\n1150  Region_1  21814.745\n1351  Region_2  27233.231\n1748  Region_3  17058.481\n1889  Region_4  15803.935\n2067  Region_5  13117.304\n2254  Region_6  14968.703",
      "text/html": "<div>\n<style scoped>\n    .dataframe tbody tr th:only-of-type {\n        vertical-align: middle;\n    }\n\n    .dataframe tbody tr th {\n        vertical-align: top;\n    }\n\n    .dataframe thead th {\n        text-align: right;\n    }\n</style>\n<table border=\"1\" class=\"dataframe\">\n  <thead>\n    <tr style=\"text-align: right;\">\n      <th></th>\n      <th>name</th>\n      <th>total</th>\n    </tr>\n  </thead>\n  <tbody>\n    <tr>\n      <th>1150</th>\n      <td>Region_1</td>\n      <td>21814.745</td>\n    </tr>\n    <tr>\n      <th>1351</th>\n      <td>Region_2</td>\n      <td>27233.231</td>\n    </tr>\n    <tr>\n      <th>1748</th>\n      <td>Region_3</td>\n      <td>17058.481</td>\n    </tr>\n    <tr>\n      <th>1889</th>\n      <td>Region_4</td>\n      <td>15803.935</td>\n    </tr>\n    <tr>\n      <th>2067</th>\n      <td>Region_5</td>\n      <td>13117.304</td>\n    </tr>\n    <tr>\n      <th>2254</th>\n      <td>Region_6</td>\n      <td>14968.703</td>\n    </tr>\n  </tbody>\n</table>\n</div>"
     },
     "execution_count": 8,
     "metadata": {},
     "output_type": "execute_result"
    }
   ],
   "source": [
    "d['region']"
   ],
   "metadata": {
    "collapsed": false,
    "pycharm": {
     "name": "#%%\n"
    }
   }
  },
  {
   "cell_type": "code",
   "execution_count": 9,
   "outputs": [
    {
     "data": {
      "text/plain": "              name      total\n1151  Region_1_EC0  10097.764\n1153  Region_1_EC1   2536.164\n1175  Region_1_EC2   2555.587\n1198  Region_1_EC3   2661.351\n1221  Region_1_EC4   2702.872\n1352  Region_2_EC0   9477.376\n1354  Region_2_EC1   3728.674\n1397  Region_2_EC2   3898.232\n1441  Region_2_EC3   3985.550\n1485  Region_2_EC4   3845.739\n1749  Region_3_EC0   8451.692\n1751  Region_3_EC1   1855.356\n1767  Region_3_EC2   2002.604\n1782  Region_3_EC3   2011.118\n1797  Region_3_EC4   2041.451\n1890  Region_4_EC0   7256.810\n1892  Region_4_EC1   1583.065\n1910  Region_4_EC2   1871.289\n1929  Region_4_EC3   2160.182\n1948  Region_4_EC4   1880.461\n2068  Region_5_EC0   3462.088\n2070  Region_5_EC1   1886.252\n2087  Region_5_EC2   2325.385\n2106  Region_5_EC3   2277.069\n2125  Region_5_EC4   2114.383\n2255  Region_6_EC0   1715.614\n2257  Region_6_EC1   3075.545\n2280  Region_6_EC2   2956.940\n2302  Region_6_EC3   2781.462\n2324  Region_6_EC4   3062.092",
      "text/html": "<div>\n<style scoped>\n    .dataframe tbody tr th:only-of-type {\n        vertical-align: middle;\n    }\n\n    .dataframe tbody tr th {\n        vertical-align: top;\n    }\n\n    .dataframe thead th {\n        text-align: right;\n    }\n</style>\n<table border=\"1\" class=\"dataframe\">\n  <thead>\n    <tr style=\"text-align: right;\">\n      <th></th>\n      <th>name</th>\n      <th>total</th>\n    </tr>\n  </thead>\n  <tbody>\n    <tr>\n      <th>1151</th>\n      <td>Region_1_EC0</td>\n      <td>10097.764</td>\n    </tr>\n    <tr>\n      <th>1153</th>\n      <td>Region_1_EC1</td>\n      <td>2536.164</td>\n    </tr>\n    <tr>\n      <th>1175</th>\n      <td>Region_1_EC2</td>\n      <td>2555.587</td>\n    </tr>\n    <tr>\n      <th>1198</th>\n      <td>Region_1_EC3</td>\n      <td>2661.351</td>\n    </tr>\n    <tr>\n      <th>1221</th>\n      <td>Region_1_EC4</td>\n      <td>2702.872</td>\n    </tr>\n    <tr>\n      <th>1352</th>\n      <td>Region_2_EC0</td>\n      <td>9477.376</td>\n    </tr>\n    <tr>\n      <th>1354</th>\n      <td>Region_2_EC1</td>\n      <td>3728.674</td>\n    </tr>\n    <tr>\n      <th>1397</th>\n      <td>Region_2_EC2</td>\n      <td>3898.232</td>\n    </tr>\n    <tr>\n      <th>1441</th>\n      <td>Region_2_EC3</td>\n      <td>3985.550</td>\n    </tr>\n    <tr>\n      <th>1485</th>\n      <td>Region_2_EC4</td>\n      <td>3845.739</td>\n    </tr>\n    <tr>\n      <th>1749</th>\n      <td>Region_3_EC0</td>\n      <td>8451.692</td>\n    </tr>\n    <tr>\n      <th>1751</th>\n      <td>Region_3_EC1</td>\n      <td>1855.356</td>\n    </tr>\n    <tr>\n      <th>1767</th>\n      <td>Region_3_EC2</td>\n      <td>2002.604</td>\n    </tr>\n    <tr>\n      <th>1782</th>\n      <td>Region_3_EC3</td>\n      <td>2011.118</td>\n    </tr>\n    <tr>\n      <th>1797</th>\n      <td>Region_3_EC4</td>\n      <td>2041.451</td>\n    </tr>\n    <tr>\n      <th>1890</th>\n      <td>Region_4_EC0</td>\n      <td>7256.810</td>\n    </tr>\n    <tr>\n      <th>1892</th>\n      <td>Region_4_EC1</td>\n      <td>1583.065</td>\n    </tr>\n    <tr>\n      <th>1910</th>\n      <td>Region_4_EC2</td>\n      <td>1871.289</td>\n    </tr>\n    <tr>\n      <th>1929</th>\n      <td>Region_4_EC3</td>\n      <td>2160.182</td>\n    </tr>\n    <tr>\n      <th>1948</th>\n      <td>Region_4_EC4</td>\n      <td>1880.461</td>\n    </tr>\n    <tr>\n      <th>2068</th>\n      <td>Region_5_EC0</td>\n      <td>3462.088</td>\n    </tr>\n    <tr>\n      <th>2070</th>\n      <td>Region_5_EC1</td>\n      <td>1886.252</td>\n    </tr>\n    <tr>\n      <th>2087</th>\n      <td>Region_5_EC2</td>\n      <td>2325.385</td>\n    </tr>\n    <tr>\n      <th>2106</th>\n      <td>Region_5_EC3</td>\n      <td>2277.069</td>\n    </tr>\n    <tr>\n      <th>2125</th>\n      <td>Region_5_EC4</td>\n      <td>2114.383</td>\n    </tr>\n    <tr>\n      <th>2255</th>\n      <td>Region_6_EC0</td>\n      <td>1715.614</td>\n    </tr>\n    <tr>\n      <th>2257</th>\n      <td>Region_6_EC1</td>\n      <td>3075.545</td>\n    </tr>\n    <tr>\n      <th>2280</th>\n      <td>Region_6_EC2</td>\n      <td>2956.940</td>\n    </tr>\n    <tr>\n      <th>2302</th>\n      <td>Region_6_EC3</td>\n      <td>2781.462</td>\n    </tr>\n    <tr>\n      <th>2324</th>\n      <td>Region_6_EC4</td>\n      <td>3062.092</td>\n    </tr>\n  </tbody>\n</table>\n</div>"
     },
     "execution_count": 9,
     "metadata": {},
     "output_type": "execute_result"
    }
   ],
   "source": [
    "d['ec']"
   ],
   "metadata": {
    "collapsed": false,
    "pycharm": {
     "name": "#%%\n"
    }
   }
  }
 ],
 "metadata": {
  "kernelspec": {
   "display_name": "fim_ml",
   "language": "python",
   "name": "fim_ml"
  },
  "language_info": {
   "codemirror_mode": {
    "name": "ipython",
    "version": 3
   },
   "file_extension": ".py",
   "mimetype": "text/x-python",
   "name": "python",
   "nbconvert_exporter": "python",
   "pygments_lexer": "ipython3",
   "version": "3.8.13"
  }
 },
 "nbformat": 4,
 "nbformat_minor": 1
}