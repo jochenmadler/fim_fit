{
 "cells": [
  {
   "cell_type": "code",
   "execution_count": 67,
   "metadata": {
    "collapsed": true,
    "pycharm": {
     "name": "#%%\n"
    }
   },
   "outputs": [],
   "source": [
    "# set up\n",
    "import os\n",
    "import warnings\n",
    "import numpy as np\n",
    "import pandas as pd\n",
    "import functools as func\n",
    "import functions_v2 as f\n",
    "import matplotlib.pyplot as plt\n",
    "import seaborn as sns\n",
    "\n",
    "sns.set_style('white')\n",
    "home_path = \"C:\\\\Users\\joche\\FIM Kernkompetenzzentrum\\Projekt VIdES - Dokumente\\General\\\\07_Arbeitsordner\\\\04_Ergebnisse\\\\20220920_Ergebnisse_4_Wochen\"\n",
    "os.chdir(home_path)"
   ]
  },
  {
   "cell_type": "code",
   "execution_count": 7,
   "outputs": [
    {
     "data": {
      "text/plain": "                                                         name     produced  \\\n67fd6213-1c79-45f0-869e-cbc56940da0f  Region_5_EC0_house_Wind -7755.388057   \nac6f62f3-4a71-4e6c-a71c-7b672fb7d4a6    Region_5_EC1_house_15          0.0   \n185c1aa3-5d17-45b3-b270-315146e78cac    Region_5_EC1_house_12          0.0   \n64893d5b-5abb-4c2a-afde-3da8b61f75ed    Region_5_EC1_house_13  -760.098579   \n02ba8245-156a-438f-bcdf-14aa1537f863    Region_5_EC1_house_14          0.0   \n...                                                       ...          ...   \nefa4d872-15ff-46d2-b359-f5abb6a81732     Region_6_EC2_house_1          0.0   \nf2228016-3600-4684-a86b-4d2ab11a3e6d     Region_6_EC2_house_8     -882.388   \n6d994eee-8f36-4126-9fb8-7dcbeb24dd38     Region_6_EC2_house_9     -882.388   \nfcd848bc-84b6-4eeb-9814-90fc1abbbd18     Region_6_EC2_house_0          0.0   \n52047542-ab16-4af7-a683-3973e3178457     Region_6_EC2_house_7     -882.388   \n\n                                            earned  \\\n67fd6213-1c79-45f0-869e-cbc56940da0f  48313.776261   \nac6f62f3-4a71-4e6c-a71c-7b672fb7d4a6           0.0   \n185c1aa3-5d17-45b3-b270-315146e78cac           0.0   \n64893d5b-5abb-4c2a-afde-3da8b61f75ed   8011.615336   \n02ba8245-156a-438f-bcdf-14aa1537f863           0.0   \n...                                            ...   \nefa4d872-15ff-46d2-b359-f5abb6a81732           0.0   \nf2228016-3600-4684-a86b-4d2ab11a3e6d   7456.868632   \n6d994eee-8f36-4126-9fb8-7dcbeb24dd38   9492.291975   \nfcd848bc-84b6-4eeb-9814-90fc1abbbd18           0.0   \n52047542-ab16-4af7-a683-3973e3178457    9314.71859   \n\n                                                                           consumedFrom  \\\n67fd6213-1c79-45f0-869e-cbc56940da0f                                                 {}   \nac6f62f3-4a71-4e6c-a71c-7b672fb7d4a6  {'Region_5_EC1': 204.00450233692575, 'Region_5...   \n185c1aa3-5d17-45b3-b270-315146e78cac  {'Region_5_EC1': 116.75056636473938, 'Region_5...   \n64893d5b-5abb-4c2a-afde-3da8b61f75ed  {'Region_5_EC1': 416.7263592850233, 'Region_5_...   \n02ba8245-156a-438f-bcdf-14aa1537f863  {'Region_5_EC1': 228.89010454231354, 'Region_5...   \n...                                                                                 ...   \nefa4d872-15ff-46d2-b359-f5abb6a81732  {'Region_6_EC2': 57.62435217570299, 'Region_6_...   \nf2228016-3600-4684-a86b-4d2ab11a3e6d  {'Region_6_EC2': 119.36384045766002, 'Region_6...   \n6d994eee-8f36-4126-9fb8-7dcbeb24dd38  {'Region_6_EC2': 94.15066896614695, 'Region_6_...   \nfcd848bc-84b6-4eeb-9814-90fc1abbbd18  {'Region_6_EC2': 382.8718976777414, 'Region_6_...   \n52047542-ab16-4af7-a683-3973e3178457  {'Region_6_EC2': 372.08442849035004, 'Region_6...   \n\n                                                                                spentTo  \\\n67fd6213-1c79-45f0-869e-cbc56940da0f                                                 {}   \nac6f62f3-4a71-4e6c-a71c-7b672fb7d4a6  {'Region_5_EC1': 5451.456829704744, 'Region_5_...   \n185c1aa3-5d17-45b3-b270-315146e78cac  {'Region_5_EC1': 3055.7340797997017, 'Region_5...   \n64893d5b-5abb-4c2a-afde-3da8b61f75ed  {'Region_5_EC1': 11320.702883084374, 'Region_5...   \n02ba8245-156a-438f-bcdf-14aa1537f863  {'Region_5_EC1': 6003.284721269903, 'Region_5_...   \n...                                                                                 ...   \nefa4d872-15ff-46d2-b359-f5abb6a81732  {'Region_6_EC2': 1448.4095540201558, 'Region_6...   \nf2228016-3600-4684-a86b-4d2ab11a3e6d  {'Region_6_EC2': 3203.775997921113, 'Region_6_...   \n6d994eee-8f36-4126-9fb8-7dcbeb24dd38  {'Region_6_EC2': 2211.846177785921, 'Region_6_...   \nfcd848bc-84b6-4eeb-9814-90fc1abbbd18  {'Region_6_EC2': 9268.667395565259, 'Region_6_...   \n52047542-ab16-4af7-a683-3973e3178457  {'Region_6_EC2': 9887.8169109173, 'Region_6_EC...   \n\n                                                               parent_uuid  \\\n67fd6213-1c79-45f0-869e-cbc56940da0f  414a9aa0-d758-4754-a92b-c4305bad7e30   \nac6f62f3-4a71-4e6c-a71c-7b672fb7d4a6  66a04e74-86ee-4f36-ae63-ddc3948f2ae0   \n185c1aa3-5d17-45b3-b270-315146e78cac  66a04e74-86ee-4f36-ae63-ddc3948f2ae0   \n64893d5b-5abb-4c2a-afde-3da8b61f75ed  66a04e74-86ee-4f36-ae63-ddc3948f2ae0   \n02ba8245-156a-438f-bcdf-14aa1537f863  66a04e74-86ee-4f36-ae63-ddc3948f2ae0   \n...                                                                    ...   \nefa4d872-15ff-46d2-b359-f5abb6a81732  b83884ff-62d5-4b7c-979c-d63445398ec8   \nf2228016-3600-4684-a86b-4d2ab11a3e6d  b83884ff-62d5-4b7c-979c-d63445398ec8   \n6d994eee-8f36-4126-9fb8-7dcbeb24dd38  b83884ff-62d5-4b7c-979c-d63445398ec8   \nfcd848bc-84b6-4eeb-9814-90fc1abbbd18  b83884ff-62d5-4b7c-979c-d63445398ec8   \n52047542-ab16-4af7-a683-3973e3178457  b83884ff-62d5-4b7c-979c-d63445398ec8   \n\n                                                                               children  \\\n67fd6213-1c79-45f0-869e-cbc56940da0f  [{'name': 'Region_5_ID_5_Wind_FeedIn', 'uuid':...   \nac6f62f3-4a71-4e6c-a71c-7b672fb7d4a6  [{'name': 'Region_5_ID_447_HH_4_Household_Elec...   \n185c1aa3-5d17-45b3-b270-315146e78cac  [{'name': 'ID_3_EV_HHChild', 'uuid': '2bd33441...   \n64893d5b-5abb-4c2a-afde-3da8b61f75ed  [{'name': 'ID_16_Data_BatteryStorage', 'uuid':...   \n02ba8245-156a-438f-bcdf-14aa1537f863  [{'name': 'Region_5_ID_446_HH_4_Household_Elec...   \n...                                                                                 ...   \nefa4d872-15ff-46d2-b359-f5abb6a81732  [{'name': 'Region_6_ID_467_HH_1_Household_Elec...   \nf2228016-3600-4684-a86b-4d2ab11a3e6d  [{'name': 'Region_6_ID_87_PV_FeedIn', 'uuid': ...   \n6d994eee-8f36-4126-9fb8-7dcbeb24dd38  [{'name': 'ID_4_EV_HHNoChild', 'uuid': 'b6aa88...   \nfcd848bc-84b6-4eeb-9814-90fc1abbbd18  [{'name': 'Region_6_ID_466_HH_1_Household_Elec...   \n52047542-ab16-4af7-a683-3973e3178457  [{'name': 'ID_3_EV_HHChild', 'uuid': 'f31d57f0...   \n\n                                       type  \\\n67fd6213-1c79-45f0-869e-cbc56940da0f  house   \nac6f62f3-4a71-4e6c-a71c-7b672fb7d4a6  house   \n185c1aa3-5d17-45b3-b270-315146e78cac  house   \n64893d5b-5abb-4c2a-afde-3da8b61f75ed  house   \n02ba8245-156a-438f-bcdf-14aa1537f863  house   \n...                                     ...   \nefa4d872-15ff-46d2-b359-f5abb6a81732  house   \nf2228016-3600-4684-a86b-4d2ab11a3e6d  house   \n6d994eee-8f36-4126-9fb8-7dcbeb24dd38  house   \nfcd848bc-84b6-4eeb-9814-90fc1abbbd18  house   \n52047542-ab16-4af7-a683-3973e3178457  house   \n\n                                                                    producedForExternal  \\\n67fd6213-1c79-45f0-869e-cbc56940da0f   {'Region_5_ID_5_Wind_FeedIn': 7755.388056835613}   \nac6f62f3-4a71-4e6c-a71c-7b672fb7d4a6                                                 {}   \n185c1aa3-5d17-45b3-b270-315146e78cac                                                 {}   \n64893d5b-5abb-4c2a-afde-3da8b61f75ed  {'Region_5_ID_62_PV_FeedIn': 317.9508789046227...   \n02ba8245-156a-438f-bcdf-14aa1537f863                                                 {}   \n...                                                                                 ...   \nefa4d872-15ff-46d2-b359-f5abb6a81732                                                 {}   \nf2228016-3600-4684-a86b-4d2ab11a3e6d    {'Region_6_ID_87_PV_FeedIn': 774.2952666666664}   \n6d994eee-8f36-4126-9fb8-7dcbeb24dd38     {'Region_6_ID_88_PV_FeedIn': 787.236043421377}   \nfcd848bc-84b6-4eeb-9814-90fc1abbbd18                                                 {}   \n52047542-ab16-4af7-a683-3973e3178457    {'Region_6_ID_94_PV_FeedIn': 587.0011299622473}   \n\n                                                                     earnedFromExternal  \\\n67fd6213-1c79-45f0-869e-cbc56940da0f  {'Region_5_ID_5_Wind_FeedIn': 48313.776261381114}   \nac6f62f3-4a71-4e6c-a71c-7b672fb7d4a6                                                 {}   \n185c1aa3-5d17-45b3-b270-315146e78cac                                                 {}   \n64893d5b-5abb-4c2a-afde-3da8b61f75ed  {'Region_5_ID_62_PV_FeedIn': 1005.136733500415...   \n02ba8245-156a-438f-bcdf-14aa1537f863                                                 {}   \n...                                                                                 ...   \nefa4d872-15ff-46d2-b359-f5abb6a81732                                                 {}   \nf2228016-3600-4684-a86b-4d2ab11a3e6d    {'Region_6_ID_87_PV_FeedIn': 5870.067306324108}   \n6d994eee-8f36-4126-9fb8-7dcbeb24dd38    {'Region_6_ID_88_PV_FeedIn': 7786.065785553575}   \nfcd848bc-84b6-4eeb-9814-90fc1abbbd18                                                 {}   \n52047542-ab16-4af7-a683-3973e3178457    {'Region_6_ID_94_PV_FeedIn': 4550.183288297855}   \n\n                                                                   consumedFromExternal  \\\n67fd6213-1c79-45f0-869e-cbc56940da0f                                                 {}   \nac6f62f3-4a71-4e6c-a71c-7b672fb7d4a6  {'Region_5_ID_447_HH_4_Household_Electric_Load...   \n185c1aa3-5d17-45b3-b270-315146e78cac  {'ID_3_EV_HHChild': -9.350862773335, 'Region_5...   \n64893d5b-5abb-4c2a-afde-3da8b61f75ed  {'ID_5_EV_Pensioner': -2.337755412607999, 'Reg...   \n02ba8245-156a-438f-bcdf-14aa1537f863  {'Region_5_ID_446_HH_4_Household_Electric_Load...   \n...                                                                                 ...   \nefa4d872-15ff-46d2-b359-f5abb6a81732  {'Region_6_ID_467_HH_1_Household_Electric_Load...   \nf2228016-3600-4684-a86b-4d2ab11a3e6d  {'Region_6_ID_497_HH_2_Household_Electric_Load...   \n6d994eee-8f36-4126-9fb8-7dcbeb24dd38  {'Region_6_ID_498_HH_2_Household_Electric_Load...   \nfcd848bc-84b6-4eeb-9814-90fc1abbbd18  {'Region_6_ID_69_Heatpump_Loadprofile': -561.6...   \n52047542-ab16-4af7-a683-3973e3178457  {'Region_6_ID_473_HH_1_Household_Electric_Load...   \n\n                                                                        spentToExternal  \n67fd6213-1c79-45f0-869e-cbc56940da0f                                                 {}  \nac6f62f3-4a71-4e6c-a71c-7b672fb7d4a6  {'Region_5_ID_447_HH_4_Household_Electric_Load...  \n185c1aa3-5d17-45b3-b270-315146e78cac  {'ID_3_EV_HHChild': 192.6291897565034, 'Region...  \n64893d5b-5abb-4c2a-afde-3da8b61f75ed  {'ID_5_EV_Pensioner': 62.95188012318466, 'Regi...  \n02ba8245-156a-438f-bcdf-14aa1537f863  {'Region_5_ID_446_HH_4_Household_Electric_Load...  \n...                                                                                 ...  \nefa4d872-15ff-46d2-b359-f5abb6a81732  {'Region_6_ID_467_HH_1_Household_Electric_Load...  \nf2228016-3600-4684-a86b-4d2ab11a3e6d  {'Region_6_ID_497_HH_2_Household_Electric_Load...  \n6d994eee-8f36-4126-9fb8-7dcbeb24dd38  {'Region_6_ID_498_HH_2_Household_Electric_Load...  \nfcd848bc-84b6-4eeb-9814-90fc1abbbd18  {'Region_6_ID_69_Heatpump_Loadprofile': 12044....  \n52047542-ab16-4af7-a683-3973e3178457  {'Region_6_ID_473_HH_1_Household_Electric_Load...  \n\n[553 rows x 12 columns]",
      "text/html": "<div>\n<style scoped>\n    .dataframe tbody tr th:only-of-type {\n        vertical-align: middle;\n    }\n\n    .dataframe tbody tr th {\n        vertical-align: top;\n    }\n\n    .dataframe thead th {\n        text-align: right;\n    }\n</style>\n<table border=\"1\" class=\"dataframe\">\n  <thead>\n    <tr style=\"text-align: right;\">\n      <th></th>\n      <th>name</th>\n      <th>produced</th>\n      <th>earned</th>\n      <th>consumedFrom</th>\n      <th>spentTo</th>\n      <th>parent_uuid</th>\n      <th>children</th>\n      <th>type</th>\n      <th>producedForExternal</th>\n      <th>earnedFromExternal</th>\n      <th>consumedFromExternal</th>\n      <th>spentToExternal</th>\n    </tr>\n  </thead>\n  <tbody>\n    <tr>\n      <th>67fd6213-1c79-45f0-869e-cbc56940da0f</th>\n      <td>Region_5_EC0_house_Wind</td>\n      <td>-7755.388057</td>\n      <td>48313.776261</td>\n      <td>{}</td>\n      <td>{}</td>\n      <td>414a9aa0-d758-4754-a92b-c4305bad7e30</td>\n      <td>[{'name': 'Region_5_ID_5_Wind_FeedIn', 'uuid':...</td>\n      <td>house</td>\n      <td>{'Region_5_ID_5_Wind_FeedIn': 7755.388056835613}</td>\n      <td>{'Region_5_ID_5_Wind_FeedIn': 48313.776261381114}</td>\n      <td>{}</td>\n      <td>{}</td>\n    </tr>\n    <tr>\n      <th>ac6f62f3-4a71-4e6c-a71c-7b672fb7d4a6</th>\n      <td>Region_5_EC1_house_15</td>\n      <td>0.0</td>\n      <td>0.0</td>\n      <td>{'Region_5_EC1': 204.00450233692575, 'Region_5...</td>\n      <td>{'Region_5_EC1': 5451.456829704744, 'Region_5_...</td>\n      <td>66a04e74-86ee-4f36-ae63-ddc3948f2ae0</td>\n      <td>[{'name': 'Region_5_ID_447_HH_4_Household_Elec...</td>\n      <td>house</td>\n      <td>{}</td>\n      <td>{}</td>\n      <td>{'Region_5_ID_447_HH_4_Household_Electric_Load...</td>\n      <td>{'Region_5_ID_447_HH_4_Household_Electric_Load...</td>\n    </tr>\n    <tr>\n      <th>185c1aa3-5d17-45b3-b270-315146e78cac</th>\n      <td>Region_5_EC1_house_12</td>\n      <td>0.0</td>\n      <td>0.0</td>\n      <td>{'Region_5_EC1': 116.75056636473938, 'Region_5...</td>\n      <td>{'Region_5_EC1': 3055.7340797997017, 'Region_5...</td>\n      <td>66a04e74-86ee-4f36-ae63-ddc3948f2ae0</td>\n      <td>[{'name': 'ID_3_EV_HHChild', 'uuid': '2bd33441...</td>\n      <td>house</td>\n      <td>{}</td>\n      <td>{}</td>\n      <td>{'ID_3_EV_HHChild': -9.350862773335, 'Region_5...</td>\n      <td>{'ID_3_EV_HHChild': 192.6291897565034, 'Region...</td>\n    </tr>\n    <tr>\n      <th>64893d5b-5abb-4c2a-afde-3da8b61f75ed</th>\n      <td>Region_5_EC1_house_13</td>\n      <td>-760.098579</td>\n      <td>8011.615336</td>\n      <td>{'Region_5_EC1': 416.7263592850233, 'Region_5_...</td>\n      <td>{'Region_5_EC1': 11320.702883084374, 'Region_5...</td>\n      <td>66a04e74-86ee-4f36-ae63-ddc3948f2ae0</td>\n      <td>[{'name': 'ID_16_Data_BatteryStorage', 'uuid':...</td>\n      <td>house</td>\n      <td>{'Region_5_ID_62_PV_FeedIn': 317.9508789046227...</td>\n      <td>{'Region_5_ID_62_PV_FeedIn': 1005.136733500415...</td>\n      <td>{'ID_5_EV_Pensioner': -2.337755412607999, 'Reg...</td>\n      <td>{'ID_5_EV_Pensioner': 62.95188012318466, 'Regi...</td>\n    </tr>\n    <tr>\n      <th>02ba8245-156a-438f-bcdf-14aa1537f863</th>\n      <td>Region_5_EC1_house_14</td>\n      <td>0.0</td>\n      <td>0.0</td>\n      <td>{'Region_5_EC1': 228.89010454231354, 'Region_5...</td>\n      <td>{'Region_5_EC1': 6003.284721269903, 'Region_5_...</td>\n      <td>66a04e74-86ee-4f36-ae63-ddc3948f2ae0</td>\n      <td>[{'name': 'Region_5_ID_446_HH_4_Household_Elec...</td>\n      <td>house</td>\n      <td>{}</td>\n      <td>{}</td>\n      <td>{'Region_5_ID_446_HH_4_Household_Electric_Load...</td>\n      <td>{'Region_5_ID_446_HH_4_Household_Electric_Load...</td>\n    </tr>\n    <tr>\n      <th>...</th>\n      <td>...</td>\n      <td>...</td>\n      <td>...</td>\n      <td>...</td>\n      <td>...</td>\n      <td>...</td>\n      <td>...</td>\n      <td>...</td>\n      <td>...</td>\n      <td>...</td>\n      <td>...</td>\n      <td>...</td>\n    </tr>\n    <tr>\n      <th>efa4d872-15ff-46d2-b359-f5abb6a81732</th>\n      <td>Region_6_EC2_house_1</td>\n      <td>0.0</td>\n      <td>0.0</td>\n      <td>{'Region_6_EC2': 57.62435217570299, 'Region_6_...</td>\n      <td>{'Region_6_EC2': 1448.4095540201558, 'Region_6...</td>\n      <td>b83884ff-62d5-4b7c-979c-d63445398ec8</td>\n      <td>[{'name': 'Region_6_ID_467_HH_1_Household_Elec...</td>\n      <td>house</td>\n      <td>{}</td>\n      <td>{}</td>\n      <td>{'Region_6_ID_467_HH_1_Household_Electric_Load...</td>\n      <td>{'Region_6_ID_467_HH_1_Household_Electric_Load...</td>\n    </tr>\n    <tr>\n      <th>f2228016-3600-4684-a86b-4d2ab11a3e6d</th>\n      <td>Region_6_EC2_house_8</td>\n      <td>-882.388</td>\n      <td>7456.868632</td>\n      <td>{'Region_6_EC2': 119.36384045766002, 'Region_6...</td>\n      <td>{'Region_6_EC2': 3203.775997921113, 'Region_6_...</td>\n      <td>b83884ff-62d5-4b7c-979c-d63445398ec8</td>\n      <td>[{'name': 'Region_6_ID_87_PV_FeedIn', 'uuid': ...</td>\n      <td>house</td>\n      <td>{'Region_6_ID_87_PV_FeedIn': 774.2952666666664}</td>\n      <td>{'Region_6_ID_87_PV_FeedIn': 5870.067306324108}</td>\n      <td>{'Region_6_ID_497_HH_2_Household_Electric_Load...</td>\n      <td>{'Region_6_ID_497_HH_2_Household_Electric_Load...</td>\n    </tr>\n    <tr>\n      <th>6d994eee-8f36-4126-9fb8-7dcbeb24dd38</th>\n      <td>Region_6_EC2_house_9</td>\n      <td>-882.388</td>\n      <td>9492.291975</td>\n      <td>{'Region_6_EC2': 94.15066896614695, 'Region_6_...</td>\n      <td>{'Region_6_EC2': 2211.846177785921, 'Region_6_...</td>\n      <td>b83884ff-62d5-4b7c-979c-d63445398ec8</td>\n      <td>[{'name': 'ID_4_EV_HHNoChild', 'uuid': 'b6aa88...</td>\n      <td>house</td>\n      <td>{'Region_6_ID_88_PV_FeedIn': 787.236043421377}</td>\n      <td>{'Region_6_ID_88_PV_FeedIn': 7786.065785553575}</td>\n      <td>{'Region_6_ID_498_HH_2_Household_Electric_Load...</td>\n      <td>{'Region_6_ID_498_HH_2_Household_Electric_Load...</td>\n    </tr>\n    <tr>\n      <th>fcd848bc-84b6-4eeb-9814-90fc1abbbd18</th>\n      <td>Region_6_EC2_house_0</td>\n      <td>0.0</td>\n      <td>0.0</td>\n      <td>{'Region_6_EC2': 382.8718976777414, 'Region_6_...</td>\n      <td>{'Region_6_EC2': 9268.667395565259, 'Region_6_...</td>\n      <td>b83884ff-62d5-4b7c-979c-d63445398ec8</td>\n      <td>[{'name': 'Region_6_ID_466_HH_1_Household_Elec...</td>\n      <td>house</td>\n      <td>{}</td>\n      <td>{}</td>\n      <td>{'Region_6_ID_69_Heatpump_Loadprofile': -561.6...</td>\n      <td>{'Region_6_ID_69_Heatpump_Loadprofile': 12044....</td>\n    </tr>\n    <tr>\n      <th>52047542-ab16-4af7-a683-3973e3178457</th>\n      <td>Region_6_EC2_house_7</td>\n      <td>-882.388</td>\n      <td>9314.71859</td>\n      <td>{'Region_6_EC2': 372.08442849035004, 'Region_6...</td>\n      <td>{'Region_6_EC2': 9887.8169109173, 'Region_6_EC...</td>\n      <td>b83884ff-62d5-4b7c-979c-d63445398ec8</td>\n      <td>[{'name': 'ID_3_EV_HHChild', 'uuid': 'f31d57f0...</td>\n      <td>house</td>\n      <td>{'Region_6_ID_94_PV_FeedIn': 587.0011299622473}</td>\n      <td>{'Region_6_ID_94_PV_FeedIn': 4550.183288297855}</td>\n      <td>{'Region_6_ID_473_HH_1_Household_Electric_Load...</td>\n      <td>{'Region_6_ID_473_HH_1_Household_Electric_Load...</td>\n    </tr>\n  </tbody>\n</table>\n<p>553 rows × 12 columns</p>\n</div>"
     },
     "execution_count": 7,
     "metadata": {},
     "output_type": "execute_result"
    }
   ],
   "source": [
    "# cumulative_grid_trades: filter by houses\n",
    "\n",
    "path = \"C:\\\\Users\\joche\\FIM Kernkompetenzzentrum\\Projekt VIdES - Dokumente\\General\\\\07_Arbeitsordner\\\\04_Ergebnisse\\\\20220920_Ergebnisse_4_Wochen\\\\Use_Case_2\\\\april\\\\aggregated_results\\cumulative_grid_trades.json\"\n",
    "d = pd.read_json(path).T\n",
    "d[d.name.str.contains('house')]"
   ],
   "metadata": {
    "collapsed": false,
    "pycharm": {
     "name": "#%%\n"
    }
   }
  },
  {
   "cell_type": "markdown",
   "metadata": {
    "pycharm": {
     "name": "#%% md\n"
    }
   },
   "source": [
    "before changing to a use case folder, always make you switch to ``home_path`` first (and then go down one level by selecting the desired use case). This way, you can switch to any use case from **any** directory."
   ]
  },
  {
   "cell_type": "code",
   "execution_count": 2,
   "metadata": {
    "pycharm": {
     "name": "#%%\n"
    }
   },
   "outputs": [],
   "source": [
    "os.chdir(home_path)\n",
    "os.chdir('Base_Case')"
   ]
  },
  {
   "cell_type": "markdown",
   "metadata": {
    "pycharm": {
     "name": "#%% md\n"
    }
   },
   "source": [
    "now we are in **Base_Case**. We hand over the current directory path with ``os.getcwd()`` to the functions. They only operate in and give results for the selected use case.\n",
    "\n",
    "#### Notice:\n",
    "To properly calculate results for a use case, all month-folders need to be unzipped."
   ]
  },
  {
   "cell_type": "markdown",
   "metadata": {
    "pycharm": {
     "name": "#%% md\n"
    }
   },
   "source": [
    "#### KPI 1: Average price\n",
    "---\n",
    "To calculate the average price at each time step, there are four functions for the respective levels. At each level, for each month (here: 4) all relevant csv.-files are read in.\n",
    "- f.avg_p_germany() -> 1 * 4 files\n",
    "- f.avg_p_regions() -> 6 * 4 files\n",
    "- f.avg_p_ecs() -> 36 * 4 files\n",
    "- f.avg_p_houses() -> 1481 * 4 files\n",
    "- f.avg_p_members() -> nr. depends on use case * 4 files"
   ]
  },
  {
   "cell_type": "code",
   "execution_count": 11,
   "metadata": {
    "pycharm": {
     "name": "#%%\n"
    }
   },
   "outputs": [],
   "source": [
    "os.chdir(home_path)\n",
    "os.chdir('Use_Case_2')"
   ]
  },
  {
   "cell_type": "code",
   "execution_count": 3,
   "metadata": {
    "pycharm": {
     "name": "#%%\n"
    }
   },
   "outputs": [
    {
     "data": {
      "text/html": [
       "<div>\n",
       "<style scoped>\n",
       "    .dataframe tbody tr th:only-of-type {\n",
       "        vertical-align: middle;\n",
       "    }\n",
       "\n",
       "    .dataframe tbody tr th {\n",
       "        vertical-align: top;\n",
       "    }\n",
       "\n",
       "    .dataframe thead th {\n",
       "        text-align: right;\n",
       "    }\n",
       "</style>\n",
       "<table border=\"1\" class=\"dataframe\">\n",
       "  <thead>\n",
       "    <tr style=\"text-align: right;\">\n",
       "      <th></th>\n",
       "      <th>slot</th>\n",
       "      <th>region1_avg trade rate [ct./kWh]</th>\n",
       "      <th>region1_total trade volume [EURO ct.]</th>\n",
       "      <th>region2_avg trade rate [ct./kWh]</th>\n",
       "      <th>region2_total trade volume [EURO ct.]</th>\n",
       "      <th>region3_avg trade rate [ct./kWh]</th>\n",
       "      <th>region3_total trade volume [EURO ct.]</th>\n",
       "      <th>region4_avg trade rate [ct./kWh]</th>\n",
       "      <th>region4_total trade volume [EURO ct.]</th>\n",
       "      <th>region5_avg trade rate [ct./kWh]</th>\n",
       "      <th>region5_total trade volume [EURO ct.]</th>\n",
       "      <th>region6_avg trade rate [ct./kWh]</th>\n",
       "      <th>region6_total trade volume [EURO ct.]</th>\n",
       "    </tr>\n",
       "  </thead>\n",
       "  <tbody>\n",
       "    <tr>\n",
       "      <th>0</th>\n",
       "      <td>2030-01-01T00:00:00+00:00</td>\n",
       "      <td>0</td>\n",
       "      <td>0</td>\n",
       "      <td>0</td>\n",
       "      <td>0</td>\n",
       "      <td>0</td>\n",
       "      <td>0</td>\n",
       "      <td>0</td>\n",
       "      <td>0</td>\n",
       "      <td>0</td>\n",
       "      <td>0</td>\n",
       "      <td>0</td>\n",
       "      <td>0</td>\n",
       "    </tr>\n",
       "    <tr>\n",
       "      <th>1</th>\n",
       "      <td>2030-01-01T01:00:00+00:00</td>\n",
       "      <td>0</td>\n",
       "      <td>0</td>\n",
       "      <td>0</td>\n",
       "      <td>0</td>\n",
       "      <td>0</td>\n",
       "      <td>0</td>\n",
       "      <td>0</td>\n",
       "      <td>0</td>\n",
       "      <td>0</td>\n",
       "      <td>0</td>\n",
       "      <td>0</td>\n",
       "      <td>0</td>\n",
       "    </tr>\n",
       "    <tr>\n",
       "      <th>2</th>\n",
       "      <td>2030-01-01T02:00:00+00:00</td>\n",
       "      <td>0</td>\n",
       "      <td>0</td>\n",
       "      <td>0</td>\n",
       "      <td>0</td>\n",
       "      <td>0</td>\n",
       "      <td>0</td>\n",
       "      <td>0</td>\n",
       "      <td>0</td>\n",
       "      <td>0</td>\n",
       "      <td>0</td>\n",
       "      <td>0</td>\n",
       "      <td>0</td>\n",
       "    </tr>\n",
       "    <tr>\n",
       "      <th>3</th>\n",
       "      <td>2030-01-01T03:00:00+00:00</td>\n",
       "      <td>0</td>\n",
       "      <td>0</td>\n",
       "      <td>0</td>\n",
       "      <td>0</td>\n",
       "      <td>0</td>\n",
       "      <td>0</td>\n",
       "      <td>0</td>\n",
       "      <td>0</td>\n",
       "      <td>0</td>\n",
       "      <td>0</td>\n",
       "      <td>0</td>\n",
       "      <td>0</td>\n",
       "    </tr>\n",
       "    <tr>\n",
       "      <th>4</th>\n",
       "      <td>2030-01-01T04:00:00+00:00</td>\n",
       "      <td>0</td>\n",
       "      <td>0</td>\n",
       "      <td>0</td>\n",
       "      <td>0</td>\n",
       "      <td>0</td>\n",
       "      <td>0</td>\n",
       "      <td>0</td>\n",
       "      <td>0</td>\n",
       "      <td>0</td>\n",
       "      <td>0</td>\n",
       "      <td>0</td>\n",
       "      <td>0</td>\n",
       "    </tr>\n",
       "    <tr>\n",
       "      <th>...</th>\n",
       "      <td>...</td>\n",
       "      <td>...</td>\n",
       "      <td>...</td>\n",
       "      <td>...</td>\n",
       "      <td>...</td>\n",
       "      <td>...</td>\n",
       "      <td>...</td>\n",
       "      <td>...</td>\n",
       "      <td>...</td>\n",
       "      <td>...</td>\n",
       "      <td>...</td>\n",
       "      <td>...</td>\n",
       "      <td>...</td>\n",
       "    </tr>\n",
       "    <tr>\n",
       "      <th>163</th>\n",
       "      <td>2030-10-07T19:00:00+00:00</td>\n",
       "      <td>0</td>\n",
       "      <td>0</td>\n",
       "      <td>0</td>\n",
       "      <td>0</td>\n",
       "      <td>0</td>\n",
       "      <td>0</td>\n",
       "      <td>0</td>\n",
       "      <td>0</td>\n",
       "      <td>0</td>\n",
       "      <td>0</td>\n",
       "      <td>0</td>\n",
       "      <td>0</td>\n",
       "    </tr>\n",
       "    <tr>\n",
       "      <th>164</th>\n",
       "      <td>2030-10-07T20:00:00+00:00</td>\n",
       "      <td>0</td>\n",
       "      <td>0</td>\n",
       "      <td>0</td>\n",
       "      <td>0</td>\n",
       "      <td>0</td>\n",
       "      <td>0</td>\n",
       "      <td>0</td>\n",
       "      <td>0</td>\n",
       "      <td>0</td>\n",
       "      <td>0</td>\n",
       "      <td>0</td>\n",
       "      <td>0</td>\n",
       "    </tr>\n",
       "    <tr>\n",
       "      <th>165</th>\n",
       "      <td>2030-10-07T21:00:00+00:00</td>\n",
       "      <td>0</td>\n",
       "      <td>0</td>\n",
       "      <td>0</td>\n",
       "      <td>0</td>\n",
       "      <td>0</td>\n",
       "      <td>0</td>\n",
       "      <td>0</td>\n",
       "      <td>0</td>\n",
       "      <td>0</td>\n",
       "      <td>0</td>\n",
       "      <td>0</td>\n",
       "      <td>0</td>\n",
       "    </tr>\n",
       "    <tr>\n",
       "      <th>166</th>\n",
       "      <td>2030-10-07T22:00:00+00:00</td>\n",
       "      <td>0</td>\n",
       "      <td>0</td>\n",
       "      <td>0</td>\n",
       "      <td>0</td>\n",
       "      <td>0</td>\n",
       "      <td>0</td>\n",
       "      <td>0</td>\n",
       "      <td>0</td>\n",
       "      <td>0</td>\n",
       "      <td>0</td>\n",
       "      <td>0</td>\n",
       "      <td>0</td>\n",
       "    </tr>\n",
       "    <tr>\n",
       "      <th>167</th>\n",
       "      <td>2030-10-07T23:00:00+00:00</td>\n",
       "      <td>0</td>\n",
       "      <td>0</td>\n",
       "      <td>0</td>\n",
       "      <td>0</td>\n",
       "      <td>0</td>\n",
       "      <td>0</td>\n",
       "      <td>0</td>\n",
       "      <td>0</td>\n",
       "      <td>0</td>\n",
       "      <td>0</td>\n",
       "      <td>0</td>\n",
       "      <td>0</td>\n",
       "    </tr>\n",
       "  </tbody>\n",
       "</table>\n",
       "<p>672 rows × 13 columns</p>\n",
       "</div>"
      ],
      "text/plain": [
       "                          slot  region1_avg trade rate [ct./kWh]  \\\n",
       "0    2030-01-01T00:00:00+00:00                                 0   \n",
       "1    2030-01-01T01:00:00+00:00                                 0   \n",
       "2    2030-01-01T02:00:00+00:00                                 0   \n",
       "3    2030-01-01T03:00:00+00:00                                 0   \n",
       "4    2030-01-01T04:00:00+00:00                                 0   \n",
       "..                         ...                               ...   \n",
       "163  2030-10-07T19:00:00+00:00                                 0   \n",
       "164  2030-10-07T20:00:00+00:00                                 0   \n",
       "165  2030-10-07T21:00:00+00:00                                 0   \n",
       "166  2030-10-07T22:00:00+00:00                                 0   \n",
       "167  2030-10-07T23:00:00+00:00                                 0   \n",
       "\n",
       "     region1_total trade volume [EURO ct.]  region2_avg trade rate [ct./kWh]  \\\n",
       "0                                        0                                 0   \n",
       "1                                        0                                 0   \n",
       "2                                        0                                 0   \n",
       "3                                        0                                 0   \n",
       "4                                        0                                 0   \n",
       "..                                     ...                               ...   \n",
       "163                                      0                                 0   \n",
       "164                                      0                                 0   \n",
       "165                                      0                                 0   \n",
       "166                                      0                                 0   \n",
       "167                                      0                                 0   \n",
       "\n",
       "     region2_total trade volume [EURO ct.]  region3_avg trade rate [ct./kWh]  \\\n",
       "0                                        0                                 0   \n",
       "1                                        0                                 0   \n",
       "2                                        0                                 0   \n",
       "3                                        0                                 0   \n",
       "4                                        0                                 0   \n",
       "..                                     ...                               ...   \n",
       "163                                      0                                 0   \n",
       "164                                      0                                 0   \n",
       "165                                      0                                 0   \n",
       "166                                      0                                 0   \n",
       "167                                      0                                 0   \n",
       "\n",
       "     region3_total trade volume [EURO ct.]  region4_avg trade rate [ct./kWh]  \\\n",
       "0                                        0                                 0   \n",
       "1                                        0                                 0   \n",
       "2                                        0                                 0   \n",
       "3                                        0                                 0   \n",
       "4                                        0                                 0   \n",
       "..                                     ...                               ...   \n",
       "163                                      0                                 0   \n",
       "164                                      0                                 0   \n",
       "165                                      0                                 0   \n",
       "166                                      0                                 0   \n",
       "167                                      0                                 0   \n",
       "\n",
       "     region4_total trade volume [EURO ct.]  region5_avg trade rate [ct./kWh]  \\\n",
       "0                                        0                                 0   \n",
       "1                                        0                                 0   \n",
       "2                                        0                                 0   \n",
       "3                                        0                                 0   \n",
       "4                                        0                                 0   \n",
       "..                                     ...                               ...   \n",
       "163                                      0                                 0   \n",
       "164                                      0                                 0   \n",
       "165                                      0                                 0   \n",
       "166                                      0                                 0   \n",
       "167                                      0                                 0   \n",
       "\n",
       "     region5_total trade volume [EURO ct.]  region6_avg trade rate [ct./kWh]  \\\n",
       "0                                        0                                 0   \n",
       "1                                        0                                 0   \n",
       "2                                        0                                 0   \n",
       "3                                        0                                 0   \n",
       "4                                        0                                 0   \n",
       "..                                     ...                               ...   \n",
       "163                                      0                                 0   \n",
       "164                                      0                                 0   \n",
       "165                                      0                                 0   \n",
       "166                                      0                                 0   \n",
       "167                                      0                                 0   \n",
       "\n",
       "     region6_total trade volume [EURO ct.]  \n",
       "0                                        0  \n",
       "1                                        0  \n",
       "2                                        0  \n",
       "3                                        0  \n",
       "4                                        0  \n",
       "..                                     ...  \n",
       "163                                      0  \n",
       "164                                      0  \n",
       "165                                      0  \n",
       "166                                      0  \n",
       "167                                      0  \n",
       "\n",
       "[672 rows x 13 columns]"
      ]
     },
     "execution_count": 3,
     "metadata": {},
     "output_type": "execute_result"
    }
   ],
   "source": [
    "f.avg_p_regions(os.getcwd())"
   ]
  },
  {
   "cell_type": "code",
   "execution_count": 5,
   "metadata": {
    "pycharm": {
     "name": "#%%\n"
    }
   },
   "outputs": [
    {
     "data": {
      "text/html": [
       "<div>\n",
       "<style scoped>\n",
       "    .dataframe tbody tr th:only-of-type {\n",
       "        vertical-align: middle;\n",
       "    }\n",
       "\n",
       "    .dataframe tbody tr th {\n",
       "        vertical-align: top;\n",
       "    }\n",
       "\n",
       "    .dataframe thead th {\n",
       "        text-align: right;\n",
       "    }\n",
       "</style>\n",
       "<table border=\"1\" class=\"dataframe\">\n",
       "  <thead>\n",
       "    <tr style=\"text-align: right;\">\n",
       "      <th></th>\n",
       "      <th>slot</th>\n",
       "      <th>region_1_ec0_avg trade rate [ct./kWh]</th>\n",
       "      <th>region_1_ec0_total trade volume [EURO ct.]</th>\n",
       "      <th>region_1_ec1_avg trade rate [ct./kWh]</th>\n",
       "      <th>region_1_ec1_total trade volume [EURO ct.]</th>\n",
       "      <th>region_1_ec2_avg trade rate [ct./kWh]</th>\n",
       "      <th>region_1_ec2_total trade volume [EURO ct.]</th>\n",
       "      <th>region_1_ec3_avg trade rate [ct./kWh]</th>\n",
       "      <th>region_1_ec3_total trade volume [EURO ct.]</th>\n",
       "      <th>region_1_ec4_avg trade rate [ct./kWh]</th>\n",
       "      <th>...</th>\n",
       "      <th>region_6_ec1_avg trade rate [ct./kWh]</th>\n",
       "      <th>region_6_ec1_total trade volume [EURO ct.]</th>\n",
       "      <th>region_6_ec2_avg trade rate [ct./kWh]</th>\n",
       "      <th>region_6_ec2_total trade volume [EURO ct.]</th>\n",
       "      <th>region_6_ec3_avg trade rate [ct./kWh]</th>\n",
       "      <th>region_6_ec3_total trade volume [EURO ct.]</th>\n",
       "      <th>region_6_ec4_avg trade rate [ct./kWh]</th>\n",
       "      <th>region_6_ec4_total trade volume [EURO ct.]</th>\n",
       "      <th>region_6_ec5_avg trade rate [ct./kWh]</th>\n",
       "      <th>region_6_ec5_total trade volume [EURO ct.]</th>\n",
       "    </tr>\n",
       "  </thead>\n",
       "  <tbody>\n",
       "    <tr>\n",
       "      <th>0</th>\n",
       "      <td>2030-01-01T00:00:00+00:00</td>\n",
       "      <td>0</td>\n",
       "      <td>0</td>\n",
       "      <td>0</td>\n",
       "      <td>0</td>\n",
       "      <td>0</td>\n",
       "      <td>0</td>\n",
       "      <td>0</td>\n",
       "      <td>0</td>\n",
       "      <td>0</td>\n",
       "      <td>...</td>\n",
       "      <td>0</td>\n",
       "      <td>0</td>\n",
       "      <td>0</td>\n",
       "      <td>0</td>\n",
       "      <td>0</td>\n",
       "      <td>0</td>\n",
       "      <td>0</td>\n",
       "      <td>0</td>\n",
       "      <td>0</td>\n",
       "      <td>0</td>\n",
       "    </tr>\n",
       "    <tr>\n",
       "      <th>1</th>\n",
       "      <td>2030-01-01T01:00:00+00:00</td>\n",
       "      <td>0</td>\n",
       "      <td>0</td>\n",
       "      <td>0</td>\n",
       "      <td>0</td>\n",
       "      <td>0</td>\n",
       "      <td>0</td>\n",
       "      <td>0</td>\n",
       "      <td>0</td>\n",
       "      <td>0</td>\n",
       "      <td>...</td>\n",
       "      <td>0</td>\n",
       "      <td>0</td>\n",
       "      <td>0</td>\n",
       "      <td>0</td>\n",
       "      <td>0</td>\n",
       "      <td>0</td>\n",
       "      <td>0</td>\n",
       "      <td>0</td>\n",
       "      <td>0</td>\n",
       "      <td>0</td>\n",
       "    </tr>\n",
       "    <tr>\n",
       "      <th>2</th>\n",
       "      <td>2030-01-01T02:00:00+00:00</td>\n",
       "      <td>0</td>\n",
       "      <td>0</td>\n",
       "      <td>0</td>\n",
       "      <td>0</td>\n",
       "      <td>0</td>\n",
       "      <td>0</td>\n",
       "      <td>0</td>\n",
       "      <td>0</td>\n",
       "      <td>0</td>\n",
       "      <td>...</td>\n",
       "      <td>0</td>\n",
       "      <td>0</td>\n",
       "      <td>0</td>\n",
       "      <td>0</td>\n",
       "      <td>0</td>\n",
       "      <td>0</td>\n",
       "      <td>0</td>\n",
       "      <td>0</td>\n",
       "      <td>0</td>\n",
       "      <td>0</td>\n",
       "    </tr>\n",
       "    <tr>\n",
       "      <th>3</th>\n",
       "      <td>2030-01-01T03:00:00+00:00</td>\n",
       "      <td>0</td>\n",
       "      <td>0</td>\n",
       "      <td>0</td>\n",
       "      <td>0</td>\n",
       "      <td>0</td>\n",
       "      <td>0</td>\n",
       "      <td>0</td>\n",
       "      <td>0</td>\n",
       "      <td>0</td>\n",
       "      <td>...</td>\n",
       "      <td>0</td>\n",
       "      <td>0</td>\n",
       "      <td>0</td>\n",
       "      <td>0</td>\n",
       "      <td>0</td>\n",
       "      <td>0</td>\n",
       "      <td>0</td>\n",
       "      <td>0</td>\n",
       "      <td>0</td>\n",
       "      <td>0</td>\n",
       "    </tr>\n",
       "    <tr>\n",
       "      <th>4</th>\n",
       "      <td>2030-01-01T04:00:00+00:00</td>\n",
       "      <td>0</td>\n",
       "      <td>0</td>\n",
       "      <td>0</td>\n",
       "      <td>0</td>\n",
       "      <td>0</td>\n",
       "      <td>0</td>\n",
       "      <td>0</td>\n",
       "      <td>0</td>\n",
       "      <td>0</td>\n",
       "      <td>...</td>\n",
       "      <td>0</td>\n",
       "      <td>0</td>\n",
       "      <td>0</td>\n",
       "      <td>0</td>\n",
       "      <td>0</td>\n",
       "      <td>0</td>\n",
       "      <td>0</td>\n",
       "      <td>0</td>\n",
       "      <td>0</td>\n",
       "      <td>0</td>\n",
       "    </tr>\n",
       "    <tr>\n",
       "      <th>...</th>\n",
       "      <td>...</td>\n",
       "      <td>...</td>\n",
       "      <td>...</td>\n",
       "      <td>...</td>\n",
       "      <td>...</td>\n",
       "      <td>...</td>\n",
       "      <td>...</td>\n",
       "      <td>...</td>\n",
       "      <td>...</td>\n",
       "      <td>...</td>\n",
       "      <td>...</td>\n",
       "      <td>...</td>\n",
       "      <td>...</td>\n",
       "      <td>...</td>\n",
       "      <td>...</td>\n",
       "      <td>...</td>\n",
       "      <td>...</td>\n",
       "      <td>...</td>\n",
       "      <td>...</td>\n",
       "      <td>...</td>\n",
       "      <td>...</td>\n",
       "    </tr>\n",
       "    <tr>\n",
       "      <th>163</th>\n",
       "      <td>2030-10-07T19:00:00+00:00</td>\n",
       "      <td>0</td>\n",
       "      <td>0</td>\n",
       "      <td>0</td>\n",
       "      <td>0</td>\n",
       "      <td>0</td>\n",
       "      <td>0</td>\n",
       "      <td>0</td>\n",
       "      <td>0</td>\n",
       "      <td>0</td>\n",
       "      <td>...</td>\n",
       "      <td>0</td>\n",
       "      <td>0</td>\n",
       "      <td>0</td>\n",
       "      <td>0</td>\n",
       "      <td>0</td>\n",
       "      <td>0</td>\n",
       "      <td>0</td>\n",
       "      <td>0</td>\n",
       "      <td>0</td>\n",
       "      <td>0</td>\n",
       "    </tr>\n",
       "    <tr>\n",
       "      <th>164</th>\n",
       "      <td>2030-10-07T20:00:00+00:00</td>\n",
       "      <td>0</td>\n",
       "      <td>0</td>\n",
       "      <td>0</td>\n",
       "      <td>0</td>\n",
       "      <td>0</td>\n",
       "      <td>0</td>\n",
       "      <td>0</td>\n",
       "      <td>0</td>\n",
       "      <td>0</td>\n",
       "      <td>...</td>\n",
       "      <td>0</td>\n",
       "      <td>0</td>\n",
       "      <td>0</td>\n",
       "      <td>0</td>\n",
       "      <td>0</td>\n",
       "      <td>0</td>\n",
       "      <td>0</td>\n",
       "      <td>0</td>\n",
       "      <td>0</td>\n",
       "      <td>0</td>\n",
       "    </tr>\n",
       "    <tr>\n",
       "      <th>165</th>\n",
       "      <td>2030-10-07T21:00:00+00:00</td>\n",
       "      <td>0</td>\n",
       "      <td>0</td>\n",
       "      <td>0</td>\n",
       "      <td>0</td>\n",
       "      <td>0</td>\n",
       "      <td>0</td>\n",
       "      <td>0</td>\n",
       "      <td>0</td>\n",
       "      <td>0</td>\n",
       "      <td>...</td>\n",
       "      <td>0</td>\n",
       "      <td>0</td>\n",
       "      <td>0</td>\n",
       "      <td>0</td>\n",
       "      <td>0</td>\n",
       "      <td>0</td>\n",
       "      <td>0</td>\n",
       "      <td>0</td>\n",
       "      <td>0</td>\n",
       "      <td>0</td>\n",
       "    </tr>\n",
       "    <tr>\n",
       "      <th>166</th>\n",
       "      <td>2030-10-07T22:00:00+00:00</td>\n",
       "      <td>0</td>\n",
       "      <td>0</td>\n",
       "      <td>0</td>\n",
       "      <td>0</td>\n",
       "      <td>0</td>\n",
       "      <td>0</td>\n",
       "      <td>0</td>\n",
       "      <td>0</td>\n",
       "      <td>0</td>\n",
       "      <td>...</td>\n",
       "      <td>0</td>\n",
       "      <td>0</td>\n",
       "      <td>0</td>\n",
       "      <td>0</td>\n",
       "      <td>0</td>\n",
       "      <td>0</td>\n",
       "      <td>0</td>\n",
       "      <td>0</td>\n",
       "      <td>0</td>\n",
       "      <td>0</td>\n",
       "    </tr>\n",
       "    <tr>\n",
       "      <th>167</th>\n",
       "      <td>2030-10-07T23:00:00+00:00</td>\n",
       "      <td>0</td>\n",
       "      <td>0</td>\n",
       "      <td>0</td>\n",
       "      <td>0</td>\n",
       "      <td>0</td>\n",
       "      <td>0</td>\n",
       "      <td>0</td>\n",
       "      <td>0</td>\n",
       "      <td>0</td>\n",
       "      <td>...</td>\n",
       "      <td>0</td>\n",
       "      <td>0</td>\n",
       "      <td>0</td>\n",
       "      <td>0</td>\n",
       "      <td>0</td>\n",
       "      <td>0</td>\n",
       "      <td>0</td>\n",
       "      <td>0</td>\n",
       "      <td>0</td>\n",
       "      <td>0</td>\n",
       "    </tr>\n",
       "  </tbody>\n",
       "</table>\n",
       "<p>672 rows × 73 columns</p>\n",
       "</div>"
      ],
      "text/plain": [
       "                          slot  region_1_ec0_avg trade rate [ct./kWh]  \\\n",
       "0    2030-01-01T00:00:00+00:00                                      0   \n",
       "1    2030-01-01T01:00:00+00:00                                      0   \n",
       "2    2030-01-01T02:00:00+00:00                                      0   \n",
       "3    2030-01-01T03:00:00+00:00                                      0   \n",
       "4    2030-01-01T04:00:00+00:00                                      0   \n",
       "..                         ...                                    ...   \n",
       "163  2030-10-07T19:00:00+00:00                                      0   \n",
       "164  2030-10-07T20:00:00+00:00                                      0   \n",
       "165  2030-10-07T21:00:00+00:00                                      0   \n",
       "166  2030-10-07T22:00:00+00:00                                      0   \n",
       "167  2030-10-07T23:00:00+00:00                                      0   \n",
       "\n",
       "     region_1_ec0_total trade volume [EURO ct.]  \\\n",
       "0                                             0   \n",
       "1                                             0   \n",
       "2                                             0   \n",
       "3                                             0   \n",
       "4                                             0   \n",
       "..                                          ...   \n",
       "163                                           0   \n",
       "164                                           0   \n",
       "165                                           0   \n",
       "166                                           0   \n",
       "167                                           0   \n",
       "\n",
       "     region_1_ec1_avg trade rate [ct./kWh]  \\\n",
       "0                                        0   \n",
       "1                                        0   \n",
       "2                                        0   \n",
       "3                                        0   \n",
       "4                                        0   \n",
       "..                                     ...   \n",
       "163                                      0   \n",
       "164                                      0   \n",
       "165                                      0   \n",
       "166                                      0   \n",
       "167                                      0   \n",
       "\n",
       "     region_1_ec1_total trade volume [EURO ct.]  \\\n",
       "0                                             0   \n",
       "1                                             0   \n",
       "2                                             0   \n",
       "3                                             0   \n",
       "4                                             0   \n",
       "..                                          ...   \n",
       "163                                           0   \n",
       "164                                           0   \n",
       "165                                           0   \n",
       "166                                           0   \n",
       "167                                           0   \n",
       "\n",
       "     region_1_ec2_avg trade rate [ct./kWh]  \\\n",
       "0                                        0   \n",
       "1                                        0   \n",
       "2                                        0   \n",
       "3                                        0   \n",
       "4                                        0   \n",
       "..                                     ...   \n",
       "163                                      0   \n",
       "164                                      0   \n",
       "165                                      0   \n",
       "166                                      0   \n",
       "167                                      0   \n",
       "\n",
       "     region_1_ec2_total trade volume [EURO ct.]  \\\n",
       "0                                             0   \n",
       "1                                             0   \n",
       "2                                             0   \n",
       "3                                             0   \n",
       "4                                             0   \n",
       "..                                          ...   \n",
       "163                                           0   \n",
       "164                                           0   \n",
       "165                                           0   \n",
       "166                                           0   \n",
       "167                                           0   \n",
       "\n",
       "     region_1_ec3_avg trade rate [ct./kWh]  \\\n",
       "0                                        0   \n",
       "1                                        0   \n",
       "2                                        0   \n",
       "3                                        0   \n",
       "4                                        0   \n",
       "..                                     ...   \n",
       "163                                      0   \n",
       "164                                      0   \n",
       "165                                      0   \n",
       "166                                      0   \n",
       "167                                      0   \n",
       "\n",
       "     region_1_ec3_total trade volume [EURO ct.]  \\\n",
       "0                                             0   \n",
       "1                                             0   \n",
       "2                                             0   \n",
       "3                                             0   \n",
       "4                                             0   \n",
       "..                                          ...   \n",
       "163                                           0   \n",
       "164                                           0   \n",
       "165                                           0   \n",
       "166                                           0   \n",
       "167                                           0   \n",
       "\n",
       "     region_1_ec4_avg trade rate [ct./kWh]  ...  \\\n",
       "0                                        0  ...   \n",
       "1                                        0  ...   \n",
       "2                                        0  ...   \n",
       "3                                        0  ...   \n",
       "4                                        0  ...   \n",
       "..                                     ...  ...   \n",
       "163                                      0  ...   \n",
       "164                                      0  ...   \n",
       "165                                      0  ...   \n",
       "166                                      0  ...   \n",
       "167                                      0  ...   \n",
       "\n",
       "     region_6_ec1_avg trade rate [ct./kWh]  \\\n",
       "0                                        0   \n",
       "1                                        0   \n",
       "2                                        0   \n",
       "3                                        0   \n",
       "4                                        0   \n",
       "..                                     ...   \n",
       "163                                      0   \n",
       "164                                      0   \n",
       "165                                      0   \n",
       "166                                      0   \n",
       "167                                      0   \n",
       "\n",
       "     region_6_ec1_total trade volume [EURO ct.]  \\\n",
       "0                                             0   \n",
       "1                                             0   \n",
       "2                                             0   \n",
       "3                                             0   \n",
       "4                                             0   \n",
       "..                                          ...   \n",
       "163                                           0   \n",
       "164                                           0   \n",
       "165                                           0   \n",
       "166                                           0   \n",
       "167                                           0   \n",
       "\n",
       "     region_6_ec2_avg trade rate [ct./kWh]  \\\n",
       "0                                        0   \n",
       "1                                        0   \n",
       "2                                        0   \n",
       "3                                        0   \n",
       "4                                        0   \n",
       "..                                     ...   \n",
       "163                                      0   \n",
       "164                                      0   \n",
       "165                                      0   \n",
       "166                                      0   \n",
       "167                                      0   \n",
       "\n",
       "     region_6_ec2_total trade volume [EURO ct.]  \\\n",
       "0                                             0   \n",
       "1                                             0   \n",
       "2                                             0   \n",
       "3                                             0   \n",
       "4                                             0   \n",
       "..                                          ...   \n",
       "163                                           0   \n",
       "164                                           0   \n",
       "165                                           0   \n",
       "166                                           0   \n",
       "167                                           0   \n",
       "\n",
       "     region_6_ec3_avg trade rate [ct./kWh]  \\\n",
       "0                                        0   \n",
       "1                                        0   \n",
       "2                                        0   \n",
       "3                                        0   \n",
       "4                                        0   \n",
       "..                                     ...   \n",
       "163                                      0   \n",
       "164                                      0   \n",
       "165                                      0   \n",
       "166                                      0   \n",
       "167                                      0   \n",
       "\n",
       "     region_6_ec3_total trade volume [EURO ct.]  \\\n",
       "0                                             0   \n",
       "1                                             0   \n",
       "2                                             0   \n",
       "3                                             0   \n",
       "4                                             0   \n",
       "..                                          ...   \n",
       "163                                           0   \n",
       "164                                           0   \n",
       "165                                           0   \n",
       "166                                           0   \n",
       "167                                           0   \n",
       "\n",
       "     region_6_ec4_avg trade rate [ct./kWh]  \\\n",
       "0                                        0   \n",
       "1                                        0   \n",
       "2                                        0   \n",
       "3                                        0   \n",
       "4                                        0   \n",
       "..                                     ...   \n",
       "163                                      0   \n",
       "164                                      0   \n",
       "165                                      0   \n",
       "166                                      0   \n",
       "167                                      0   \n",
       "\n",
       "     region_6_ec4_total trade volume [EURO ct.]  \\\n",
       "0                                             0   \n",
       "1                                             0   \n",
       "2                                             0   \n",
       "3                                             0   \n",
       "4                                             0   \n",
       "..                                          ...   \n",
       "163                                           0   \n",
       "164                                           0   \n",
       "165                                           0   \n",
       "166                                           0   \n",
       "167                                           0   \n",
       "\n",
       "     region_6_ec5_avg trade rate [ct./kWh]  \\\n",
       "0                                        0   \n",
       "1                                        0   \n",
       "2                                        0   \n",
       "3                                        0   \n",
       "4                                        0   \n",
       "..                                     ...   \n",
       "163                                      0   \n",
       "164                                      0   \n",
       "165                                      0   \n",
       "166                                      0   \n",
       "167                                      0   \n",
       "\n",
       "     region_6_ec5_total trade volume [EURO ct.]  \n",
       "0                                             0  \n",
       "1                                             0  \n",
       "2                                             0  \n",
       "3                                             0  \n",
       "4                                             0  \n",
       "..                                          ...  \n",
       "163                                           0  \n",
       "164                                           0  \n",
       "165                                           0  \n",
       "166                                           0  \n",
       "167                                           0  \n",
       "\n",
       "[672 rows x 73 columns]"
      ]
     },
     "execution_count": 5,
     "metadata": {},
     "output_type": "execute_result"
    }
   ],
   "source": [
    "f.avg_p_ecs(os.getcwd())"
   ]
  },
  {
   "cell_type": "code",
   "execution_count": null,
   "metadata": {
    "pycharm": {
     "name": "#%%\n"
    }
   },
   "outputs": [],
   "source": [
    "f.avg_p_houses(os.getcwd())"
   ]
  },
  {
   "cell_type": "code",
   "execution_count": 3,
   "metadata": {
    "pycharm": {
     "name": "#%%\n"
    }
   },
   "outputs": [
    {
     "data": {
      "text/html": [
       "<div>\n",
       "<style scoped>\n",
       "    .dataframe tbody tr th:only-of-type {\n",
       "        vertical-align: middle;\n",
       "    }\n",
       "\n",
       "    .dataframe tbody tr th {\n",
       "        vertical-align: top;\n",
       "    }\n",
       "\n",
       "    .dataframe thead th {\n",
       "        text-align: right;\n",
       "    }\n",
       "</style>\n",
       "<table border=\"1\" class=\"dataframe\">\n",
       "  <thead>\n",
       "    <tr style=\"text-align: right;\">\n",
       "      <th></th>\n",
       "      <th>slot</th>\n",
       "      <th>member_region_1_ec0_house_wind_avg trade rate [ct./kWh]</th>\n",
       "      <th>member_region_1_ec0_house_wind_total trade volume [EURO ct.]</th>\n",
       "      <th>member_region_1_ec1_house_0_avg trade rate [ct./kWh]</th>\n",
       "      <th>member_region_1_ec1_house_0_total trade volume [EURO ct.]</th>\n",
       "      <th>member_region_1_ec1_house_1_avg trade rate [ct./kWh]</th>\n",
       "      <th>member_region_1_ec1_house_1_total trade volume [EURO ct.]</th>\n",
       "      <th>member_region_1_ec1_house_10_avg trade rate [ct./kWh]</th>\n",
       "      <th>member_region_1_ec1_house_10_total trade volume [EURO ct.]</th>\n",
       "      <th>member_region_1_ec1_house_11_avg trade rate [ct./kWh]</th>\n",
       "      <th>...</th>\n",
       "      <th>member_region_6_ec4_house_6_avg trade rate [ct./kWh]</th>\n",
       "      <th>member_region_6_ec4_house_6_total trade volume [EURO ct.]</th>\n",
       "      <th>member_region_6_ec4_house_7_avg trade rate [ct./kWh]</th>\n",
       "      <th>member_region_6_ec4_house_7_total trade volume [EURO ct.]</th>\n",
       "      <th>member_region_6_ec4_house_8_avg trade rate [ct./kWh]</th>\n",
       "      <th>member_region_6_ec4_house_8_total trade volume [EURO ct.]</th>\n",
       "      <th>member_region_6_ec4_house_9_avg trade rate [ct./kWh]</th>\n",
       "      <th>member_region_6_ec4_house_9_total trade volume [EURO ct.]</th>\n",
       "      <th>member_region_6_ec5_house_industry_avg trade rate [ct./kWh]</th>\n",
       "      <th>member_region_6_ec5_house_industry_total trade volume [EURO ct.]</th>\n",
       "    </tr>\n",
       "  </thead>\n",
       "  <tbody>\n",
       "    <tr>\n",
       "      <th>0</th>\n",
       "      <td>2030-01-01T00:00:00+00:00</td>\n",
       "      <td>12.88</td>\n",
       "      <td>1624.684313</td>\n",
       "      <td>28.18</td>\n",
       "      <td>17.125925</td>\n",
       "      <td>27.2813</td>\n",
       "      <td>16.689039</td>\n",
       "      <td>26.28</td>\n",
       "      <td>18.578208</td>\n",
       "      <td>28.4619</td>\n",
       "      <td>...</td>\n",
       "      <td>28.1832</td>\n",
       "      <td>128.310459</td>\n",
       "      <td>29.1698</td>\n",
       "      <td>17.253152</td>\n",
       "      <td>28.3761</td>\n",
       "      <td>119.968843</td>\n",
       "      <td>29.28</td>\n",
       "      <td>32.161152</td>\n",
       "      <td>23.03</td>\n",
       "      <td>1490.391843</td>\n",
       "    </tr>\n",
       "    <tr>\n",
       "      <th>1</th>\n",
       "      <td>2030-01-01T01:00:00+00:00</td>\n",
       "      <td>12.88</td>\n",
       "      <td>1566.642620</td>\n",
       "      <td>28.18</td>\n",
       "      <td>17.140955</td>\n",
       "      <td>27.2855</td>\n",
       "      <td>17.069398</td>\n",
       "      <td>26.28</td>\n",
       "      <td>17.505984</td>\n",
       "      <td>28.4141</td>\n",
       "      <td>...</td>\n",
       "      <td>28.2392</td>\n",
       "      <td>186.764163</td>\n",
       "      <td>29.1434</td>\n",
       "      <td>20.687470</td>\n",
       "      <td>28.3801</td>\n",
       "      <td>118.035174</td>\n",
       "      <td>25.68</td>\n",
       "      <td>26.672960</td>\n",
       "      <td>23.03</td>\n",
       "      <td>1445.690872</td>\n",
       "    </tr>\n",
       "    <tr>\n",
       "      <th>2</th>\n",
       "      <td>2030-01-01T02:00:00+00:00</td>\n",
       "      <td>12.88</td>\n",
       "      <td>1536.891232</td>\n",
       "      <td>28.18</td>\n",
       "      <td>18.478565</td>\n",
       "      <td>27.2243</td>\n",
       "      <td>18.178244</td>\n",
       "      <td>26.28</td>\n",
       "      <td>18.711360</td>\n",
       "      <td>28.4377</td>\n",
       "      <td>...</td>\n",
       "      <td>28.1327</td>\n",
       "      <td>130.663960</td>\n",
       "      <td>24.9271</td>\n",
       "      <td>17.780965</td>\n",
       "      <td>28.3787</td>\n",
       "      <td>118.275530</td>\n",
       "      <td>25.68</td>\n",
       "      <td>27.111232</td>\n",
       "      <td>23.03</td>\n",
       "      <td>1471.131523</td>\n",
       "    </tr>\n",
       "    <tr>\n",
       "      <th>3</th>\n",
       "      <td>2030-01-01T03:00:00+00:00</td>\n",
       "      <td>12.88</td>\n",
       "      <td>1538.699925</td>\n",
       "      <td>24.08</td>\n",
       "      <td>16.265237</td>\n",
       "      <td>27.2550</td>\n",
       "      <td>18.559634</td>\n",
       "      <td>26.28</td>\n",
       "      <td>17.344800</td>\n",
       "      <td>28.4692</td>\n",
       "      <td>...</td>\n",
       "      <td>28.1302</td>\n",
       "      <td>130.499440</td>\n",
       "      <td>24.9016</td>\n",
       "      <td>17.707469</td>\n",
       "      <td>28.3266</td>\n",
       "      <td>142.663067</td>\n",
       "      <td>25.68</td>\n",
       "      <td>49.613760</td>\n",
       "      <td>23.03</td>\n",
       "      <td>1490.908524</td>\n",
       "    </tr>\n",
       "    <tr>\n",
       "      <th>4</th>\n",
       "      <td>2030-01-01T04:00:00+00:00</td>\n",
       "      <td>12.88</td>\n",
       "      <td>1584.040737</td>\n",
       "      <td>24.08</td>\n",
       "      <td>14.049877</td>\n",
       "      <td>27.2565</td>\n",
       "      <td>16.024750</td>\n",
       "      <td>26.28</td>\n",
       "      <td>31.795296</td>\n",
       "      <td>28.4716</td>\n",
       "      <td>...</td>\n",
       "      <td>27.8990</td>\n",
       "      <td>146.513739</td>\n",
       "      <td>24.8760</td>\n",
       "      <td>33.113017</td>\n",
       "      <td>28.3299</td>\n",
       "      <td>140.447819</td>\n",
       "      <td>25.68</td>\n",
       "      <td>47.764800</td>\n",
       "      <td>23.03</td>\n",
       "      <td>1500.803298</td>\n",
       "    </tr>\n",
       "    <tr>\n",
       "      <th>...</th>\n",
       "      <td>...</td>\n",
       "      <td>...</td>\n",
       "      <td>...</td>\n",
       "      <td>...</td>\n",
       "      <td>...</td>\n",
       "      <td>...</td>\n",
       "      <td>...</td>\n",
       "      <td>...</td>\n",
       "      <td>...</td>\n",
       "      <td>...</td>\n",
       "      <td>...</td>\n",
       "      <td>...</td>\n",
       "      <td>...</td>\n",
       "      <td>...</td>\n",
       "      <td>...</td>\n",
       "      <td>...</td>\n",
       "      <td>...</td>\n",
       "      <td>...</td>\n",
       "      <td>...</td>\n",
       "      <td>...</td>\n",
       "      <td>...</td>\n",
       "    </tr>\n",
       "    <tr>\n",
       "      <th>163</th>\n",
       "      <td>2030-10-07T19:00:00+00:00</td>\n",
       "      <td>12.88</td>\n",
       "      <td>2972.696765</td>\n",
       "      <td>32.28</td>\n",
       "      <td>38.933984</td>\n",
       "      <td>33.4836</td>\n",
       "      <td>43.726038</td>\n",
       "      <td>32.48</td>\n",
       "      <td>67.211947</td>\n",
       "      <td>33.4836</td>\n",
       "      <td>...</td>\n",
       "      <td>33.4836</td>\n",
       "      <td>132.790760</td>\n",
       "      <td>33.4808</td>\n",
       "      <td>14.794920</td>\n",
       "      <td>33.3996</td>\n",
       "      <td>131.227028</td>\n",
       "      <td>32.88</td>\n",
       "      <td>35.773440</td>\n",
       "      <td>28.13</td>\n",
       "      <td>1705.931075</td>\n",
       "    </tr>\n",
       "    <tr>\n",
       "      <th>164</th>\n",
       "      <td>2030-10-07T20:00:00+00:00</td>\n",
       "      <td>12.88</td>\n",
       "      <td>2887.670212</td>\n",
       "      <td>32.28</td>\n",
       "      <td>35.749024</td>\n",
       "      <td>32.2713</td>\n",
       "      <td>38.431093</td>\n",
       "      <td>32.48</td>\n",
       "      <td>44.709803</td>\n",
       "      <td>33.4836</td>\n",
       "      <td>...</td>\n",
       "      <td>33.4836</td>\n",
       "      <td>130.765105</td>\n",
       "      <td>33.1059</td>\n",
       "      <td>13.284553</td>\n",
       "      <td>33.3930</td>\n",
       "      <td>134.749875</td>\n",
       "      <td>32.88</td>\n",
       "      <td>39.587520</td>\n",
       "      <td>28.13</td>\n",
       "      <td>1687.885541</td>\n",
       "    </tr>\n",
       "    <tr>\n",
       "      <th>165</th>\n",
       "      <td>2030-10-07T21:00:00+00:00</td>\n",
       "      <td>12.88</td>\n",
       "      <td>2765.065831</td>\n",
       "      <td>32.28</td>\n",
       "      <td>29.086432</td>\n",
       "      <td>32.0797</td>\n",
       "      <td>31.136768</td>\n",
       "      <td>32.48</td>\n",
       "      <td>47.386155</td>\n",
       "      <td>33.3947</td>\n",
       "      <td>...</td>\n",
       "      <td>33.4836</td>\n",
       "      <td>130.007025</td>\n",
       "      <td>33.1480</td>\n",
       "      <td>12.497013</td>\n",
       "      <td>33.3659</td>\n",
       "      <td>153.803524</td>\n",
       "      <td>32.88</td>\n",
       "      <td>58.789440</td>\n",
       "      <td>28.13</td>\n",
       "      <td>1698.193244</td>\n",
       "    </tr>\n",
       "    <tr>\n",
       "      <th>166</th>\n",
       "      <td>2030-10-07T22:00:00+00:00</td>\n",
       "      <td>12.88</td>\n",
       "      <td>2749.766260</td>\n",
       "      <td>32.28</td>\n",
       "      <td>34.113504</td>\n",
       "      <td>32.1021</td>\n",
       "      <td>35.925156</td>\n",
       "      <td>32.48</td>\n",
       "      <td>50.305024</td>\n",
       "      <td>33.4175</td>\n",
       "      <td>...</td>\n",
       "      <td>33.2179</td>\n",
       "      <td>127.786161</td>\n",
       "      <td>33.1560</td>\n",
       "      <td>11.472786</td>\n",
       "      <td>33.3681</td>\n",
       "      <td>151.511780</td>\n",
       "      <td>32.88</td>\n",
       "      <td>56.834176</td>\n",
       "      <td>28.13</td>\n",
       "      <td>1675.761823</td>\n",
       "    </tr>\n",
       "    <tr>\n",
       "      <th>167</th>\n",
       "      <td>2030-10-07T23:00:00+00:00</td>\n",
       "      <td>12.88</td>\n",
       "      <td>2652.697530</td>\n",
       "      <td>32.28</td>\n",
       "      <td>40.784704</td>\n",
       "      <td>32.1144</td>\n",
       "      <td>42.570595</td>\n",
       "      <td>29.38</td>\n",
       "      <td>24.945579</td>\n",
       "      <td>33.3981</td>\n",
       "      <td>...</td>\n",
       "      <td>33.1885</td>\n",
       "      <td>128.379236</td>\n",
       "      <td>29.5899</td>\n",
       "      <td>11.212375</td>\n",
       "      <td>33.3822</td>\n",
       "      <td>140.529439</td>\n",
       "      <td>29.28</td>\n",
       "      <td>41.195008</td>\n",
       "      <td>28.13</td>\n",
       "      <td>1705.028474</td>\n",
       "    </tr>\n",
       "  </tbody>\n",
       "</table>\n",
       "<p>672 rows × 1107 columns</p>\n",
       "</div>"
      ],
      "text/plain": [
       "                          slot  \\\n",
       "0    2030-01-01T00:00:00+00:00   \n",
       "1    2030-01-01T01:00:00+00:00   \n",
       "2    2030-01-01T02:00:00+00:00   \n",
       "3    2030-01-01T03:00:00+00:00   \n",
       "4    2030-01-01T04:00:00+00:00   \n",
       "..                         ...   \n",
       "163  2030-10-07T19:00:00+00:00   \n",
       "164  2030-10-07T20:00:00+00:00   \n",
       "165  2030-10-07T21:00:00+00:00   \n",
       "166  2030-10-07T22:00:00+00:00   \n",
       "167  2030-10-07T23:00:00+00:00   \n",
       "\n",
       "     member_region_1_ec0_house_wind_avg trade rate [ct./kWh]  \\\n",
       "0                                                12.88         \n",
       "1                                                12.88         \n",
       "2                                                12.88         \n",
       "3                                                12.88         \n",
       "4                                                12.88         \n",
       "..                                                 ...         \n",
       "163                                              12.88         \n",
       "164                                              12.88         \n",
       "165                                              12.88         \n",
       "166                                              12.88         \n",
       "167                                              12.88         \n",
       "\n",
       "     member_region_1_ec0_house_wind_total trade volume [EURO ct.]  \\\n",
       "0                                          1624.684313              \n",
       "1                                          1566.642620              \n",
       "2                                          1536.891232              \n",
       "3                                          1538.699925              \n",
       "4                                          1584.040737              \n",
       "..                                                 ...              \n",
       "163                                        2972.696765              \n",
       "164                                        2887.670212              \n",
       "165                                        2765.065831              \n",
       "166                                        2749.766260              \n",
       "167                                        2652.697530              \n",
       "\n",
       "     member_region_1_ec1_house_0_avg trade rate [ct./kWh]  \\\n",
       "0                                                28.18      \n",
       "1                                                28.18      \n",
       "2                                                28.18      \n",
       "3                                                24.08      \n",
       "4                                                24.08      \n",
       "..                                                 ...      \n",
       "163                                              32.28      \n",
       "164                                              32.28      \n",
       "165                                              32.28      \n",
       "166                                              32.28      \n",
       "167                                              32.28      \n",
       "\n",
       "     member_region_1_ec1_house_0_total trade volume [EURO ct.]  \\\n",
       "0                                            17.125925           \n",
       "1                                            17.140955           \n",
       "2                                            18.478565           \n",
       "3                                            16.265237           \n",
       "4                                            14.049877           \n",
       "..                                                 ...           \n",
       "163                                          38.933984           \n",
       "164                                          35.749024           \n",
       "165                                          29.086432           \n",
       "166                                          34.113504           \n",
       "167                                          40.784704           \n",
       "\n",
       "     member_region_1_ec1_house_1_avg trade rate [ct./kWh]  \\\n",
       "0                                              27.2813      \n",
       "1                                              27.2855      \n",
       "2                                              27.2243      \n",
       "3                                              27.2550      \n",
       "4                                              27.2565      \n",
       "..                                                 ...      \n",
       "163                                            33.4836      \n",
       "164                                            32.2713      \n",
       "165                                            32.0797      \n",
       "166                                            32.1021      \n",
       "167                                            32.1144      \n",
       "\n",
       "     member_region_1_ec1_house_1_total trade volume [EURO ct.]  \\\n",
       "0                                            16.689039           \n",
       "1                                            17.069398           \n",
       "2                                            18.178244           \n",
       "3                                            18.559634           \n",
       "4                                            16.024750           \n",
       "..                                                 ...           \n",
       "163                                          43.726038           \n",
       "164                                          38.431093           \n",
       "165                                          31.136768           \n",
       "166                                          35.925156           \n",
       "167                                          42.570595           \n",
       "\n",
       "     member_region_1_ec1_house_10_avg trade rate [ct./kWh]  \\\n",
       "0                                                26.28       \n",
       "1                                                26.28       \n",
       "2                                                26.28       \n",
       "3                                                26.28       \n",
       "4                                                26.28       \n",
       "..                                                 ...       \n",
       "163                                              32.48       \n",
       "164                                              32.48       \n",
       "165                                              32.48       \n",
       "166                                              32.48       \n",
       "167                                              29.38       \n",
       "\n",
       "     member_region_1_ec1_house_10_total trade volume [EURO ct.]  \\\n",
       "0                                            18.578208            \n",
       "1                                            17.505984            \n",
       "2                                            18.711360            \n",
       "3                                            17.344800            \n",
       "4                                            31.795296            \n",
       "..                                                 ...            \n",
       "163                                          67.211947            \n",
       "164                                          44.709803            \n",
       "165                                          47.386155            \n",
       "166                                          50.305024            \n",
       "167                                          24.945579            \n",
       "\n",
       "     member_region_1_ec1_house_11_avg trade rate [ct./kWh]  ...  \\\n",
       "0                                              28.4619      ...   \n",
       "1                                              28.4141      ...   \n",
       "2                                              28.4377      ...   \n",
       "3                                              28.4692      ...   \n",
       "4                                              28.4716      ...   \n",
       "..                                                 ...      ...   \n",
       "163                                            33.4836      ...   \n",
       "164                                            33.4836      ...   \n",
       "165                                            33.3947      ...   \n",
       "166                                            33.4175      ...   \n",
       "167                                            33.3981      ...   \n",
       "\n",
       "     member_region_6_ec4_house_6_avg trade rate [ct./kWh]  \\\n",
       "0                                              28.1832      \n",
       "1                                              28.2392      \n",
       "2                                              28.1327      \n",
       "3                                              28.1302      \n",
       "4                                              27.8990      \n",
       "..                                                 ...      \n",
       "163                                            33.4836      \n",
       "164                                            33.4836      \n",
       "165                                            33.4836      \n",
       "166                                            33.2179      \n",
       "167                                            33.1885      \n",
       "\n",
       "     member_region_6_ec4_house_6_total trade volume [EURO ct.]  \\\n",
       "0                                           128.310459           \n",
       "1                                           186.764163           \n",
       "2                                           130.663960           \n",
       "3                                           130.499440           \n",
       "4                                           146.513739           \n",
       "..                                                 ...           \n",
       "163                                         132.790760           \n",
       "164                                         130.765105           \n",
       "165                                         130.007025           \n",
       "166                                         127.786161           \n",
       "167                                         128.379236           \n",
       "\n",
       "     member_region_6_ec4_house_7_avg trade rate [ct./kWh]  \\\n",
       "0                                              29.1698      \n",
       "1                                              29.1434      \n",
       "2                                              24.9271      \n",
       "3                                              24.9016      \n",
       "4                                              24.8760      \n",
       "..                                                 ...      \n",
       "163                                            33.4808      \n",
       "164                                            33.1059      \n",
       "165                                            33.1480      \n",
       "166                                            33.1560      \n",
       "167                                            29.5899      \n",
       "\n",
       "     member_region_6_ec4_house_7_total trade volume [EURO ct.]  \\\n",
       "0                                            17.253152           \n",
       "1                                            20.687470           \n",
       "2                                            17.780965           \n",
       "3                                            17.707469           \n",
       "4                                            33.113017           \n",
       "..                                                 ...           \n",
       "163                                          14.794920           \n",
       "164                                          13.284553           \n",
       "165                                          12.497013           \n",
       "166                                          11.472786           \n",
       "167                                          11.212375           \n",
       "\n",
       "     member_region_6_ec4_house_8_avg trade rate [ct./kWh]  \\\n",
       "0                                              28.3761      \n",
       "1                                              28.3801      \n",
       "2                                              28.3787      \n",
       "3                                              28.3266      \n",
       "4                                              28.3299      \n",
       "..                                                 ...      \n",
       "163                                            33.3996      \n",
       "164                                            33.3930      \n",
       "165                                            33.3659      \n",
       "166                                            33.3681      \n",
       "167                                            33.3822      \n",
       "\n",
       "     member_region_6_ec4_house_8_total trade volume [EURO ct.]  \\\n",
       "0                                           119.968843           \n",
       "1                                           118.035174           \n",
       "2                                           118.275530           \n",
       "3                                           142.663067           \n",
       "4                                           140.447819           \n",
       "..                                                 ...           \n",
       "163                                         131.227028           \n",
       "164                                         134.749875           \n",
       "165                                         153.803524           \n",
       "166                                         151.511780           \n",
       "167                                         140.529439           \n",
       "\n",
       "     member_region_6_ec4_house_9_avg trade rate [ct./kWh]  \\\n",
       "0                                                29.28      \n",
       "1                                                25.68      \n",
       "2                                                25.68      \n",
       "3                                                25.68      \n",
       "4                                                25.68      \n",
       "..                                                 ...      \n",
       "163                                              32.88      \n",
       "164                                              32.88      \n",
       "165                                              32.88      \n",
       "166                                              32.88      \n",
       "167                                              29.28      \n",
       "\n",
       "     member_region_6_ec4_house_9_total trade volume [EURO ct.]  \\\n",
       "0                                            32.161152           \n",
       "1                                            26.672960           \n",
       "2                                            27.111232           \n",
       "3                                            49.613760           \n",
       "4                                            47.764800           \n",
       "..                                                 ...           \n",
       "163                                          35.773440           \n",
       "164                                          39.587520           \n",
       "165                                          58.789440           \n",
       "166                                          56.834176           \n",
       "167                                          41.195008           \n",
       "\n",
       "     member_region_6_ec5_house_industry_avg trade rate [ct./kWh]  \\\n",
       "0                                                23.03             \n",
       "1                                                23.03             \n",
       "2                                                23.03             \n",
       "3                                                23.03             \n",
       "4                                                23.03             \n",
       "..                                                 ...             \n",
       "163                                              28.13             \n",
       "164                                              28.13             \n",
       "165                                              28.13             \n",
       "166                                              28.13             \n",
       "167                                              28.13             \n",
       "\n",
       "     member_region_6_ec5_house_industry_total trade volume [EURO ct.]  \n",
       "0                                          1490.391843                 \n",
       "1                                          1445.690872                 \n",
       "2                                          1471.131523                 \n",
       "3                                          1490.908524                 \n",
       "4                                          1500.803298                 \n",
       "..                                                 ...                 \n",
       "163                                        1705.931075                 \n",
       "164                                        1687.885541                 \n",
       "165                                        1698.193244                 \n",
       "166                                        1675.761823                 \n",
       "167                                        1705.028474                 \n",
       "\n",
       "[672 rows x 1107 columns]"
      ]
     },
     "execution_count": 3,
     "metadata": {},
     "output_type": "execute_result"
    }
   ],
   "source": [
    "f.avg_p_members(os.getcwd())"
   ]
  },
  {
   "cell_type": "markdown",
   "metadata": {
    "pycharm": {
     "name": "#%% md\n"
    }
   },
   "source": [
    "#### KPI 2: Total costs\n",
    "---\n",
    "To calculate the total costs for all months (here: 4), there is one function ``f.tot_cost()`` which returns a dictionary ``d`` with the levels as keys:\n",
    "- d['germany']\n",
    "- d['mm']\n",
    "- d['region']\n",
    "- d['ec']\n",
    "- d['house']\n",
    "- d['asset']"
   ]
  },
  {
   "cell_type": "code",
   "execution_count": 9,
   "metadata": {
    "pycharm": {
     "name": "#%%\n"
    }
   },
   "outputs": [
    {
     "data": {
      "text/plain": [
       "dict_keys(['germany', 'mm', 'region', 'ec', 'house', 'asset'])"
      ]
     },
     "execution_count": 9,
     "metadata": {},
     "output_type": "execute_result"
    }
   ],
   "source": [
    "d = f.tot_cost(os.getcwd())\n",
    "d.keys()"
   ]
  },
  {
   "cell_type": "code",
   "execution_count": 5,
   "metadata": {
    "pycharm": {
     "name": "#%%\n"
    }
   },
   "outputs": [
    {
     "data": {
      "text/html": [
       "<div>\n",
       "<style scoped>\n",
       "    .dataframe tbody tr th:only-of-type {\n",
       "        vertical-align: middle;\n",
       "    }\n",
       "\n",
       "    .dataframe tbody tr th {\n",
       "        vertical-align: top;\n",
       "    }\n",
       "\n",
       "    .dataframe thead th {\n",
       "        text-align: right;\n",
       "    }\n",
       "</style>\n",
       "<table border=\"1\" class=\"dataframe\">\n",
       "  <thead>\n",
       "    <tr style=\"text-align: right;\">\n",
       "      <th></th>\n",
       "      <th>name</th>\n",
       "      <th>total</th>\n",
       "    </tr>\n",
       "  </thead>\n",
       "  <tbody>\n",
       "    <tr>\n",
       "      <th>1150</th>\n",
       "      <td>Region_1</td>\n",
       "      <td>21814.745</td>\n",
       "    </tr>\n",
       "    <tr>\n",
       "      <th>1351</th>\n",
       "      <td>Region_2</td>\n",
       "      <td>27233.231</td>\n",
       "    </tr>\n",
       "    <tr>\n",
       "      <th>1748</th>\n",
       "      <td>Region_3</td>\n",
       "      <td>17058.481</td>\n",
       "    </tr>\n",
       "    <tr>\n",
       "      <th>1889</th>\n",
       "      <td>Region_4</td>\n",
       "      <td>15803.935</td>\n",
       "    </tr>\n",
       "    <tr>\n",
       "      <th>2067</th>\n",
       "      <td>Region_5</td>\n",
       "      <td>13117.304</td>\n",
       "    </tr>\n",
       "    <tr>\n",
       "      <th>2254</th>\n",
       "      <td>Region_6</td>\n",
       "      <td>14968.703</td>\n",
       "    </tr>\n",
       "  </tbody>\n",
       "</table>\n",
       "</div>"
      ],
      "text/plain": [
       "          name      total\n",
       "1150  Region_1  21814.745\n",
       "1351  Region_2  27233.231\n",
       "1748  Region_3  17058.481\n",
       "1889  Region_4  15803.935\n",
       "2067  Region_5  13117.304\n",
       "2254  Region_6  14968.703"
      ]
     },
     "execution_count": 5,
     "metadata": {},
     "output_type": "execute_result"
    }
   ],
   "source": [
    "d['region']"
   ]
  },
  {
   "cell_type": "code",
   "execution_count": 10,
   "metadata": {
    "pycharm": {
     "name": "#%%\n"
    }
   },
   "outputs": [
    {
     "data": {
      "text/html": [
       "<div>\n",
       "<style scoped>\n",
       "    .dataframe tbody tr th:only-of-type {\n",
       "        vertical-align: middle;\n",
       "    }\n",
       "\n",
       "    .dataframe tbody tr th {\n",
       "        vertical-align: top;\n",
       "    }\n",
       "\n",
       "    .dataframe thead th {\n",
       "        text-align: right;\n",
       "    }\n",
       "</style>\n",
       "<table border=\"1\" class=\"dataframe\">\n",
       "  <thead>\n",
       "    <tr style=\"text-align: right;\">\n",
       "      <th></th>\n",
       "      <th>name</th>\n",
       "      <th>total</th>\n",
       "    </tr>\n",
       "  </thead>\n",
       "  <tbody>\n",
       "    <tr>\n",
       "      <th>1152</th>\n",
       "      <td>Region_1_EC0_house_Wind</td>\n",
       "      <td>-6837.027</td>\n",
       "    </tr>\n",
       "    <tr>\n",
       "      <th>1154</th>\n",
       "      <td>Region_1_EC1_house_0</td>\n",
       "      <td>175.693</td>\n",
       "    </tr>\n",
       "    <tr>\n",
       "      <th>1155</th>\n",
       "      <td>Region_1_EC1_house_1</td>\n",
       "      <td>188.699</td>\n",
       "    </tr>\n",
       "    <tr>\n",
       "      <th>1156</th>\n",
       "      <td>Region_1_EC1_house_10</td>\n",
       "      <td>194.743</td>\n",
       "    </tr>\n",
       "    <tr>\n",
       "      <th>1157</th>\n",
       "      <td>Region_1_EC1_house_11</td>\n",
       "      <td>247.692</td>\n",
       "    </tr>\n",
       "    <tr>\n",
       "      <th>...</th>\n",
       "      <td>...</td>\n",
       "      <td>...</td>\n",
       "    </tr>\n",
       "    <tr>\n",
       "      <th>2342</th>\n",
       "      <td>Region_6_EC4_house_6</td>\n",
       "      <td>905.460</td>\n",
       "    </tr>\n",
       "    <tr>\n",
       "      <th>2343</th>\n",
       "      <td>Region_6_EC4_house_7</td>\n",
       "      <td>128.407</td>\n",
       "    </tr>\n",
       "    <tr>\n",
       "      <th>2344</th>\n",
       "      <td>Region_6_EC4_house_8</td>\n",
       "      <td>889.988</td>\n",
       "    </tr>\n",
       "    <tr>\n",
       "      <th>2345</th>\n",
       "      <td>Region_6_EC4_house_9</td>\n",
       "      <td>231.063</td>\n",
       "    </tr>\n",
       "    <tr>\n",
       "      <th>2347</th>\n",
       "      <td>Region_6_EC5_house_Industry</td>\n",
       "      <td>13220.766</td>\n",
       "    </tr>\n",
       "  </tbody>\n",
       "</table>\n",
       "<p>553 rows × 2 columns</p>\n",
       "</div>"
      ],
      "text/plain": [
       "                             name      total\n",
       "1152      Region_1_EC0_house_Wind  -6837.027\n",
       "1154         Region_1_EC1_house_0    175.693\n",
       "1155         Region_1_EC1_house_1    188.699\n",
       "1156        Region_1_EC1_house_10    194.743\n",
       "1157        Region_1_EC1_house_11    247.692\n",
       "...                           ...        ...\n",
       "2342         Region_6_EC4_house_6    905.460\n",
       "2343         Region_6_EC4_house_7    128.407\n",
       "2344         Region_6_EC4_house_8    889.988\n",
       "2345         Region_6_EC4_house_9    231.063\n",
       "2347  Region_6_EC5_house_Industry  13220.766\n",
       "\n",
       "[553 rows x 2 columns]"
      ]
     },
     "execution_count": 10,
     "metadata": {},
     "output_type": "execute_result"
    }
   ],
   "source": [
    "d['house']"
   ]
  },
  {
   "cell_type": "markdown",
   "metadata": {
    "pycharm": {
     "name": "#%% md\n"
    }
   },
   "source": [
    "#### KPI 3: Share Renewables\n",
    "---\n",
    "Calculates the share of grey energy, i.e. energy procured from the market. For the grey energy (the current German electricity mix), we need to define a share renewables.\n",
    "\n",
    "Currently, a value of zero means that no grey energy is used, i.e. the entity consumes 100% renewable. A value of one means that the entity consumes 100% grey energy (electricity mix)."
   ]
  },
  {
   "cell_type": "code",
   "execution_count": 11,
   "metadata": {
    "pycharm": {
     "name": "#%%\n"
    }
   },
   "outputs": [],
   "source": [
    "os.chdir(home_path)\n",
    "os.chdir('Use_Case_2/')\n",
    "use_case = 2\n",
    "use_case_home_path = os.getcwd()"
   ]
  },
  {
   "cell_type": "code",
   "execution_count": 19,
   "outputs": [],
   "source": [
    "# obtain all months' time slots from .json files and combine them to index\n",
    "json_filepaths, timeslots = [], []\n",
    "for root, dir, file in os.walk(top=use_case_home_path, topdown=True):\n",
    "    json_filepaths += [os.path.join(root, f) for f in file if 'price_energy_day.json' in f]\n",
    "for j in json_filepaths:\n",
    "    df = pd.read_json(j)\n",
    "    timeslots += [df['Germany']['price-energy-day'][i][0]['time'] for i in range(len(df['Germany']['price-energy-day']))]\n",
    "timeslots.sort()\n",
    "df_out = pd.DataFrame(index=timeslots)"
   ],
   "metadata": {
    "collapsed": false,
    "pycharm": {
     "name": "#%%\n"
    }
   }
  },
  {
   "cell_type": "code",
   "execution_count": 34,
   "outputs": [],
   "source": [
    "# get all relevant filepaths\n",
    "all_filepaths, all_filenames = [], []\n",
    "for root, dir, file in os.walk(top=use_case_home_path, topdown=True):\n",
    "    all_filepaths += [os.path.join(root, f) for f in file if 'trades.csv' in f]\n",
    "    all_filenames += [f for f in file if 'trades.csv' in f]\n",
    "relevant_filepaths, irrelevant_filepaths = f.share_renewables_necessary_files(all_filepaths, use_case)\n",
    "nr_months, l = all_filenames.count(all_filenames[0]), len(relevant_filepaths)"
   ],
   "metadata": {
    "collapsed": false,
    "pycharm": {
     "name": "#%%\n"
    }
   }
  },
  {
   "cell_type": "code",
   "execution_count": 48,
   "outputs": [],
   "source": [
    "# filter relevant_filepaths for custom subset\n",
    "ec_filepaths = [i for i in relevant_filepaths if 'ec' in i]"
   ],
   "metadata": {
    "collapsed": false,
    "pycharm": {
     "name": "#%%\n"
    }
   }
  },
  {
   "cell_type": "code",
   "execution_count": 60,
   "outputs": [
    {
     "data": {
      "text/plain": "['C:\\\\Users\\\\joche\\\\FIM Kernkompetenzzentrum\\\\Projekt VIdES - Dokumente\\\\General\\\\07_Arbeitsordner\\\\04_Ergebnisse\\\\20220920_Ergebnisse_4_Wochen\\\\Use_Case_2\\\\april\\\\germany\\\\grid\\\\region-1\\\\region-1-ec0-trades.csv',\n 'C:\\\\Users\\\\joche\\\\FIM Kernkompetenzzentrum\\\\Projekt VIdES - Dokumente\\\\General\\\\07_Arbeitsordner\\\\04_Ergebnisse\\\\20220920_Ergebnisse_4_Wochen\\\\Use_Case_2\\\\jan\\\\germany\\\\grid\\\\region-1\\\\region-1-ec0-trades.csv',\n 'C:\\\\Users\\\\joche\\\\FIM Kernkompetenzzentrum\\\\Projekt VIdES - Dokumente\\\\General\\\\07_Arbeitsordner\\\\04_Ergebnisse\\\\20220920_Ergebnisse_4_Wochen\\\\Use_Case_2\\\\Juli\\\\germany\\\\grid\\\\region-1\\\\region-1-ec0-trades.csv',\n 'C:\\\\Users\\\\joche\\\\FIM Kernkompetenzzentrum\\\\Projekt VIdES - Dokumente\\\\General\\\\07_Arbeitsordner\\\\04_Ergebnisse\\\\20220920_Ergebnisse_4_Wochen\\\\Use_Case_2\\\\October\\\\germany\\\\grid\\\\region-1\\\\region-1-ec0-trades.csv']"
     },
     "execution_count": 60,
     "metadata": {},
     "output_type": "execute_result"
    }
   ],
   "source": [
    "# filter all filepaths by nr. 8 in relevant_filepaths -> nr. 8 is R1ec0\n",
    "relevant_filepaths[8::597]"
   ],
   "metadata": {
    "collapsed": false,
    "pycharm": {
     "name": "#%%\n"
    }
   }
  },
  {
   "cell_type": "code",
   "execution_count": 62,
   "outputs": [
    {
     "data": {
      "text/plain": "                           energy [kWh]        seller                  buyer\nslot                                                                        \n2030-01-01T00:00:00+00:00      1.121333  region-1-ec1  region-1-ec1-house-17\n2030-01-01T00:00:00+00:00      0.607733  region-1-ec1   region-1-ec1-house-0\n2030-01-01T00:00:00+00:00      4.018663  region-1-ec1   region-1-ec1-house-6\n2030-01-01T00:00:00+00:00      0.587467  region-1-ec1   region-1-ec1-house-7\n2030-01-01T00:00:00+00:00      0.607733  region-1-ec1   region-1-ec1-house-6\n...                                 ...           ...                    ...\n2030-10-07T23:00:00+00:00      1.406933  region-1-ec1  region-1-ec1-house-11\n2030-10-07T23:00:00+00:00      0.588533  region-1-ec1  region-1-ec1-house-14\n2030-10-07T23:00:00+00:00      0.849067  region-1-ec1  region-1-ec1-house-10\n2030-10-07T23:00:00+00:00      1.263467  region-1-ec1   region-1-ec1-house-0\n2030-10-07T23:00:00+00:00      0.062126  region-1-ec1   region-1-ec1-house-1\n\n[19796 rows x 3 columns]",
      "text/html": "<div>\n<style scoped>\n    .dataframe tbody tr th:only-of-type {\n        vertical-align: middle;\n    }\n\n    .dataframe tbody tr th {\n        vertical-align: top;\n    }\n\n    .dataframe thead th {\n        text-align: right;\n    }\n</style>\n<table border=\"1\" class=\"dataframe\">\n  <thead>\n    <tr style=\"text-align: right;\">\n      <th></th>\n      <th>energy [kWh]</th>\n      <th>seller</th>\n      <th>buyer</th>\n    </tr>\n    <tr>\n      <th>slot</th>\n      <th></th>\n      <th></th>\n      <th></th>\n    </tr>\n  </thead>\n  <tbody>\n    <tr>\n      <th>2030-01-01T00:00:00+00:00</th>\n      <td>1.121333</td>\n      <td>region-1-ec1</td>\n      <td>region-1-ec1-house-17</td>\n    </tr>\n    <tr>\n      <th>2030-01-01T00:00:00+00:00</th>\n      <td>0.607733</td>\n      <td>region-1-ec1</td>\n      <td>region-1-ec1-house-0</td>\n    </tr>\n    <tr>\n      <th>2030-01-01T00:00:00+00:00</th>\n      <td>4.018663</td>\n      <td>region-1-ec1</td>\n      <td>region-1-ec1-house-6</td>\n    </tr>\n    <tr>\n      <th>2030-01-01T00:00:00+00:00</th>\n      <td>0.587467</td>\n      <td>region-1-ec1</td>\n      <td>region-1-ec1-house-7</td>\n    </tr>\n    <tr>\n      <th>2030-01-01T00:00:00+00:00</th>\n      <td>0.607733</td>\n      <td>region-1-ec1</td>\n      <td>region-1-ec1-house-6</td>\n    </tr>\n    <tr>\n      <th>...</th>\n      <td>...</td>\n      <td>...</td>\n      <td>...</td>\n    </tr>\n    <tr>\n      <th>2030-10-07T23:00:00+00:00</th>\n      <td>1.406933</td>\n      <td>region-1-ec1</td>\n      <td>region-1-ec1-house-11</td>\n    </tr>\n    <tr>\n      <th>2030-10-07T23:00:00+00:00</th>\n      <td>0.588533</td>\n      <td>region-1-ec1</td>\n      <td>region-1-ec1-house-14</td>\n    </tr>\n    <tr>\n      <th>2030-10-07T23:00:00+00:00</th>\n      <td>0.849067</td>\n      <td>region-1-ec1</td>\n      <td>region-1-ec1-house-10</td>\n    </tr>\n    <tr>\n      <th>2030-10-07T23:00:00+00:00</th>\n      <td>1.263467</td>\n      <td>region-1-ec1</td>\n      <td>region-1-ec1-house-0</td>\n    </tr>\n    <tr>\n      <th>2030-10-07T23:00:00+00:00</th>\n      <td>0.062126</td>\n      <td>region-1-ec1</td>\n      <td>region-1-ec1-house-1</td>\n    </tr>\n  </tbody>\n</table>\n<p>19796 rows × 3 columns</p>\n</div>"
     },
     "execution_count": 62,
     "metadata": {},
     "output_type": "execute_result"
    }
   ],
   "source": [
    "i = 9\n",
    "#i = range(int(l / nr_months))[2]\n",
    "entity_monthly_dfs = []\n",
    "entity_monthly_filepaths = relevant_filepaths[i::int(l / nr_months)]\n",
    "# combine each entity's monthly data frames and hand them over to shares_renewable_helper for calculation\n",
    "for f in entity_monthly_filepaths:\n",
    "    df_temp = pd.read_csv(f).drop(['creation_time', 'matching_requirements', 'rate [ct./kWh]'], axis=1)\n",
    "    df_temp.seller = [i.lower().replace('_', '-') for i in df_temp.seller]\n",
    "    df_temp.buyer = [i.lower().replace('_', '-') for i in df_temp.buyer]\n",
    "    entity_monthly_dfs.append(df_temp)\n",
    "entity_name = entity_monthly_filepaths[0].split('\\\\')[-1].split('-trades.csv')[0]\n",
    "entity_df = pd.concat(entity_monthly_dfs).sort_values(by='slot').reset_index(drop=True)\n",
    "entity_df.set_index(['slot'], inplace=True)\n",
    "entity_df"
   ],
   "metadata": {
    "collapsed": false,
    "pycharm": {
     "name": "#%%\n"
    }
   }
  },
  {
   "cell_type": "code",
   "execution_count": 63,
   "outputs": [],
   "source": [
    "# Handover to helper function\n",
    "df = entity_df\n",
    "p = entity_name"
   ],
   "metadata": {
    "collapsed": false,
    "pycharm": {
     "name": "#%%\n"
    }
   }
  },
  {
   "cell_type": "code",
   "execution_count": 64,
   "outputs": [
    {
     "data": {
      "text/plain": "array(['region-1-ec1-house-14', 'region-1-ec1-house-16',\n       'region-1-ec1-house-17', 'region-1-ec1-house-0',\n       'region-1-ec1-house-6', 'region-1-ec1-house-7',\n       'region-1-ec1-house-12', 'region-1-ec1-house-8',\n       'region-1-ec1-house-15', 'region-1-ec1-house-11',\n       'region-1-ec1-house-1', 'region-1-ec1-house-3',\n       'region-1-ec1-house-5', 'region-1-ec1-house-9',\n       'region-1-ec1-house-20', 'region-1-ec1-house-10',\n       'region-1-ec1-house-19', 'region-1-ec1-house-4',\n       'region-1-ec1-house-18', 'region-1-ec1-house-13',\n       'region-1-ec1-house-2'], dtype=object)"
     },
     "execution_count": 64,
     "metadata": {},
     "output_type": "execute_result"
    }
   ],
   "source": [
    "if 'member' in p:\n",
    "    p = p.replace('member', 'mm')\n",
    "# get children\n",
    "sellers = [i for i in df.seller.unique() if 'mm-' not in i and i != p]\n",
    "buyers = [i for i in df.buyer.unique() if 'mm-' not in i and i != p]\n",
    "children = pd.Series([*sellers, *buyers]).unique()\n",
    "children"
   ],
   "metadata": {
    "collapsed": false,
    "pycharm": {
     "name": "#%%\n"
    }
   }
  },
  {
   "cell_type": "code",
   "execution_count": 68,
   "outputs": [
    {
     "name": "stdout",
     "output_type": "stream",
     "text": [
      "c: region-1-ec1-house-16\n"
     ]
    },
    {
     "data": {
      "text/plain": "                  region-1-ec1-house-16_net_p_to_c  \\\n2030-01-01T00:00                          1.380533   \n2030-01-01T01:00                          1.604000   \n2030-01-01T02:00                          1.568267   \n2030-01-01T03:00                          2.473867   \n2030-01-01T04:00                          1.453333   \n...                                            ...   \n2030-10-07T19:00                          2.156000   \n2030-10-07T20:00                          2.532000   \n2030-10-07T21:00                          2.772533   \n2030-10-07T22:00                          3.033333   \n2030-10-07T23:00                          2.445867   \n\n                  region-1-ec1-house-16_net_cs_to_c  \n2030-01-01T00:00                                0.0  \n2030-01-01T01:00                                0.0  \n2030-01-01T02:00                                0.0  \n2030-01-01T03:00                                0.0  \n2030-01-01T04:00                                0.0  \n...                                             ...  \n2030-10-07T19:00                                0.0  \n2030-10-07T20:00                                0.0  \n2030-10-07T21:00                                0.0  \n2030-10-07T22:00                                0.0  \n2030-10-07T23:00                                0.0  \n\n[672 rows x 2 columns]",
      "text/html": "<div>\n<style scoped>\n    .dataframe tbody tr th:only-of-type {\n        vertical-align: middle;\n    }\n\n    .dataframe tbody tr th {\n        vertical-align: top;\n    }\n\n    .dataframe thead th {\n        text-align: right;\n    }\n</style>\n<table border=\"1\" class=\"dataframe\">\n  <thead>\n    <tr style=\"text-align: right;\">\n      <th></th>\n      <th>region-1-ec1-house-16_net_p_to_c</th>\n      <th>region-1-ec1-house-16_net_cs_to_c</th>\n    </tr>\n  </thead>\n  <tbody>\n    <tr>\n      <th>2030-01-01T00:00</th>\n      <td>1.380533</td>\n      <td>0.0</td>\n    </tr>\n    <tr>\n      <th>2030-01-01T01:00</th>\n      <td>1.604000</td>\n      <td>0.0</td>\n    </tr>\n    <tr>\n      <th>2030-01-01T02:00</th>\n      <td>1.568267</td>\n      <td>0.0</td>\n    </tr>\n    <tr>\n      <th>2030-01-01T03:00</th>\n      <td>2.473867</td>\n      <td>0.0</td>\n    </tr>\n    <tr>\n      <th>2030-01-01T04:00</th>\n      <td>1.453333</td>\n      <td>0.0</td>\n    </tr>\n    <tr>\n      <th>...</th>\n      <td>...</td>\n      <td>...</td>\n    </tr>\n    <tr>\n      <th>2030-10-07T19:00</th>\n      <td>2.156000</td>\n      <td>0.0</td>\n    </tr>\n    <tr>\n      <th>2030-10-07T20:00</th>\n      <td>2.532000</td>\n      <td>0.0</td>\n    </tr>\n    <tr>\n      <th>2030-10-07T21:00</th>\n      <td>2.772533</td>\n      <td>0.0</td>\n    </tr>\n    <tr>\n      <th>2030-10-07T22:00</th>\n      <td>3.033333</td>\n      <td>0.0</td>\n    </tr>\n    <tr>\n      <th>2030-10-07T23:00</th>\n      <td>2.445867</td>\n      <td>0.0</td>\n    </tr>\n  </tbody>\n</table>\n<p>672 rows × 2 columns</p>\n</div>"
     },
     "execution_count": 68,
     "metadata": {},
     "output_type": "execute_result"
    }
   ],
   "source": [
    "# select one child\n",
    "c = children[1]\n",
    "print(f'c: {c}')\n",
    "p_to_c = f.share_renewable_df_grouper(df_out, df[(df.seller == p) & (df.buyer == c)][['energy [kWh]']])\n",
    "c_to_p = f.share_renewable_df_grouper(df_out, df[(df.seller == c) & (df.buyer == p)][['energy [kWh]']])\n",
    "net_p_to_c = p_to_c - c_to_p\n",
    "cs_to_c = f.share_renewable_df_grouper(df_out, df[(df.seller != p) & (df.seller != c) & (df.buyer == c)][\n",
    "    ['energy [kWh]']])\n",
    "c_to_cs = f.share_renewable_df_grouper(df_out,\n",
    "                                     df[(df.seller == c) & (df.buyer != p) & (df.buyer != c)][['energy [kWh]']])\n",
    "net_cs_to_c = cs_to_c - c_to_cs\n",
    "# prepare copy of df_out where calculations are made\n",
    "c_name = c if 'id' not in c else p + '_' + c\n",
    "df_out_copy = df_out.copy()\n",
    "df_out_copy[f'{c_name}_net_p_to_c'] = net_p_to_c\n",
    "df_out_copy[f'{c_name}_net_cs_to_c'] = net_cs_to_c\n",
    "df_out_copy"
   ],
   "metadata": {
    "collapsed": false,
    "pycharm": {
     "name": "#%%\n"
    }
   }
  },
  {
   "cell_type": "code",
   "execution_count": 75,
   "outputs": [
    {
     "data": {
      "text/plain": "'region-1-ec1'"
     },
     "execution_count": 75,
     "metadata": {},
     "output_type": "execute_result"
    }
   ],
   "source": [
    "p"
   ],
   "metadata": {
    "collapsed": false,
    "pycharm": {
     "name": "#%%\n"
    }
   }
  },
  {
   "cell_type": "code",
   "execution_count": 33,
   "outputs": [
    {
     "data": {
      "text/plain": "                  energy [kWh]\n2030-01-01T00:00      0.000000\n2030-01-01T01:00      6.981230\n2030-01-01T02:00      6.653988\n2030-01-01T03:00      9.104583\n2030-01-01T04:00      7.825985\n...                        ...\n2030-10-07T19:00     22.509373\n2030-10-07T20:00     19.612548\n2030-10-07T21:00      9.836357\n2030-10-07T22:00     14.654953\n2030-10-07T23:00      9.692907\n\n[672 rows x 1 columns]",
      "text/html": "<div>\n<style scoped>\n    .dataframe tbody tr th:only-of-type {\n        vertical-align: middle;\n    }\n\n    .dataframe tbody tr th {\n        vertical-align: top;\n    }\n\n    .dataframe thead th {\n        text-align: right;\n    }\n</style>\n<table border=\"1\" class=\"dataframe\">\n  <thead>\n    <tr style=\"text-align: right;\">\n      <th></th>\n      <th>energy [kWh]</th>\n    </tr>\n  </thead>\n  <tbody>\n    <tr>\n      <th>2030-01-01T00:00</th>\n      <td>0.000000</td>\n    </tr>\n    <tr>\n      <th>2030-01-01T01:00</th>\n      <td>6.981230</td>\n    </tr>\n    <tr>\n      <th>2030-01-01T02:00</th>\n      <td>6.653988</td>\n    </tr>\n    <tr>\n      <th>2030-01-01T03:00</th>\n      <td>9.104583</td>\n    </tr>\n    <tr>\n      <th>2030-01-01T04:00</th>\n      <td>7.825985</td>\n    </tr>\n    <tr>\n      <th>...</th>\n      <td>...</td>\n    </tr>\n    <tr>\n      <th>2030-10-07T19:00</th>\n      <td>22.509373</td>\n    </tr>\n    <tr>\n      <th>2030-10-07T20:00</th>\n      <td>19.612548</td>\n    </tr>\n    <tr>\n      <th>2030-10-07T21:00</th>\n      <td>9.836357</td>\n    </tr>\n    <tr>\n      <th>2030-10-07T22:00</th>\n      <td>14.654953</td>\n    </tr>\n    <tr>\n      <th>2030-10-07T23:00</th>\n      <td>9.692907</td>\n    </tr>\n  </tbody>\n</table>\n<p>672 rows × 1 columns</p>\n</div>"
     },
     "execution_count": 33,
     "metadata": {},
     "output_type": "execute_result"
    }
   ],
   "source": [
    "cs_to_c"
   ],
   "metadata": {
    "collapsed": false,
    "pycharm": {
     "name": "#%%\n"
    }
   }
  },
  {
   "cell_type": "code",
   "execution_count": 63,
   "outputs": [
    {
     "data": {
      "text/plain": "                  region-1-ec1_net_p_to_c  region-1-ec1_net_cs_to_c\n2030-01-01T00:00                29.095249                       0.0\n2030-01-01T08:00                26.454925                       0.0\n2030-01-01T21:00                27.762230                       0.0\n2030-01-01T22:00                28.159980                       0.0\n2030-01-02T02:00                28.178760                       0.0\n...                                   ...                       ...\n2030-10-06T21:00                31.712675                       0.0\n2030-10-07T03:00                32.579339                       0.0\n2030-10-07T04:00                33.409250                       0.0\n2030-10-07T09:00                10.372807                       0.0\n2030-10-07T16:00                36.079779                       0.0\n\n[124 rows x 2 columns]",
      "text/html": "<div>\n<style scoped>\n    .dataframe tbody tr th:only-of-type {\n        vertical-align: middle;\n    }\n\n    .dataframe tbody tr th {\n        vertical-align: top;\n    }\n\n    .dataframe thead th {\n        text-align: right;\n    }\n</style>\n<table border=\"1\" class=\"dataframe\">\n  <thead>\n    <tr style=\"text-align: right;\">\n      <th></th>\n      <th>region-1-ec1_net_p_to_c</th>\n      <th>region-1-ec1_net_cs_to_c</th>\n    </tr>\n  </thead>\n  <tbody>\n    <tr>\n      <th>2030-01-01T00:00</th>\n      <td>29.095249</td>\n      <td>0.0</td>\n    </tr>\n    <tr>\n      <th>2030-01-01T08:00</th>\n      <td>26.454925</td>\n      <td>0.0</td>\n    </tr>\n    <tr>\n      <th>2030-01-01T21:00</th>\n      <td>27.762230</td>\n      <td>0.0</td>\n    </tr>\n    <tr>\n      <th>2030-01-01T22:00</th>\n      <td>28.159980</td>\n      <td>0.0</td>\n    </tr>\n    <tr>\n      <th>2030-01-02T02:00</th>\n      <td>28.178760</td>\n      <td>0.0</td>\n    </tr>\n    <tr>\n      <th>...</th>\n      <td>...</td>\n      <td>...</td>\n    </tr>\n    <tr>\n      <th>2030-10-06T21:00</th>\n      <td>31.712675</td>\n      <td>0.0</td>\n    </tr>\n    <tr>\n      <th>2030-10-07T03:00</th>\n      <td>32.579339</td>\n      <td>0.0</td>\n    </tr>\n    <tr>\n      <th>2030-10-07T04:00</th>\n      <td>33.409250</td>\n      <td>0.0</td>\n    </tr>\n    <tr>\n      <th>2030-10-07T09:00</th>\n      <td>10.372807</td>\n      <td>0.0</td>\n    </tr>\n    <tr>\n      <th>2030-10-07T16:00</th>\n      <td>36.079779</td>\n      <td>0.0</td>\n    </tr>\n  </tbody>\n</table>\n<p>124 rows × 2 columns</p>\n</div>"
     },
     "execution_count": 63,
     "metadata": {},
     "output_type": "execute_result"
    }
   ],
   "source": [
    "a = df_out_copy.loc[(df_out_copy[f'{c_name}_net_p_to_c'] > 0) & (df_out_copy[f'{c_name}_net_cs_to_c'] <= 0)]\n",
    "a"
   ],
   "metadata": {
    "collapsed": false,
    "pycharm": {
     "name": "#%%\n"
    }
   }
  },
  {
   "cell_type": "code",
   "execution_count": 64,
   "outputs": [
    {
     "data": {
      "text/plain": "                  region-1-ec1_net_p_to_c  region-1-ec1_net_cs_to_c\n2030-01-01T01:00                22.320599                  6.981230\n2030-01-01T02:00                22.939082                  6.653988\n2030-01-01T03:00                20.292401                  9.104583\n2030-01-01T04:00                22.434055                  7.825985\n2030-01-01T05:00                21.170575                  7.975162\n...                                   ...                       ...\n2030-10-07T19:00                12.340292                 22.509373\n2030-10-07T20:00                11.783080                 19.612548\n2030-10-07T21:00                22.706598                  9.836357\n2030-10-07T22:00                18.498432                 14.654953\n2030-10-07T23:00                23.414801                  9.692907\n\n[346 rows x 2 columns]",
      "text/html": "<div>\n<style scoped>\n    .dataframe tbody tr th:only-of-type {\n        vertical-align: middle;\n    }\n\n    .dataframe tbody tr th {\n        vertical-align: top;\n    }\n\n    .dataframe thead th {\n        text-align: right;\n    }\n</style>\n<table border=\"1\" class=\"dataframe\">\n  <thead>\n    <tr style=\"text-align: right;\">\n      <th></th>\n      <th>region-1-ec1_net_p_to_c</th>\n      <th>region-1-ec1_net_cs_to_c</th>\n    </tr>\n  </thead>\n  <tbody>\n    <tr>\n      <th>2030-01-01T01:00</th>\n      <td>22.320599</td>\n      <td>6.981230</td>\n    </tr>\n    <tr>\n      <th>2030-01-01T02:00</th>\n      <td>22.939082</td>\n      <td>6.653988</td>\n    </tr>\n    <tr>\n      <th>2030-01-01T03:00</th>\n      <td>20.292401</td>\n      <td>9.104583</td>\n    </tr>\n    <tr>\n      <th>2030-01-01T04:00</th>\n      <td>22.434055</td>\n      <td>7.825985</td>\n    </tr>\n    <tr>\n      <th>2030-01-01T05:00</th>\n      <td>21.170575</td>\n      <td>7.975162</td>\n    </tr>\n    <tr>\n      <th>...</th>\n      <td>...</td>\n      <td>...</td>\n    </tr>\n    <tr>\n      <th>2030-10-07T19:00</th>\n      <td>12.340292</td>\n      <td>22.509373</td>\n    </tr>\n    <tr>\n      <th>2030-10-07T20:00</th>\n      <td>11.783080</td>\n      <td>19.612548</td>\n    </tr>\n    <tr>\n      <th>2030-10-07T21:00</th>\n      <td>22.706598</td>\n      <td>9.836357</td>\n    </tr>\n    <tr>\n      <th>2030-10-07T22:00</th>\n      <td>18.498432</td>\n      <td>14.654953</td>\n    </tr>\n    <tr>\n      <th>2030-10-07T23:00</th>\n      <td>23.414801</td>\n      <td>9.692907</td>\n    </tr>\n  </tbody>\n</table>\n<p>346 rows × 2 columns</p>\n</div>"
     },
     "execution_count": 64,
     "metadata": {},
     "output_type": "execute_result"
    }
   ],
   "source": [
    "b = df_out_copy.loc[(df_out_copy[f'{c_name}_net_p_to_c'] > 0) & (df_out_copy[f'{c_name}_net_cs_to_c'] > 0)]\n",
    "b"
   ],
   "metadata": {
    "collapsed": false,
    "pycharm": {
     "name": "#%%\n"
    }
   }
  },
  {
   "cell_type": "code",
   "execution_count": 65,
   "outputs": [
    {
     "data": {
      "text/plain": "                  region-1-ec1_net_p_to_c  region-1-ec1_net_cs_to_c\n2030-01-02T09:00               -14.873469                  5.944512\n2030-01-02T10:00               -21.395869                  0.000000\n2030-01-02T11:00               -28.593640                  0.000000\n2030-01-02T12:00               -26.122382                  0.000000\n2030-01-02T13:00                -8.580793                  0.000000\n...                                   ...                       ...\n2030-10-07T10:00                -8.565764                  4.135069\n2030-10-07T11:00               -37.258477                  0.000000\n2030-10-07T12:00               -42.548470                  0.000000\n2030-10-07T13:00               -34.660626                  0.000000\n2030-10-07T14:00                -9.630190                  0.000000\n\n[202 rows x 2 columns]",
      "text/html": "<div>\n<style scoped>\n    .dataframe tbody tr th:only-of-type {\n        vertical-align: middle;\n    }\n\n    .dataframe tbody tr th {\n        vertical-align: top;\n    }\n\n    .dataframe thead th {\n        text-align: right;\n    }\n</style>\n<table border=\"1\" class=\"dataframe\">\n  <thead>\n    <tr style=\"text-align: right;\">\n      <th></th>\n      <th>region-1-ec1_net_p_to_c</th>\n      <th>region-1-ec1_net_cs_to_c</th>\n    </tr>\n  </thead>\n  <tbody>\n    <tr>\n      <th>2030-01-02T09:00</th>\n      <td>-14.873469</td>\n      <td>5.944512</td>\n    </tr>\n    <tr>\n      <th>2030-01-02T10:00</th>\n      <td>-21.395869</td>\n      <td>0.000000</td>\n    </tr>\n    <tr>\n      <th>2030-01-02T11:00</th>\n      <td>-28.593640</td>\n      <td>0.000000</td>\n    </tr>\n    <tr>\n      <th>2030-01-02T12:00</th>\n      <td>-26.122382</td>\n      <td>0.000000</td>\n    </tr>\n    <tr>\n      <th>2030-01-02T13:00</th>\n      <td>-8.580793</td>\n      <td>0.000000</td>\n    </tr>\n    <tr>\n      <th>...</th>\n      <td>...</td>\n      <td>...</td>\n    </tr>\n    <tr>\n      <th>2030-10-07T10:00</th>\n      <td>-8.565764</td>\n      <td>4.135069</td>\n    </tr>\n    <tr>\n      <th>2030-10-07T11:00</th>\n      <td>-37.258477</td>\n      <td>0.000000</td>\n    </tr>\n    <tr>\n      <th>2030-10-07T12:00</th>\n      <td>-42.548470</td>\n      <td>0.000000</td>\n    </tr>\n    <tr>\n      <th>2030-10-07T13:00</th>\n      <td>-34.660626</td>\n      <td>0.000000</td>\n    </tr>\n    <tr>\n      <th>2030-10-07T14:00</th>\n      <td>-9.630190</td>\n      <td>0.000000</td>\n    </tr>\n  </tbody>\n</table>\n<p>202 rows × 2 columns</p>\n</div>"
     },
     "execution_count": 65,
     "metadata": {},
     "output_type": "execute_result"
    }
   ],
   "source": [
    "c = df_out_copy.loc[(df_out_copy[f'{c_name}_net_p_to_c'] <= 0)]\n",
    "c"
   ],
   "metadata": {
    "collapsed": false,
    "pycharm": {
     "name": "#%%\n"
    }
   }
  },
  {
   "cell_type": "code",
   "execution_count": 82,
   "outputs": [
    {
     "name": "stdout",
     "output_type": "stream",
     "text": [
      "p: region-1\n"
     ]
    },
    {
     "data": {
      "text/plain": "                  region-1\n2030-01-01T00:00         1\n2030-01-01T01:00         1\n2030-01-01T02:00         1\n2030-01-01T03:00         1\n2030-01-01T04:00         1\n...                    ...\n2030-10-07T19:00         1\n2030-10-07T20:00         1\n2030-10-07T21:00         1\n2030-10-07T22:00         1\n2030-10-07T23:00         1\n\n[672 rows x 1 columns]",
      "text/html": "<div>\n<style scoped>\n    .dataframe tbody tr th:only-of-type {\n        vertical-align: middle;\n    }\n\n    .dataframe tbody tr th {\n        vertical-align: top;\n    }\n\n    .dataframe thead th {\n        text-align: right;\n    }\n</style>\n<table border=\"1\" class=\"dataframe\">\n  <thead>\n    <tr style=\"text-align: right;\">\n      <th></th>\n      <th>region-1</th>\n    </tr>\n  </thead>\n  <tbody>\n    <tr>\n      <th>2030-01-01T00:00</th>\n      <td>1</td>\n    </tr>\n    <tr>\n      <th>2030-01-01T01:00</th>\n      <td>1</td>\n    </tr>\n    <tr>\n      <th>2030-01-01T02:00</th>\n      <td>1</td>\n    </tr>\n    <tr>\n      <th>2030-01-01T03:00</th>\n      <td>1</td>\n    </tr>\n    <tr>\n      <th>2030-01-01T04:00</th>\n      <td>1</td>\n    </tr>\n    <tr>\n      <th>...</th>\n      <td>...</td>\n    </tr>\n    <tr>\n      <th>2030-10-07T19:00</th>\n      <td>1</td>\n    </tr>\n    <tr>\n      <th>2030-10-07T20:00</th>\n      <td>1</td>\n    </tr>\n    <tr>\n      <th>2030-10-07T21:00</th>\n      <td>1</td>\n    </tr>\n    <tr>\n      <th>2030-10-07T22:00</th>\n      <td>1</td>\n    </tr>\n    <tr>\n      <th>2030-10-07T23:00</th>\n      <td>1</td>\n    </tr>\n  </tbody>\n</table>\n<p>672 rows × 1 columns</p>\n</div>"
     },
     "execution_count": 82,
     "metadata": {},
     "output_type": "execute_result"
    }
   ],
   "source": [
    "df_out[p] = 1\n",
    "print(f'p: {p}')\n",
    "df_out"
   ],
   "metadata": {
    "collapsed": false,
    "pycharm": {
     "name": "#%%\n"
    }
   }
  },
  {
   "cell_type": "code",
   "execution_count": 83,
   "outputs": [
    {
     "data": {
      "text/plain": "                  region-1  region-1-ec1_net_p_to_c  region-1-ec1_net_cs_to_c  \\\n2030-01-01T00:00         1                29.095249                  0.000000   \n2030-01-01T01:00         1                22.320599                  6.981230   \n2030-01-01T02:00         1                22.939082                  6.653988   \n2030-01-01T03:00         1                20.292401                  9.104583   \n2030-01-01T04:00         1                22.434055                  7.825985   \n...                    ...                      ...                       ...   \n2030-10-07T19:00         1                12.340292                 22.509373   \n2030-10-07T20:00         1                11.783080                 19.612548   \n2030-10-07T21:00         1                22.706598                  9.836357   \n2030-10-07T22:00         1                18.498432                 14.654953   \n2030-10-07T23:00         1                23.414801                  9.692907   \n\n                  region-1-ec1  \n2030-01-01T00:00      1.000000  \n2030-01-01T01:00      0.761748  \n2030-01-01T02:00      0.775150  \n2030-01-01T03:00      0.690289  \n2030-01-01T04:00      0.741376  \n...                        ...  \n2030-10-07T19:00      0.354101  \n2030-10-07T20:00      0.375310  \n2030-10-07T21:00      0.697742  \n2030-10-07T22:00      0.557965  \n2030-10-07T23:00      0.707231  \n\n[672 rows x 4 columns]",
      "text/html": "<div>\n<style scoped>\n    .dataframe tbody tr th:only-of-type {\n        vertical-align: middle;\n    }\n\n    .dataframe tbody tr th {\n        vertical-align: top;\n    }\n\n    .dataframe thead th {\n        text-align: right;\n    }\n</style>\n<table border=\"1\" class=\"dataframe\">\n  <thead>\n    <tr style=\"text-align: right;\">\n      <th></th>\n      <th>region-1</th>\n      <th>region-1-ec1_net_p_to_c</th>\n      <th>region-1-ec1_net_cs_to_c</th>\n      <th>region-1-ec1</th>\n    </tr>\n  </thead>\n  <tbody>\n    <tr>\n      <th>2030-01-01T00:00</th>\n      <td>1</td>\n      <td>29.095249</td>\n      <td>0.000000</td>\n      <td>1.000000</td>\n    </tr>\n    <tr>\n      <th>2030-01-01T01:00</th>\n      <td>1</td>\n      <td>22.320599</td>\n      <td>6.981230</td>\n      <td>0.761748</td>\n    </tr>\n    <tr>\n      <th>2030-01-01T02:00</th>\n      <td>1</td>\n      <td>22.939082</td>\n      <td>6.653988</td>\n      <td>0.775150</td>\n    </tr>\n    <tr>\n      <th>2030-01-01T03:00</th>\n      <td>1</td>\n      <td>20.292401</td>\n      <td>9.104583</td>\n      <td>0.690289</td>\n    </tr>\n    <tr>\n      <th>2030-01-01T04:00</th>\n      <td>1</td>\n      <td>22.434055</td>\n      <td>7.825985</td>\n      <td>0.741376</td>\n    </tr>\n    <tr>\n      <th>...</th>\n      <td>...</td>\n      <td>...</td>\n      <td>...</td>\n      <td>...</td>\n    </tr>\n    <tr>\n      <th>2030-10-07T19:00</th>\n      <td>1</td>\n      <td>12.340292</td>\n      <td>22.509373</td>\n      <td>0.354101</td>\n    </tr>\n    <tr>\n      <th>2030-10-07T20:00</th>\n      <td>1</td>\n      <td>11.783080</td>\n      <td>19.612548</td>\n      <td>0.375310</td>\n    </tr>\n    <tr>\n      <th>2030-10-07T21:00</th>\n      <td>1</td>\n      <td>22.706598</td>\n      <td>9.836357</td>\n      <td>0.697742</td>\n    </tr>\n    <tr>\n      <th>2030-10-07T22:00</th>\n      <td>1</td>\n      <td>18.498432</td>\n      <td>14.654953</td>\n      <td>0.557965</td>\n    </tr>\n    <tr>\n      <th>2030-10-07T23:00</th>\n      <td>1</td>\n      <td>23.414801</td>\n      <td>9.692907</td>\n      <td>0.707231</td>\n    </tr>\n  </tbody>\n</table>\n<p>672 rows × 4 columns</p>\n</div>"
     },
     "execution_count": 83,
     "metadata": {},
     "output_type": "execute_result"
    }
   ],
   "source": [
    "if p in df_out.columns.tolist():\n",
    "    df_out_copy.loc[\n",
    "        (df_out_copy[f'{c_name}_net_p_to_c'] > 0) & (df_out_copy[f'{c_name}_net_cs_to_c'] <= 0), [c_name]] = \\\n",
    "        df_out[p]\n",
    "    p_share_grey_electricity = df_out[p]\n",
    "    df_out_copy.loc[(df_out_copy[f'{c_name}_net_p_to_c'] > 0) & (df_out_copy[f'{c_name}_net_cs_to_c'] > 0), [\n",
    "        c_name]] = p_share_grey_electricity * (df_out_copy[f'{c_name}_net_p_to_c'] / (\n",
    "            df_out_copy[f'{c_name}_net_p_to_c'] + df_out_copy[f'{c_name}_net_cs_to_c']))\n",
    "    df_out_copy.loc[(df_out_copy[f'{c_name}_net_p_to_c'] <= 0), [c_name]] = 0\n",
    "else:\n",
    "    df_out_copy.loc[\n",
    "        (df_out_copy[f'{c_name}_net_p_to_c'] > 0) & (df_out_copy[f'{c_name}_net_cs_to_c'] <= 0), [c_name]] = 1\n",
    "    p_share_grey_electricity = 1\n",
    "    df_out_copy.loc[(df_out_copy[f'{c_name}_net_p_to_c'] > 0) & (df_out_copy[f'{c_name}_net_cs_to_c'] > 0), [\n",
    "        c_name]] = p_share_grey_electricity * (df_out_copy[f'{c_name}_net_p_to_c'] / (\n",
    "            df_out_copy[f'{c_name}_net_p_to_c'] + df_out_copy[f'{c_name}_net_cs_to_c']))\n",
    "    df_out_copy.loc[(df_out_copy[f'{c_name}_net_p_to_c'] <= 0), [c_name]] = 0\n",
    "df_out_copy"
   ],
   "metadata": {
    "collapsed": false,
    "pycharm": {
     "name": "#%%\n"
    }
   }
  },
  {
   "cell_type": "code",
   "execution_count": 85,
   "outputs": [
    {
     "data": {
      "text/plain": "'region-1'"
     },
     "execution_count": 85,
     "metadata": {},
     "output_type": "execute_result"
    }
   ],
   "source": [
    "p.lower()"
   ],
   "metadata": {
    "collapsed": false,
    "pycharm": {
     "name": "#%%\n"
    }
   }
  },
  {
   "cell_type": "markdown",
   "source": [
    "---"
   ],
   "metadata": {
    "collapsed": false,
    "pycharm": {
     "name": "#%% md\n"
    }
   }
  },
  {
   "cell_type": "code",
   "execution_count": 8,
   "outputs": [
    {
     "data": {
      "text/plain": "                           energy [kWh]        seller         buyer\nslot                                                               \n2030-01-01T00:00:00+00:00      0.002375      region-1  region-1-ec4\n2030-01-01T00:00:00+00:00      1.646400      region-1  region-1-ec3\n2030-01-01T00:00:00+00:00      0.963733      region-1  region-1-ec3\n2030-01-01T00:00:00+00:00      0.002375      region-1  region-1-ec3\n2030-01-01T00:00:00+00:00      0.000092      region-1  region-1-ec3\n...                                 ...           ...           ...\n2030-04-07T23:00:00+00:00      0.010713  region-1-ec0      region-1\n2030-04-07T23:00:00+00:00      0.010713  region-1-ec0      region-1\n2030-04-07T23:00:00+00:00      1.136000  region-1-ec0      region-1\n2030-04-07T23:00:00+00:00      5.150528  region-1-ec0      region-1\n2030-04-07T23:00:00+00:00      1.706133      region-1  region-1-ec1\n\n[43518 rows x 3 columns]",
      "text/html": "<div>\n<style scoped>\n    .dataframe tbody tr th:only-of-type {\n        vertical-align: middle;\n    }\n\n    .dataframe tbody tr th {\n        vertical-align: top;\n    }\n\n    .dataframe thead th {\n        text-align: right;\n    }\n</style>\n<table border=\"1\" class=\"dataframe\">\n  <thead>\n    <tr style=\"text-align: right;\">\n      <th></th>\n      <th>energy [kWh]</th>\n      <th>seller</th>\n      <th>buyer</th>\n    </tr>\n    <tr>\n      <th>slot</th>\n      <th></th>\n      <th></th>\n      <th></th>\n    </tr>\n  </thead>\n  <tbody>\n    <tr>\n      <th>2030-01-01T00:00:00+00:00</th>\n      <td>0.002375</td>\n      <td>region-1</td>\n      <td>region-1-ec4</td>\n    </tr>\n    <tr>\n      <th>2030-01-01T00:00:00+00:00</th>\n      <td>1.646400</td>\n      <td>region-1</td>\n      <td>region-1-ec3</td>\n    </tr>\n    <tr>\n      <th>2030-01-01T00:00:00+00:00</th>\n      <td>0.963733</td>\n      <td>region-1</td>\n      <td>region-1-ec3</td>\n    </tr>\n    <tr>\n      <th>2030-01-01T00:00:00+00:00</th>\n      <td>0.002375</td>\n      <td>region-1</td>\n      <td>region-1-ec3</td>\n    </tr>\n    <tr>\n      <th>2030-01-01T00:00:00+00:00</th>\n      <td>0.000092</td>\n      <td>region-1</td>\n      <td>region-1-ec3</td>\n    </tr>\n    <tr>\n      <th>...</th>\n      <td>...</td>\n      <td>...</td>\n      <td>...</td>\n    </tr>\n    <tr>\n      <th>2030-04-07T23:00:00+00:00</th>\n      <td>0.010713</td>\n      <td>region-1-ec0</td>\n      <td>region-1</td>\n    </tr>\n    <tr>\n      <th>2030-04-07T23:00:00+00:00</th>\n      <td>0.010713</td>\n      <td>region-1-ec0</td>\n      <td>region-1</td>\n    </tr>\n    <tr>\n      <th>2030-04-07T23:00:00+00:00</th>\n      <td>1.136000</td>\n      <td>region-1-ec0</td>\n      <td>region-1</td>\n    </tr>\n    <tr>\n      <th>2030-04-07T23:00:00+00:00</th>\n      <td>5.150528</td>\n      <td>region-1-ec0</td>\n      <td>region-1</td>\n    </tr>\n    <tr>\n      <th>2030-04-07T23:00:00+00:00</th>\n      <td>1.706133</td>\n      <td>region-1</td>\n      <td>region-1-ec1</td>\n    </tr>\n  </tbody>\n</table>\n<p>43518 rows × 3 columns</p>\n</div>"
     },
     "execution_count": 8,
     "metadata": {},
     "output_type": "execute_result"
    }
   ],
   "source": [
    "df = pd.concat([df, df1]).sort_values(by='slot').reset_index(drop=True)\n",
    "df.set_index(['slot'], inplace=True)\n",
    "df"
   ],
   "metadata": {
    "collapsed": false,
    "pycharm": {
     "name": "#%%\n"
    }
   }
  },
  {
   "cell_type": "code",
   "execution_count": 9,
   "outputs": [
    {
     "name": "stdout",
     "output_type": "stream",
     "text": [
      "['region-1-ec0' 'region-1-ec1' 'region-1-ec2' 'region-1-ec4'\n",
      " 'region-1-ec3' 'region-1-ec5']\n"
     ]
    },
    {
     "data": {
      "text/plain": "'region-1-ec1'"
     },
     "execution_count": 9,
     "metadata": {},
     "output_type": "execute_result"
    }
   ],
   "source": [
    "# get children\n",
    "sellers = [i for i in df.seller.unique() if 'mm-' not in i and i != p]\n",
    "buyers = [i for i in df.buyer.unique() if 'mm-' not in i and i != p]\n",
    "children = pd.Series([*sellers, *buyers]).unique()\n",
    "print(children)\n",
    "c = children[1]\n",
    "c"
   ],
   "metadata": {
    "collapsed": false,
    "pycharm": {
     "name": "#%%\n"
    }
   }
  },
  {
   "cell_type": "code",
   "execution_count": 10,
   "outputs": [],
   "source": [
    "p_to_c = df[(df.seller == p) & (df.buyer == c)][['energy [kWh]']]\n",
    "c_to_p = df[(df.seller == c) & (df.buyer == p)][['energy [kWh]']]\n",
    "cs_to_c = df[(df.seller != p) & (df.seller != c) & (df.buyer == c)][['energy [kWh]']]\n",
    "c_to_cs = df[(df.seller == c) & (df.buyer != p) & (df.buyer != c)][['energy [kWh]']]"
   ],
   "metadata": {
    "collapsed": false,
    "pycharm": {
     "name": "#%%\n"
    }
   }
  },
  {
   "cell_type": "code",
   "execution_count": 11,
   "outputs": [],
   "source": [
    "c_to_p = f.share_renewable_df_grouper(df_out, c_to_p)\n",
    "p_to_c = f.share_renewable_df_grouper(df_out, p_to_c)\n",
    "cs_to_c = f.share_renewable_df_grouper(df_out, cs_to_c)\n",
    "c_to_cs = f.share_renewable_df_grouper(df_out, c_to_cs)"
   ],
   "metadata": {
    "collapsed": false,
    "pycharm": {
     "name": "#%%\n"
    }
   }
  },
  {
   "cell_type": "code",
   "execution_count": 12,
   "outputs": [],
   "source": [
    "net_p_to_c = p_to_c - c_to_p\n",
    "net_cs_to_c = cs_to_c - c_to_cs"
   ],
   "metadata": {
    "collapsed": false,
    "pycharm": {
     "name": "#%%\n"
    }
   }
  },
  {
   "cell_type": "code",
   "execution_count": 13,
   "outputs": [
    {
     "data": {
      "text/plain": "                  region-1-ec1_net_p_to_c  region-1-ec1_net_cs_to_c\n2030-01-01T00:00                29.095249                  0.000000\n2030-01-01T01:00                22.320599                  6.981230\n2030-01-01T02:00                22.939082                  6.653988\n2030-01-01T03:00                20.292401                  9.104583\n2030-01-01T04:00                22.434055                  7.825985\n...                                   ...                       ...\n2030-10-07T19:00                 0.000000                  0.000000\n2030-10-07T20:00                 0.000000                  0.000000\n2030-10-07T21:00                 0.000000                  0.000000\n2030-10-07T22:00                 0.000000                  0.000000\n2030-10-07T23:00                 0.000000                  0.000000\n\n[672 rows x 2 columns]",
      "text/html": "<div>\n<style scoped>\n    .dataframe tbody tr th:only-of-type {\n        vertical-align: middle;\n    }\n\n    .dataframe tbody tr th {\n        vertical-align: top;\n    }\n\n    .dataframe thead th {\n        text-align: right;\n    }\n</style>\n<table border=\"1\" class=\"dataframe\">\n  <thead>\n    <tr style=\"text-align: right;\">\n      <th></th>\n      <th>region-1-ec1_net_p_to_c</th>\n      <th>region-1-ec1_net_cs_to_c</th>\n    </tr>\n  </thead>\n  <tbody>\n    <tr>\n      <th>2030-01-01T00:00</th>\n      <td>29.095249</td>\n      <td>0.000000</td>\n    </tr>\n    <tr>\n      <th>2030-01-01T01:00</th>\n      <td>22.320599</td>\n      <td>6.981230</td>\n    </tr>\n    <tr>\n      <th>2030-01-01T02:00</th>\n      <td>22.939082</td>\n      <td>6.653988</td>\n    </tr>\n    <tr>\n      <th>2030-01-01T03:00</th>\n      <td>20.292401</td>\n      <td>9.104583</td>\n    </tr>\n    <tr>\n      <th>2030-01-01T04:00</th>\n      <td>22.434055</td>\n      <td>7.825985</td>\n    </tr>\n    <tr>\n      <th>...</th>\n      <td>...</td>\n      <td>...</td>\n    </tr>\n    <tr>\n      <th>2030-10-07T19:00</th>\n      <td>0.000000</td>\n      <td>0.000000</td>\n    </tr>\n    <tr>\n      <th>2030-10-07T20:00</th>\n      <td>0.000000</td>\n      <td>0.000000</td>\n    </tr>\n    <tr>\n      <th>2030-10-07T21:00</th>\n      <td>0.000000</td>\n      <td>0.000000</td>\n    </tr>\n    <tr>\n      <th>2030-10-07T22:00</th>\n      <td>0.000000</td>\n      <td>0.000000</td>\n    </tr>\n    <tr>\n      <th>2030-10-07T23:00</th>\n      <td>0.000000</td>\n      <td>0.000000</td>\n    </tr>\n  </tbody>\n</table>\n<p>672 rows × 2 columns</p>\n</div>"
     },
     "execution_count": 13,
     "metadata": {},
     "output_type": "execute_result"
    }
   ],
   "source": [
    "c_name = c if 'id' not in c else p + '_' + c\n",
    "df_out_copy = df_out.copy()\n",
    "df_out_copy[f'{c_name}_net_p_to_c'] = net_p_to_c\n",
    "df_out_copy[f'{c_name}_net_cs_to_c'] = net_cs_to_c\n",
    "df_out_copy"
   ],
   "metadata": {
    "collapsed": false,
    "pycharm": {
     "name": "#%%\n"
    }
   }
  },
  {
   "cell_type": "code",
   "execution_count": 39,
   "outputs": [],
   "source": [
    "p_share_grey_electricity = 1\n",
    "df_out_copy.loc[(df_out_copy[f'{c_name}_net_p_to_c'] > 0) & (df_out_copy[f'{c_name}_net_cs_to_c'] > 0), [f'{c_name}']] = p_share_grey_electricity * (df_out_copy[f'{c_name}_net_p_to_c'] / (df_out_copy[f'{c_name}_net_p_to_c'] + df_out_copy[f'{c_name}_net_cs_to_c']))"
   ],
   "metadata": {
    "collapsed": false,
    "pycharm": {
     "name": "#%%\n"
    }
   }
  },
  {
   "cell_type": "code",
   "execution_count": 41,
   "outputs": [
    {
     "data": {
      "text/plain": "2030-01-01T00:00    0.000000\n2030-01-01T01:00    6.981230\n2030-01-01T02:00    6.653988\n2030-01-01T03:00    9.104583\n2030-01-01T04:00    7.825985\n                      ...   \n2030-10-07T19:00    0.000000\n2030-10-07T20:00    0.000000\n2030-10-07T21:00    0.000000\n2030-10-07T22:00    0.000000\n2030-10-07T23:00    0.000000\nName: region-1-ec1_net_cs_to_c, Length: 672, dtype: float64"
     },
     "execution_count": 41,
     "metadata": {},
     "output_type": "execute_result"
    }
   ],
   "source": [
    "df_out_copy['region-1-ec1_net_cs_to_c']"
   ],
   "metadata": {
    "collapsed": false,
    "pycharm": {
     "name": "#%%\n"
    }
   }
  },
  {
   "cell_type": "code",
   "execution_count": 42,
   "outputs": [],
   "source": [
    "if p in df_out.columns.tolist():\n",
    "    df_out_copy.loc[(df_out_copy[f'{c_name}_net_p_to_c'] > 0) & (df_out_copy[f'{c_name}_net_cs_to_c'] <= 0), [c_name]] = df_out_copy[p]\n",
    "    p_share_grey_electricity = df_out[p]\n",
    "    df_out_copy.loc[(df_out_copy[f'{c_name}_net_p_to_c'] > 0) & (df_out_copy[f'{c_name}_net_cs_to_c'] > 0), [c_name]] = p_share_grey_electricity * (df_out_copy[f'{c_name}_net_p_to_c'] / (df_out_copy[f'{c_name}_net_p_to_c'] + df_out_copy[f'{c_name}_net_cs_to_c']))\n",
    "    df_out_copy.loc[(df_out_copy[f'{c_name}_net_p_to_c'] <= 0), [c_name]] = 0\n",
    "else:\n",
    "    df_out_copy.loc[(df_out_copy[f'{c_name}_net_p_to_c'] > 0) & (df_out_copy[f'{c_name}_net_cs_to_c'] <= 0), [c_name]] = 1\n",
    "    p_share_grey_electricity = 1\n",
    "    df_out_copy.loc[(df_out_copy[f'{c_name}_net_p_to_c'] > 0) & (df_out_copy[f'{c_name}_net_cs_to_c'] > 0), [c_name]] = p_share_grey_electricity * (df_out_copy[f'{c_name}_net_p_to_c'] / (df_out_copy[f'{c_name}_net_p_to_c'] + df_out_copy[f'{c_name}_net_cs_to_c']))\n",
    "    df_out_copy.loc[(df_out_copy[f'{c_name}_net_p_to_c'] <= 0), [c_name]] = 0\n",
    "\n",
    "df_out[c_name] = df_out_copy[c_name]"
   ],
   "metadata": {
    "collapsed": false,
    "pycharm": {
     "name": "#%%\n"
    }
   }
  },
  {
   "cell_type": "code",
   "execution_count": 47,
   "outputs": [],
   "source": [
    "a = set(df_out_copy.loc[(df_out_copy[f'{c_name}_net_p_to_c'] > 0) & (df_out_copy[f'{c_name}_net_cs_to_c'] <= 0)].index.tolist())\n",
    "b = set(df_out_copy.loc[(df_out_copy[f'{c_name}_net_p_to_c'] > 0) & (df_out_copy[f'{c_name}_net_cs_to_c'] > 0)].index.tolist())\n",
    "c = set(df_out_copy.loc[(df_out_copy[f'{c_name}_net_p_to_c'] <= 0)].index.tolist())"
   ],
   "metadata": {
    "collapsed": false,
    "pycharm": {
     "name": "#%%\n"
    }
   }
  },
  {
   "cell_type": "code",
   "execution_count": 43,
   "outputs": [
    {
     "data": {
      "text/plain": "                  region-1-ec1\n2030-01-01T00:00      1.000000\n2030-01-01T01:00      0.761748\n2030-01-01T02:00      0.775150\n2030-01-01T03:00      0.690289\n2030-01-01T04:00      0.741376\n...                        ...\n2030-10-07T19:00      0.000000\n2030-10-07T20:00      0.000000\n2030-10-07T21:00      0.000000\n2030-10-07T22:00      0.000000\n2030-10-07T23:00      0.000000\n\n[672 rows x 1 columns]",
      "text/html": "<div>\n<style scoped>\n    .dataframe tbody tr th:only-of-type {\n        vertical-align: middle;\n    }\n\n    .dataframe tbody tr th {\n        vertical-align: top;\n    }\n\n    .dataframe thead th {\n        text-align: right;\n    }\n</style>\n<table border=\"1\" class=\"dataframe\">\n  <thead>\n    <tr style=\"text-align: right;\">\n      <th></th>\n      <th>region-1-ec1</th>\n    </tr>\n  </thead>\n  <tbody>\n    <tr>\n      <th>2030-01-01T00:00</th>\n      <td>1.000000</td>\n    </tr>\n    <tr>\n      <th>2030-01-01T01:00</th>\n      <td>0.761748</td>\n    </tr>\n    <tr>\n      <th>2030-01-01T02:00</th>\n      <td>0.775150</td>\n    </tr>\n    <tr>\n      <th>2030-01-01T03:00</th>\n      <td>0.690289</td>\n    </tr>\n    <tr>\n      <th>2030-01-01T04:00</th>\n      <td>0.741376</td>\n    </tr>\n    <tr>\n      <th>...</th>\n      <td>...</td>\n    </tr>\n    <tr>\n      <th>2030-10-07T19:00</th>\n      <td>0.000000</td>\n    </tr>\n    <tr>\n      <th>2030-10-07T20:00</th>\n      <td>0.000000</td>\n    </tr>\n    <tr>\n      <th>2030-10-07T21:00</th>\n      <td>0.000000</td>\n    </tr>\n    <tr>\n      <th>2030-10-07T22:00</th>\n      <td>0.000000</td>\n    </tr>\n    <tr>\n      <th>2030-10-07T23:00</th>\n      <td>0.000000</td>\n    </tr>\n  </tbody>\n</table>\n<p>672 rows × 1 columns</p>\n</div>"
     },
     "execution_count": 43,
     "metadata": {},
     "output_type": "execute_result"
    }
   ],
   "source": [
    "df_out"
   ],
   "metadata": {
    "collapsed": false,
    "pycharm": {
     "name": "#%%\n"
    }
   }
  },
  {
   "cell_type": "code",
   "execution_count": null,
   "outputs": [],
   "source": [],
   "metadata": {
    "collapsed": false,
    "pycharm": {
     "name": "#%%\n"
    }
   }
  },
  {
   "cell_type": "code",
   "execution_count": 15,
   "outputs": [
    {
     "data": {
      "text/plain": "                  region-1-ec1_net_p_to_c  region-1-ec1_net_cs_to_c\n2030-01-02T09:00               -14.873469                  5.944512\n2030-01-02T10:00               -21.395869                  0.000000\n2030-01-02T11:00               -28.593640                  0.000000\n2030-01-02T12:00               -26.122382                  0.000000\n2030-01-02T13:00                -8.580793                  0.000000\n...                                   ...                       ...\n2030-10-07T19:00                 0.000000                  0.000000\n2030-10-07T20:00                 0.000000                  0.000000\n2030-10-07T21:00                 0.000000                  0.000000\n2030-10-07T22:00                 0.000000                  0.000000\n2030-10-07T23:00                 0.000000                  0.000000\n\n[416 rows x 2 columns]",
      "text/html": "<div>\n<style scoped>\n    .dataframe tbody tr th:only-of-type {\n        vertical-align: middle;\n    }\n\n    .dataframe tbody tr th {\n        vertical-align: top;\n    }\n\n    .dataframe thead th {\n        text-align: right;\n    }\n</style>\n<table border=\"1\" class=\"dataframe\">\n  <thead>\n    <tr style=\"text-align: right;\">\n      <th></th>\n      <th>region-1-ec1_net_p_to_c</th>\n      <th>region-1-ec1_net_cs_to_c</th>\n    </tr>\n  </thead>\n  <tbody>\n    <tr>\n      <th>2030-01-02T09:00</th>\n      <td>-14.873469</td>\n      <td>5.944512</td>\n    </tr>\n    <tr>\n      <th>2030-01-02T10:00</th>\n      <td>-21.395869</td>\n      <td>0.000000</td>\n    </tr>\n    <tr>\n      <th>2030-01-02T11:00</th>\n      <td>-28.593640</td>\n      <td>0.000000</td>\n    </tr>\n    <tr>\n      <th>2030-01-02T12:00</th>\n      <td>-26.122382</td>\n      <td>0.000000</td>\n    </tr>\n    <tr>\n      <th>2030-01-02T13:00</th>\n      <td>-8.580793</td>\n      <td>0.000000</td>\n    </tr>\n    <tr>\n      <th>...</th>\n      <td>...</td>\n      <td>...</td>\n    </tr>\n    <tr>\n      <th>2030-10-07T19:00</th>\n      <td>0.000000</td>\n      <td>0.000000</td>\n    </tr>\n    <tr>\n      <th>2030-10-07T20:00</th>\n      <td>0.000000</td>\n      <td>0.000000</td>\n    </tr>\n    <tr>\n      <th>2030-10-07T21:00</th>\n      <td>0.000000</td>\n      <td>0.000000</td>\n    </tr>\n    <tr>\n      <th>2030-10-07T22:00</th>\n      <td>0.000000</td>\n      <td>0.000000</td>\n    </tr>\n    <tr>\n      <th>2030-10-07T23:00</th>\n      <td>0.000000</td>\n      <td>0.000000</td>\n    </tr>\n  </tbody>\n</table>\n<p>416 rows × 2 columns</p>\n</div>"
     },
     "execution_count": 15,
     "metadata": {},
     "output_type": "execute_result"
    }
   ],
   "source": [
    "c = df_out_copy.loc[(df_out_copy[f'{c_name}_net_p_to_c'] <= 0)]\n",
    "c"
   ],
   "metadata": {
    "collapsed": false,
    "pycharm": {
     "name": "#%%\n"
    }
   }
  },
  {
   "cell_type": "code",
   "execution_count": 16,
   "outputs": [
    {
     "ename": "ValueError",
     "evalue": "Cannot index with multidimensional key",
     "output_type": "error",
     "traceback": [
      "\u001B[1;31m---------------------------------------------------------------------------\u001B[0m",
      "\u001B[1;31mValueError\u001B[0m                                Traceback (most recent call last)",
      "Input \u001B[1;32mIn [16]\u001B[0m, in \u001B[0;36m<cell line: 1>\u001B[1;34m()\u001B[0m\n\u001B[1;32m----> 1\u001B[0m \u001B[43mdf_out\u001B[49m\u001B[38;5;241;43m.\u001B[39;49m\u001B[43mloc\u001B[49m\u001B[43m[\u001B[49m\u001B[43mc\u001B[49m\u001B[43m]\u001B[49m\n",
      "File \u001B[1;32m~\\anaconda3\\envs\\fim_ml\\lib\\site-packages\\pandas\\core\\indexing.py:967\u001B[0m, in \u001B[0;36m_LocationIndexer.__getitem__\u001B[1;34m(self, key)\u001B[0m\n\u001B[0;32m    964\u001B[0m axis \u001B[38;5;241m=\u001B[39m \u001B[38;5;28mself\u001B[39m\u001B[38;5;241m.\u001B[39maxis \u001B[38;5;129;01mor\u001B[39;00m \u001B[38;5;241m0\u001B[39m\n\u001B[0;32m    966\u001B[0m maybe_callable \u001B[38;5;241m=\u001B[39m com\u001B[38;5;241m.\u001B[39mapply_if_callable(key, \u001B[38;5;28mself\u001B[39m\u001B[38;5;241m.\u001B[39mobj)\n\u001B[1;32m--> 967\u001B[0m \u001B[38;5;28;01mreturn\u001B[39;00m \u001B[38;5;28;43mself\u001B[39;49m\u001B[38;5;241;43m.\u001B[39;49m\u001B[43m_getitem_axis\u001B[49m\u001B[43m(\u001B[49m\u001B[43mmaybe_callable\u001B[49m\u001B[43m,\u001B[49m\u001B[43m \u001B[49m\u001B[43maxis\u001B[49m\u001B[38;5;241;43m=\u001B[39;49m\u001B[43maxis\u001B[49m\u001B[43m)\u001B[49m\n",
      "File \u001B[1;32m~\\anaconda3\\envs\\fim_ml\\lib\\site-packages\\pandas\\core\\indexing.py:1189\u001B[0m, in \u001B[0;36m_LocIndexer._getitem_axis\u001B[1;34m(self, key, axis)\u001B[0m\n\u001B[0;32m   1186\u001B[0m \u001B[38;5;28;01mif\u001B[39;00m \u001B[38;5;129;01mnot\u001B[39;00m (\u001B[38;5;28misinstance\u001B[39m(key, \u001B[38;5;28mtuple\u001B[39m) \u001B[38;5;129;01mand\u001B[39;00m \u001B[38;5;28misinstance\u001B[39m(labels, MultiIndex)):\n\u001B[0;32m   1188\u001B[0m     \u001B[38;5;28;01mif\u001B[39;00m \u001B[38;5;28mhasattr\u001B[39m(key, \u001B[38;5;124m\"\u001B[39m\u001B[38;5;124mndim\u001B[39m\u001B[38;5;124m\"\u001B[39m) \u001B[38;5;129;01mand\u001B[39;00m key\u001B[38;5;241m.\u001B[39mndim \u001B[38;5;241m>\u001B[39m \u001B[38;5;241m1\u001B[39m:\n\u001B[1;32m-> 1189\u001B[0m         \u001B[38;5;28;01mraise\u001B[39;00m \u001B[38;5;167;01mValueError\u001B[39;00m(\u001B[38;5;124m\"\u001B[39m\u001B[38;5;124mCannot index with multidimensional key\u001B[39m\u001B[38;5;124m\"\u001B[39m)\n\u001B[0;32m   1191\u001B[0m     \u001B[38;5;28;01mreturn\u001B[39;00m \u001B[38;5;28mself\u001B[39m\u001B[38;5;241m.\u001B[39m_getitem_iterable(key, axis\u001B[38;5;241m=\u001B[39maxis)\n\u001B[0;32m   1193\u001B[0m \u001B[38;5;66;03m# nested tuple slicing\u001B[39;00m\n",
      "\u001B[1;31mValueError\u001B[0m: Cannot index with multidimensional key"
     ]
    }
   ],
   "source": [
    "df_out."
   ],
   "metadata": {
    "collapsed": false,
    "pycharm": {
     "name": "#%%\n"
    }
   }
  }
 ],
 "metadata": {
  "kernelspec": {
   "display_name": "fim_ml",
   "language": "python",
   "name": "fim_ml"
  },
  "language_info": {
   "codemirror_mode": {
    "name": "ipython",
    "version": 3
   },
   "file_extension": ".py",
   "mimetype": "text/x-python",
   "name": "python",
   "nbconvert_exporter": "python",
   "pygments_lexer": "ipython3",
   "version": "3.8.13"
  }
 },
 "nbformat": 4,
 "nbformat_minor": 1
}