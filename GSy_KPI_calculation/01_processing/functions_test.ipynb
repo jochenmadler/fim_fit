{
 "cells": [
  {
   "cell_type": "code",
   "execution_count": 1,
   "outputs": [
    {
     "data": {
      "text/plain": "['usecase2_edu', 'usecase4_edu', 'usecase_0', '__MACOSX']"
     },
     "execution_count": 1,
     "metadata": {},
     "output_type": "execute_result"
    }
   ],
   "source": [
    "# set up\n",
    "import os\n",
    "import pandas as pd\n",
    "import functools as func\n",
    "import functions as f\n",
    "import numpy as np\n",
    "import matplotlib.pyplot as plt\n",
    "import seaborn as sns\n",
    "sns.set_style('white')\n",
    "home_path = \"C:\\\\Users\\joche\\FIM Kernkompetenzzentrum\\Projekt VIdES - Dokumente\\General\\\\07_Arbeitsordner\\\\04_Ergebnisse\\\\20220907_erste_Ergebnisse_UseCases\"\n",
    "os.chdir(home_path)\n",
    "os.listdir()"
   ],
   "metadata": {
    "collapsed": false,
    "pycharm": {
     "name": "#%%\n"
    }
   }
  },
  {
   "cell_type": "code",
   "execution_count": 61,
   "outputs": [
    {
     "data": {
      "text/plain": "['grid',\n 'grid-bids.csv',\n 'grid-offers.csv',\n 'grid-trades.csv',\n 'grid.csv',\n 'mm-germany.csv']"
     },
     "execution_count": 61,
     "metadata": {},
     "output_type": "execute_result"
    }
   ],
   "source": [
    "# navigate to .json files for use case 2\n",
    "os.chdir(home_path)\n",
    "os.chdir('usecase2_edu/')\n",
    "os.chdir('germany/')\n",
    "os.listdir()"
   ],
   "metadata": {
    "collapsed": false,
    "pycharm": {
     "name": "#%%\n"
    }
   }
  },
  {
   "cell_type": "code",
   "execution_count": 3,
   "outputs": [
    {
     "data": {
      "text/plain": "                                       Region_5_ID_5_Wind_FeedIn  \\\nsold_energy    {'Region_5_ID_5_Wind_FeedIn': {'accumulated': ...   \nbought_energy  {'Region_5_EC0_house_Wind': {'accumulated': {'...   \n\n                                         Region_5_EC0_house_Wind  \\\nsold_energy    {'Region_5_ID_5_Wind_FeedIn': {'accumulated': ...   \nbought_energy  {'Region_5_EC0_house_Wind': {'accumulated': {'...   \n\n                                                    Region_5_EC0  \\\nsold_energy    {'Region_5_EC0_house_Wind': {'accumulated': {'...   \nbought_energy  {'Region_5_EC0': {'accumulated': {'January 01 ...   \n\n                    Region_5_ID_447_HH_4_Household_Electric_Load  \\\nsold_energy    {'Region_5_EC1_house_15': {'accumulated': {'Ja...   \nbought_energy  {'Region_5_ID_447_HH_4_Household_Electric_Load...   \n\n                                           Region_5_EC1_house_15  \\\nsold_energy    {'Region_5_EC1_house_15': {'accumulated': {'Ja...   \nbought_energy  {'Region_5_ID_447_HH_4_Household_Electric_Load...   \n\n                                                 ID_3_EV_HHChild  \\\nsold_energy    {'Region_5_EC1_house_12': {'accumulated': {'Ja...   \nbought_energy  {'ID_3_EV_HHChild': {'accumulated': {'January ...   \n\n                    Region_5_ID_420_HH_2_Household_Electric_Load  \\\nsold_energy    {'Region_5_EC1_house_12': {'accumulated': {'Ja...   \nbought_energy  {'Region_5_ID_420_HH_2_Household_Electric_Load...   \n\n                                           Region_5_EC1_house_12  \\\nsold_energy    {'Region_5_EC1_house_12': {'accumulated': {'Ja...   \nbought_energy  {'ID_3_EV_HHChild': {'accumulated': {'January ...   \n\n                                       ID_16_Data_BatteryStorage  \\\nsold_energy    {'Region_5_ID_62_PV_FeedIn': {'accumulated': {...   \nbought_energy  {'ID_16_Data_BatteryStorage': {'accumulated': ...   \n\n                             Region_5_ID_48_Heatpump_Loadprofile  ...  \\\nsold_energy    {'Region_5_EC1_house_13': {'accumulated': {'Ja...  ...   \nbought_energy  {'Region_5_ID_48_Heatpump_Loadprofile': {'accu...  ...   \n\n                                            Region_6_EC2_house_0  \\\nsold_energy    {'Region_6_EC2_house_0': {'accumulated': {'Jan...   \nbought_energy  {'Region_6_ID_69_Heatpump_Loadprofile': {'accu...   \n\n                                        Region_6_ID_94_PV_FeedIn  \\\nsold_energy    {'Region_6_ID_94_PV_FeedIn': {'accumulated': {...   \nbought_energy  {'ID_3_EV_HHChild': {'accumulated': {'January ...   \n\n                             Region_6_ID_70_Heatpump_Loadprofile  \\\nsold_energy    {'Region_6_EC2_house_7': {'accumulated': {'Jan...   \nbought_energy  {'Region_6_ID_70_Heatpump_Loadprofile': {'accu...   \n\n                    Region_6_ID_473_HH_1_Household_Electric_Load  \\\nsold_energy    {'Region_6_EC2_house_7': {'accumulated': {'Jan...   \nbought_energy  {'Region_6_ID_473_HH_1_Household_Electric_Load...   \n\n                                            Region_6_EC2_house_7  \\\nsold_energy    {'Region_6_EC2_house_7': {'accumulated': {'Jan...   \nbought_energy  {'ID_3_EV_HHChild': {'accumulated': {'January ...   \n\n                                                    Region_6_EC2  \\\nsold_energy    {'Region_6_EC2': {'accumulated': {'January 01 ...   \nbought_energy  {'Region_6_EC2_house_4': {'accumulated': {'Jan...   \n\n                                                        Region_6  \\\nsold_energy    {'Region_6': {'accumulated': {'January 01 2030...   \nbought_energy  {'Region_6_EC4': {'accumulated': {'January 01 ...   \n\n                                                            Grid  \\\nsold_energy    {'Region_1': {'accumulated': {'January 01 2030...   \nbought_energy  {'Grid': {'accumulated': {'January 01 2030, 00...   \n\n                                                      MM_Germany  \\\nsold_energy    {'Grid': {'accumulated': {'January 01 2030, 00...   \nbought_energy  {'MM_Germany': {'accumulated': {'January 01 20...   \n\n                                                         Germany  \nsold_energy    {'Grid': {'accumulated': {'January 01 2030, 00...  \nbought_energy  {'MM_Germany': {'accumulated': {'January 01 20...  \n\n[2 rows x 1384 columns]",
      "text/html": "<div>\n<style scoped>\n    .dataframe tbody tr th:only-of-type {\n        vertical-align: middle;\n    }\n\n    .dataframe tbody tr th {\n        vertical-align: top;\n    }\n\n    .dataframe thead th {\n        text-align: right;\n    }\n</style>\n<table border=\"1\" class=\"dataframe\">\n  <thead>\n    <tr style=\"text-align: right;\">\n      <th></th>\n      <th>Region_5_ID_5_Wind_FeedIn</th>\n      <th>Region_5_EC0_house_Wind</th>\n      <th>Region_5_EC0</th>\n      <th>Region_5_ID_447_HH_4_Household_Electric_Load</th>\n      <th>Region_5_EC1_house_15</th>\n      <th>ID_3_EV_HHChild</th>\n      <th>Region_5_ID_420_HH_2_Household_Electric_Load</th>\n      <th>Region_5_EC1_house_12</th>\n      <th>ID_16_Data_BatteryStorage</th>\n      <th>Region_5_ID_48_Heatpump_Loadprofile</th>\n      <th>...</th>\n      <th>Region_6_EC2_house_0</th>\n      <th>Region_6_ID_94_PV_FeedIn</th>\n      <th>Region_6_ID_70_Heatpump_Loadprofile</th>\n      <th>Region_6_ID_473_HH_1_Household_Electric_Load</th>\n      <th>Region_6_EC2_house_7</th>\n      <th>Region_6_EC2</th>\n      <th>Region_6</th>\n      <th>Grid</th>\n      <th>MM_Germany</th>\n      <th>Germany</th>\n    </tr>\n  </thead>\n  <tbody>\n    <tr>\n      <th>sold_energy</th>\n      <td>{'Region_5_ID_5_Wind_FeedIn': {'accumulated': ...</td>\n      <td>{'Region_5_ID_5_Wind_FeedIn': {'accumulated': ...</td>\n      <td>{'Region_5_EC0_house_Wind': {'accumulated': {'...</td>\n      <td>{'Region_5_EC1_house_15': {'accumulated': {'Ja...</td>\n      <td>{'Region_5_EC1_house_15': {'accumulated': {'Ja...</td>\n      <td>{'Region_5_EC1_house_12': {'accumulated': {'Ja...</td>\n      <td>{'Region_5_EC1_house_12': {'accumulated': {'Ja...</td>\n      <td>{'Region_5_EC1_house_12': {'accumulated': {'Ja...</td>\n      <td>{'Region_5_ID_62_PV_FeedIn': {'accumulated': {...</td>\n      <td>{'Region_5_EC1_house_13': {'accumulated': {'Ja...</td>\n      <td>...</td>\n      <td>{'Region_6_EC2_house_0': {'accumulated': {'Jan...</td>\n      <td>{'Region_6_ID_94_PV_FeedIn': {'accumulated': {...</td>\n      <td>{'Region_6_EC2_house_7': {'accumulated': {'Jan...</td>\n      <td>{'Region_6_EC2_house_7': {'accumulated': {'Jan...</td>\n      <td>{'Region_6_EC2_house_7': {'accumulated': {'Jan...</td>\n      <td>{'Region_6_EC2': {'accumulated': {'January 01 ...</td>\n      <td>{'Region_6': {'accumulated': {'January 01 2030...</td>\n      <td>{'Region_1': {'accumulated': {'January 01 2030...</td>\n      <td>{'Grid': {'accumulated': {'January 01 2030, 00...</td>\n      <td>{'Grid': {'accumulated': {'January 01 2030, 00...</td>\n    </tr>\n    <tr>\n      <th>bought_energy</th>\n      <td>{'Region_5_EC0_house_Wind': {'accumulated': {'...</td>\n      <td>{'Region_5_EC0_house_Wind': {'accumulated': {'...</td>\n      <td>{'Region_5_EC0': {'accumulated': {'January 01 ...</td>\n      <td>{'Region_5_ID_447_HH_4_Household_Electric_Load...</td>\n      <td>{'Region_5_ID_447_HH_4_Household_Electric_Load...</td>\n      <td>{'ID_3_EV_HHChild': {'accumulated': {'January ...</td>\n      <td>{'Region_5_ID_420_HH_2_Household_Electric_Load...</td>\n      <td>{'ID_3_EV_HHChild': {'accumulated': {'January ...</td>\n      <td>{'ID_16_Data_BatteryStorage': {'accumulated': ...</td>\n      <td>{'Region_5_ID_48_Heatpump_Loadprofile': {'accu...</td>\n      <td>...</td>\n      <td>{'Region_6_ID_69_Heatpump_Loadprofile': {'accu...</td>\n      <td>{'ID_3_EV_HHChild': {'accumulated': {'January ...</td>\n      <td>{'Region_6_ID_70_Heatpump_Loadprofile': {'accu...</td>\n      <td>{'Region_6_ID_473_HH_1_Household_Electric_Load...</td>\n      <td>{'ID_3_EV_HHChild': {'accumulated': {'January ...</td>\n      <td>{'Region_6_EC2_house_4': {'accumulated': {'Jan...</td>\n      <td>{'Region_6_EC4': {'accumulated': {'January 01 ...</td>\n      <td>{'Grid': {'accumulated': {'January 01 2030, 00...</td>\n      <td>{'MM_Germany': {'accumulated': {'January 01 20...</td>\n      <td>{'MM_Germany': {'accumulated': {'January 01 20...</td>\n    </tr>\n  </tbody>\n</table>\n<p>2 rows × 1384 columns</p>\n</div>"
     },
     "execution_count": 3,
     "metadata": {},
     "output_type": "execute_result"
    }
   ],
   "source": [
    "df_2 = pd.read_json('trade_profile.json')\n",
    "df_2\n",
    "# asset, house, MM_house, member_house"
   ],
   "metadata": {
    "collapsed": false,
    "pycharm": {
     "name": "#%%\n"
    }
   }
  },
  {
   "cell_type": "markdown",
   "source": [
    "Levels:\n",
    "- Germany\n",
    "- MM_Germany\n",
    "- grid\n",
    "- region\n",
    "- ec\n",
    "- house\n",
    "- asset"
   ],
   "metadata": {
    "collapsed": false,
    "pycharm": {
     "name": "#%% md\n"
    }
   }
  },
  {
   "cell_type": "code",
   "execution_count": 52,
   "outputs": [
    {
     "data": {
      "text/plain": "{'January 01 2030, 00:00 h': 126.1400863962796,\n 'January 01 2030, 08:00 h': 131.4522294927944,\n 'January 01 2030, 21:00 h': 126.3190748949416,\n 'January 01 2030, 22:00 h': 113.05224968562439}"
     },
     "execution_count": 52,
     "metadata": {},
     "output_type": "execute_result"
    }
   ],
   "source": [
    "# Grid bought from Region_1\n",
    "df_2['Grid'][1]['Grid']['Region_1']"
   ],
   "metadata": {
    "collapsed": false,
    "pycharm": {
     "name": "#%%\n"
    }
   }
  },
  {
   "cell_type": "code",
   "execution_count": 54,
   "outputs": [
    {
     "data": {
      "text/plain": "{'January 01 2030, 00:00 h': 104.2777477928748,\n 'January 01 2030, 01:00 h': 85.518284662144,\n 'January 01 2030, 02:00 h': 82.87160892937727,\n 'January 01 2030, 03:00 h': 81.74229916477336,\n 'January 01 2030, 04:00 h': 88.61523146218666,\n 'January 01 2030, 05:00 h': 79.81860109466932,\n 'January 01 2030, 06:00 h': 80.22312160186003,\n 'January 01 2030, 07:00 h': 82.74683796115949,\n 'January 01 2030, 08:00 h': 96.58798628547956,\n 'January 01 2030, 09:00 h': 11.442238376685065,\n 'January 01 2030, 14:00 h': 31.22821190870976,\n 'January 01 2030, 15:00 h': 75.52798121000001,\n 'January 01 2030, 16:00 h': 86.40005115013331,\n 'January 01 2030, 17:00 h': 96.70421363026668,\n 'January 01 2030, 18:00 h': 90.96026286865336,\n 'January 01 2030, 19:00 h': 80.15332841238201,\n 'January 01 2030, 20:00 h': 40.64392288112002,\n 'January 01 2030, 21:00 h': 134.97280855603628,\n 'January 01 2030, 22:00 h': 160.9588044501476,\n 'January 01 2030, 23:00 h': 53.79444136552494}"
     },
     "execution_count": 54,
     "metadata": {},
     "output_type": "execute_result"
    }
   ],
   "source": [
    "# Region_1 bought from Grid\n",
    "df_2['Grid'][1]['Region_1']['Grid']"
   ],
   "metadata": {
    "collapsed": false,
    "pycharm": {
     "name": "#%%\n"
    }
   }
  },
  {
   "cell_type": "code",
   "execution_count": 55,
   "outputs": [
    {
     "data": {
      "text/plain": "{'January 01 2030, 08:00 h': 10.862305740096124,\n 'January 01 2030, 09:00 h': 12.495612150979081,\n 'January 01 2030, 10:00 h': 7.9664858788265,\n 'January 01 2030, 11:00 h': 9.939742613333337,\n 'January 01 2030, 12:00 h': 1.854498091961882,\n 'January 01 2030, 13:00 h': 20.635439585195527,\n 'January 01 2030, 14:00 h': 16.71526837797642,\n 'January 01 2030, 21:00 h': 15.149593066666656,\n 'January 01 2030, 23:00 h': 23.69322677035245}"
     },
     "execution_count": 55,
     "metadata": {},
     "output_type": "execute_result"
    }
   ],
   "source": [
    "# Region_1 bought from Region_3\n",
    "df_2['Grid'][1]['Region_1']['Region_3']"
   ],
   "metadata": {
    "collapsed": false,
    "pycharm": {
     "name": "#%%\n"
    }
   }
  },
  {
   "cell_type": "code",
   "execution_count": 57,
   "outputs": [
    {
     "data": {
      "text/plain": "{'January 01 2030, 01:00 h': 12.526429391110913,\n 'January 01 2030, 03:00 h': 10.977403315795355,\n 'January 01 2030, 04:00 h': 6.989866666666668,\n 'January 01 2030, 09:00 h': 2.73879657306328,\n 'January 01 2030, 10:00 h': 3.0,\n 'January 01 2030, 11:00 h': 2.772720091755326,\n 'January 01 2030, 12:00 h': 30.84053520073804,\n 'January 01 2030, 13:00 h': 1.5131999999999999,\n 'January 01 2030, 14:00 h': 9.048261910088625,\n 'January 01 2030, 16:00 h': 18.413984213333332}"
     },
     "execution_count": 57,
     "metadata": {},
     "output_type": "execute_result"
    }
   ],
   "source": [
    "# Region_3 bought from Region_1\n",
    "df_2['Grid'][1]['Region_3']['Region_1']"
   ],
   "metadata": {
    "collapsed": false,
    "pycharm": {
     "name": "#%%\n"
    }
   }
  },
  {
   "cell_type": "code",
   "execution_count": 103,
   "outputs": [],
   "source": [
    "t = 0\n",
    "\n",
    "# read in germany_trades\n",
    "os.chdir(home_path)\n",
    "os.chdir('usecase2_edu/')\n",
    "germany_trades = pd.read_csv('germany-trades.csv').drop(['creation_time', 'matching_requirements', 'rate [ct./kWh]'], axis=1)\n",
    "germany_t = germany_trades[germany_trades.slot == germany_trades.slot.unique()[t]]\n",
    "# read in grid_trades\n",
    "os.chdir(home_path)\n",
    "os.chdir('usecase2_edu/')\n",
    "os.chdir('germany/')\n",
    "grid_trades = pd.read_csv('grid-trades.csv').drop(['creation_time', 'matching_requirements', 'rate [ct./kWh]'], axis=1)\n",
    "grid_t = grid_trades[grid_trades.slot == grid_trades.slot.unique()[t]]"
   ],
   "metadata": {
    "collapsed": false,
    "pycharm": {
     "name": "#%%\n"
    }
   }
  },
  {
   "cell_type": "code",
   "execution_count": 107,
   "outputs": [
    {
     "data": {
      "text/plain": "897.0036581150566"
     },
     "execution_count": 107,
     "metadata": {},
     "output_type": "execute_result"
    }
   ],
   "source": [
    "# energy sold from MM to grid\n",
    "germany_t[germany_t.buyer == 'Grid']['energy [kWh]'].sum()"
   ],
   "metadata": {
    "collapsed": false,
    "pycharm": {
     "name": "#%%\n"
    }
   }
  },
  {
   "cell_type": "code",
   "execution_count": 111,
   "outputs": [
    {
     "data": {
      "text/plain": "['Region_1Region_1',\n 'Region_1Region_2',\n 'Region_1Region_3',\n 'Region_1Region_4',\n 'Region_1Region_5',\n 'Region_1Region_6',\n 'Region_2Region_1',\n 'Region_2Region_2',\n 'Region_2Region_3',\n 'Region_2Region_4',\n 'Region_2Region_5',\n 'Region_2Region_6',\n 'Region_3Region_1',\n 'Region_3Region_2',\n 'Region_3Region_3',\n 'Region_3Region_4',\n 'Region_3Region_5',\n 'Region_3Region_6',\n 'Region_4Region_1',\n 'Region_4Region_2',\n 'Region_4Region_3',\n 'Region_4Region_4',\n 'Region_4Region_5',\n 'Region_4Region_6',\n 'Region_5Region_1',\n 'Region_5Region_2',\n 'Region_5Region_3',\n 'Region_5Region_4',\n 'Region_5Region_5',\n 'Region_5Region_6',\n 'Region_6Region_1',\n 'Region_6Region_2',\n 'Region_6Region_3',\n 'Region_6Region_4',\n 'Region_6Region_5',\n 'Region_6Region_6']"
     },
     "execution_count": 111,
     "metadata": {},
     "output_type": "execute_result"
    }
   ],
   "source": [
    "[i+j for i in [f'Region_{j}' for j in range(1,7)] for j in [f'Region_{j}' for j in range(1,7)]]"
   ],
   "metadata": {
    "collapsed": false,
    "pycharm": {
     "name": "#%%\n"
    }
   }
  },
  {
   "cell_type": "code",
   "execution_count": 118,
   "outputs": [
    {
     "data": {
      "text/plain": "                          slot  energy [kWh]    seller     buyer\n18   2030-01-01T00:00:00+00:00      0.587467  Region_2  Region_1\n19   2030-01-01T00:00:00+00:00      1.972533  Region_2  Region_1\n20   2030-01-01T00:00:00+00:00      0.607733  Region_2  Region_1\n21   2030-01-01T00:00:00+00:00      0.587467  Region_2  Region_1\n25   2030-01-01T00:00:00+00:00      0.607733  Region_2  Region_1\n..                         ...           ...       ...       ...\n624  2030-01-01T00:00:00+00:00      1.121333      Grid  Region_1\n625  2030-01-01T00:00:00+00:00      2.337333      Grid  Region_1\n626  2030-01-01T00:00:00+00:00      0.706933      Grid  Region_1\n627  2030-01-01T00:00:00+00:00      1.503200      Grid  Region_1\n628  2030-01-01T00:00:00+00:00      0.587467      Grid  Region_1\n\n[234 rows x 4 columns]",
      "text/html": "<div>\n<style scoped>\n    .dataframe tbody tr th:only-of-type {\n        vertical-align: middle;\n    }\n\n    .dataframe tbody tr th {\n        vertical-align: top;\n    }\n\n    .dataframe thead th {\n        text-align: right;\n    }\n</style>\n<table border=\"1\" class=\"dataframe\">\n  <thead>\n    <tr style=\"text-align: right;\">\n      <th></th>\n      <th>slot</th>\n      <th>energy [kWh]</th>\n      <th>seller</th>\n      <th>buyer</th>\n    </tr>\n  </thead>\n  <tbody>\n    <tr>\n      <th>18</th>\n      <td>2030-01-01T00:00:00+00:00</td>\n      <td>0.587467</td>\n      <td>Region_2</td>\n      <td>Region_1</td>\n    </tr>\n    <tr>\n      <th>19</th>\n      <td>2030-01-01T00:00:00+00:00</td>\n      <td>1.972533</td>\n      <td>Region_2</td>\n      <td>Region_1</td>\n    </tr>\n    <tr>\n      <th>20</th>\n      <td>2030-01-01T00:00:00+00:00</td>\n      <td>0.607733</td>\n      <td>Region_2</td>\n      <td>Region_1</td>\n    </tr>\n    <tr>\n      <th>21</th>\n      <td>2030-01-01T00:00:00+00:00</td>\n      <td>0.587467</td>\n      <td>Region_2</td>\n      <td>Region_1</td>\n    </tr>\n    <tr>\n      <th>25</th>\n      <td>2030-01-01T00:00:00+00:00</td>\n      <td>0.607733</td>\n      <td>Region_2</td>\n      <td>Region_1</td>\n    </tr>\n    <tr>\n      <th>...</th>\n      <td>...</td>\n      <td>...</td>\n      <td>...</td>\n      <td>...</td>\n    </tr>\n    <tr>\n      <th>624</th>\n      <td>2030-01-01T00:00:00+00:00</td>\n      <td>1.121333</td>\n      <td>Grid</td>\n      <td>Region_1</td>\n    </tr>\n    <tr>\n      <th>625</th>\n      <td>2030-01-01T00:00:00+00:00</td>\n      <td>2.337333</td>\n      <td>Grid</td>\n      <td>Region_1</td>\n    </tr>\n    <tr>\n      <th>626</th>\n      <td>2030-01-01T00:00:00+00:00</td>\n      <td>0.706933</td>\n      <td>Grid</td>\n      <td>Region_1</td>\n    </tr>\n    <tr>\n      <th>627</th>\n      <td>2030-01-01T00:00:00+00:00</td>\n      <td>1.503200</td>\n      <td>Grid</td>\n      <td>Region_1</td>\n    </tr>\n    <tr>\n      <th>628</th>\n      <td>2030-01-01T00:00:00+00:00</td>\n      <td>0.587467</td>\n      <td>Grid</td>\n      <td>Region_1</td>\n    </tr>\n  </tbody>\n</table>\n<p>234 rows × 4 columns</p>\n</div>"
     },
     "execution_count": 118,
     "metadata": {},
     "output_type": "execute_result"
    }
   ],
   "source": [
    "r_1, r_2 = 'Region_1', 'Region_2'\n",
    "\n",
    "grid_t[((grid_t.seller == 'Grid') & (grid_t.buyer == r_1)) |\n",
    "        ((grid_t.seller == 'Grid') & (grid_t.buyer == r_2)) |\n",
    "        ((grid_t.seller == r_1) & (grid_t.buyer == r_2)) |\n",
    "       ((grid_t.seller == r_2) & (grid_t.buyer == r_1))]"
   ],
   "metadata": {
    "collapsed": false,
    "pycharm": {
     "name": "#%%\n"
    }
   }
  },
  {
   "cell_type": "code",
   "execution_count": 119,
   "outputs": [
    {
     "data": {
      "text/plain": "274.6175772539415"
     },
     "execution_count": 119,
     "metadata": {},
     "output_type": "execute_result"
    }
   ],
   "source": [
    "# energy bought by region 2\n",
    "grid_t[grid_t.buyer == 'Region_2']['energy [kWh]'].sum()"
   ],
   "metadata": {
    "collapsed": false,
    "pycharm": {
     "name": "#%%\n"
    }
   }
  },
  {
   "cell_type": "code",
   "execution_count": 120,
   "outputs": [
    {
     "data": {
      "text/plain": "274.6175772539415"
     },
     "execution_count": 120,
     "metadata": {},
     "output_type": "execute_result"
    }
   ],
   "source": [
    "# energy bought by region 2 from grid\n",
    "grid_t[(grid_t.seller == 'Grid') & (grid_t.buyer == 'Region_2')]['energy [kWh]'].sum()"
   ],
   "metadata": {
    "collapsed": false,
    "pycharm": {
     "name": "#%%\n"
    }
   }
  },
  {
   "cell_type": "code",
   "execution_count": 121,
   "outputs": [
    {
     "data": {
      "text/plain": "39.44350556386578"
     },
     "execution_count": 121,
     "metadata": {},
     "output_type": "execute_result"
    }
   ],
   "source": [
    "# energy sold by region 2\n",
    "grid_t[grid_t.seller == 'Region_2']['energy [kWh]'].sum()"
   ],
   "metadata": {
    "collapsed": false,
    "pycharm": {
     "name": "#%%\n"
    }
   }
  },
  {
   "cell_type": "code",
   "execution_count": 108,
   "outputs": [
    {
     "data": {
      "text/plain": "897.0036581150566"
     },
     "execution_count": 108,
     "metadata": {},
     "output_type": "execute_result"
    }
   ],
   "source": [
    "# energy sold from grid to all regions\n",
    "grid_t[grid_t.seller == 'Grid']['energy [kWh]'].sum()"
   ],
   "metadata": {
    "collapsed": false,
    "pycharm": {
     "name": "#%%\n"
    }
   }
  },
  {
   "cell_type": "code",
   "execution_count": null,
   "outputs": [],
   "source": [
    "def rec(entity, mm_share):\n",
    "    # get entity's buyers (eb)\n",
    "\n",
    "    # for each buyer\n",
    "        # get buyer's sellers (excl. entity) that are in (eb)\n",
    "        # buyer's mm_share = entity_to_buyer + (eb)_to_buyer / buyer.bought.sum()\n",
    "\n",
    "        # return rec(buyer, buyer's mm_share)\n",
    "\n",
    "    return"
   ],
   "metadata": {
    "collapsed": false,
    "pycharm": {
     "name": "#%%\n"
    }
   }
  }
 ],
 "metadata": {
  "kernelspec": {
   "name": "fim_ml",
   "language": "python",
   "display_name": "fim_ml"
  },
  "language_info": {
   "codemirror_mode": {
    "name": "ipython",
    "version": 2
   },
   "file_extension": ".py",
   "mimetype": "text/x-python",
   "name": "python",
   "nbconvert_exporter": "python",
   "pygments_lexer": "ipython2",
   "version": "2.7.6"
  }
 },
 "nbformat": 4,
 "nbformat_minor": 0
}