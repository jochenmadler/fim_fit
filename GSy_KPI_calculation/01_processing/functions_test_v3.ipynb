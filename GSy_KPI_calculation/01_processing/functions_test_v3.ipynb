{
 "cells": [
  {
   "cell_type": "code",
   "execution_count": 1,
   "metadata": {
    "pycharm": {
     "name": "#%%\n"
    }
   },
   "outputs": [],
   "source": [
    "# set up\n",
    "import os\n",
    "import time\n",
    "import numpy as np\n",
    "import pandas as pd\n",
    "import functools as func\n",
    "import functions_v3 as f\n",
    "import matplotlib.pyplot as plt\n",
    "import seaborn as sns\n",
    "sns.set_style('white')\n",
    "home_path = \"C:\\\\Users\\joche\\FIM Kernkompetenzzentrum\\Projekt VIdES - Dokumente\\General\\\\07_Arbeitsordner\\\\04_Ergebnisse\\\\20220920_Ergebnisse_4_Wochen\"\n",
    "os.chdir(home_path)"
   ]
  },
  {
   "cell_type": "code",
   "execution_count": null,
   "outputs": [],
   "source": [
    "os.chdir(home_path)\n",
    "os.chdir('use_case_1/')\n",
    "use_case_home_path = os.getcwd()\n",
    "df_mm = f.share_renewable_get_mm_quantity(use_case_home_path)\n",
    "df_mm"
   ],
   "metadata": {
    "collapsed": false,
    "pycharm": {
     "name": "#%%\n"
    }
   }
  },
  {
   "cell_type": "code",
   "execution_count": null,
   "outputs": [],
   "source": [
    "df_mm['mm_grey_energy [%]'].mean()"
   ],
   "metadata": {
    "collapsed": false,
    "pycharm": {
     "name": "#%%\n"
    }
   }
  },
  {
   "cell_type": "markdown",
   "source": [
    "#### KPI 4: CO2 emissions\n",
    "---\n",
    "Combined data frame for every entity in use case with:\n",
    "- grey_energy [kWh] -> to be multiplied by co2 emission factor\n",
    "- grey_energy [%] -> share grey energy consumed (1 - share renewable)"
   ],
   "metadata": {
    "collapsed": false,
    "pycharm": {
     "name": "#%% md\n"
    }
   }
  },
  {
   "cell_type": "code",
   "execution_count": null,
   "outputs": [],
   "source": [
    "results_path = 'C:\\\\Users\\joche\\FIM Kernkompetenzzentrum\\Projekt VIdES - Dokumente\\General\\\\07_Arbeitsordner\\\\04_Ergebnisse\\\\20220920_Ergebnisse_4_Wochen\\\\results'\n",
    "os.chdir(home_path)\n",
    "all_filepaths = []\n",
    "for root, dir, file in os.walk(top=results_path, topdown=True):\n",
    "    all_filepaths += [os.path.join(root, f) for f in file if 'kpi_3_4' in f]"
   ],
   "metadata": {
    "collapsed": false,
    "pycharm": {
     "name": "#%%\n"
    }
   }
  },
  {
   "cell_type": "code",
   "execution_count": null,
   "outputs": [],
   "source": [
    "results_path = 'C:\\\\Users\\joche\\FIM Kernkompetenzzentrum\\Projekt VIdES - Dokumente\\General\\\\07_Arbeitsordner\\\\04_Ergebnisse\\\\20220920_Ergebnisse_4_Wochen\\\\results'\n",
    "os.chdir(home_path)\n",
    "\n",
    "all_filepaths = []\n",
    "for root, dir, file in os.walk(top=results_path, topdown=True):\n",
    "    all_filepaths += [os.path.join(root, f) for f in file if 'kpi_3_4' in f]\n",
    "dfs = []\n",
    "for i in range(7):\n",
    "    df_temp = pd.read_excel(all_filepaths[i], index_col=0)\n",
    "    dfs.append(df_temp)"
   ],
   "metadata": {
    "collapsed": false,
    "pycharm": {
     "name": "#%%\n"
    }
   }
  },
  {
   "cell_type": "code",
   "execution_count": null,
   "outputs": [],
   "source": [
    "pd.concat([dfs[i][['region-5-ec5_grey_energy [kWh]']] for i in range(len(dfs))], axis=1)"
   ],
   "metadata": {
    "collapsed": false,
    "pycharm": {
     "name": "#%%\n"
    }
   }
  },
  {
   "cell_type": "code",
   "execution_count": null,
   "outputs": [],
   "source": [
    "os.chdir(home_path)\n",
    "os.chdir('Use_Case_2')\n",
    "use_case_home_path = os.getcwd()\n",
    "# calculate net renewable share for mm over all entities that trade with it\n",
    "df_mm = f.share_renewable_get_mm_quantity(use_case_home_path)\n",
    "# for use case, extract all (non-)relevant filepaths and construct empty df_out with all time steps\n",
    "nonempty_files_paths, empty_files_paths, nr_months, l, df_out = f.prepare_filepaths(use_case_home_path)\n",
    "# combine each entity's monthly data frames and hand them over to shares_renewable_helper for calculation"
   ],
   "metadata": {
    "collapsed": false,
    "pycharm": {
     "name": "#%%\n"
    }
   }
  },
  {
   "cell_type": "code",
   "execution_count": null,
   "outputs": [],
   "source": [
    "i = 0\n",
    "entity_monthly_dfs = []\n",
    "entity_monthly_filepaths = nonempty_files_paths[i::int(l / nr_months)]\n",
    "entity_monthly_filepaths"
   ],
   "metadata": {
    "collapsed": false,
    "pycharm": {
     "name": "#%%\n"
    }
   }
  },
  {
   "cell_type": "code",
   "execution_count": null,
   "outputs": [],
   "source": [
    "for j in entity_monthly_filepaths:\n",
    "    df_temp = pd.read_csv(j).drop(['creation_time', 'matching_requirements', 'rate [ct./kWh]'], axis=1)\n",
    "    df_temp.seller = [i.lower().replace('_', '-') for i in df_temp.seller]\n",
    "    df_temp.buyer = [i.lower().replace('_', '-') for i in df_temp.buyer]\n",
    "    entity_monthly_dfs.append(df_temp)\n",
    "entity_name = entity_monthly_filepaths[0].split('\\\\')[-1].split('-trades.csv')[0]\n",
    "entity_df = pd.concat(entity_monthly_dfs).sort_values(by='slot').reset_index(drop=True)\n",
    "entity_df.set_index(['slot'], inplace=True)\n",
    "# hand over entity_df to helper function which inserts entity's result as new column into df_out\n",
    "df_out = f.share_renewable_helper(df_out, df_mm, entity_df, entity_name, co2=True)"
   ],
   "metadata": {
    "collapsed": false,
    "pycharm": {
     "name": "#%%\n"
    }
   }
  },
  {
   "cell_type": "code",
   "execution_count": null,
   "outputs": [],
   "source": [
    "df_out"
   ],
   "metadata": {
    "collapsed": false,
    "pycharm": {
     "name": "#%%\n"
    }
   }
  },
  {
   "cell_type": "code",
   "execution_count": null,
   "outputs": [],
   "source": [
    "p = 'grid'\n",
    "f'{p}_grey_energy [kWh]' in df_out.columns.tolist()"
   ],
   "metadata": {
    "collapsed": false,
    "pycharm": {
     "name": "#%%\n"
    }
   }
  },
  {
   "cell_type": "code",
   "execution_count": 3,
   "outputs": [],
   "source": [
    "# define function for execution convenience\n",
    "def calculate_kpi_3_4(use_case_string):\n",
    "    os.chdir(home_path)\n",
    "    os.chdir(use_case_string)\n",
    "    use_case_home_path = os.getcwd()\n",
    "    print(f'-- use case {f.get_use_case_nr(use_case_home_path)} --')\n",
    "    start = time.time()\n",
    "    df = f.co2_emissions(use_case_home_path)\n",
    "    print(f'time: {round(time.time() - start, 2)} seconds')\n",
    "    return df"
   ],
   "metadata": {
    "collapsed": false,
    "pycharm": {
     "name": "#%%\n"
    }
   }
  },
  {
   "cell_type": "code",
   "execution_count": null,
   "outputs": [],
   "source": [
    "df0 = calculate_kpi_3_4('Base_Case')\n",
    "df0"
   ],
   "metadata": {
    "collapsed": false,
    "pycharm": {
     "name": "#%%\n"
    }
   }
  },
  {
   "cell_type": "code",
   "execution_count": null,
   "outputs": [],
   "source": [
    "df0.to_excel('kpi_3_4_use_case_0.xlsx')"
   ],
   "metadata": {
    "collapsed": false,
    "pycharm": {
     "name": "#%%\n"
    }
   }
  },
  {
   "cell_type": "code",
   "execution_count": null,
   "outputs": [],
   "source": [
    "df1 = calculate_kpi_3_4('use_case_1/')\n",
    "df1"
   ],
   "metadata": {
    "collapsed": false,
    "pycharm": {
     "name": "#%%\n"
    }
   }
  },
  {
   "cell_type": "code",
   "execution_count": null,
   "outputs": [],
   "source": [
    "df1.to_excel('kpi_3_4_use_case_1.xlsx')"
   ],
   "metadata": {
    "collapsed": false,
    "pycharm": {
     "name": "#%%\n"
    }
   }
  },
  {
   "cell_type": "code",
   "execution_count": 4,
   "outputs": [
    {
     "name": "stdout",
     "output_type": "stream",
     "text": [
      "-- use case 2 --\n",
      "time: 123.38 seconds\n"
     ]
    },
    {
     "data": {
      "text/plain": "                  grid_grey_energy [kWh]  grid_grey_energy [%]  \\\n2030-01-01T00:00              770.863572              0.738527   \n2030-01-01T01:00              808.200861              0.877856   \n2030-01-01T02:00              767.327944              0.875751   \n2030-01-01T03:00              806.917892              0.850986   \n2030-01-01T04:00              920.101311              0.819207   \n...                                  ...                   ...   \n2030-10-07T19:00              181.346512              0.186586   \n2030-10-07T20:00              161.209832              0.325583   \n2030-10-07T21:00              184.617216              0.192502   \n2030-10-07T22:00              203.386686              0.233204   \n2030-10-07T23:00              144.831113              0.147124   \n\n                  region-5_grey_energy [kWh]  region-5_grey_energy [%]  \\\n2030-01-01T00:00                   97.315666                  0.738527   \n2030-01-01T01:00                   58.027228                  0.629050   \n2030-01-01T02:00                   64.575681                  0.680355   \n2030-01-01T03:00                  112.339667                  0.850986   \n2030-01-01T04:00                  115.737565                  0.802489   \n...                                      ...                       ...   \n2030-10-07T19:00                   15.120877                  0.186586   \n2030-10-07T20:00                   -0.000000                  0.000000   \n2030-10-07T21:00                   18.204144                  0.192502   \n2030-10-07T22:00                   28.036288                  0.233204   \n2030-10-07T23:00                   12.238518                  0.147124   \n\n                  region-4_grey_energy [kWh]  region-4_grey_energy [%]  \\\n2030-01-01T00:00                   99.961676                  0.738527   \n2030-01-01T01:00                  120.664573                  0.877856   \n2030-01-01T02:00                  117.273249                  0.875751   \n2030-01-01T03:00                  115.738706                  0.850986   \n2030-01-01T04:00                  105.977018                  0.819207   \n...                                      ...                       ...   \n2030-10-07T19:00                   -0.000000                  0.000000   \n2030-10-07T20:00                   20.611906                  0.325583   \n2030-10-07T21:00                   23.025502                  0.192502   \n2030-10-07T22:00                   -0.000000                  0.000000   \n2030-10-07T23:00                    5.510021                  0.147124   \n\n                  region-2_grey_energy [kWh]  region-2_grey_energy [%]  \\\n2030-01-01T00:00                  202.812608                  0.738527   \n2030-01-01T01:00                  242.205502                  0.877856   \n2030-01-01T02:00                  234.791439                  0.875751   \n2030-01-01T03:00                  221.307824                  0.850986   \n2030-01-01T04:00                  153.414860                  0.658573   \n...                                      ...                       ...   \n2030-10-07T19:00                   27.794809                  0.186586   \n2030-10-07T20:00                   29.373716                  0.293393   \n2030-10-07T21:00                   -0.000000                  0.000000   \n2030-10-07T22:00                   34.487333                  0.233204   \n2030-10-07T23:00                   -0.000000                  0.000000   \n\n                  region-1_grey_energy [kWh]  region-1_grey_energy [%]  ...  \\\n2030-01-01T00:00                   -0.000000                  0.000000  ...   \n2030-01-01T01:00                   75.072711                  0.877856  ...   \n2030-01-01T02:00                   72.574884                  0.875751  ...   \n2030-01-01T03:00                   69.561542                  0.850986  ...   \n2030-01-01T04:00                   72.594214                  0.819207  ...   \n...                                      ...                       ...  ...   \n2030-10-07T19:00                    4.822307                  0.186586  ...   \n2030-10-07T20:00                    0.000000                  0.000000  ...   \n2030-10-07T21:00                    6.782434                  0.192502  ...   \n2030-10-07T22:00                    3.100407                  0.233204  ...   \n2030-10-07T23:00                    5.492050                  0.147124  ...   \n\n                  region-6-ec4-house-7_id-7-ev-non-commuter_grey_energy [kWh]  \\\n2030-01-01T00:00                                           0.001807             \n2030-01-01T01:00                                           0.007593             \n2030-01-01T02:00                                           0.004153             \n2030-01-01T03:00                                           0.003685             \n2030-01-01T04:00                                           0.003257             \n...                                                             ...             \n2030-10-07T19:00                                           0.004319             \n2030-10-07T20:00                                           0.002951             \n2030-10-07T21:00                                           0.002081             \n2030-10-07T22:00                                           0.001135             \n2030-10-07T23:00                                           0.001697             \n\n                  region-6-ec4-house-7_id-7-ev-non-commuter_grey_energy [%]  \\\n2030-01-01T00:00                                           0.451061           \n2030-01-01T01:00                                           0.438434           \n2030-01-01T02:00                                           0.346454           \n2030-01-01T03:00                                           0.670362           \n2030-01-01T04:00                                           0.730790           \n...                                                             ...           \n2030-10-07T19:00                                           0.043293           \n2030-10-07T20:00                                           0.035381           \n2030-10-07T21:00                                           0.029925           \n2030-10-07T22:00                                           0.018224           \n2030-10-07T23:00                                           0.027317           \n\n                  region-6-ec4-house-8_region-6-id-78-heatpump-loadprofile_grey_energy [kWh]  \\\n2030-01-01T00:00                                           1.411557                            \n2030-01-01T01:00                                           1.368097                            \n2030-01-01T02:00                                           1.078174                            \n2030-01-01T03:00                                           2.081051                            \n2030-01-01T04:00                                           2.263678                            \n...                                                             ...                            \n2030-10-07T19:00                                           0.122996                            \n2030-10-07T20:00                                           0.100172                            \n2030-10-07T21:00                                           0.084437                            \n2030-10-07T22:00                                           0.051247                            \n2030-10-07T23:00                                           0.076565                            \n\n                  region-6-ec4-house-8_region-6-id-78-heatpump-loadprofile_grey_energy [%]  \\\n2030-01-01T00:00                                           0.451061                          \n2030-01-01T01:00                                           0.438434                          \n2030-01-01T02:00                                           0.346454                          \n2030-01-01T03:00                                           0.670362                          \n2030-01-01T04:00                                           0.730790                          \n...                                                             ...                          \n2030-10-07T19:00                                           0.043293                          \n2030-10-07T20:00                                           0.035381                          \n2030-10-07T21:00                                           0.029925                          \n2030-10-07T22:00                                           0.018224                          \n2030-10-07T23:00                                           0.027317                          \n\n                  region-6-ec4-house-8_region-6-id-511-hh-2-household-electric-load_grey_energy [kWh]  \\\n2030-01-01T00:00                                           0.495445                                     \n2030-01-01T01:00                                           0.455387                                     \n2030-01-01T02:00                                           0.365763                                     \n2030-01-01T03:00                                           1.295138                                     \n2030-01-01T04:00                                           1.359269                                     \n...                                                             ...                                     \n2030-10-07T19:00                                           0.047103                                     \n2030-10-07T20:00                                           0.042598                                     \n2030-10-07T21:00                                           0.053506                                     \n2030-10-07T22:00                                           0.031501                                     \n2030-10-07T23:00                                           0.038434                                     \n\n                  region-6-ec4-house-8_region-6-id-511-hh-2-household-electric-load_grey_energy [%]  \\\n2030-01-01T00:00                                           0.451061                                   \n2030-01-01T01:00                                           0.438434                                   \n2030-01-01T02:00                                           0.346454                                   \n2030-01-01T03:00                                           0.670362                                   \n2030-01-01T04:00                                           0.730790                                   \n...                                                             ...                                   \n2030-10-07T19:00                                           0.043293                                   \n2030-10-07T20:00                                           0.035381                                   \n2030-10-07T21:00                                           0.029925                                   \n2030-10-07T22:00                                           0.018224                                   \n2030-10-07T23:00                                           0.027317                                   \n\n                  region-6-ec4-house-9_region-6-id-512-hh-2-household-electric-load_grey_energy [kWh]  \\\n2030-01-01T00:00                                           0.495445                                     \n2030-01-01T01:00                                           0.455387                                     \n2030-01-01T02:00                                           0.365763                                     \n2030-01-01T03:00                                           1.295138                                     \n2030-01-01T04:00                                           1.359269                                     \n...                                                             ...                                     \n2030-10-07T19:00                                           0.047103                                     \n2030-10-07T20:00                                           0.042598                                     \n2030-10-07T21:00                                           0.053506                                     \n2030-10-07T22:00                                           0.031501                                     \n2030-10-07T23:00                                           0.038434                                     \n\n                  region-6-ec4-house-9_region-6-id-512-hh-2-household-electric-load_grey_energy [%]  \\\n2030-01-01T00:00                                           0.451061                                   \n2030-01-01T01:00                                           0.438434                                   \n2030-01-01T02:00                                           0.346454                                   \n2030-01-01T03:00                                           0.670362                                   \n2030-01-01T04:00                                           0.730790                                   \n...                                                             ...                                   \n2030-10-07T19:00                                           0.043293                                   \n2030-10-07T20:00                                           0.035381                                   \n2030-10-07T21:00                                           0.029925                                   \n2030-10-07T22:00                                           0.018224                                   \n2030-10-07T23:00                                           0.027317                                   \n\n                  region-6-industry-electric-load_grey_energy [kWh]  \\\n2030-01-01T00:00                                          29.190511   \n2030-01-01T01:00                                          27.522390   \n2030-01-01T02:00                                          23.903718   \n2030-01-01T03:00                                          43.397643   \n2030-01-01T04:00                                          47.623602   \n...                                                             ...   \n2030-10-07T19:00                                           2.894559   \n2030-10-07T20:00                                           2.273731   \n2030-10-07T21:00                                           1.820168   \n2030-10-07T22:00                                           1.350065   \n2030-10-07T23:00                                           1.669987   \n\n                  region-6-industry-electric-load_grey_energy [%]  \n2030-01-01T00:00                                         0.451061  \n2030-01-01T01:00                                         0.438434  \n2030-01-01T02:00                                         0.374204  \n2030-01-01T03:00                                         0.670362  \n2030-01-01T04:00                                         0.730790  \n...                                                           ...  \n2030-10-07T19:00                                         0.047730  \n2030-10-07T20:00                                         0.037894  \n2030-10-07T21:00                                         0.030150  \n2030-10-07T22:00                                         0.022663  \n2030-10-07T23:00                                         0.027552  \n\n[672 rows x 3124 columns]",
      "text/html": "<div>\n<style scoped>\n    .dataframe tbody tr th:only-of-type {\n        vertical-align: middle;\n    }\n\n    .dataframe tbody tr th {\n        vertical-align: top;\n    }\n\n    .dataframe thead th {\n        text-align: right;\n    }\n</style>\n<table border=\"1\" class=\"dataframe\">\n  <thead>\n    <tr style=\"text-align: right;\">\n      <th></th>\n      <th>grid_grey_energy [kWh]</th>\n      <th>grid_grey_energy [%]</th>\n      <th>region-5_grey_energy [kWh]</th>\n      <th>region-5_grey_energy [%]</th>\n      <th>region-4_grey_energy [kWh]</th>\n      <th>region-4_grey_energy [%]</th>\n      <th>region-2_grey_energy [kWh]</th>\n      <th>region-2_grey_energy [%]</th>\n      <th>region-1_grey_energy [kWh]</th>\n      <th>region-1_grey_energy [%]</th>\n      <th>...</th>\n      <th>region-6-ec4-house-7_id-7-ev-non-commuter_grey_energy [kWh]</th>\n      <th>region-6-ec4-house-7_id-7-ev-non-commuter_grey_energy [%]</th>\n      <th>region-6-ec4-house-8_region-6-id-78-heatpump-loadprofile_grey_energy [kWh]</th>\n      <th>region-6-ec4-house-8_region-6-id-78-heatpump-loadprofile_grey_energy [%]</th>\n      <th>region-6-ec4-house-8_region-6-id-511-hh-2-household-electric-load_grey_energy [kWh]</th>\n      <th>region-6-ec4-house-8_region-6-id-511-hh-2-household-electric-load_grey_energy [%]</th>\n      <th>region-6-ec4-house-9_region-6-id-512-hh-2-household-electric-load_grey_energy [kWh]</th>\n      <th>region-6-ec4-house-9_region-6-id-512-hh-2-household-electric-load_grey_energy [%]</th>\n      <th>region-6-industry-electric-load_grey_energy [kWh]</th>\n      <th>region-6-industry-electric-load_grey_energy [%]</th>\n    </tr>\n  </thead>\n  <tbody>\n    <tr>\n      <th>2030-01-01T00:00</th>\n      <td>770.863572</td>\n      <td>0.738527</td>\n      <td>97.315666</td>\n      <td>0.738527</td>\n      <td>99.961676</td>\n      <td>0.738527</td>\n      <td>202.812608</td>\n      <td>0.738527</td>\n      <td>-0.000000</td>\n      <td>0.000000</td>\n      <td>...</td>\n      <td>0.001807</td>\n      <td>0.451061</td>\n      <td>1.411557</td>\n      <td>0.451061</td>\n      <td>0.495445</td>\n      <td>0.451061</td>\n      <td>0.495445</td>\n      <td>0.451061</td>\n      <td>29.190511</td>\n      <td>0.451061</td>\n    </tr>\n    <tr>\n      <th>2030-01-01T01:00</th>\n      <td>808.200861</td>\n      <td>0.877856</td>\n      <td>58.027228</td>\n      <td>0.629050</td>\n      <td>120.664573</td>\n      <td>0.877856</td>\n      <td>242.205502</td>\n      <td>0.877856</td>\n      <td>75.072711</td>\n      <td>0.877856</td>\n      <td>...</td>\n      <td>0.007593</td>\n      <td>0.438434</td>\n      <td>1.368097</td>\n      <td>0.438434</td>\n      <td>0.455387</td>\n      <td>0.438434</td>\n      <td>0.455387</td>\n      <td>0.438434</td>\n      <td>27.522390</td>\n      <td>0.438434</td>\n    </tr>\n    <tr>\n      <th>2030-01-01T02:00</th>\n      <td>767.327944</td>\n      <td>0.875751</td>\n      <td>64.575681</td>\n      <td>0.680355</td>\n      <td>117.273249</td>\n      <td>0.875751</td>\n      <td>234.791439</td>\n      <td>0.875751</td>\n      <td>72.574884</td>\n      <td>0.875751</td>\n      <td>...</td>\n      <td>0.004153</td>\n      <td>0.346454</td>\n      <td>1.078174</td>\n      <td>0.346454</td>\n      <td>0.365763</td>\n      <td>0.346454</td>\n      <td>0.365763</td>\n      <td>0.346454</td>\n      <td>23.903718</td>\n      <td>0.374204</td>\n    </tr>\n    <tr>\n      <th>2030-01-01T03:00</th>\n      <td>806.917892</td>\n      <td>0.850986</td>\n      <td>112.339667</td>\n      <td>0.850986</td>\n      <td>115.738706</td>\n      <td>0.850986</td>\n      <td>221.307824</td>\n      <td>0.850986</td>\n      <td>69.561542</td>\n      <td>0.850986</td>\n      <td>...</td>\n      <td>0.003685</td>\n      <td>0.670362</td>\n      <td>2.081051</td>\n      <td>0.670362</td>\n      <td>1.295138</td>\n      <td>0.670362</td>\n      <td>1.295138</td>\n      <td>0.670362</td>\n      <td>43.397643</td>\n      <td>0.670362</td>\n    </tr>\n    <tr>\n      <th>2030-01-01T04:00</th>\n      <td>920.101311</td>\n      <td>0.819207</td>\n      <td>115.737565</td>\n      <td>0.802489</td>\n      <td>105.977018</td>\n      <td>0.819207</td>\n      <td>153.414860</td>\n      <td>0.658573</td>\n      <td>72.594214</td>\n      <td>0.819207</td>\n      <td>...</td>\n      <td>0.003257</td>\n      <td>0.730790</td>\n      <td>2.263678</td>\n      <td>0.730790</td>\n      <td>1.359269</td>\n      <td>0.730790</td>\n      <td>1.359269</td>\n      <td>0.730790</td>\n      <td>47.623602</td>\n      <td>0.730790</td>\n    </tr>\n    <tr>\n      <th>...</th>\n      <td>...</td>\n      <td>...</td>\n      <td>...</td>\n      <td>...</td>\n      <td>...</td>\n      <td>...</td>\n      <td>...</td>\n      <td>...</td>\n      <td>...</td>\n      <td>...</td>\n      <td>...</td>\n      <td>...</td>\n      <td>...</td>\n      <td>...</td>\n      <td>...</td>\n      <td>...</td>\n      <td>...</td>\n      <td>...</td>\n      <td>...</td>\n      <td>...</td>\n      <td>...</td>\n    </tr>\n    <tr>\n      <th>2030-10-07T19:00</th>\n      <td>181.346512</td>\n      <td>0.186586</td>\n      <td>15.120877</td>\n      <td>0.186586</td>\n      <td>-0.000000</td>\n      <td>0.000000</td>\n      <td>27.794809</td>\n      <td>0.186586</td>\n      <td>4.822307</td>\n      <td>0.186586</td>\n      <td>...</td>\n      <td>0.004319</td>\n      <td>0.043293</td>\n      <td>0.122996</td>\n      <td>0.043293</td>\n      <td>0.047103</td>\n      <td>0.043293</td>\n      <td>0.047103</td>\n      <td>0.043293</td>\n      <td>2.894559</td>\n      <td>0.047730</td>\n    </tr>\n    <tr>\n      <th>2030-10-07T20:00</th>\n      <td>161.209832</td>\n      <td>0.325583</td>\n      <td>-0.000000</td>\n      <td>0.000000</td>\n      <td>20.611906</td>\n      <td>0.325583</td>\n      <td>29.373716</td>\n      <td>0.293393</td>\n      <td>0.000000</td>\n      <td>0.000000</td>\n      <td>...</td>\n      <td>0.002951</td>\n      <td>0.035381</td>\n      <td>0.100172</td>\n      <td>0.035381</td>\n      <td>0.042598</td>\n      <td>0.035381</td>\n      <td>0.042598</td>\n      <td>0.035381</td>\n      <td>2.273731</td>\n      <td>0.037894</td>\n    </tr>\n    <tr>\n      <th>2030-10-07T21:00</th>\n      <td>184.617216</td>\n      <td>0.192502</td>\n      <td>18.204144</td>\n      <td>0.192502</td>\n      <td>23.025502</td>\n      <td>0.192502</td>\n      <td>-0.000000</td>\n      <td>0.000000</td>\n      <td>6.782434</td>\n      <td>0.192502</td>\n      <td>...</td>\n      <td>0.002081</td>\n      <td>0.029925</td>\n      <td>0.084437</td>\n      <td>0.029925</td>\n      <td>0.053506</td>\n      <td>0.029925</td>\n      <td>0.053506</td>\n      <td>0.029925</td>\n      <td>1.820168</td>\n      <td>0.030150</td>\n    </tr>\n    <tr>\n      <th>2030-10-07T22:00</th>\n      <td>203.386686</td>\n      <td>0.233204</td>\n      <td>28.036288</td>\n      <td>0.233204</td>\n      <td>-0.000000</td>\n      <td>0.000000</td>\n      <td>34.487333</td>\n      <td>0.233204</td>\n      <td>3.100407</td>\n      <td>0.233204</td>\n      <td>...</td>\n      <td>0.001135</td>\n      <td>0.018224</td>\n      <td>0.051247</td>\n      <td>0.018224</td>\n      <td>0.031501</td>\n      <td>0.018224</td>\n      <td>0.031501</td>\n      <td>0.018224</td>\n      <td>1.350065</td>\n      <td>0.022663</td>\n    </tr>\n    <tr>\n      <th>2030-10-07T23:00</th>\n      <td>144.831113</td>\n      <td>0.147124</td>\n      <td>12.238518</td>\n      <td>0.147124</td>\n      <td>5.510021</td>\n      <td>0.147124</td>\n      <td>-0.000000</td>\n      <td>0.000000</td>\n      <td>5.492050</td>\n      <td>0.147124</td>\n      <td>...</td>\n      <td>0.001697</td>\n      <td>0.027317</td>\n      <td>0.076565</td>\n      <td>0.027317</td>\n      <td>0.038434</td>\n      <td>0.027317</td>\n      <td>0.038434</td>\n      <td>0.027317</td>\n      <td>1.669987</td>\n      <td>0.027552</td>\n    </tr>\n  </tbody>\n</table>\n<p>672 rows × 3124 columns</p>\n</div>"
     },
     "execution_count": 4,
     "metadata": {},
     "output_type": "execute_result"
    }
   ],
   "source": [
    "df2 = calculate_kpi_3_4('Use_Case_2/')\n",
    "df2"
   ],
   "metadata": {
    "collapsed": false,
    "pycharm": {
     "name": "#%%\n"
    }
   }
  },
  {
   "cell_type": "code",
   "execution_count": 5,
   "outputs": [
    {
     "data": {
      "text/plain": "0.4135625705219909"
     },
     "execution_count": 5,
     "metadata": {},
     "output_type": "execute_result"
    }
   ],
   "source": [
    "df2['grid_grey_energy [%]'].mean()"
   ],
   "metadata": {
    "collapsed": false,
    "pycharm": {
     "name": "#%%\n"
    }
   }
  },
  {
   "cell_type": "code",
   "execution_count": null,
   "outputs": [],
   "source": [
    "df2.to_excel('kpi_3_4_use_case_2.xlsx')"
   ],
   "metadata": {
    "collapsed": false,
    "pycharm": {
     "name": "#%%\n"
    }
   }
  },
  {
   "cell_type": "code",
   "execution_count": null,
   "outputs": [],
   "source": [
    "df3 = calculate_kpi_3_4('use_case_3/')\n",
    "df3"
   ],
   "metadata": {
    "collapsed": false,
    "pycharm": {
     "name": "#%%\n"
    }
   }
  },
  {
   "cell_type": "code",
   "execution_count": null,
   "outputs": [],
   "source": [
    "df3.to_excel('kpi_3_4_use_case_3.xlsx')"
   ],
   "metadata": {
    "collapsed": false,
    "pycharm": {
     "name": "#%%\n"
    }
   }
  },
  {
   "cell_type": "code",
   "execution_count": null,
   "outputs": [],
   "source": [
    "df4 = calculate_kpi_3_4('use_case_4/')\n",
    "df4"
   ],
   "metadata": {
    "collapsed": false,
    "pycharm": {
     "name": "#%%\n"
    }
   }
  },
  {
   "cell_type": "code",
   "execution_count": null,
   "outputs": [],
   "source": [
    "df4.to_excel('kpi_3_4_use_case_4.xlsx')"
   ],
   "metadata": {
    "collapsed": false,
    "pycharm": {
     "name": "#%%\n"
    }
   }
  },
  {
   "cell_type": "code",
   "execution_count": null,
   "outputs": [],
   "source": [
    "# use case 5\n",
    "df5 = calculate_kpi_3_4('use_case_5')\n",
    "df5"
   ],
   "metadata": {
    "collapsed": false,
    "pycharm": {
     "name": "#%%\n"
    }
   }
  },
  {
   "cell_type": "code",
   "execution_count": null,
   "outputs": [],
   "source": [
    "df5.to_excel('kpi_3_4_use_case_5.xlsx')"
   ],
   "metadata": {
    "collapsed": false,
    "pycharm": {
     "name": "#%%\n"
    }
   }
  },
  {
   "cell_type": "code",
   "execution_count": null,
   "outputs": [],
   "source": [
    "# use case 6\n",
    "df6 = calculate_kpi_3_4('use_case_6')\n",
    "df6"
   ],
   "metadata": {
    "collapsed": false,
    "pycharm": {
     "name": "#%%\n"
    }
   }
  },
  {
   "cell_type": "code",
   "execution_count": null,
   "outputs": [],
   "source": [
    "df6.to_excel('kpi_3_4_use_case_6.xlsx')"
   ],
   "metadata": {
    "collapsed": false,
    "pycharm": {
     "name": "#%%\n"
    }
   }
  },
  {
   "cell_type": "code",
   "execution_count": null,
   "outputs": [],
   "source": [],
   "metadata": {
    "collapsed": false,
    "pycharm": {
     "name": "#%%\n"
    }
   }
  }
 ],
 "metadata": {
  "kernelspec": {
   "display_name": "fim_ml",
   "language": "python",
   "name": "fim_ml"
  },
  "language_info": {
   "codemirror_mode": {
    "name": "ipython",
    "version": 3
   },
   "file_extension": ".py",
   "mimetype": "text/x-python",
   "name": "python",
   "nbconvert_exporter": "python",
   "pygments_lexer": "ipython3",
   "version": "3.8.13"
  }
 },
 "nbformat": 4,
 "nbformat_minor": 1
}