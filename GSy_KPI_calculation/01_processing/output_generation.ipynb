{
 "cells": [
  {
   "cell_type": "code",
   "execution_count": 17,
   "outputs": [
    {
     "name": "stdout",
     "output_type": "stream",
     "text": [
      "The autoreload extension is already loaded. To reload it, use:\n",
      "  %reload_ext autoreload\n"
     ]
    }
   ],
   "source": [
    "import os\n",
    "import pandas as pd\n",
    "import numpy as np\n",
    "import matplotlib as mpl\n",
    "import matplotlib.pyplot as plt\n",
    "#plt.rc('figure', facecolor='w')\n",
    "from IPython.core.pylabtools import figsize\n",
    "from icecream import ic\n",
    "import seaborn as sns\n",
    "sns.set_style('white')\n",
    "%load_ext autoreload\n",
    "%autoreload 2\n",
    "%matplotlib inline\n",
    "home_path = 'C:\\\\Users\\joche\\FIM Kernkompetenzzentrum\\Projekt VIdES - Dokumente\\General\\\\07_Arbeitsordner\\\\04_Ergebnisse\\\\20220920_Ergebnisse_4_Wochen'\n",
    "os.chdir(home_path)"
   ],
   "metadata": {
    "collapsed": false,
    "pycharm": {
     "name": "#%%\n"
    }
   }
  },
  {
   "cell_type": "code",
   "execution_count": 2,
   "outputs": [],
   "source": [
    "def read_in_files(paths):\n",
    "    uc_dict = {}\n",
    "    paths = [paths] if type(paths) != list else paths\n",
    "    for i in paths:\n",
    "        uc = int(i.split('\\\\')[-1].split('use_case_')[-1][0])\n",
    "        df = pd.read_excel(i, index_col=0)\n",
    "        df.index = pd.to_datetime(df.index, format='%Y-%m-%dT%H:%M')\n",
    "        if len(df) > 672:\n",
    "            df = df.iloc[:672 - len(df),:]\n",
    "        uc_dict[uc] = df\n",
    "    return uc_dict\n",
    "\n",
    "def filter_cols(df, entity):\n",
    "    entity = 'grid' if 'germany' in entity and any('grid' in col for col in df.columns.tolist()) else entity\n",
    "    df_out = df[[f'{entity}_grey_energy [kWh]', f'{entity}_grey_energy [%]']]\n",
    "    return df_out\n",
    "\n",
    "def insert_co2_col(df):\n",
    "    # emission factors based on calculation in: https://fimrc.sharepoint.com/:x:/t/paper-VIdES/EZnJhlevmuVMi3knXpjlRuIBcDw-HWPnGKyYyXgRi7xe6g?e=7Q4Xhm\n",
    "    gCO2e_kWh_green, gCO2e_kWh_grey = 27.8180, 181.79\n",
    "    entity = df.columns.to_list()[0].split('_')[0]\n",
    "    df[f'{entity}_CO2e [t]'] = np.where(df[f'{entity}_grey_energy [kWh]'] >= 0,\n",
    "                                             df[f'{entity}_grey_energy [kWh]'] * gCO2e_kWh_grey / 1e+6,\n",
    "                                             df[f'{entity}_grey_energy [kWh]'] * (-1) * gCO2e_kWh_green / 1e+6)\n",
    "    if 'grid' in entity:\n",
    "        df.columns = [s.replace('grid', 'germany') for s in df.columns.tolist() if 'grid' in s]\n",
    "    return df"
   ],
   "metadata": {
    "collapsed": false,
    "pycharm": {
     "name": "#%%\n"
    }
   }
  },
  {
   "cell_type": "code",
   "execution_count": 3,
   "outputs": [
    {
     "data": {
      "text/plain": "['kpi_3_4_use_case_0.xlsx',\n 'kpi_3_4_use_case_1_v3.xlsx',\n 'kpi_3_4_use_case_2_v2.xlsx',\n 'kpi_3_4_use_case_3.xlsx',\n 'kpi_3_4_use_case_4.xlsx',\n 'kpi_3_4_use_case_5.xlsx',\n 'kpi_3_4_use_case_6_v2.xlsx']"
     },
     "execution_count": 3,
     "metadata": {},
     "output_type": "execute_result"
    }
   ],
   "source": [
    "# read in all result data frames\n",
    "paths = []\n",
    "for root, dir, file in os.walk(top=home_path+'/results', topdown=True):\n",
    "    paths += [os.path.join(root, f) for f in file if 'kpi_3_4' in f]\n",
    "# TODO: change to manually select relevant files\n",
    "paths = [i for i in paths if not any(x in i for x in ['use_case_1.xlsx', 'use_case_1_v2.xlsx','use_case_2.xlsx', 'use_case_6.xlsx'])]\n",
    "#paths = [i for i in paths if not 'use_case_2.xlsx' in i if not 'use_case_6.xlsx' in i if not 'use_case_1.xlsx' in i]\n",
    "[i.split('\\\\')[-1] for i in paths]"
   ],
   "metadata": {
    "collapsed": false,
    "pycharm": {
     "name": "#%%\n"
    }
   }
  },
  {
   "cell_type": "code",
   "execution_count": 10,
   "outputs": [],
   "source": [
    "# read in all .xslx files\n",
    "uc_dict = read_in_files(paths[:2])"
   ],
   "metadata": {
    "collapsed": false,
    "pycharm": {
     "name": "#%%\n"
    }
   }
  },
  {
   "cell_type": "code",
   "execution_count": null,
   "outputs": [],
   "source": [
    "fig, ax = plt.subplots(figsize = (30,6), ncols=len(uc_dict.keys()), sharex=True)\n",
    "for uc in range(len(uc_dict.keys())):\n",
    "    uc_dict[uc][[i for i in uc_dict[uc].columns.tolist() if any(f'region-{x}_grey_energy [k' in i for x in range(1,7))]].sum(axis = 0).plot.bar(ax = ax[uc], title= f'use case {uc}: total grey energy [kWh] per region')\n",
    "    ax[uc].set_xticklabels([f'region-{i}' for i in range(1,7)])\n",
    "plt.tight_layout()\n",
    "plt.show()"
   ],
   "metadata": {
    "collapsed": false,
    "pycharm": {
     "name": "#%%\n",
     "is_executing": true
    }
   }
  },
  {
   "cell_type": "code",
   "execution_count": 11,
   "outputs": [
    {
     "name": "stderr",
     "output_type": "stream",
     "text": [
      "C:\\Users\\joche\\AppData\\Local\\Temp\\ipykernel_21588\\1200539594.py:22: SettingWithCopyWarning: \n",
      "A value is trying to be set on a copy of a slice from a DataFrame.\n",
      "Try using .loc[row_indexer,col_indexer] = value instead\n",
      "\n",
      "See the caveats in the documentation: https://pandas.pydata.org/pandas-docs/stable/user_guide/indexing.html#returning-a-view-versus-a-copy\n",
      "  df[f'{entity}_CO2e [t]'] = np.where(df[f'{entity}_grey_energy [kWh]'] >= 0,\n",
      "C:\\Users\\joche\\AppData\\Local\\Temp\\ipykernel_21588\\1200539594.py:22: SettingWithCopyWarning: \n",
      "A value is trying to be set on a copy of a slice from a DataFrame.\n",
      "Try using .loc[row_indexer,col_indexer] = value instead\n",
      "\n",
      "See the caveats in the documentation: https://pandas.pydata.org/pandas-docs/stable/user_guide/indexing.html#returning-a-view-versus-a-copy\n",
      "  df[f'{entity}_CO2e [t]'] = np.where(df[f'{entity}_grey_energy [kWh]'] >= 0,\n",
      "C:\\Users\\joche\\AppData\\Local\\Temp\\ipykernel_21588\\1200539594.py:22: SettingWithCopyWarning: \n",
      "A value is trying to be set on a copy of a slice from a DataFrame.\n",
      "Try using .loc[row_indexer,col_indexer] = value instead\n",
      "\n",
      "See the caveats in the documentation: https://pandas.pydata.org/pandas-docs/stable/user_guide/indexing.html#returning-a-view-versus-a-copy\n",
      "  df[f'{entity}_CO2e [t]'] = np.where(df[f'{entity}_grey_energy [kWh]'] >= 0,\n",
      "C:\\Users\\joche\\AppData\\Local\\Temp\\ipykernel_21588\\1200539594.py:22: SettingWithCopyWarning: \n",
      "A value is trying to be set on a copy of a slice from a DataFrame.\n",
      "Try using .loc[row_indexer,col_indexer] = value instead\n",
      "\n",
      "See the caveats in the documentation: https://pandas.pydata.org/pandas-docs/stable/user_guide/indexing.html#returning-a-view-versus-a-copy\n",
      "  df[f'{entity}_CO2e [t]'] = np.where(df[f'{entity}_grey_energy [kWh]'] >= 0,\n",
      "C:\\Users\\joche\\AppData\\Local\\Temp\\ipykernel_21588\\1200539594.py:22: SettingWithCopyWarning: \n",
      "A value is trying to be set on a copy of a slice from a DataFrame.\n",
      "Try using .loc[row_indexer,col_indexer] = value instead\n",
      "\n",
      "See the caveats in the documentation: https://pandas.pydata.org/pandas-docs/stable/user_guide/indexing.html#returning-a-view-versus-a-copy\n",
      "  df[f'{entity}_CO2e [t]'] = np.where(df[f'{entity}_grey_energy [kWh]'] >= 0,\n",
      "C:\\Users\\joche\\AppData\\Local\\Temp\\ipykernel_21588\\1200539594.py:22: SettingWithCopyWarning: \n",
      "A value is trying to be set on a copy of a slice from a DataFrame.\n",
      "Try using .loc[row_indexer,col_indexer] = value instead\n",
      "\n",
      "See the caveats in the documentation: https://pandas.pydata.org/pandas-docs/stable/user_guide/indexing.html#returning-a-view-versus-a-copy\n",
      "  df[f'{entity}_CO2e [t]'] = np.where(df[f'{entity}_grey_energy [kWh]'] >= 0,\n",
      "C:\\Users\\joche\\AppData\\Local\\Temp\\ipykernel_21588\\1200539594.py:22: SettingWithCopyWarning: \n",
      "A value is trying to be set on a copy of a slice from a DataFrame.\n",
      "Try using .loc[row_indexer,col_indexer] = value instead\n",
      "\n",
      "See the caveats in the documentation: https://pandas.pydata.org/pandas-docs/stable/user_guide/indexing.html#returning-a-view-versus-a-copy\n",
      "  df[f'{entity}_CO2e [t]'] = np.where(df[f'{entity}_grey_energy [kWh]'] >= 0,\n",
      "C:\\Users\\joche\\AppData\\Local\\Temp\\ipykernel_21588\\1200539594.py:22: SettingWithCopyWarning: \n",
      "A value is trying to be set on a copy of a slice from a DataFrame.\n",
      "Try using .loc[row_indexer,col_indexer] = value instead\n",
      "\n",
      "See the caveats in the documentation: https://pandas.pydata.org/pandas-docs/stable/user_guide/indexing.html#returning-a-view-versus-a-copy\n",
      "  df[f'{entity}_CO2e [t]'] = np.where(df[f'{entity}_grey_energy [kWh]'] >= 0,\n",
      "C:\\Users\\joche\\AppData\\Local\\Temp\\ipykernel_21588\\1200539594.py:22: SettingWithCopyWarning: \n",
      "A value is trying to be set on a copy of a slice from a DataFrame.\n",
      "Try using .loc[row_indexer,col_indexer] = value instead\n",
      "\n",
      "See the caveats in the documentation: https://pandas.pydata.org/pandas-docs/stable/user_guide/indexing.html#returning-a-view-versus-a-copy\n",
      "  df[f'{entity}_CO2e [t]'] = np.where(df[f'{entity}_grey_energy [kWh]'] >= 0,\n",
      "C:\\Users\\joche\\AppData\\Local\\Temp\\ipykernel_21588\\1200539594.py:22: SettingWithCopyWarning: \n",
      "A value is trying to be set on a copy of a slice from a DataFrame.\n",
      "Try using .loc[row_indexer,col_indexer] = value instead\n",
      "\n",
      "See the caveats in the documentation: https://pandas.pydata.org/pandas-docs/stable/user_guide/indexing.html#returning-a-view-versus-a-copy\n",
      "  df[f'{entity}_CO2e [t]'] = np.where(df[f'{entity}_grey_energy [kWh]'] >= 0,\n",
      "C:\\Users\\joche\\AppData\\Local\\Temp\\ipykernel_21588\\1200539594.py:22: SettingWithCopyWarning: \n",
      "A value is trying to be set on a copy of a slice from a DataFrame.\n",
      "Try using .loc[row_indexer,col_indexer] = value instead\n",
      "\n",
      "See the caveats in the documentation: https://pandas.pydata.org/pandas-docs/stable/user_guide/indexing.html#returning-a-view-versus-a-copy\n",
      "  df[f'{entity}_CO2e [t]'] = np.where(df[f'{entity}_grey_energy [kWh]'] >= 0,\n",
      "C:\\Users\\joche\\AppData\\Local\\Temp\\ipykernel_21588\\1200539594.py:22: SettingWithCopyWarning: \n",
      "A value is trying to be set on a copy of a slice from a DataFrame.\n",
      "Try using .loc[row_indexer,col_indexer] = value instead\n",
      "\n",
      "See the caveats in the documentation: https://pandas.pydata.org/pandas-docs/stable/user_guide/indexing.html#returning-a-view-versus-a-copy\n",
      "  df[f'{entity}_CO2e [t]'] = np.where(df[f'{entity}_grey_energy [kWh]'] >= 0,\n",
      "C:\\Users\\joche\\AppData\\Local\\Temp\\ipykernel_21588\\1200539594.py:22: SettingWithCopyWarning: \n",
      "A value is trying to be set on a copy of a slice from a DataFrame.\n",
      "Try using .loc[row_indexer,col_indexer] = value instead\n",
      "\n",
      "See the caveats in the documentation: https://pandas.pydata.org/pandas-docs/stable/user_guide/indexing.html#returning-a-view-versus-a-copy\n",
      "  df[f'{entity}_CO2e [t]'] = np.where(df[f'{entity}_grey_energy [kWh]'] >= 0,\n",
      "C:\\Users\\joche\\AppData\\Local\\Temp\\ipykernel_21588\\1200539594.py:22: SettingWithCopyWarning: \n",
      "A value is trying to be set on a copy of a slice from a DataFrame.\n",
      "Try using .loc[row_indexer,col_indexer] = value instead\n",
      "\n",
      "See the caveats in the documentation: https://pandas.pydata.org/pandas-docs/stable/user_guide/indexing.html#returning-a-view-versus-a-copy\n",
      "  df[f'{entity}_CO2e [t]'] = np.where(df[f'{entity}_grey_energy [kWh]'] >= 0,\n"
     ]
    }
   ],
   "source": [
    "# for each use case: filter out relevant cols and insert co2 value\n",
    "dict_out = {}\n",
    "for uc in uc_dict:\n",
    "    dict_out[uc] = {}\n",
    "    df_ger = filter_cols(uc_dict[uc], 'germany')\n",
    "    dict_out[uc]['germany'] = insert_co2_col(df_ger)\n",
    "    for i in range(1,7):\n",
    "        df_reg_i = filter_cols(uc_dict[uc], f'region-{i}')\n",
    "        dict_out[uc][f'region-{i}'] = insert_co2_col(df_reg_i)"
   ],
   "metadata": {
    "collapsed": false,
    "pycharm": {
     "name": "#%%\n"
    }
   }
  },
  {
   "cell_type": "code",
   "execution_count": 12,
   "outputs": [],
   "source": [
    "# get uc0 ger values\n",
    "def plot_germany_vs_uc0(dict_out, uc):\n",
    "    uc0_label = f'use case 0'\n",
    "    uci_label = f'use case {uc}'\n",
    "    uc0_co2_ger = np.round(dict_out[0][f'germany'][f'germany_CO2e [t]'].sum(),2)\n",
    "    uci_co2_ger = np.round(dict_out[uc][f'germany'][f'germany_CO2e [t]'].sum(),2)\n",
    "\n",
    "    fig, ax = plt.subplots(figsize = (10,5), facecolor = 'w')\n",
    "    uc0 = ax.bar(uc0_label, uc0_co2_ger, color = (206/235,150/235,191/235))\n",
    "    uci = ax.bar(uci_label, uci_co2_ger, color = (184/235,50/235,138/235))\n",
    "    ax.set_title('Total CO2e emissions for germany over simulation period by use case')\n",
    "    ax.set_ylabel('tCO2e')\n",
    "    ax.bar_label(uc0, padding=3)\n",
    "    ax.bar_label(uci, padding=3)\n",
    "    ax.set_ylim(0, max(uc0_co2_ger, uci_co2_ger) + 6)\n",
    "    sns.despine()\n",
    "\n",
    "    return fig"
   ],
   "metadata": {
    "collapsed": false,
    "pycharm": {
     "name": "#%%\n"
    }
   }
  },
  {
   "cell_type": "code",
   "execution_count": 18,
   "outputs": [
    {
     "data": {
      "text/plain": "<Figure size 720x360 with 1 Axes>",
      "image/png": "[encoded data removed]"
     },
     "metadata": {},
     "output_type": "display_data"
    }
   ],
   "source": [
    "fig = plot_germany_vs_uc0(dict_out, uc=1)"
   ],
   "metadata": {
    "collapsed": false,
    "pycharm": {
     "name": "#%%\n"
    }
   }
  },
  {
   "cell_type": "code",
   "execution_count": 14,
   "outputs": [],
   "source": [
    "def plot_regions_vs_uc0(dict_out, uc):\n",
    "    labels, uc0_co2_regions, uci_co2_regions = [], [], []\n",
    "    for i in range(1,7):\n",
    "        labels.append(f'region-{i}')\n",
    "        uc0_co2_regions.append(np.round(dict_out[0][f'region-{i}'][f'region-{i}_CO2e [t]'].sum(),2))\n",
    "        uci_co2_regions.append(np.round(dict_out[uc][f'region-{i}'][f'region-{i}_CO2e [t]'].sum(),2))\n",
    "    # plot\n",
    "    width = 0.4\n",
    "    x = np.arange(len(labels))\n",
    "    fig, ax = plt.subplots(figsize = (8,4), facecolor = 'w')\n",
    "    uc0 = ax.bar(x - width/2, uc0_co2_regions, width, label = f'use case 0', color = (206/235,150/235,191/235))\n",
    "    uci = ax.bar(x + width/2, uci_co2_regions, width, label = f'use case {uc}', color = (184/235,50/235,138/235))\n",
    "    ax.set_title('Total CO2e emissions over simulation period by region and use case')\n",
    "    ax.set_ylabel('tCO2e')\n",
    "    ax.set_xticks(x, labels)\n",
    "    ax.legend()\n",
    "    ax.bar_label(uc0, padding=3)\n",
    "    ax.bar_label(uci, padding=3)\n",
    "    ax.set_ylim(0, max(max(uc0_co2_regions), max(uci_co2_regions)) + 6)\n",
    "    sns.despine()\n",
    "\n",
    "    return fig"
   ],
   "metadata": {
    "collapsed": false,
    "pycharm": {
     "name": "#%%\n"
    }
   }
  },
  {
   "cell_type": "code",
   "execution_count": 19,
   "outputs": [
    {
     "data": {
      "text/plain": "<Figure size 576x288 with 1 Axes>",
      "image/png": "[encoded data removed]"
     },
     "metadata": {},
     "output_type": "display_data"
    }
   ],
   "source": [
    "fig = plot_regions_vs_uc0(dict_out, uc=1)"
   ],
   "metadata": {
    "collapsed": false,
    "pycharm": {
     "name": "#%%\n"
    }
   }
  },
  {
   "cell_type": "code",
   "execution_count": 142,
   "outputs": [],
   "source": [],
   "metadata": {
    "collapsed": false,
    "pycharm": {
     "name": "#%%\n"
    }
   }
  },
  {
   "cell_type": "code",
   "execution_count": 142,
   "outputs": [],
   "source": [],
   "metadata": {
    "collapsed": false,
    "pycharm": {
     "name": "#%%\n"
    }
   }
  }
 ],
 "metadata": {
  "kernelspec": {
   "name": "fim_ml",
   "language": "python",
   "display_name": "fim_ml"
  },
  "language_info": {
   "codemirror_mode": {
    "name": "ipython",
    "version": 2
   },
   "file_extension": ".py",
   "mimetype": "text/x-python",
   "name": "python",
   "nbconvert_exporter": "python",
   "pygments_lexer": "ipython2",
   "version": "2.7.6"
  }
 },
 "nbformat": 4,
 "nbformat_minor": 0
}