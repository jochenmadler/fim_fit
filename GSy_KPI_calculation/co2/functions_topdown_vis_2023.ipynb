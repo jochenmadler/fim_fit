{
 "cells": [
  {
   "attachments": {},
   "cell_type": "markdown",
   "metadata": {},
   "source": [
    "#### Create CO2 emission data from pre-processed simulation results\n",
    "- Simulation results should be pre-processed using the latest versions of ```functions_topdown``` or ```functions_bottomup```\n",
    "- Simulation results should be saved as xlsx-files to the corresponding ```results``` folder\n",
    "\n",
    "The following code retrieves the xlsx-files and visualizes the data"
   ]
  },
  {
   "cell_type": "code",
   "execution_count": 19,
   "metadata": {
    "collapsed": false,
    "pycharm": {
     "name": "#%%\n"
    }
   },
   "outputs": [
    {
     "name": "stdout",
     "output_type": "stream",
     "text": [
      "The autoreload extension is already loaded. To reload it, use:\n",
      "  %reload_ext autoreload\n"
     ]
    }
   ],
   "source": [
    "import os\n",
    "import pandas as pd\n",
    "import numpy as np\n",
    "import matplotlib as mpl\n",
    "import matplotlib.pyplot as plt\n",
    "#plt.rc('figure', facecolor='w')\n",
    "from IPython.core.pylabtools import figsize\n",
    "from icecream import ic\n",
    "import seaborn as sns\n",
    "sns.set_style('white')\n",
    "%load_ext autoreload\n",
    "%autoreload 2\n",
    "%matplotlib inline\n",
    "home_path = 'C:\\\\Users\\joche\\FIM Kernkompetenzzentrum\\Projekt VIdES - Dokumente\\General\\\\07_Arbeitsordner\\\\04_Ergebnisse\\\\20220920_Ergebnisse_4_Wochen\\\\new_results_2023'\n",
    "os.chdir(home_path)\n",
    "out_path = r'C:\\Users\\joche\\FIM Kernkompetenzzentrum\\Projekt VIdES - Dokumente\\General\\07_Arbeitsordner\\04_Ergebnisse\\20220920_Ergebnisse_4_Wochen\\new_results_2023\\results\\Abbildungen/'"
   ]
  },
  {
   "cell_type": "code",
   "execution_count": 20,
   "metadata": {
    "collapsed": false,
    "pycharm": {
     "name": "#%%\n"
    }
   },
   "outputs": [],
   "source": [
    "def read_in_files(paths):\n",
    "    uc_dict = {}\n",
    "    paths = [paths] if type(paths) != list else paths\n",
    "    for i in paths:\n",
    "        uc = i.split('\\\\')[-1].split('use_case_')[-1].split('.xlsx')[0]\n",
    "        print(f'reading in use case {uc}')\n",
    "        if '_v' in uc:\n",
    "           uc = uc.split('_v')[0]\n",
    "        #uc = int(i.split('\\\\')[-1].split('use_case_')[-1][0])\n",
    "        df = pd.read_excel(i, index_col=0)\n",
    "        df.index = pd.to_datetime(df.index, format='%Y-%m-%dT%H:%M')\n",
    "        if len(df) > 672:\n",
    "            df = df.iloc[:672 - len(df),:]\n",
    "        uc_dict[uc] = df\n",
    "    return uc_dict\n",
    "\n",
    "def filter_cols(df, entity):\n",
    "    entity = 'grid' if 'germany' in entity and any('grid' in col for col in df.columns.tolist()) else entity\n",
    "    df_out = df[[f'{entity}_grey_energy [kWh]', f'{entity}_grey_energy [%]']]\n",
    "    return df_out\n",
    "\n",
    "def insert_co2_col(df):\n",
    "    # emission factors based on calculation in: https://fimrc.sharepoint.com/:x:/t/paper-VIdES/EZnJhlevmuVMi3knXpjlRuIBcDw-HWPnGKyYyXgRi7xe6g?e=7Q4Xhm\n",
    "    gCO2e_kWh_green, gCO2e_kWh_grey = 0.0, 181.79\n",
    "    entity = df.columns.to_list()[0].split('_')[0]\n",
    "    df[f'{entity}_CO2e [t]'] = np.where(df[f'{entity}_grey_energy [kWh]'] >= 0,\n",
    "                                             df[f'{entity}_grey_energy [kWh]'] * gCO2e_kWh_grey / 1e+6,\n",
    "                                             df[f'{entity}_grey_energy [kWh]'] * (-1) * gCO2e_kWh_green / 1e+6)\n",
    "    if 'grid' in entity:\n",
    "        df.columns = [s.replace('grid', 'germany') for s in df.columns.tolist() if 'grid' in s]\n",
    "    return df"
   ]
  },
  {
   "cell_type": "code",
   "execution_count": 21,
   "metadata": {},
   "outputs": [
    {
     "name": "stdout",
     "output_type": "stream",
     "text": [
      "['use_case_2_topdown.xlsx', 'use_case_3_topdown.xlsx', 'use_case_4_topdown.xlsx', 'use_case_6_topdown.xlsx']\n"
     ]
    }
   ],
   "source": [
    "# read in all result data frames\n",
    "paths = []\n",
    "for root, dir, file in os.walk(top=home_path+'/results', topdown=True):\n",
    "    paths += [os.path.join(root, f) for f in file if '.xlsx' in f if 'topdown' in f]\n",
    "\n",
    "# show files\n",
    "print([i.split('\\\\')[-1] for i in paths])"
   ]
  },
  {
   "cell_type": "code",
   "execution_count": 22,
   "metadata": {
    "collapsed": false,
    "pycharm": {
     "name": "#%%\n"
    }
   },
   "outputs": [
    {
     "name": "stdout",
     "output_type": "stream",
     "text": [
      "reading in use case 3_topdown\n",
      "dict_keys(['3_topdown'])\n"
     ]
    }
   ],
   "source": [
    "# read in all .xslx files as pd.DataFrame\n",
    "uc_dict = read_in_files(paths[1])\n",
    "\n",
    "# show results\n",
    "print(uc_dict.keys())"
   ]
  },
  {
   "cell_type": "code",
   "execution_count": 23,
   "metadata": {},
   "outputs": [
    {
     "name": "stdout",
     "output_type": "stream",
     "text": [
      "{'3_topdown': 44.3961170999638}\n"
     ]
    },
    {
     "name": "stderr",
     "output_type": "stream",
     "text": [
      "C:\\Users\\joche\\AppData\\Local\\Temp\\ipykernel_15036\\1668262290.py:26: SettingWithCopyWarning: \n",
      "A value is trying to be set on a copy of a slice from a DataFrame.\n",
      "Try using .loc[row_indexer,col_indexer] = value instead\n",
      "\n",
      "See the caveats in the documentation: https://pandas.pydata.org/pandas-docs/stable/user_guide/indexing.html#returning-a-view-versus-a-copy\n",
      "  df[f'{entity}_CO2e [t]'] = np.where(df[f'{entity}_grey_energy [kWh]'] >= 0,\n"
     ]
    }
   ],
   "source": [
    "# for a key in topdown uc_dict, return sum of tCO2 for Germany\n",
    "def get_sum_co2_germany(key):\n",
    "    df = uc_dict[key]\n",
    "    df = filter_cols(df, 'germany')\n",
    "    df = insert_co2_col(df)\n",
    "    return df[f'germany_CO2e [t]'].sum(axis=0)\n",
    "\n",
    "# calculate sum of tCO2 for Germany for all topdown use cases\n",
    "topdown_co2_germany_results = {}\n",
    "for key in uc_dict.keys():\n",
    "    topdown_co2_germany_results[key] = get_sum_co2_germany(key)\n",
    "    \n",
    "# print results\n",
    "print(topdown_co2_germany_results)"
   ]
  }
 ],
 "metadata": {
  "kernelspec": {
   "display_name": "fim_ml",
   "language": "python",
   "name": "python3"
  },
  "language_info": {
   "codemirror_mode": {
    "name": "ipython",
    "version": 3
   },
   "file_extension": ".py",
   "mimetype": "text/x-python",
   "name": "python",
   "nbconvert_exporter": "python",
   "pygments_lexer": "ipython3",
   "version": "3.8.15"
  },
  "vscode": {
   "interpreter": {
    "hash": "d7f38048655767e5711d7ee92a9dce882bbfd46ed70fd8fd809166041ce95f94"
   }
  }
 },
 "nbformat": 4,
 "nbformat_minor": 0
}
