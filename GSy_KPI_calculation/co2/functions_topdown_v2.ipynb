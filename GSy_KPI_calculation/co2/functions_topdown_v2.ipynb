{
 "cells": [
  {
   "attachments": {},
   "cell_type": "markdown",
   "metadata": {},
   "source": [
    "#### KPI 4: CO2 emissions (top down)\n",
    "---\n",
    "Combined data frame for every entity in use case with:\n",
    "- grey_energy [kWh] -> to be multiplied by co2 emission factor\n",
    "- grey_energy [%] -> share grey energy consumed (1 - share renewable)"
   ]
  },
  {
   "cell_type": "code",
   "execution_count": 3,
   "metadata": {},
   "outputs": [],
   "source": [
    "import os\n",
    "import pandas as pd\n",
    "\n",
    "from functions_topdown_v2 import *\n",
    "\n",
    "home_path_new = r'C:\\Users\\weissflo\\FIM Kernkompetenzzentrum\\Projekt VIdES - General\\07_Arbeitsordner\\04_Ergebnisse\\20220920_Ergebnisse_4_Wochen\\new_results_2023'\n",
    "results_new = r'C:\\Users\\weissflo\\FIM Kernkompetenzzentrum\\Projekt VIdES - General\\07_Arbeitsordner\\04_Ergebnisse\\20220920_Ergebnisse_4_Wochen\\new_results_2023\\results'\n",
    "\n",
    "home_path_old = r'C:\\Users\\weissflo\\FIM Kernkompetenzzentrum\\Projekt VIdES - General\\07_Arbeitsordner\\04_Ergebnisse\\20220920_Ergebnisse_4_Wochen'\n",
    "results_old = r'C:\\Users\\weissflo\\FIM Kernkompetenzzentrum\\Projekt VIdES - General\\07_Arbeitsordner\\04_Ergebnisse\\20220920_Ergebnisse_4_Wochen\\results'\n",
    "\n",
    "# %load_ext autoreload\n",
    "# %autoreload 2"
   ]
  },
  {
   "attachments": {},
   "cell_type": "markdown",
   "metadata": {},
   "source": [
    "##### Instructions how to use function ```co2_calcuation```:\n",
    "- enter the relevant simulation data directory for old results (```home_path_old```) or new results (```home_path_new```)\n",
    "- enter the relevant use case number as an integer\n",
    "- save the result in a pandas dataframe\n",
    "- save the dataframe as a xlsx-file to old results folder (path: ```results_old```) or new results folder (path: ```results_new```)"
   ]
  },
  {
   "cell_type": "code",
   "execution_count": 180,
   "metadata": {},
   "outputs": [],
   "source": [
    "# calculate co2 emissions for use case\n",
    "df4 = co2_calculation(home_path_new, use_case_nr=4)"
   ]
  },
  {
   "cell_type": "code",
   "execution_count": null,
   "metadata": {},
   "outputs": [],
   "source": [
    "df4"
   ]
  },
  {
   "cell_type": "code",
   "execution_count": 182,
   "metadata": {},
   "outputs": [],
   "source": [
    "# save dataframe to xlsx-file in results path\n",
    "df4.to_excel(os.path.join(results_new, 'use_case_4_topdown.xlsx'))"
   ]
  },
  {
   "attachments": {},
   "cell_type": "markdown",
   "metadata": {},
   "source": [
    "---"
   ]
  },
  {
   "attachments": {},
   "cell_type": "markdown",
   "metadata": {},
   "source": [
    "Find missing files"
   ]
  },
  {
   "cell_type": "code",
   "execution_count": 4,
   "metadata": {},
   "outputs": [],
   "source": [
    "use_case_dir, use_case_nr = get_use_case_dir_and_nr(home_path_new, use_case_nr=6)\n",
    "\n",
    "all_filepaths, all_filenames = [], []\n",
    "for root, dir, file in os.walk(top=use_case_dir, topdown=True):\n",
    "    all_filepaths += [os.path.join(root, f) for f in file if 'trades.csv' in f]\n",
    "    all_filenames += [f for f in file if 'trades.csv' in f]\n",
    "    \n",
    "nr_months = 4\n",
    "months = {'apr', 'jul', 'oct', 'jan'}\n",
    "incomplete_fnames = [i for i in all_filenames if all_filenames.count(i) != nr_months]\n",
    "\n",
    "for f in incomplete_fnames:\n",
    "    present_months = set([i.split('\\\\germany')[0][-3:] for i in all_filepaths if f in i])\n",
    "    missing_months = months - present_months\n",
    "    print(f'{f}:\\n',f'- present_months: {list(present_months)}\\n',f'- missing_months: {list(missing_months)}\\n')"
   ]
  }
 ],
 "metadata": {
  "kernelspec": {
   "display_name": "Python 3",
   "language": "python",
   "name": "python3"
  },
  "language_info": {
   "codemirror_mode": {
    "name": "ipython",
    "version": 3
   },
   "file_extension": ".py",
   "mimetype": "text/x-python",
   "name": "python",
   "nbconvert_exporter": "python",
   "pygments_lexer": "ipython3",
   "version": "3.6.8"
  },
  "orig_nbformat": 4,
  "vscode": {
   "interpreter": {
    "hash": "5be8d8f94ebfdcdd53bf131ccf64f38799598d6e1d2ec494dcd445840258b4eb"
   }
  }
 },
 "nbformat": 4,
 "nbformat_minor": 2
}
