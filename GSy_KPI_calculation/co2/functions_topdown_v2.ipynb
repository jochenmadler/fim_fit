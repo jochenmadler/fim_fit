{
 "cells": [
  {
   "attachments": {},
   "cell_type": "markdown",
   "metadata": {},
   "source": [
    "#### KPI 4: CO2 emissions (top down)\n",
    "---\n",
    "Combined data frame for every entity in use case with:\n",
    "- grey_energy [kWh] -> to be multiplied by co2 emission factor\n",
    "- grey_energy [%] -> share grey energy consumed (1 - share renewable)"
   ]
  },
  {
   "cell_type": "code",
   "execution_count": 179,
   "metadata": {},
   "outputs": [
    {
     "name": "stdout",
     "output_type": "stream",
     "text": [
      "The autoreload extension is already loaded. To reload it, use:\n",
      "  %reload_ext autoreload\n"
     ]
    }
   ],
   "source": [
    "import os\n",
    "import pandas as pd\n",
    "\n",
    "from functions_topdown_v2 import *\n",
    "\n",
    "home_path_new = r'C:\\Users\\joche\\FIM Kernkompetenzzentrum\\Projekt VIdES - Dokumente\\General\\07_Arbeitsordner\\04_Ergebnisse\\20220920_Ergebnisse_4_Wochen\\new_results_2023'\n",
    "results_new = r'C:\\Users\\joche\\FIM Kernkompetenzzentrum\\Projekt VIdES - Dokumente\\General\\07_Arbeitsordner\\04_Ergebnisse\\20220920_Ergebnisse_4_Wochen\\new_results_2023\\results'\n",
    "\n",
    "home_path_old = r'C:\\Users\\joche\\FIM Kernkompetenzzentrum\\Projekt VIdES - Dokumente\\General\\07_Arbeitsordner\\04_Ergebnisse\\20220920_Ergebnisse_4_Wochen'\n",
    "results_old = r'C:\\Users\\joche\\FIM Kernkompetenzzentrum\\Projekt VIdES - Dokumente\\General\\07_Arbeitsordner\\04_Ergebnisse\\20220920_Ergebnisse_4_Wochen\\results'\n",
    "\n",
    "%load_ext autoreload\n",
    "%autoreload 2"
   ]
  },
  {
   "attachments": {},
   "cell_type": "markdown",
   "metadata": {},
   "source": [
    "##### Instructions how to use function ```co2_calcuation```:\n",
    "- enter the relevant simulation data directory for old results (```home_path_old```) or new results (```home_path_new```)\n",
    "- enter the relevant use case number as an integer\n",
    "- save the result in a pandas dataframe\n",
    "- save the dataframe as a xlsx-file to old results folder (path: ```results_old```) or new results folder (path: ```results_new```)"
   ]
  },
  {
   "cell_type": "code",
   "execution_count": 180,
   "metadata": {},
   "outputs": [],
   "source": [
    "# calculate co2 emissions for use case\n",
    "df4 = co2_calculation(home_path_new, use_case_nr=4)"
   ]
  },
  {
   "cell_type": "code",
   "execution_count": null,
   "metadata": {},
   "outputs": [],
   "source": [
    "df4"
   ]
  },
  {
   "cell_type": "code",
   "execution_count": null,
   "metadata": {},
   "outputs": [],
   "source": [
    "# save dataframe to xlsx-file in results path\n",
    "df4.to_excel(os.path.join(results_new, 'use_case_4_topdown.xlsx'))"
   ]
  },
  {
   "attachments": {},
   "cell_type": "markdown",
   "metadata": {},
   "source": [
    "---"
   ]
  },
  {
   "cell_type": "code",
   "execution_count": 173,
   "metadata": {},
   "outputs": [],
   "source": [
    "months=4\n",
    "use_case_dir, use_case_nr = get_use_case_dir_and_nr(home_path_new, use_case_nr=4)\n",
    "df_out = prepare_df_out(use_case_dir)\n",
    "nonempty_files_paths, nr_nonempty_files, empty_files_paths = prepare_empty_and_nonempty_filepaths(use_case_dir, use_case_nr)\n",
    "mm_filepaths = [i for i in nonempty_files_paths if 'member' in i.split('\\\\')[-1]]\n",
    "nr_mm_filepaths = len(mm_filepaths)\n",
    "\n",
    "# set up df_mm\n",
    "df_mm = df_out.copy()\n",
    "df_mm[['mm_to_cs', 'cs_to_mm']] = 0, 0\n",
    "\n",
    "# for each entity involved with mm, combine all months' data frames\n",
    "entity_dfs = []\n",
    "for i in range(int(nr_mm_filepaths / months)):\n",
    "    entity_monthly_dfs = []\n",
    "    entity_monthly_filepaths = mm_filepaths[i::int(nr_mm_filepaths / months)]\n",
    "    for j in entity_monthly_filepaths:\n",
    "        df_temp = pd.read_csv(j).drop(['creation_time', 'matching_requirements', 'rate [ct./kWh]'], axis=1)\n",
    "        df_temp.seller = [i.lower().replace('_', '-') for i in df_temp.seller]\n",
    "        df_temp.buyer = [i.lower().replace('_', '-') for i in df_temp.buyer]\n",
    "        entity_monthly_dfs.append(df_temp)\n",
    "    entity_name = entity_monthly_filepaths[0].split('\\\\')[-1].split('-trades.csv')[0]\n",
    "    entity_df = pd.concat(entity_monthly_dfs).sort_values(by='slot').reset_index(drop=True)\n",
    "    entity_dfs.append(entity_df)\n",
    "\n",
    "# combine all dfs and calculate mm trading volumes\n",
    "mm_df = pd.concat(entity_dfs, axis=0).sort_values(by='slot')\n",
    "mm_df.set_index(['slot'], inplace=True)"
   ]
  },
  {
   "cell_type": "code",
   "execution_count": 154,
   "metadata": {},
   "outputs": [],
   "source": [
    "# obtain all months' time slots from .json files and combine them to index\n",
    "json_filepaths, timeslots, timeslots_len = [], [], []\n",
    "for root, dir, file in os.walk(top=use_case_dir, topdown=True):\n",
    "    json_filepaths += [os.path.join(root, f) for f in file if 'price_energy_day.json' in f]\n",
    "for j in json_filepaths:\n",
    "    current_month = j.split('\\\\aggregated')[0].split('\\\\')[-1]\n",
    "    \n",
    "    df = pd.read_json(j)\n",
    "    timeslots_j = [df['Germany']['price-energy-day'][i][0]['time'] for i in\n",
    "                    range(len(df['Germany']['price-energy-day']))]\n",
    "    timeslots.extend(timeslots_j) \n",
    "    timeslots_len.append(len(timeslots_j))"
   ]
  },
  {
   "cell_type": "code",
   "execution_count": 170,
   "metadata": {},
   "outputs": [
    {
     "name": "stdout",
     "output_type": "stream",
     "text": [
      "apr\n"
     ]
    }
   ],
   "source": [
    "j = json_filepaths[0]\n",
    "current_month_str = j.split('\\\\aggregated')[0].split('\\\\')[-1].lower()\n",
    "print(current_month_str)\n",
    "current_month_number = None\n",
    "if 'jan' in current_month_str:\n",
    "    current_month_number = '01'\n",
    "elif 'apr' in current_month_str:\n",
    "    current_month_number = '04'\n",
    "elif 'jul' in current_month_str:\n",
    "    current_month_number = '07'\n",
    "elif 'oct' in current_month_str:\n",
    "    current_month_number = '10'\n",
    "else:\n",
    "    raise Exception(f'ERROR: Month could not be detected from string {current_month_str}.')\n",
    "df = pd.read_json(j)\n",
    "timeslots_j = [df['Germany']['price-energy-day'][i][0]['time'] for i in\n",
    "                    range(len(df['Germany']['price-energy-day']))]\n",
    "# replace month number in string with detected month number from filepath\n",
    "[i.split('-')[0] + '-' + current_month_number + '-' + i.split('-')[-1] for i in timeslots_j]\n"
   ]
  },
  {
   "attachments": {},
   "cell_type": "markdown",
   "metadata": {},
   "source": [
    "Find missing files"
   ]
  },
  {
   "cell_type": "code",
   "execution_count": null,
   "metadata": {},
   "outputs": [],
   "source": [
    "use_case_dir, use_case_nr = get_use_case_dir_and_nr(home_path_new, use_case_nr=6)\n",
    "\n",
    "all_filepaths, all_filenames = [], []\n",
    "for root, dir, file in os.walk(top=use_case_dir, topdown=True):\n",
    "    all_filepaths += [os.path.join(root, f) for f in file if 'trades.csv' in f]\n",
    "    all_filenames += [f for f in file if 'trades.csv' in f]\n",
    "    \n",
    "nr_months = 4\n",
    "months = {'apr', 'jul', 'oct', 'jan'}\n",
    "incomplete_fnames = [i for i in all_filenames if all_filenames.count(i) != nr_months]\n",
    "\n",
    "for f in incomplete_fnames:\n",
    "    present_months = set([i.split('\\\\germany')[0][-3:] for i in all_filepaths if f in i])\n",
    "    missing_months = months - present_months\n",
    "    print(f'{f}:\\n',f'- present_months: {list(present_months)}\\n',f'- missing_months: {list(missing_months)}\\n')"
   ]
  }
 ],
 "metadata": {
  "kernelspec": {
   "display_name": "fim_ml",
   "language": "python",
   "name": "python3"
  },
  "language_info": {
   "codemirror_mode": {
    "name": "ipython",
    "version": 3
   },
   "file_extension": ".py",
   "mimetype": "text/x-python",
   "name": "python",
   "nbconvert_exporter": "python",
   "pygments_lexer": "ipython3",
   "version": "3.8.15"
  },
  "orig_nbformat": 4,
  "vscode": {
   "interpreter": {
    "hash": "d7f38048655767e5711d7ee92a9dce882bbfd46ed70fd8fd809166041ce95f94"
   }
  }
 },
 "nbformat": 4,
 "nbformat_minor": 2
}
