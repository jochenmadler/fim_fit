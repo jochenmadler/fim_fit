{
 "cells": [
  {
   "cell_type": "code",
   "execution_count": 1,
   "metadata": {
    "pycharm": {
     "name": "#%%\n"
    }
   },
   "outputs": [],
   "source": [
    "# set up\n",
    "import os\n",
    "import time\n",
    "import numpy as np\n",
    "import pandas as pd\n",
    "import functools as func\n",
    "import functions_topdown as f\n",
    "import functions_topdown_v1 as f_v1\n",
    "import matplotlib.pyplot as plt\n",
    "import seaborn as sns\n",
    "sns.set_style('white')\n",
    "home_path = \"C:\\\\Users\\joche\\FIM Kernkompetenzzentrum\\Projekt VIdES - Dokumente\\General\\\\07_Arbeitsordner\\\\04_Ergebnisse\\\\20220920_Ergebnisse_4_Wochen\"\n",
    "os.chdir(home_path)\n",
    "%load_ext autoreload\n",
    "%autoreload 2"
   ]
  },
  {
   "cell_type": "markdown",
   "metadata": {
    "collapsed": false,
    "pycharm": {
     "name": "#%% md\n"
    }
   },
   "source": [
    "#### KPI 4: CO2 emissions\n",
    "---\n",
    "Combined data frame for every entity in use case with:\n",
    "- grey_energy [kWh] -> to be multiplied by co2 emission factor\n",
    "- grey_energy [%] -> share grey energy consumed (1 - share renewable)"
   ]
  },
  {
   "cell_type": "code",
   "execution_count": 2,
   "metadata": {
    "collapsed": false,
    "pycharm": {
     "name": "#%%\n"
    }
   },
   "outputs": [],
   "source": [
    "# define function for execution convenience: use case 2 and 6\n",
    "def calculate_kpi_3_4(use_case_string):\n",
    "    os.chdir(home_path)\n",
    "    os.chdir(use_case_string)\n",
    "    use_case_home_path = os.getcwd()\n",
    "    print(f'-- use case {f.get_use_case_nr(use_case_home_path)} --')\n",
    "    start = time.time()\n",
    "    df = f.co2_emissions(use_case_home_path)\n",
    "    print(f'time: {round(time.time() - start, 2)} seconds')\n",
    "    return df\n",
    "\n",
    "# define function for execution convenience: use case 1\n",
    "def calculate_kpi_3_4_old(use_case_string):\n",
    "    os.chdir(home_path)\n",
    "    os.chdir(use_case_string)\n",
    "    use_case_home_path = os.getcwd()\n",
    "    print(f'-- use case {f_v1.get_use_case_nr(use_case_home_path)} --')\n",
    "    start = time.time()\n",
    "    df = f_v1.co2_emissions(use_case_home_path)\n",
    "    print(f'time: {round(time.time() - start, 2)} seconds')\n",
    "    return df"
   ]
  },
  {
   "cell_type": "code",
   "execution_count": 7,
   "metadata": {},
   "outputs": [],
   "source": [
    "use_case_string = 'use_case_2-1'\n",
    "os.chdir(home_path)\n",
    "os.chdir(use_case_string)\n",
    "use_case_home_path = os.getcwd()"
   ]
  },
  {
   "cell_type": "code",
   "execution_count": null,
   "metadata": {},
   "outputs": [],
   "source": [
    "# use case 2-1\n",
    "df2_1 = calculate_kpi_3_4('use_case_2-1')\n",
    "df2_1"
   ]
  },
  {
   "cell_type": "code",
   "execution_count": 19,
   "metadata": {},
   "outputs": [],
   "source": [
    "df2_1.to_excel('kpi_3_4_use_case_2-1.xlsx')"
   ]
  },
  {
   "cell_type": "code",
   "execution_count": null,
   "metadata": {},
   "outputs": [],
   "source": [
    "# use case 2-2\n",
    "df2_2 = calculate_kpi_3_4('use_case_2-2')\n",
    "df2_2"
   ]
  },
  {
   "cell_type": "code",
   "execution_count": null,
   "metadata": {},
   "outputs": [],
   "source": [
    "df2_2.to_excel('kpi_3_4_use_case_2-2.xlsx')"
   ]
  },
  {
   "cell_type": "code",
   "execution_count": null,
   "metadata": {
    "collapsed": false,
    "pycharm": {
     "is_executing": true,
     "name": "#%%\n"
    }
   },
   "outputs": [],
   "source": [
    "df0 = calculate_kpi_3_4('Base_Case')\n",
    "df0"
   ]
  },
  {
   "cell_type": "code",
   "execution_count": null,
   "metadata": {
    "collapsed": false,
    "pycharm": {
     "name": "#%%\n"
    }
   },
   "outputs": [],
   "source": [
    "df0.to_excel('kpi_3_4_use_case_0.xlsx')"
   ]
  },
  {
   "cell_type": "code",
   "execution_count": null,
   "metadata": {
    "collapsed": false,
    "pycharm": {
     "is_executing": true,
     "name": "#%%\n"
    }
   },
   "outputs": [],
   "source": [
    "df1 = calculate_kpi_3_4('use_case_1/')\n",
    "df1"
   ]
  },
  {
   "cell_type": "code",
   "execution_count": null,
   "metadata": {
    "collapsed": false,
    "pycharm": {
     "name": "#%%\n"
    }
   },
   "outputs": [],
   "source": [
    "df1_old = calculate_kpi_3_4_old('use_case_1/')\n",
    "df1_old"
   ]
  },
  {
   "cell_type": "code",
   "execution_count": 32,
   "metadata": {
    "collapsed": false,
    "pycharm": {
     "name": "#%%\n"
    }
   },
   "outputs": [],
   "source": [
    "df1_old.to_excel('kpi_3_4_use_case_1_v3.xlsx')"
   ]
  },
  {
   "cell_type": "code",
   "execution_count": null,
   "metadata": {
    "collapsed": false,
    "pycharm": {
     "name": "#%%\n"
    }
   },
   "outputs": [],
   "source": [
    "df2 = calculate_kpi_3_4('Use_Case_2/')\n",
    "df2"
   ]
  },
  {
   "cell_type": "code",
   "execution_count": null,
   "metadata": {
    "collapsed": false,
    "pycharm": {
     "name": "#%%\n"
    }
   },
   "outputs": [],
   "source": [
    "df2.to_excel('kpi_3_4_use_case_2.xlsx')"
   ]
  },
  {
   "cell_type": "code",
   "execution_count": 11,
   "metadata": {},
   "outputs": [],
   "source": [
    "# use case 3_v2 - functions v1\n",
    "uc = '3_v2'\n",
    "use_case_home_path = [i.path for i in os.scandir(home_path) if i.is_dir() if uc in i.name][0]\n",
    "df3_v2 = f_v1.co2_emissions(use_case_home_path)"
   ]
  },
  {
   "cell_type": "code",
   "execution_count": 14,
   "metadata": {},
   "outputs": [
    {
     "data": {
      "text/plain": [
       "94270.07071641"
      ]
     },
     "execution_count": 14,
     "metadata": {},
     "output_type": "execute_result"
    }
   ],
   "source": [
    "df3_v2['germany_grey_energy [kWh]'].sum(axis=0)"
   ]
  },
  {
   "cell_type": "code",
   "execution_count": null,
   "metadata": {
    "collapsed": false,
    "pycharm": {
     "name": "#%%\n"
    }
   },
   "outputs": [],
   "source": [
    "# use case 3_v2\n",
    "df3 = calculate_kpi_3_4('use_case_3_v2/')\n",
    "df3"
   ]
  },
  {
   "cell_type": "code",
   "execution_count": null,
   "metadata": {
    "collapsed": false,
    "pycharm": {
     "name": "#%%\n"
    }
   },
   "outputs": [],
   "source": [
    "df3.to_excel('kpi_3_4_use_case_3_v2.xlsx')"
   ]
  },
  {
   "cell_type": "code",
   "execution_count": null,
   "metadata": {
    "collapsed": false,
    "pycharm": {
     "name": "#%%\n"
    }
   },
   "outputs": [],
   "source": [
    "df4 = calculate_kpi_3_4('use_case_4/')\n",
    "df4"
   ]
  },
  {
   "cell_type": "code",
   "execution_count": null,
   "metadata": {
    "collapsed": false,
    "pycharm": {
     "name": "#%%\n"
    }
   },
   "outputs": [],
   "source": [
    "df4.to_excel('kpi_3_4_use_case_4.xlsx')"
   ]
  },
  {
   "cell_type": "code",
   "execution_count": null,
   "metadata": {
    "collapsed": false,
    "pycharm": {
     "name": "#%%\n"
    }
   },
   "outputs": [],
   "source": [
    "# use case 5\n",
    "df5 = calculate_kpi_3_4('use_case_5')\n",
    "df5"
   ]
  },
  {
   "cell_type": "code",
   "execution_count": null,
   "metadata": {
    "collapsed": false,
    "pycharm": {
     "name": "#%%\n"
    }
   },
   "outputs": [],
   "source": [
    "df5.to_excel('kpi_3_4_use_case_5.xlsx')"
   ]
  },
  {
   "cell_type": "code",
   "execution_count": null,
   "metadata": {
    "collapsed": false,
    "pycharm": {
     "name": "#%%\n"
    }
   },
   "outputs": [],
   "source": [
    "# use case 6\n",
    "df6 = calculate_kpi_3_4('use_case_6')\n",
    "df6"
   ]
  },
  {
   "cell_type": "code",
   "execution_count": null,
   "metadata": {
    "collapsed": false,
    "pycharm": {
     "name": "#%%\n"
    }
   },
   "outputs": [],
   "source": [
    "df6.to_excel('kpi_3_4_use_case_6.xlsx')"
   ]
  },
  {
   "cell_type": "code",
   "execution_count": null,
   "metadata": {},
   "outputs": [],
   "source": []
  },
  {
   "cell_type": "code",
   "execution_count": null,
   "metadata": {
    "collapsed": false,
    "pycharm": {
     "name": "#%%\n"
    }
   },
   "outputs": [],
   "source": [
    "df6_out = f.share_renewables_aggregate_empty_entities_UC_2_6(df6)\n",
    "df6_out"
   ]
  }
 ],
 "metadata": {
  "kernelspec": {
   "display_name": "fim_ml",
   "language": "python",
   "name": "python3"
  },
  "language_info": {
   "codemirror_mode": {
    "name": "ipython",
    "version": 3
   },
   "file_extension": ".py",
   "mimetype": "text/x-python",
   "name": "python",
   "nbconvert_exporter": "python",
   "pygments_lexer": "ipython3",
   "version": "3.8.15 (default, Nov 24 2022, 14:38:14) [MSC v.1916 64 bit (AMD64)]"
  },
  "vscode": {
   "interpreter": {
    "hash": "d7f38048655767e5711d7ee92a9dce882bbfd46ed70fd8fd809166041ce95f94"
   }
  }
 },
 "nbformat": 4,
 "nbformat_minor": 1
}
