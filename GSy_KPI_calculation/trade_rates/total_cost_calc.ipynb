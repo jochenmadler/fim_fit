{
 "cells": [
  {
   "attachments": {},
   "cell_type": "markdown",
   "metadata": {},
   "source": [
    "#### Total cost - new data\n",
    "Since 17.02.2023"
   ]
  },
  {
   "cell_type": "code",
   "execution_count": 4,
   "metadata": {},
   "outputs": [],
   "source": [
    "import os\n",
    "import pandas as pd\n",
    "import numpy as np\n",
    "import matplotlib.pyplot as plt\n",
    "import seaborn as sns\n",
    "sns.set_style('white')\n",
    "\n",
    "from functions_v2 import *\n",
    "\n",
    "home_path_new = r'C:\\Users\\weissflo\\FIM Kernkompetenzzentrum\\Projekt VIdES - General\\07_Arbeitsordner\\04_Ergebnisse\\20220920_Ergebnisse_4_Wochen\\new_results_2023'\n",
    "results_new = r'C:\\Users\\weissflo\\FIM Kernkompetenzzentrum\\Projekt VIdES - General\\07_Arbeitsordner\\04_Ergebnisse\\20220920_Ergebnisse_4_Wochen\\new_results_2023\\results'\n",
    "\n",
    "home_path_old = r'C:\\Users\\weissflo\\FIM Kernkompetenzzentrum\\Projekt VIdES - General\\07_Arbeitsordner\\04_Ergebnisse\\20220920_Ergebnisse_4_Wochen'\n",
    "results_old = r'C:\\Users\\weissflo\\FIM Kernkompetenzzentrum\\Projekt VIdES - General\\07_Arbeitsordner\\04_Ergebnisse\\20220920_Ergebnisse_4_Wochen\\results'\n",
    "out_path_old = r'C:\\Users\\weissflo\\FIM Kernkompetenzzentrum\\Projekt VIdES - General\\07_Arbeitsordner\\04_Ergebnisse\\20220920_Ergebnisse_4_Wochen\\results\\Abbildungen\\avg_trade_rate'\n",
    "\n",
    "%matplotlib inline\n",
    "# %load_ext autoreload\n",
    "# %autoreload 2"
   ]
  },
  {
   "attachments": {},
   "cell_type": "markdown",
   "metadata": {},
   "source": [
    "#### Calculate total costs for all use cases in specified directory\n",
    "Here, ```home_path_new``` is used"
   ]
  },
  {
   "cell_type": "code",
   "execution_count": 5,
   "metadata": {},
   "outputs": [
    {
     "data": {
      "text/plain": [
       "dict_keys(['use_case_0', 'use_case_1', 'use_case_2', 'use_case_4', 'use_case_6', 'use_case_6_alt'])"
      ]
     },
     "execution_count": 5,
     "metadata": {},
     "output_type": "execute_result"
    }
   ],
   "source": [
    "# for home_path (new or old), obtain all use case directory paths\n",
    "use_case_paths = [i.path for i in os.scandir(path=home_path_new) if i.is_dir() if 'case' in i.name.lower()]\n",
    "\n",
    "# for each use case, calculate total costs and store it as a dictionary with the use case's directory name as the key\n",
    "dict_out = dict()\n",
    "for path in use_case_paths:\n",
    "    key_string = path.split('\\\\')[-1]\n",
    "    total_cost_dictionary = tot_cost(path)\n",
    "    dict_out[key_string] = total_cost_dictionary\n",
    "\n",
    "dict_out.keys()"
   ]
  },
  {
   "attachments": {},
   "cell_type": "markdown",
   "metadata": {},
   "source": [
    "##### How to access the data\n",
    "The output ```dict_out``` is a nested dictionary, i.e. a dictionary that contains dictionaries for every use case."
   ]
  },
  {
   "cell_type": "code",
   "execution_count": 6,
   "metadata": {},
   "outputs": [
    {
     "name": "stdout",
     "output_type": "stream",
     "text": [
      "keys of use case dictionary: ['germany', 'mm', 'region', 'ec', 'house', 'asset']\n"
     ]
    }
   ],
   "source": [
    "# accessing the data for one use case\n",
    "case = 'use_case_6'\n",
    "uc_2 = dict_out[case]\n",
    "print('keys of use case dictionary:', list(uc_2.keys()))\n",
    "\n",
    "# accessing data for regions of selected use case\n",
    "uc_2['house'].to_excel(results_new + \"\\\\\" + case + \"\\\\kpi2_total_cost_house.xlsx\")\n",
    "\n"
   ]
  }
 ],
 "metadata": {
  "kernelspec": {
   "display_name": "Python 3",
   "language": "python",
   "name": "python3"
  },
  "language_info": {
   "codemirror_mode": {
    "name": "ipython",
    "version": 3
   },
   "file_extension": ".py",
   "mimetype": "text/x-python",
   "name": "python",
   "nbconvert_exporter": "python",
   "pygments_lexer": "ipython3",
   "version": "3.6.8"
  },
  "orig_nbformat": 4,
  "vscode": {
   "interpreter": {
    "hash": "5be8d8f94ebfdcdd53bf131ccf64f38799598d6e1d2ec494dcd445840258b4eb"
   }
  }
 },
 "nbformat": 4,
 "nbformat_minor": 2
}
